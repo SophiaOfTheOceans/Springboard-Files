{
 "cells": [
  {
   "cell_type": "markdown",
   "metadata": {},
   "source": [
    "To predict the diagnosis of a skin condition based on its image in the HAM10000 dataset, I used VGG as a feature extractor to convert each image into a numpy array of numerical features and fit several classifier models (SVM, Naive-Bayes, DecisionTree, as well as a Keras model I built on my own) over it.\n",
    "\n",
    "The code for the feature extraction process was partially based on https://medium.com/@franky07724_57962/using-keras-pre-trained-models-for-feature-extraction-in-image-clustering-a142c6cdf5b1."
   ]
  },
  {
   "cell_type": "markdown",
   "metadata": {},
   "source": [
    "## Importing necessary modules"
   ]
  },
  {
   "cell_type": "code",
   "execution_count": 1,
   "metadata": {},
   "outputs": [],
   "source": [
    "import pandas as pd\n",
    "import numpy as np\n",
    "from sklearn.model_selection import train_test_split"
   ]
  },
  {
   "cell_type": "code",
   "execution_count": null,
   "metadata": {},
   "outputs": [],
   "source": [
    "from keras.preprocessing import image\n",
    "from keras.applications.vgg16 import VGG16\n",
    "from keras.applications.vgg16 import preprocess_input\n",
    "import glob\n",
    "import re"
   ]
  },
  {
   "cell_type": "markdown",
   "metadata": {},
   "source": [
    "## Feature Extraction"
   ]
  },
  {
   "cell_type": "markdown",
   "metadata": {},
   "source": [
    "VGG is a convolutional neural network model for image recognition proposed by the Visual Geometry Group from the University of Oxford that achieved 92.7% top-5 test accuracy in ImageNet, a dataset of over 14 million images belonging to 1000 classes.  The input layer accepts a 224 x 224 RGB image, and the output layer is a softmax prediction on 1000 classes. Between the two, VGG16 contains 16 weight layers, and VGG19 contains 19 weight layers.\n",
    "\n",
    "By removing the output layer (as I did with the include_top = False parameter), VGG can be used as a feature extractor. I applied this feature extractor over every image in half of the dataset (our training data) and appended the results into a single pandas dataframe with the identification code of each image (image_id)."
   ]
  },
  {
   "cell_type": "code",
   "execution_count": 2,
   "metadata": {},
   "outputs": [
    {
     "name": "stdout",
     "output_type": "stream",
     "text": [
      "WARNING:tensorflow:From E:\\Anaconda\\lib\\site-packages\\tensorflow\\python\\framework\\op_def_library.py:263: colocate_with (from tensorflow.python.framework.ops) is deprecated and will be removed in a future version.\n",
      "Instructions for updating:\n",
      "Colocations handled automatically by placer.\n"
     ]
    }
   ],
   "source": [
    "#Creating the model\n",
    "model = VGG16(include_top=False)\n",
    "\n",
    "#Function for feature extraction\n",
    "def feature_extract(img_path):\n",
    "    img = image.load_img(img_path, target_size=(224, 224))\n",
    "    img_data = image.img_to_array(img)\n",
    "    img_data = np.expand_dims(img_data, axis=0)\n",
    "    img_data = preprocess_input(img_data)\n",
    "\n",
    "    vgg16_feature = model.predict(img_data)\n",
    "    vgg16_feature_np = np.array(vgg16_feature)\n",
    "    return vgg16_feature_np\n"
   ]
  },
  {
   "cell_type": "code",
   "execution_count": 10,
   "metadata": {},
   "outputs": [],
   "source": [
    "#A list of the features\n",
    "vgg16_feature_list = []\n",
    "\n",
    "#Globbing the files\n",
    "images = glob.glob(r'C:\\Users\\songs\\Desktop\\CSV files\\dataverse_files\\HAM10000_images_part_1\\*')\n",
    "image_urls =  []\n",
    "\n",
    "for i in range(len(images)):\n",
    "    image_urls.append(images[i])\n",
    "    vgg16_feature_np = feature_extract(images[i])\n",
    "    vgg16_feature_list.append(vgg16_feature_np.flatten())\n",
    "    print(i)\n",
    "\n",
    "vgg16_feature_list_np = np.array(vgg16_feature_list)\n",
    "\n",
    "#Creating a DataFrame containing the image information.\n",
    "features = pd.DataFrame(vgg16_feature_list_np)\n",
    "image_names = re.findall('ISIC_[0-9]{7}',str(image_urls))\n",
    "features['image_id'] = image_names\n",
    "\n",
    "#Adding the diagnoses.\n",
    "full_img_features = features.merge(right = data[['image_id','dx']], how='inner', on = 'image_id')\n",
    "features.to_csv('C:\\\\Users\\\\songs\\\\Desktop\\\\CSV files\\\\test.csv')"
   ]
  },
  {
   "cell_type": "markdown",
   "metadata": {},
   "source": [
    "## Dimension reduction"
   ]
  },
  {
   "cell_type": "markdown",
   "metadata": {},
   "source": [
    "Before proceeding with fitting models over the data, I used PCA (Principal Component Analysis) to reduce the number of features in image features dataframe. \n",
    "\n",
    "I performed a dimension reduction because the image features dataframe contains 25088 features, not including image_id and the diagnosis. This large number of features is very troublesome for several reasons: First, they could induce noise when making the final predictions; second, a dataframe with 25087 columns would be very time-consuming to load. "
   ]
  },
  {
   "cell_type": "markdown",
   "metadata": {},
   "source": [
    "### Image features"
   ]
  },
  {
   "cell_type": "markdown",
   "metadata": {},
   "source": [
    "First, I took a look at the data."
   ]
  },
  {
   "cell_type": "code",
   "execution_count": 2,
   "metadata": {},
   "outputs": [
    {
     "data": {
      "text/html": [
       "<div>\n",
       "<style scoped>\n",
       "    .dataframe tbody tr th:only-of-type {\n",
       "        vertical-align: middle;\n",
       "    }\n",
       "\n",
       "    .dataframe tbody tr th {\n",
       "        vertical-align: top;\n",
       "    }\n",
       "\n",
       "    .dataframe thead th {\n",
       "        text-align: right;\n",
       "    }\n",
       "</style>\n",
       "<table border=\"1\" class=\"dataframe\">\n",
       "  <thead>\n",
       "    <tr style=\"text-align: right;\">\n",
       "      <th></th>\n",
       "      <th>0</th>\n",
       "      <th>1</th>\n",
       "      <th>2</th>\n",
       "      <th>3</th>\n",
       "      <th>4</th>\n",
       "      <th>5</th>\n",
       "      <th>6</th>\n",
       "      <th>7</th>\n",
       "      <th>8</th>\n",
       "      <th>9</th>\n",
       "      <th>...</th>\n",
       "      <th>25080</th>\n",
       "      <th>25081</th>\n",
       "      <th>25082</th>\n",
       "      <th>25083</th>\n",
       "      <th>25084</th>\n",
       "      <th>25085</th>\n",
       "      <th>25086</th>\n",
       "      <th>25087</th>\n",
       "      <th>image_id</th>\n",
       "      <th>dx</th>\n",
       "    </tr>\n",
       "  </thead>\n",
       "  <tbody>\n",
       "    <tr>\n",
       "      <th>0</th>\n",
       "      <td>-0.000000</td>\n",
       "      <td>-0.0</td>\n",
       "      <td>-0.000000</td>\n",
       "      <td>-0.0</td>\n",
       "      <td>-0.0</td>\n",
       "      <td>-0.000000</td>\n",
       "      <td>-0.0</td>\n",
       "      <td>-0.0</td>\n",
       "      <td>-0.0</td>\n",
       "      <td>-0.0</td>\n",
       "      <td>...</td>\n",
       "      <td>4.640642</td>\n",
       "      <td>-0.000000</td>\n",
       "      <td>-0.0</td>\n",
       "      <td>-0.000000</td>\n",
       "      <td>-0.000000</td>\n",
       "      <td>-0.000000</td>\n",
       "      <td>-0.000000</td>\n",
       "      <td>-0.0</td>\n",
       "      <td>ISIC_0024306</td>\n",
       "      <td>nv</td>\n",
       "    </tr>\n",
       "    <tr>\n",
       "      <th>1</th>\n",
       "      <td>5.990223</td>\n",
       "      <td>-0.0</td>\n",
       "      <td>-0.000000</td>\n",
       "      <td>-0.0</td>\n",
       "      <td>-0.0</td>\n",
       "      <td>-0.000000</td>\n",
       "      <td>-0.0</td>\n",
       "      <td>-0.0</td>\n",
       "      <td>-0.0</td>\n",
       "      <td>-0.0</td>\n",
       "      <td>...</td>\n",
       "      <td>18.183280</td>\n",
       "      <td>-0.000000</td>\n",
       "      <td>-0.0</td>\n",
       "      <td>-0.000000</td>\n",
       "      <td>1.999651</td>\n",
       "      <td>-0.000000</td>\n",
       "      <td>-0.000000</td>\n",
       "      <td>-0.0</td>\n",
       "      <td>ISIC_0024307</td>\n",
       "      <td>nv</td>\n",
       "    </tr>\n",
       "    <tr>\n",
       "      <th>2</th>\n",
       "      <td>5.352508</td>\n",
       "      <td>-0.0</td>\n",
       "      <td>1.049744</td>\n",
       "      <td>-0.0</td>\n",
       "      <td>-0.0</td>\n",
       "      <td>-0.000000</td>\n",
       "      <td>-0.0</td>\n",
       "      <td>-0.0</td>\n",
       "      <td>-0.0</td>\n",
       "      <td>-0.0</td>\n",
       "      <td>...</td>\n",
       "      <td>26.286820</td>\n",
       "      <td>-0.000000</td>\n",
       "      <td>-0.0</td>\n",
       "      <td>-0.000000</td>\n",
       "      <td>-0.000000</td>\n",
       "      <td>-0.000000</td>\n",
       "      <td>6.038150</td>\n",
       "      <td>-0.0</td>\n",
       "      <td>ISIC_0024308</td>\n",
       "      <td>nv</td>\n",
       "    </tr>\n",
       "    <tr>\n",
       "      <th>3</th>\n",
       "      <td>-0.000000</td>\n",
       "      <td>-0.0</td>\n",
       "      <td>0.653627</td>\n",
       "      <td>-0.0</td>\n",
       "      <td>-0.0</td>\n",
       "      <td>-0.000000</td>\n",
       "      <td>-0.0</td>\n",
       "      <td>-0.0</td>\n",
       "      <td>-0.0</td>\n",
       "      <td>-0.0</td>\n",
       "      <td>...</td>\n",
       "      <td>4.307326</td>\n",
       "      <td>-0.000000</td>\n",
       "      <td>-0.0</td>\n",
       "      <td>2.370319</td>\n",
       "      <td>-0.000000</td>\n",
       "      <td>-0.000000</td>\n",
       "      <td>0.370927</td>\n",
       "      <td>-0.0</td>\n",
       "      <td>ISIC_0024309</td>\n",
       "      <td>nv</td>\n",
       "    </tr>\n",
       "    <tr>\n",
       "      <th>4</th>\n",
       "      <td>-0.000000</td>\n",
       "      <td>-0.0</td>\n",
       "      <td>15.096593</td>\n",
       "      <td>-0.0</td>\n",
       "      <td>-0.0</td>\n",
       "      <td>4.645373</td>\n",
       "      <td>-0.0</td>\n",
       "      <td>-0.0</td>\n",
       "      <td>-0.0</td>\n",
       "      <td>-0.0</td>\n",
       "      <td>...</td>\n",
       "      <td>-0.000000</td>\n",
       "      <td>5.191962</td>\n",
       "      <td>-0.0</td>\n",
       "      <td>-0.000000</td>\n",
       "      <td>-0.000000</td>\n",
       "      <td>9.431757</td>\n",
       "      <td>14.747563</td>\n",
       "      <td>-0.0</td>\n",
       "      <td>ISIC_0024310</td>\n",
       "      <td>mel</td>\n",
       "    </tr>\n",
       "  </tbody>\n",
       "</table>\n",
       "<p>5 rows × 25090 columns</p>\n",
       "</div>"
      ],
      "text/plain": [
       "          0    1          2    3    4         5    6    7    8    9  ...  \\\n",
       "0 -0.000000 -0.0  -0.000000 -0.0 -0.0 -0.000000 -0.0 -0.0 -0.0 -0.0  ...   \n",
       "1  5.990223 -0.0  -0.000000 -0.0 -0.0 -0.000000 -0.0 -0.0 -0.0 -0.0  ...   \n",
       "2  5.352508 -0.0   1.049744 -0.0 -0.0 -0.000000 -0.0 -0.0 -0.0 -0.0  ...   \n",
       "3 -0.000000 -0.0   0.653627 -0.0 -0.0 -0.000000 -0.0 -0.0 -0.0 -0.0  ...   \n",
       "4 -0.000000 -0.0  15.096593 -0.0 -0.0  4.645373 -0.0 -0.0 -0.0 -0.0  ...   \n",
       "\n",
       "       25080     25081  25082     25083     25084     25085      25086  25087  \\\n",
       "0   4.640642 -0.000000   -0.0 -0.000000 -0.000000 -0.000000  -0.000000   -0.0   \n",
       "1  18.183280 -0.000000   -0.0 -0.000000  1.999651 -0.000000  -0.000000   -0.0   \n",
       "2  26.286820 -0.000000   -0.0 -0.000000 -0.000000 -0.000000   6.038150   -0.0   \n",
       "3   4.307326 -0.000000   -0.0  2.370319 -0.000000 -0.000000   0.370927   -0.0   \n",
       "4  -0.000000  5.191962   -0.0 -0.000000 -0.000000  9.431757  14.747563   -0.0   \n",
       "\n",
       "       image_id   dx  \n",
       "0  ISIC_0024306   nv  \n",
       "1  ISIC_0024307   nv  \n",
       "2  ISIC_0024308   nv  \n",
       "3  ISIC_0024309   nv  \n",
       "4  ISIC_0024310  mel  \n",
       "\n",
       "[5 rows x 25090 columns]"
      ]
     },
     "execution_count": 2,
     "metadata": {},
     "output_type": "execute_result"
    }
   ],
   "source": [
    "#Loading the saved .csv file and dropping some columns that got added in the feature extraction process.\n",
    "full_img_features = pd.read_csv('C:\\\\Users\\\\songs\\\\Desktop\\\\CSV files\\\\test.csv')\n",
    "full_img_features = full_img_features.drop([full_img_features.columns[0],full_img_features.columns[1]], axis=1)\n",
    "full_img_features.head()"
   ]
  },
  {
   "cell_type": "code",
   "execution_count": 4,
   "metadata": {},
   "outputs": [
    {
     "data": {
      "text/plain": [
       "(4997, 25090)"
      ]
     },
     "execution_count": 4,
     "metadata": {},
     "output_type": "execute_result"
    }
   ],
   "source": [
    "full_img_features.shape"
   ]
  },
  {
   "cell_type": "markdown",
   "metadata": {},
   "source": [
    "As shown above, the data has a total of 4997 samples with each having 25088 features. I will then see how many of these features have significant variance."
   ]
  },
  {
   "cell_type": "markdown",
   "metadata": {},
   "source": [
    "### Dimension reduction using PCA"
   ]
  },
  {
   "cell_type": "markdown",
   "metadata": {},
   "source": [
    "Before applying PCA, I standardized the image features so that scale would not bias the final feature selection. Since it's unrealistic to visualize the variances of all 25088 features, I only visualized 30 components in PCA and graphed their variances to look at their significance. As can be seen below, I entered 0.95 as a parameter to the PCA function to select for the number of features needed to capture 95% of the variance. Out of 25088 features, only 2831 features were needed to capture 95% of the variance. By shortening the number of features, I significantly reduced the size of the dataframe.\n",
    "\n",
    "When I fit the classifiers over the data, I'll compare the prediction efficacy between the reduced and the unreduced image features to see if the dimension reduction was effective."
   ]
  },
  {
   "cell_type": "code",
   "execution_count": 4,
   "metadata": {},
   "outputs": [],
   "source": [
    "#Importing PCA\n",
    "from sklearn.decomposition import PCA\n",
    "import matplotlib.pyplot as plt\n",
    "\n",
    "#Visualizing with 30 components first\n",
    "pca = PCA()"
   ]
  },
  {
   "cell_type": "code",
   "execution_count": 5,
   "metadata": {},
   "outputs": [
    {
     "data": {
      "image/png": "[encoded data removed]",
      "text/plain": [
       "<Figure size 1440x720 with 1 Axes>"
      ]
     },
     "metadata": {
      "needs_background": "light"
     },
     "output_type": "display_data"
    }
   ],
   "source": [
    "#Making the predictor dataframe and fitting the PCA model on it.\n",
    "from sklearn.preprocessing import StandardScaler\n",
    "\n",
    "predictors_25088 = full_img_features.drop(['image_id','dx'], axis = 1).values\n",
    "predictors_25088 = StandardScaler().fit_transform(predictors_25088)\n",
    "pca.fit(predictors_25088)\n",
    "\n",
    "\n",
    "#Graphing the data\n",
    "plt.figure(figsize=(20,10))\n",
    "\n",
    "plt.plot(np.cumsum(pca.explained_variance_ratio_))\n",
    "plt.title('Visualization of feature variances')\n",
    "plt.xlabel('PCA feature')\n",
    "plt.ylabel('Cumulative explaned variance')\n",
    "plt.show()"
   ]
  },
  {
   "cell_type": "code",
   "execution_count": 13,
   "metadata": {},
   "outputs": [
    {
     "data": {
      "text/html": [
       "<div>\n",
       "<style scoped>\n",
       "    .dataframe tbody tr th:only-of-type {\n",
       "        vertical-align: middle;\n",
       "    }\n",
       "\n",
       "    .dataframe tbody tr th {\n",
       "        vertical-align: top;\n",
       "    }\n",
       "\n",
       "    .dataframe thead th {\n",
       "        text-align: right;\n",
       "    }\n",
       "</style>\n",
       "<table border=\"1\" class=\"dataframe\">\n",
       "  <thead>\n",
       "    <tr style=\"text-align: right;\">\n",
       "      <th></th>\n",
       "      <th>0</th>\n",
       "      <th>1</th>\n",
       "      <th>2</th>\n",
       "      <th>3</th>\n",
       "      <th>4</th>\n",
       "      <th>5</th>\n",
       "      <th>6</th>\n",
       "      <th>7</th>\n",
       "      <th>8</th>\n",
       "      <th>9</th>\n",
       "      <th>...</th>\n",
       "      <th>2821</th>\n",
       "      <th>2822</th>\n",
       "      <th>2823</th>\n",
       "      <th>2824</th>\n",
       "      <th>2825</th>\n",
       "      <th>2826</th>\n",
       "      <th>2827</th>\n",
       "      <th>2828</th>\n",
       "      <th>image_id</th>\n",
       "      <th>dx</th>\n",
       "    </tr>\n",
       "  </thead>\n",
       "  <tbody>\n",
       "    <tr>\n",
       "      <th>0</th>\n",
       "      <td>-17.197622</td>\n",
       "      <td>7.265878</td>\n",
       "      <td>-2.550361</td>\n",
       "      <td>-0.159952</td>\n",
       "      <td>7.448056</td>\n",
       "      <td>1.649885</td>\n",
       "      <td>0.387693</td>\n",
       "      <td>1.835810</td>\n",
       "      <td>2.950036</td>\n",
       "      <td>-9.277368</td>\n",
       "      <td>...</td>\n",
       "      <td>-4.764403</td>\n",
       "      <td>-0.715089</td>\n",
       "      <td>-3.602659</td>\n",
       "      <td>-2.630041</td>\n",
       "      <td>-0.045274</td>\n",
       "      <td>-4.286926</td>\n",
       "      <td>0.327192</td>\n",
       "      <td>-0.959964</td>\n",
       "      <td>ISIC_0024306</td>\n",
       "      <td>nv</td>\n",
       "    </tr>\n",
       "    <tr>\n",
       "      <th>1</th>\n",
       "      <td>-17.815952</td>\n",
       "      <td>15.027976</td>\n",
       "      <td>-7.397805</td>\n",
       "      <td>-4.025595</td>\n",
       "      <td>15.197397</td>\n",
       "      <td>7.608394</td>\n",
       "      <td>-0.146302</td>\n",
       "      <td>2.479199</td>\n",
       "      <td>6.638179</td>\n",
       "      <td>-6.331796</td>\n",
       "      <td>...</td>\n",
       "      <td>-0.091350</td>\n",
       "      <td>0.983975</td>\n",
       "      <td>1.412068</td>\n",
       "      <td>0.751271</td>\n",
       "      <td>-0.053542</td>\n",
       "      <td>2.275187</td>\n",
       "      <td>0.225434</td>\n",
       "      <td>-0.113624</td>\n",
       "      <td>ISIC_0024307</td>\n",
       "      <td>nv</td>\n",
       "    </tr>\n",
       "    <tr>\n",
       "      <th>2</th>\n",
       "      <td>-12.318244</td>\n",
       "      <td>2.535372</td>\n",
       "      <td>18.519314</td>\n",
       "      <td>-2.283010</td>\n",
       "      <td>4.328701</td>\n",
       "      <td>-7.302797</td>\n",
       "      <td>-5.529607</td>\n",
       "      <td>-1.425039</td>\n",
       "      <td>-4.626797</td>\n",
       "      <td>1.722985</td>\n",
       "      <td>...</td>\n",
       "      <td>-0.639068</td>\n",
       "      <td>-0.527473</td>\n",
       "      <td>0.095943</td>\n",
       "      <td>1.180825</td>\n",
       "      <td>0.065463</td>\n",
       "      <td>-0.365549</td>\n",
       "      <td>0.309908</td>\n",
       "      <td>-1.439344</td>\n",
       "      <td>ISIC_0024308</td>\n",
       "      <td>nv</td>\n",
       "    </tr>\n",
       "    <tr>\n",
       "      <th>3</th>\n",
       "      <td>-0.684587</td>\n",
       "      <td>-9.815083</td>\n",
       "      <td>-7.842098</td>\n",
       "      <td>8.017347</td>\n",
       "      <td>-1.179181</td>\n",
       "      <td>2.815549</td>\n",
       "      <td>3.228892</td>\n",
       "      <td>0.097971</td>\n",
       "      <td>5.368839</td>\n",
       "      <td>-4.451693</td>\n",
       "      <td>...</td>\n",
       "      <td>-2.075900</td>\n",
       "      <td>-0.109621</td>\n",
       "      <td>3.483772</td>\n",
       "      <td>1.325750</td>\n",
       "      <td>-1.946950</td>\n",
       "      <td>0.179406</td>\n",
       "      <td>1.323368</td>\n",
       "      <td>-0.356334</td>\n",
       "      <td>ISIC_0024309</td>\n",
       "      <td>nv</td>\n",
       "    </tr>\n",
       "    <tr>\n",
       "      <th>4</th>\n",
       "      <td>32.597737</td>\n",
       "      <td>-14.925823</td>\n",
       "      <td>-23.469787</td>\n",
       "      <td>2.128299</td>\n",
       "      <td>4.329971</td>\n",
       "      <td>5.915953</td>\n",
       "      <td>-12.924405</td>\n",
       "      <td>7.572073</td>\n",
       "      <td>11.535136</td>\n",
       "      <td>5.370676</td>\n",
       "      <td>...</td>\n",
       "      <td>1.480355</td>\n",
       "      <td>0.267202</td>\n",
       "      <td>0.564269</td>\n",
       "      <td>0.808265</td>\n",
       "      <td>0.689129</td>\n",
       "      <td>-0.752351</td>\n",
       "      <td>-0.177477</td>\n",
       "      <td>-0.405549</td>\n",
       "      <td>ISIC_0024310</td>\n",
       "      <td>mel</td>\n",
       "    </tr>\n",
       "  </tbody>\n",
       "</table>\n",
       "<p>5 rows × 2831 columns</p>\n",
       "</div>"
      ],
      "text/plain": [
       "           0          1          2         3          4         5          6  \\\n",
       "0 -17.197622   7.265878  -2.550361 -0.159952   7.448056  1.649885   0.387693   \n",
       "1 -17.815952  15.027976  -7.397805 -4.025595  15.197397  7.608394  -0.146302   \n",
       "2 -12.318244   2.535372  18.519314 -2.283010   4.328701 -7.302797  -5.529607   \n",
       "3  -0.684587  -9.815083  -7.842098  8.017347  -1.179181  2.815549   3.228892   \n",
       "4  32.597737 -14.925823 -23.469787  2.128299   4.329971  5.915953 -12.924405   \n",
       "\n",
       "          7          8         9  ...      2821      2822      2823      2824  \\\n",
       "0  1.835810   2.950036 -9.277368  ... -4.764403 -0.715089 -3.602659 -2.630041   \n",
       "1  2.479199   6.638179 -6.331796  ... -0.091350  0.983975  1.412068  0.751271   \n",
       "2 -1.425039  -4.626797  1.722985  ... -0.639068 -0.527473  0.095943  1.180825   \n",
       "3  0.097971   5.368839 -4.451693  ... -2.075900 -0.109621  3.483772  1.325750   \n",
       "4  7.572073  11.535136  5.370676  ...  1.480355  0.267202  0.564269  0.808265   \n",
       "\n",
       "       2825      2826      2827      2828      image_id   dx  \n",
       "0 -0.045274 -4.286926  0.327192 -0.959964  ISIC_0024306   nv  \n",
       "1 -0.053542  2.275187  0.225434 -0.113624  ISIC_0024307   nv  \n",
       "2  0.065463 -0.365549  0.309908 -1.439344  ISIC_0024308   nv  \n",
       "3 -1.946950  0.179406  1.323368 -0.356334  ISIC_0024309   nv  \n",
       "4  0.689129 -0.752351 -0.177477 -0.405549  ISIC_0024310  mel  \n",
       "\n",
       "[5 rows x 2831 columns]"
      ]
     },
     "execution_count": 13,
     "metadata": {},
     "output_type": "execute_result"
    }
   ],
   "source": [
    "#Transforming the image data so that it only contains 6 features.\n",
    "pca = PCA(0.95)\n",
    "predictors_95 = pca.fit_transform(predictors_25088)\n",
    "predictors_95 = pd.DataFrame(predictors_95)\n",
    "predictors_95[['image_id','dx']] = full_img_features[['image_id','dx']]\n",
    "predictors_95.head()"
   ]
  },
  {
   "cell_type": "markdown",
   "metadata": {},
   "source": [
    "## Preparing the data for model fitting"
   ]
  },
  {
   "cell_type": "markdown",
   "metadata": {},
   "source": [
    "Using train_test_split, I split the metadata, unreduced image feature data, reduced image feature data, and a dataframe containing a combination of the reduced image feature data with the correponding patient's metadata into \"training\" and \"testing\" sets consisting 70% and 30% of the total data, respectively."
   ]
  },
  {
   "cell_type": "markdown",
   "metadata": {},
   "source": [
    "### Metadata"
   ]
  },
  {
   "cell_type": "code",
   "execution_count": 8,
   "metadata": {},
   "outputs": [
    {
     "name": "stdout",
     "output_type": "stream",
     "text": [
      "(10015, 7)\n"
     ]
    }
   ],
   "source": [
    "#Importing the csv file\n",
    "metadata = pd.read_csv(r'C:\\Users\\songs\\Desktop\\CSV files\\dataverse_files\\HAM10000_metadata.csv',index_col=0)\n",
    "print(metadata.shape)"
   ]
  },
  {
   "cell_type": "markdown",
   "metadata": {},
   "source": [
    "The metadata contains information about patients in all 10015 images, instead of the 4997 in my training set. Thus, I selected only for images contained in the image feature dataframe."
   ]
  },
  {
   "cell_type": "code",
   "execution_count": 9,
   "metadata": {},
   "outputs": [
    {
     "data": {
      "text/plain": [
       "(4997, 7)"
      ]
     },
     "execution_count": 9,
     "metadata": {},
     "output_type": "execute_result"
    }
   ],
   "source": [
    "#We only want the metadata which is contained in the training set, as opposed to all 10015 images.\n",
    "metadata = metadata.loc[metadata['image_id'].isin(full_img_features['image_id'])]\n",
    "metadata.shape"
   ]
  },
  {
   "cell_type": "code",
   "execution_count": 10,
   "metadata": {},
   "outputs": [
    {
     "data": {
      "text/html": [
       "<div>\n",
       "<style scoped>\n",
       "    .dataframe tbody tr th:only-of-type {\n",
       "        vertical-align: middle;\n",
       "    }\n",
       "\n",
       "    .dataframe tbody tr th {\n",
       "        vertical-align: top;\n",
       "    }\n",
       "\n",
       "    .dataframe thead th {\n",
       "        text-align: right;\n",
       "    }\n",
       "</style>\n",
       "<table border=\"1\" class=\"dataframe\">\n",
       "  <thead>\n",
       "    <tr style=\"text-align: right;\">\n",
       "      <th></th>\n",
       "      <th>lesion_id</th>\n",
       "      <th>image_id</th>\n",
       "      <th>dx</th>\n",
       "      <th>dx_type</th>\n",
       "      <th>age</th>\n",
       "      <th>sex</th>\n",
       "      <th>localization</th>\n",
       "    </tr>\n",
       "  </thead>\n",
       "  <tbody>\n",
       "    <tr>\n",
       "      <th>0</th>\n",
       "      <td>HAM_0000118</td>\n",
       "      <td>ISIC_0027419</td>\n",
       "      <td>bkl</td>\n",
       "      <td>histo</td>\n",
       "      <td>80.0</td>\n",
       "      <td>male</td>\n",
       "      <td>scalp</td>\n",
       "    </tr>\n",
       "    <tr>\n",
       "      <th>1</th>\n",
       "      <td>HAM_0000118</td>\n",
       "      <td>ISIC_0025030</td>\n",
       "      <td>bkl</td>\n",
       "      <td>histo</td>\n",
       "      <td>80.0</td>\n",
       "      <td>male</td>\n",
       "      <td>scalp</td>\n",
       "    </tr>\n",
       "    <tr>\n",
       "      <th>2</th>\n",
       "      <td>HAM_0002730</td>\n",
       "      <td>ISIC_0026769</td>\n",
       "      <td>bkl</td>\n",
       "      <td>histo</td>\n",
       "      <td>80.0</td>\n",
       "      <td>male</td>\n",
       "      <td>scalp</td>\n",
       "    </tr>\n",
       "    <tr>\n",
       "      <th>3</th>\n",
       "      <td>HAM_0002730</td>\n",
       "      <td>ISIC_0025661</td>\n",
       "      <td>bkl</td>\n",
       "      <td>histo</td>\n",
       "      <td>80.0</td>\n",
       "      <td>male</td>\n",
       "      <td>scalp</td>\n",
       "    </tr>\n",
       "    <tr>\n",
       "      <th>5</th>\n",
       "      <td>HAM_0001466</td>\n",
       "      <td>ISIC_0027850</td>\n",
       "      <td>bkl</td>\n",
       "      <td>histo</td>\n",
       "      <td>75.0</td>\n",
       "      <td>male</td>\n",
       "      <td>ear</td>\n",
       "    </tr>\n",
       "  </tbody>\n",
       "</table>\n",
       "</div>"
      ],
      "text/plain": [
       "     lesion_id      image_id   dx dx_type   age   sex localization\n",
       "0  HAM_0000118  ISIC_0027419  bkl   histo  80.0  male        scalp\n",
       "1  HAM_0000118  ISIC_0025030  bkl   histo  80.0  male        scalp\n",
       "2  HAM_0002730  ISIC_0026769  bkl   histo  80.0  male        scalp\n",
       "3  HAM_0002730  ISIC_0025661  bkl   histo  80.0  male        scalp\n",
       "5  HAM_0001466  ISIC_0027850  bkl   histo  75.0  male          ear"
      ]
     },
     "execution_count": 10,
     "metadata": {},
     "output_type": "execute_result"
    }
   ],
   "source": [
    "#Converting categorical variables to type \"category\" for pd.get_dummies later.\n",
    "metadata['dx_type'] = metadata['dx_type'].astype('category')\n",
    "metadata['sex'] = metadata['sex'].astype('category')\n",
    "metadata['localization'] = metadata['localization'].astype('category')\n",
    "metadata.head()"
   ]
  },
  {
   "cell_type": "markdown",
   "metadata": {},
   "source": [
    "When creating the predictor columns (X_meta), I dropped both the lesion and the image id columns because they are unlikely to be of any help in the prediction process and may introduce unnecessary noise."
   ]
  },
  {
   "cell_type": "code",
   "execution_count": 11,
   "metadata": {},
   "outputs": [],
   "source": [
    "#Target and predictor columns\n",
    "y_meta = metadata['dx'].values\n",
    "X_meta = pd.get_dummies(metadata.drop(['lesion_id','image_id','dx'], axis = 1)).values"
   ]
  },
  {
   "cell_type": "code",
   "execution_count": 12,
   "metadata": {},
   "outputs": [],
   "source": [
    "#Creating train and test dataset\n",
    "X_train_meta, X_test_meta, y_train_meta, y_test_meta = train_test_split(X_meta, y_meta, test_size = 0.3, random_state \n",
    "                                                                        = 101, stratify = y_meta) "
   ]
  },
  {
   "cell_type": "markdown",
   "metadata": {},
   "source": [
    "### Reduced image data"
   ]
  },
  {
   "cell_type": "code",
   "execution_count": 13,
   "metadata": {},
   "outputs": [],
   "source": [
    "#Target and predictor columns\n",
    "y_red = predictors_6['dx'].values\n",
    "X_red = predictors_6.drop(['image_id','dx'], axis = 1).values"
   ]
  },
  {
   "cell_type": "code",
   "execution_count": 14,
   "metadata": {},
   "outputs": [],
   "source": [
    "#Creating train and test dataset\n",
    "X_train_red, X_test_red, y_train_red, y_test_red = train_test_split(X_red, y_red, test_size = 0.3, random_state = 101, \n",
    "                                                                        stratify = y_red) "
   ]
  },
  {
   "cell_type": "markdown",
   "metadata": {},
   "source": [
    "### Unreduced image data"
   ]
  },
  {
   "cell_type": "code",
   "execution_count": 15,
   "metadata": {},
   "outputs": [],
   "source": [
    "#Target and predictor columns\n",
    "y_unred = full_img_features['dx'].values\n",
    "X_unred = full_img_features.drop(['image_id','dx'], axis = 1).values"
   ]
  },
  {
   "cell_type": "code",
   "execution_count": 16,
   "metadata": {},
   "outputs": [],
   "source": [
    "#Creating train and test dataset\n",
    "X_train_unred, X_test_unred, y_train_unred, y_test_unred = train_test_split(X_unred, y_unred, test_size = 0.3, random_state = \n",
    "                                                                            101, stratify = y_unred) "
   ]
  },
  {
   "cell_type": "markdown",
   "metadata": {},
   "source": [
    "### Combining image feature and tabular data"
   ]
  },
  {
   "cell_type": "code",
   "execution_count": null,
   "metadata": {},
   "outputs": [],
   "source": [
    "whole = metadata.merge(right = predictors_6, how='inner', on = ['image_id','dx'])\n",
    "whole.to_csv('C:\\\\Users\\\\songs\\\\Desktop\\\\CSV files\\\\whole.csv')"
   ]
  },
  {
   "cell_type": "code",
   "execution_count": 17,
   "metadata": {},
   "outputs": [
    {
     "data": {
      "text/html": [
       "<div>\n",
       "<style scoped>\n",
       "    .dataframe tbody tr th:only-of-type {\n",
       "        vertical-align: middle;\n",
       "    }\n",
       "\n",
       "    .dataframe tbody tr th {\n",
       "        vertical-align: top;\n",
       "    }\n",
       "\n",
       "    .dataframe thead th {\n",
       "        text-align: right;\n",
       "    }\n",
       "</style>\n",
       "<table border=\"1\" class=\"dataframe\">\n",
       "  <thead>\n",
       "    <tr style=\"text-align: right;\">\n",
       "      <th></th>\n",
       "      <th>lesion_id</th>\n",
       "      <th>image_id</th>\n",
       "      <th>dx</th>\n",
       "      <th>dx_type</th>\n",
       "      <th>age</th>\n",
       "      <th>sex</th>\n",
       "      <th>localization</th>\n",
       "      <th>0</th>\n",
       "      <th>1</th>\n",
       "      <th>2</th>\n",
       "      <th>3</th>\n",
       "      <th>4</th>\n",
       "      <th>5</th>\n",
       "    </tr>\n",
       "  </thead>\n",
       "  <tbody>\n",
       "    <tr>\n",
       "      <th>0</th>\n",
       "      <td>HAM_0000118</td>\n",
       "      <td>ISIC_0027419</td>\n",
       "      <td>bkl</td>\n",
       "      <td>histo</td>\n",
       "      <td>80.0</td>\n",
       "      <td>male</td>\n",
       "      <td>scalp</td>\n",
       "      <td>-53.638789</td>\n",
       "      <td>86.563840</td>\n",
       "      <td>-110.708977</td>\n",
       "      <td>-6.265472</td>\n",
       "      <td>1.354570</td>\n",
       "      <td>36.688215</td>\n",
       "    </tr>\n",
       "    <tr>\n",
       "      <th>1</th>\n",
       "      <td>HAM_0000118</td>\n",
       "      <td>ISIC_0025030</td>\n",
       "      <td>bkl</td>\n",
       "      <td>histo</td>\n",
       "      <td>80.0</td>\n",
       "      <td>male</td>\n",
       "      <td>scalp</td>\n",
       "      <td>-227.564606</td>\n",
       "      <td>345.928276</td>\n",
       "      <td>49.337287</td>\n",
       "      <td>-240.983439</td>\n",
       "      <td>86.220596</td>\n",
       "      <td>43.885417</td>\n",
       "    </tr>\n",
       "    <tr>\n",
       "      <th>2</th>\n",
       "      <td>HAM_0002730</td>\n",
       "      <td>ISIC_0026769</td>\n",
       "      <td>bkl</td>\n",
       "      <td>histo</td>\n",
       "      <td>80.0</td>\n",
       "      <td>male</td>\n",
       "      <td>scalp</td>\n",
       "      <td>5.006657</td>\n",
       "      <td>57.243092</td>\n",
       "      <td>-73.484657</td>\n",
       "      <td>-93.840410</td>\n",
       "      <td>6.569766</td>\n",
       "      <td>37.099172</td>\n",
       "    </tr>\n",
       "    <tr>\n",
       "      <th>3</th>\n",
       "      <td>HAM_0002730</td>\n",
       "      <td>ISIC_0025661</td>\n",
       "      <td>bkl</td>\n",
       "      <td>histo</td>\n",
       "      <td>80.0</td>\n",
       "      <td>male</td>\n",
       "      <td>scalp</td>\n",
       "      <td>-0.868425</td>\n",
       "      <td>246.213713</td>\n",
       "      <td>55.910501</td>\n",
       "      <td>-259.333079</td>\n",
       "      <td>48.799746</td>\n",
       "      <td>22.012347</td>\n",
       "    </tr>\n",
       "    <tr>\n",
       "      <th>4</th>\n",
       "      <td>HAM_0001466</td>\n",
       "      <td>ISIC_0027850</td>\n",
       "      <td>bkl</td>\n",
       "      <td>histo</td>\n",
       "      <td>75.0</td>\n",
       "      <td>male</td>\n",
       "      <td>ear</td>\n",
       "      <td>-165.539696</td>\n",
       "      <td>225.323090</td>\n",
       "      <td>287.310204</td>\n",
       "      <td>-198.225792</td>\n",
       "      <td>179.573413</td>\n",
       "      <td>-44.815098</td>\n",
       "    </tr>\n",
       "  </tbody>\n",
       "</table>\n",
       "</div>"
      ],
      "text/plain": [
       "     lesion_id      image_id   dx dx_type   age   sex localization  \\\n",
       "0  HAM_0000118  ISIC_0027419  bkl   histo  80.0  male        scalp   \n",
       "1  HAM_0000118  ISIC_0025030  bkl   histo  80.0  male        scalp   \n",
       "2  HAM_0002730  ISIC_0026769  bkl   histo  80.0  male        scalp   \n",
       "3  HAM_0002730  ISIC_0025661  bkl   histo  80.0  male        scalp   \n",
       "4  HAM_0001466  ISIC_0027850  bkl   histo  75.0  male          ear   \n",
       "\n",
       "            0           1           2           3           4          5  \n",
       "0  -53.638789   86.563840 -110.708977   -6.265472    1.354570  36.688215  \n",
       "1 -227.564606  345.928276   49.337287 -240.983439   86.220596  43.885417  \n",
       "2    5.006657   57.243092  -73.484657  -93.840410    6.569766  37.099172  \n",
       "3   -0.868425  246.213713   55.910501 -259.333079   48.799746  22.012347  \n",
       "4 -165.539696  225.323090  287.310204 -198.225792  179.573413 -44.815098  "
      ]
     },
     "execution_count": 17,
     "metadata": {},
     "output_type": "execute_result"
    }
   ],
   "source": [
    "whole = pd.read_csv('C:\\\\Users\\\\songs\\\\Desktop\\\\CSV files\\\\whole.csv',index_col=0)\n",
    "whole.head()"
   ]
  },
  {
   "cell_type": "code",
   "execution_count": 18,
   "metadata": {},
   "outputs": [],
   "source": [
    "#Target and predictor columns\n",
    "y_full = whole['dx'].values\n",
    "X_full = pd.get_dummies(whole.drop(['lesion_id','image_id','dx'], axis = 1)).values"
   ]
  },
  {
   "cell_type": "code",
   "execution_count": 19,
   "metadata": {},
   "outputs": [],
   "source": [
    "#Creating train and test dataset\n",
    "X_train_full, X_test_full, y_train_full, y_test_full = train_test_split(X_full, y_full, test_size = 0.3, random_state = 101, \n",
    "                                                                        stratify = y_full) "
   ]
  },
  {
   "cell_type": "markdown",
   "metadata": {},
   "source": [
    "## Fitting classifier models"
   ]
  },
  {
   "cell_type": "markdown",
   "metadata": {},
   "source": [
    "In this project, I fitted the split data to the following models:\n",
    "* SVM (LinearSVC)\n",
    "* Naive Bayes (MultinomialNB)\n",
    "* DecisionTree\n",
    "* RandomForestClassifier\n",
    "\n",
    "For parameter optimization, I used GridSearchCV with f1_score as the scoring method. I chose this method because 1) the data is imbalanced, so accuracy is not a robust measurement 2) it takes into account both precision and recall, providing a more effective measurement of the classifier's accuracy.\n",
    "\n",
    "To see whether the metadata, unreduced image feature data, reduced image feature data, or a combination of image and metadata is the most effective for classification, I fitted each model used with each dataset and compared their f1-scores to see which dataset yielded the best results, and to see whether there is a pattern across models."
   ]
  },
  {
   "cell_type": "code",
   "execution_count": 20,
   "metadata": {},
   "outputs": [],
   "source": [
    "from sklearn.model_selection import GridSearchCV\n",
    "from sklearn.metrics import f1_score"
   ]
  },
  {
   "cell_type": "code",
   "execution_count": 57,
   "metadata": {},
   "outputs": [],
   "source": [
    "def compare_f1(model):\n",
    "    \n",
    "    \"\"\"\n",
    "    A single function to find the best hyperparameters (if any), \n",
    "    fit the model and predict f1_score, and graph the result.\n",
    "    \"\"\"\n",
    "    \n",
    "    f1s = []\n",
    "    data_names = ['Metadata', 'Reduced\\nImage\\nFeatures', 'Unreduced\\nImage\\nFeatures','Combination\\nof image\\nand metadata']\n",
    "    #Defining the train/test datasets for each data option.\n",
    "    datasets = [(X_train_meta, X_test_meta, y_train_meta, y_test_meta),\n",
    "                (X_train_red, X_test_red, y_train_red, y_test_red),\n",
    "                (X_train_unred, X_test_unred, y_train_unred, y_test_unred),\n",
    "                (X_train_full, X_test_full, y_train_full, y_test_full)]\n",
    "        \n",
    "    #Inner function to find f1_score for each dataset\n",
    "    def fit_model(data, model):\n",
    "        a, b, c, d = data\n",
    "        #Doing parameter optimization if there are a lot of parameters (namely svm.LinearSVC)\n",
    "        if model == svm.LinearSVC:\n",
    "            param_grid = {'loss': ['hinge', 'squared_hinge'], \n",
    "                          'C':np.arange(0.3,1.0,0.1), \n",
    "                          'multi_class' : ['ovr','crammer_singer']}\n",
    "            clf = model(max_iter = 100000)\n",
    "            clf_cv = GridSearchCV(clf, param_grid, scoring='f1_micro')\n",
    "            clf_cv.fit(a,c)\n",
    "            best_params = clf_cv.best_params_\n",
    "            clf = model(**best_params)\n",
    "        else:\n",
    "            clf = model()\n",
    "        clf.fit(a,c)\n",
    "        pred = clf.predict(b)\n",
    "        f1 = f1_score(d, pred, average='micro')\n",
    "        return f1\n",
    "    #Comparing f1_scores numerically and graphically\n",
    "    #Printing the values\n",
    "    for i, data in enumerate(datasets):\n",
    "        print('\\n', data_names[i], round(fit_model(data, model),2))\n",
    "        f1s.append(fit_model(data, model))\n",
    "        \n",
    "    #Plotting them\n",
    "    plt.figure(figsize=(10,5))\n",
    "    plt.bar(range(4), f1s)\n",
    "    plt.title(str(model))\n",
    "    plt.xlabel('data')\n",
    "    plt.ylabel('f1_score')\n",
    "    plt.xticks(range(4),data_names)\n",
    "    plt.show()"
   ]
  },
  {
   "cell_type": "markdown",
   "metadata": {},
   "source": [
    "### SVM (LinearSVC)"
   ]
  },
  {
   "cell_type": "code",
   "execution_count": 30,
   "metadata": {},
   "outputs": [],
   "source": [
    "from sklearn import svm"
   ]
  },
  {
   "cell_type": "markdown",
   "metadata": {},
   "source": [
    "I used LinearSVC instead of SVC here mostly out of consideration for computational time, since there is a dataset with 25088 features and SVM is infamous for the large amount of parameter tuning."
   ]
  },
  {
   "cell_type": "code",
   "execution_count": 29,
   "metadata": {},
   "outputs": [
    {
     "name": "stdout",
     "output_type": "stream",
     "text": [
      "\n",
      " Metadata 0.72\n",
      "\n",
      " Reduced\n",
      "Image\n",
      "Features 0.69\n",
      "\n",
      " Unreduced\n",
      "Image\n",
      "Features 0.77\n",
      "\n",
      " Combination\n",
      "of image\n",
      "and metadata 0.65\n"
     ]
    },
    {
     "data": {
      "image/png": "[encoded data removed]",
      "text/plain": [
       "<Figure size 720x360 with 1 Axes>"
      ]
     },
     "metadata": {
      "needs_background": "light"
     },
     "output_type": "display_data"
    }
   ],
   "source": [
    "compare_f1(svm.LinearSVC)"
   ]
  },
  {
   "cell_type": "markdown",
   "metadata": {},
   "source": [
    "The f1-scores ranged from 0.65 to 0.77, and of the four, the unreduced image features achieved the highest f1-score (0.67). Surprisingly, the unreduced image features performed better than the reduced image features in LinearSVC. Perhaps there were information in the unreduced image features that helped adumbrate the decision boundaries, or perhaps the other datasets would have beeen better fitted with a nonlinear kernel."
   ]
  },
  {
   "cell_type": "markdown",
   "metadata": {},
   "source": [
    "### Naive Bayes"
   ]
  },
  {
   "cell_type": "code",
   "execution_count": 64,
   "metadata": {},
   "outputs": [],
   "source": [
    "from sklearn.naive_bayes import GaussianNB"
   ]
  },
  {
   "cell_type": "markdown",
   "metadata": {},
   "source": [
    "There are several types of Naive-Bayes models available in scikit-learn. Just to list a few, BinomialNB is designed for data with categorical variables that are binary in nature, MultinomialNB is for use with multinomial prediction, and ComplementNB is supposed to help with unbalanced data. \n",
    "\n",
    "In this case, I chose GaussianNB because it is most compatible with numerical (continuous) data. This is important, since there is a large number of negative numerical values included in datasets with image features."
   ]
  },
  {
   "cell_type": "code",
   "execution_count": 83,
   "metadata": {},
   "outputs": [
    {
     "name": "stdout",
     "output_type": "stream",
     "text": [
      "\n",
      " Metadata 0.51\n",
      "\n",
      " Reduced\n",
      "Image\n",
      "Features 0.66\n",
      "\n",
      " Unreduced\n",
      "Image\n",
      "Features 0.56\n",
      "\n",
      " Combination\n",
      "of image\n",
      "and metadata 0.53\n"
     ]
    },
    {
     "data": {
      "image/png": "[encoded data removed]",
      "text/plain": [
       "<Figure size 720x360 with 1 Axes>"
      ]
     },
     "metadata": {
      "needs_background": "light"
     },
     "output_type": "display_data"
    }
   ],
   "source": [
    "compare_f1(GaussianNB)"
   ]
  },
  {
   "cell_type": "markdown",
   "metadata": {},
   "source": [
    "The f1-scores ranged from 0.51 to 0.66, and of the four, the reduced image features achieved the highest f1-score (0.66). As expected of GaussianNB, datasets with only continuous values performed better than those containing categorical variables. "
   ]
  },
  {
   "cell_type": "markdown",
   "metadata": {},
   "source": [
    "### Decision Tree"
   ]
  },
  {
   "cell_type": "code",
   "execution_count": 72,
   "metadata": {},
   "outputs": [],
   "source": [
    "from sklearn.tree import DecisionTreeClassifier"
   ]
  },
  {
   "cell_type": "code",
   "execution_count": 82,
   "metadata": {},
   "outputs": [
    {
     "name": "stdout",
     "output_type": "stream",
     "text": [
      "\n",
      " Metadata 0.73\n",
      "\n",
      " Reduced\n",
      "Image\n",
      "Features 0.63\n",
      "\n",
      " Unreduced\n",
      "Image\n",
      "Features 0.63\n",
      "\n",
      " Combination\n",
      "of image\n",
      "and metadata 0.73\n"
     ]
    },
    {
     "data": {
      "image/png": "[encoded data removed]",
      "text/plain": [
       "<Figure size 720x360 with 1 Axes>"
      ]
     },
     "metadata": {
      "needs_background": "light"
     },
     "output_type": "display_data"
    }
   ],
   "source": [
    "compare_f1(DecisionTreeClassifier)"
   ]
  },
  {
   "cell_type": "markdown",
   "metadata": {},
   "source": [
    "The f1-scores ranged from 0.63 to 0.73, and of the four, the metadata and the combination tied for the highest f-score. Generally, DecisionTreeClassifier appears to be a more robust classifier compared to Naive Bayes. Perhaps this is because of some interaction between variables that Naive Bayes couldn't capture. "
   ]
  },
  {
   "cell_type": "markdown",
   "metadata": {},
   "source": [
    "### Random Forest"
   ]
  },
  {
   "cell_type": "code",
   "execution_count": 30,
   "metadata": {},
   "outputs": [
    {
     "name": "stdout",
     "output_type": "stream",
     "text": [
      "\n",
      " Metadata 0.72\n",
      "\n",
      " Reduced\n",
      "Image\n",
      "Features 0.7\n",
      "\n",
      " Unreduced\n",
      "Image\n",
      "Features 0.7\n",
      "\n",
      " Combination\n",
      "of image\n",
      "and metadata 0.75\n"
     ]
    },
    {
     "data": {
      "image/png": "[encoded data removed]",
      "text/plain": [
       "<Figure size 720x360 with 1 Axes>"
      ]
     },
     "metadata": {
      "needs_background": "light"
     },
     "output_type": "display_data"
    }
   ],
   "source": [
    "from sklearn.ensemble import RandomForestClassifier\n",
    "compare_f1(RandomForestClassifier)"
   ]
  },
  {
   "cell_type": "markdown",
   "metadata": {},
   "source": [
    "The f1-scores ranged from 0.7 to 0.75, and the combination of image data and metadata performed the best (f-score 0.75). Across all datasets aside from the metadata, RandomForest achieved higher f1-scores compared to DecisionTree, with the most improvement seen in data containing numerical values."
   ]
  }
 ],
 "metadata": {
  "kernelspec": {
   "display_name": "Python 3",
   "language": "python",
   "name": "python3"
  },
  "language_info": {
   "codemirror_mode": {
    "name": "ipython",
    "version": 3
   },
   "file_extension": ".py",
   "mimetype": "text/x-python",
   "name": "python",
   "nbconvert_exporter": "python",
   "pygments_lexer": "ipython3",
   "version": "3.7.3"
  }
 },
 "nbformat": 4,
 "nbformat_minor": 2
}
