{
 "cells": [
  {
   "cell_type": "markdown",
   "metadata": {},
   "source": [
    "## Looking at the data first"
   ]
  },
  {
   "cell_type": "markdown",
   "metadata": {},
   "source": [
    "Since the vast majority of the HAM10000 dataset consists of images, there is relatively little tabular data to clean and wrangle. However, there is a .csv file containing the ID code for the condition, the ID code of the image, the diagnoses, the age of the patient, the sex of the patient, and the location of the condition, the first ten rows of which are shown below."
   ]
  },
  {
   "cell_type": "code",
   "execution_count": 1,
   "metadata": {},
   "outputs": [],
   "source": [
    "#Importing necessary modules.\n",
    "import pandas as pd\n",
    "import matplotlib.pyplot as plt\n",
    "from sklearn.model_selection import train_test_split\n",
    "import seaborn as sns\n",
    "from sklearn.ensemble import RandomForestRegressor, RandomForestClassifier\n",
    "from sklearn.metrics import mean_absolute_error, accuracy_score, f1_score\n",
    "from sklearn.model_selection import GridSearchCV\n",
    "import numpy as np"
   ]
  },
  {
   "cell_type": "code",
   "execution_count": 2,
   "metadata": {},
   "outputs": [
    {
     "data": {
      "text/html": [
       "<div>\n",
       "<style scoped>\n",
       "    .dataframe tbody tr th:only-of-type {\n",
       "        vertical-align: middle;\n",
       "    }\n",
       "\n",
       "    .dataframe tbody tr th {\n",
       "        vertical-align: top;\n",
       "    }\n",
       "\n",
       "    .dataframe thead th {\n",
       "        text-align: right;\n",
       "    }\n",
       "</style>\n",
       "<table border=\"1\" class=\"dataframe\">\n",
       "  <thead>\n",
       "    <tr style=\"text-align: right;\">\n",
       "      <th></th>\n",
       "      <th>Unnamed: 0</th>\n",
       "      <th>lesion_id</th>\n",
       "      <th>image_id</th>\n",
       "      <th>dx</th>\n",
       "      <th>dx_type</th>\n",
       "      <th>age</th>\n",
       "      <th>sex</th>\n",
       "      <th>localization</th>\n",
       "    </tr>\n",
       "  </thead>\n",
       "  <tbody>\n",
       "    <tr>\n",
       "      <th>0</th>\n",
       "      <td>0</td>\n",
       "      <td>HAM_0000118</td>\n",
       "      <td>ISIC_0027419</td>\n",
       "      <td>bkl</td>\n",
       "      <td>histo</td>\n",
       "      <td>80.0</td>\n",
       "      <td>male</td>\n",
       "      <td>scalp</td>\n",
       "    </tr>\n",
       "    <tr>\n",
       "      <th>1</th>\n",
       "      <td>1</td>\n",
       "      <td>HAM_0000118</td>\n",
       "      <td>ISIC_0025030</td>\n",
       "      <td>bkl</td>\n",
       "      <td>histo</td>\n",
       "      <td>80.0</td>\n",
       "      <td>male</td>\n",
       "      <td>scalp</td>\n",
       "    </tr>\n",
       "    <tr>\n",
       "      <th>2</th>\n",
       "      <td>2</td>\n",
       "      <td>HAM_0002730</td>\n",
       "      <td>ISIC_0026769</td>\n",
       "      <td>bkl</td>\n",
       "      <td>histo</td>\n",
       "      <td>80.0</td>\n",
       "      <td>male</td>\n",
       "      <td>scalp</td>\n",
       "    </tr>\n",
       "    <tr>\n",
       "      <th>3</th>\n",
       "      <td>3</td>\n",
       "      <td>HAM_0002730</td>\n",
       "      <td>ISIC_0025661</td>\n",
       "      <td>bkl</td>\n",
       "      <td>histo</td>\n",
       "      <td>80.0</td>\n",
       "      <td>male</td>\n",
       "      <td>scalp</td>\n",
       "    </tr>\n",
       "    <tr>\n",
       "      <th>4</th>\n",
       "      <td>4</td>\n",
       "      <td>HAM_0001466</td>\n",
       "      <td>ISIC_0031633</td>\n",
       "      <td>bkl</td>\n",
       "      <td>histo</td>\n",
       "      <td>75.0</td>\n",
       "      <td>male</td>\n",
       "      <td>ear</td>\n",
       "    </tr>\n",
       "    <tr>\n",
       "      <th>5</th>\n",
       "      <td>5</td>\n",
       "      <td>HAM_0001466</td>\n",
       "      <td>ISIC_0027850</td>\n",
       "      <td>bkl</td>\n",
       "      <td>histo</td>\n",
       "      <td>75.0</td>\n",
       "      <td>male</td>\n",
       "      <td>ear</td>\n",
       "    </tr>\n",
       "    <tr>\n",
       "      <th>6</th>\n",
       "      <td>6</td>\n",
       "      <td>HAM_0002761</td>\n",
       "      <td>ISIC_0029176</td>\n",
       "      <td>bkl</td>\n",
       "      <td>histo</td>\n",
       "      <td>60.0</td>\n",
       "      <td>male</td>\n",
       "      <td>face</td>\n",
       "    </tr>\n",
       "    <tr>\n",
       "      <th>7</th>\n",
       "      <td>7</td>\n",
       "      <td>HAM_0002761</td>\n",
       "      <td>ISIC_0029068</td>\n",
       "      <td>bkl</td>\n",
       "      <td>histo</td>\n",
       "      <td>60.0</td>\n",
       "      <td>male</td>\n",
       "      <td>face</td>\n",
       "    </tr>\n",
       "    <tr>\n",
       "      <th>8</th>\n",
       "      <td>8</td>\n",
       "      <td>HAM_0005132</td>\n",
       "      <td>ISIC_0025837</td>\n",
       "      <td>bkl</td>\n",
       "      <td>histo</td>\n",
       "      <td>70.0</td>\n",
       "      <td>female</td>\n",
       "      <td>back</td>\n",
       "    </tr>\n",
       "    <tr>\n",
       "      <th>9</th>\n",
       "      <td>9</td>\n",
       "      <td>HAM_0005132</td>\n",
       "      <td>ISIC_0025209</td>\n",
       "      <td>bkl</td>\n",
       "      <td>histo</td>\n",
       "      <td>70.0</td>\n",
       "      <td>female</td>\n",
       "      <td>back</td>\n",
       "    </tr>\n",
       "  </tbody>\n",
       "</table>\n",
       "</div>"
      ],
      "text/plain": [
       "   Unnamed: 0    lesion_id      image_id   dx dx_type   age     sex  \\\n",
       "0           0  HAM_0000118  ISIC_0027419  bkl   histo  80.0    male   \n",
       "1           1  HAM_0000118  ISIC_0025030  bkl   histo  80.0    male   \n",
       "2           2  HAM_0002730  ISIC_0026769  bkl   histo  80.0    male   \n",
       "3           3  HAM_0002730  ISIC_0025661  bkl   histo  80.0    male   \n",
       "4           4  HAM_0001466  ISIC_0031633  bkl   histo  75.0    male   \n",
       "5           5  HAM_0001466  ISIC_0027850  bkl   histo  75.0    male   \n",
       "6           6  HAM_0002761  ISIC_0029176  bkl   histo  60.0    male   \n",
       "7           7  HAM_0002761  ISIC_0029068  bkl   histo  60.0    male   \n",
       "8           8  HAM_0005132  ISIC_0025837  bkl   histo  70.0  female   \n",
       "9           9  HAM_0005132  ISIC_0025209  bkl   histo  70.0  female   \n",
       "\n",
       "  localization  \n",
       "0        scalp  \n",
       "1        scalp  \n",
       "2        scalp  \n",
       "3        scalp  \n",
       "4          ear  \n",
       "5          ear  \n",
       "6         face  \n",
       "7         face  \n",
       "8         back  \n",
       "9         back  "
      ]
     },
     "execution_count": 2,
     "metadata": {},
     "output_type": "execute_result"
    }
   ],
   "source": [
    "#Loading the dataset\n",
    "data = pd.read_csv(r'C:\\Users\\songs\\Desktop\\CSV files\\dataverse_files\\HAM10000_metadata.csv')\n",
    "data.head(10)"
   ]
  },
  {
   "cell_type": "markdown",
   "metadata": {},
   "source": [
    "According to the website where the data was found, the columns are as follows:\n",
    "* **lesion_id** - Lesion ID (identification code for the skin condition, may or may not be unique for every picture as multiple pictures may be taken for the same condition\n",
    "* **image_id** - Image ID (identification code for the image itself, is unique for every picture\n",
    "* **dx** - Diagnosis\n",
    "* **dx_type** - How the Diagnosis was made (histology, confocal viewing, at a follow-up, or by consensus)\n",
    "* **age** - Age of the patient\n",
    "* **sex** - Sex of the patient\n",
    "* **localization** - Where the skin condition was found"
   ]
  },
  {
   "cell_type": "markdown",
   "metadata": {},
   "source": [
    "## Dealing with null values"
   ]
  },
  {
   "cell_type": "markdown",
   "metadata": {},
   "source": [
    "First, I used the .info() method to at the data types and in each column and to look for any null values. "
   ]
  },
  {
   "cell_type": "code",
   "execution_count": 3,
   "metadata": {},
   "outputs": [
    {
     "name": "stdout",
     "output_type": "stream",
     "text": [
      "<class 'pandas.core.frame.DataFrame'>\n",
      "RangeIndex: 10015 entries, 0 to 10014\n",
      "Data columns (total 8 columns):\n",
      "Unnamed: 0      10015 non-null int64\n",
      "lesion_id       10015 non-null object\n",
      "image_id        10015 non-null object\n",
      "dx              10015 non-null object\n",
      "dx_type         10015 non-null object\n",
      "age             10015 non-null float64\n",
      "sex             10015 non-null object\n",
      "localization    10015 non-null object\n",
      "dtypes: float64(1), int64(1), object(6)\n",
      "memory usage: 626.0+ KB\n"
     ]
    }
   ],
   "source": [
    "data.info()"
   ]
  },
  {
   "cell_type": "markdown",
   "metadata": {},
   "source": [
    "The file contains 10015 rows, each one corresponding to an image in the dataset, and age is the only numerical column. \n",
    "\n",
    "So far, it appears that the only column which contains any null values is the “age” column with 57 nulls. However, it is entirely possible that missing values in other columns were not encoded as “NaN”, and were instead put in as something else. To test whether this was true, I looked at the number of unique values in every categorical column and what the values were."
   ]
  },
  {
   "cell_type": "markdown",
   "metadata": {},
   "source": [
    "#### Looking for missing values in categorical variables"
   ]
  },
  {
   "cell_type": "code",
   "execution_count": 4,
   "metadata": {},
   "outputs": [
    {
     "data": {
      "text/plain": [
       "Unnamed: 0      10015\n",
       "lesion_id        7470\n",
       "image_id        10015\n",
       "dx                  7\n",
       "dx_type             4\n",
       "age                26\n",
       "sex                 2\n",
       "localization       14\n",
       "dtype: int64"
      ]
     },
     "execution_count": 4,
     "metadata": {},
     "output_type": "execute_result"
    }
   ],
   "source": [
    "data.nunique()"
   ]
  },
  {
   "cell_type": "markdown",
   "metadata": {},
   "source": [
    "For non-numerical columns with a reasonable number of unique values (\"dx\", \"dx_type\", \"sex\", \"localization\") I looked at the unique values and the count of each:"
   ]
  },
  {
   "cell_type": "code",
   "execution_count": 5,
   "metadata": {},
   "outputs": [
    {
     "data": {
      "text/plain": [
       "nv       6705\n",
       "mel      1113\n",
       "bkl      1099\n",
       "bcc       514\n",
       "akiec     327\n",
       "vasc      142\n",
       "df        115\n",
       "Name: dx, dtype: int64"
      ]
     },
     "execution_count": 5,
     "metadata": {},
     "output_type": "execute_result"
    }
   ],
   "source": [
    "data['dx'].value_counts()"
   ]
  },
  {
   "cell_type": "code",
   "execution_count": 6,
   "metadata": {},
   "outputs": [
    {
     "data": {
      "text/plain": [
       "histo        5340\n",
       "follow_up    3704\n",
       "consensus     902\n",
       "confocal       69\n",
       "Name: dx_type, dtype: int64"
      ]
     },
     "execution_count": 6,
     "metadata": {},
     "output_type": "execute_result"
    }
   ],
   "source": [
    "data['dx_type'].value_counts()"
   ]
  },
  {
   "cell_type": "code",
   "execution_count": 7,
   "metadata": {},
   "outputs": [
    {
     "data": {
      "text/plain": [
       "male      5418\n",
       "female    4597\n",
       "Name: sex, dtype: int64"
      ]
     },
     "execution_count": 7,
     "metadata": {},
     "output_type": "execute_result"
    }
   ],
   "source": [
    "data['sex'].value_counts()"
   ]
  },
  {
   "cell_type": "code",
   "execution_count": 8,
   "metadata": {},
   "outputs": [
    {
     "data": {
      "text/plain": [
       "back               2253\n",
       "lower extremity    2131\n",
       "trunk              1410\n",
       "upper extremity    1130\n",
       "abdomen            1030\n",
       "face                759\n",
       "chest               413\n",
       "foot                371\n",
       "neck                189\n",
       "scalp               128\n",
       "hand                 90\n",
       "ear                  56\n",
       "genital              48\n",
       "acral                 7\n",
       "Name: localization, dtype: int64"
      ]
     },
     "execution_count": 8,
     "metadata": {},
     "output_type": "execute_result"
    }
   ],
   "source": [
    "data['localization'].value_counts()"
   ]
  },
  {
   "cell_type": "markdown",
   "metadata": {},
   "source": [
    "Below are barplots containing the above information for easier viewing."
   ]
  },
  {
   "cell_type": "code",
   "execution_count": 9,
   "metadata": {},
   "outputs": [
    {
     "data": {
      "image/png": "[encoded data removed]",
      "text/plain": [
       "<Figure size 432x288 with 4 Axes>"
      ]
     },
     "metadata": {
      "needs_background": "light"
     },
     "output_type": "display_data"
    }
   ],
   "source": [
    "fig = plt.figure()\n",
    "\n",
    "ax1 = fig.add_axes([0.1, 1.3, 1.0, 0.8])\n",
    "ax2 = fig.add_axes([1.3, 1.3, 0.8, 0.5])\n",
    "ax3 = fig.add_axes([0.1, 0.3, 0.5, 0.7])\n",
    "ax4 = fig.add_axes([0.8, 0.3, 1.3, 0.7])\n",
    "\n",
    "sns.countplot(data.dx, ax=ax1)\n",
    "ax1.set_title('Diagnosis')\n",
    "\n",
    "sns.countplot(data.dx_type, ax=ax2)\n",
    "ax2.set_title('Diagnosis Method')\n",
    "\n",
    "sns.countplot(data.sex, ax=ax3)\n",
    "ax3.set_title('Gender')\n",
    "\n",
    "sns.countplot(data.localization, ax=ax4)\n",
    "ax4.set_title('Location')\n",
    "plt.xticks(rotation=70)\n",
    "\n",
    "plt.show()"
   ]
  },
  {
   "cell_type": "markdown",
   "metadata": {},
   "source": [
    "Our target column (\"Diagnosis\") is heavily imbalanced, with almost 7000 of the 10015 in one category (nv). This will have an impact in our Machine Learning later. \n",
    "\n",
    "In both the “localization” and “sex” columns, there is a string “unknown” which probably refers to values not inputted."
   ]
  },
  {
   "cell_type": "markdown",
   "metadata": {},
   "source": [
    "#### Looking for missing values in the lesion and image id columns"
   ]
  },
  {
   "cell_type": "markdown",
   "metadata": {},
   "source": [
    "To look for potential missing values in the image and lesion id columns, I compared each value against a regular expression. It seems that the general format is \"HAM_(7 digit code)\" and \"ISIC_(7 digit code)\", for lesion and image ids, respectively, and an input different from this format would thus be suspicious."
   ]
  },
  {
   "cell_type": "code",
   "execution_count": 10,
   "metadata": {},
   "outputs": [
    {
     "data": {
      "text/html": [
       "<div>\n",
       "<style scoped>\n",
       "    .dataframe tbody tr th:only-of-type {\n",
       "        vertical-align: middle;\n",
       "    }\n",
       "\n",
       "    .dataframe tbody tr th {\n",
       "        vertical-align: top;\n",
       "    }\n",
       "\n",
       "    .dataframe thead th {\n",
       "        text-align: right;\n",
       "    }\n",
       "</style>\n",
       "<table border=\"1\" class=\"dataframe\">\n",
       "  <thead>\n",
       "    <tr style=\"text-align: right;\">\n",
       "      <th></th>\n",
       "      <th>Unnamed: 0</th>\n",
       "      <th>lesion_id</th>\n",
       "      <th>image_id</th>\n",
       "      <th>dx</th>\n",
       "      <th>dx_type</th>\n",
       "      <th>age</th>\n",
       "      <th>sex</th>\n",
       "      <th>localization</th>\n",
       "    </tr>\n",
       "  </thead>\n",
       "  <tbody>\n",
       "  </tbody>\n",
       "</table>\n",
       "</div>"
      ],
      "text/plain": [
       "Empty DataFrame\n",
       "Columns: [Unnamed: 0, lesion_id, image_id, dx, dx_type, age, sex, localization]\n",
       "Index: []"
      ]
     },
     "execution_count": 10,
     "metadata": {},
     "output_type": "execute_result"
    }
   ],
   "source": [
    "pattern1 = '^HAM_\\d{7}$'\n",
    "pattern2 = 'ISIC_\\d{7}$'\n",
    "selector = (~data.lesion_id.str.contains(pattern1))|(~data.image_id.str.contains(pattern2))\n",
    "data[selector]"
   ]
  },
  {
   "cell_type": "markdown",
   "metadata": {},
   "source": [
    "Looks like there were no missing values in those columns."
   ]
  },
  {
   "cell_type": "markdown",
   "metadata": {},
   "source": [
    "#### How the missing values could be filled"
   ]
  },
  {
   "cell_type": "markdown",
   "metadata": {},
   "source": [
    "Since both \"sex\" and \"age\" has the same number of values not inputted, I was curious if there were some correlation between them, so I looked at columns where both are missing and columns where either one is missing to see if there are any patterns."
   ]
  },
  {
   "cell_type": "code",
   "execution_count": 11,
   "metadata": {},
   "outputs": [],
   "source": [
    "data = data.replace('unknown',np.nan)"
   ]
  },
  {
   "cell_type": "code",
   "execution_count": 12,
   "metadata": {},
   "outputs": [
    {
     "name": "stdout",
     "output_type": "stream",
     "text": [
      "(0, 8)\n"
     ]
    },
    {
     "data": {
      "text/html": [
       "<div>\n",
       "<style scoped>\n",
       "    .dataframe tbody tr th:only-of-type {\n",
       "        vertical-align: middle;\n",
       "    }\n",
       "\n",
       "    .dataframe tbody tr th {\n",
       "        vertical-align: top;\n",
       "    }\n",
       "\n",
       "    .dataframe thead th {\n",
       "        text-align: right;\n",
       "    }\n",
       "</style>\n",
       "<table border=\"1\" class=\"dataframe\">\n",
       "  <thead>\n",
       "    <tr style=\"text-align: right;\">\n",
       "      <th></th>\n",
       "      <th>Unnamed: 0</th>\n",
       "      <th>lesion_id</th>\n",
       "      <th>image_id</th>\n",
       "      <th>dx</th>\n",
       "      <th>dx_type</th>\n",
       "      <th>age</th>\n",
       "      <th>sex</th>\n",
       "      <th>localization</th>\n",
       "    </tr>\n",
       "  </thead>\n",
       "  <tbody>\n",
       "  </tbody>\n",
       "</table>\n",
       "</div>"
      ],
      "text/plain": [
       "Empty DataFrame\n",
       "Columns: [Unnamed: 0, lesion_id, image_id, dx, dx_type, age, sex, localization]\n",
       "Index: []"
      ]
     },
     "execution_count": 12,
     "metadata": {},
     "output_type": "execute_result"
    }
   ],
   "source": [
    "age_and_sex_unknown = data[(data.sex.isnull()) & (data.age.isnull())]\n",
    "print(age_and_sex_unknown.shape)\n",
    "age_and_sex_unknown"
   ]
  },
  {
   "cell_type": "code",
   "execution_count": 13,
   "metadata": {},
   "outputs": [
    {
     "name": "stdout",
     "output_type": "stream",
     "text": [
      "(0, 8)\n"
     ]
    },
    {
     "data": {
      "text/html": [
       "<div>\n",
       "<style scoped>\n",
       "    .dataframe tbody tr th:only-of-type {\n",
       "        vertical-align: middle;\n",
       "    }\n",
       "\n",
       "    .dataframe tbody tr th {\n",
       "        vertical-align: top;\n",
       "    }\n",
       "\n",
       "    .dataframe thead th {\n",
       "        text-align: right;\n",
       "    }\n",
       "</style>\n",
       "<table border=\"1\" class=\"dataframe\">\n",
       "  <thead>\n",
       "    <tr style=\"text-align: right;\">\n",
       "      <th></th>\n",
       "      <th>Unnamed: 0</th>\n",
       "      <th>lesion_id</th>\n",
       "      <th>image_id</th>\n",
       "      <th>dx</th>\n",
       "      <th>dx_type</th>\n",
       "      <th>age</th>\n",
       "      <th>sex</th>\n",
       "      <th>localization</th>\n",
       "    </tr>\n",
       "  </thead>\n",
       "  <tbody>\n",
       "  </tbody>\n",
       "</table>\n",
       "</div>"
      ],
      "text/plain": [
       "Empty DataFrame\n",
       "Columns: [Unnamed: 0, lesion_id, image_id, dx, dx_type, age, sex, localization]\n",
       "Index: []"
      ]
     },
     "execution_count": 13,
     "metadata": {},
     "output_type": "execute_result"
    }
   ],
   "source": [
    "age_missing = data[(data.sex.notnull()) & (data.age.isnull())]\n",
    "print(age_missing.shape)\n",
    "age_missing"
   ]
  },
  {
   "cell_type": "code",
   "execution_count": 14,
   "metadata": {},
   "outputs": [
    {
     "name": "stdout",
     "output_type": "stream",
     "text": [
      "(0, 8)\n"
     ]
    },
    {
     "data": {
      "text/html": [
       "<div>\n",
       "<style scoped>\n",
       "    .dataframe tbody tr th:only-of-type {\n",
       "        vertical-align: middle;\n",
       "    }\n",
       "\n",
       "    .dataframe tbody tr th {\n",
       "        vertical-align: top;\n",
       "    }\n",
       "\n",
       "    .dataframe thead th {\n",
       "        text-align: right;\n",
       "    }\n",
       "</style>\n",
       "<table border=\"1\" class=\"dataframe\">\n",
       "  <thead>\n",
       "    <tr style=\"text-align: right;\">\n",
       "      <th></th>\n",
       "      <th>Unnamed: 0</th>\n",
       "      <th>lesion_id</th>\n",
       "      <th>image_id</th>\n",
       "      <th>dx</th>\n",
       "      <th>dx_type</th>\n",
       "      <th>age</th>\n",
       "      <th>sex</th>\n",
       "      <th>localization</th>\n",
       "    </tr>\n",
       "  </thead>\n",
       "  <tbody>\n",
       "  </tbody>\n",
       "</table>\n",
       "</div>"
      ],
      "text/plain": [
       "Empty DataFrame\n",
       "Columns: [Unnamed: 0, lesion_id, image_id, dx, dx_type, age, sex, localization]\n",
       "Index: []"
      ]
     },
     "execution_count": 14,
     "metadata": {},
     "output_type": "execute_result"
    }
   ],
   "source": [
    "sex_unknown = data[(data.sex.isnull()) & (data.age.notnull())]\n",
    "print(sex_unknown.shape)\n",
    "sex_unknown"
   ]
  },
  {
   "cell_type": "markdown",
   "metadata": {},
   "source": [
    "For the 47 rows in which both the age and the sex and not inputted, the localization is not inputted and the diagnosis method is \"concensus\" for all of them. For the others in which either age or sex is missing, there is only one missing value, and this appears true for rows in which the localization is unknown. "
   ]
  },
  {
   "cell_type": "code",
   "execution_count": 15,
   "metadata": {},
   "outputs": [
    {
     "data": {
      "text/html": [
       "<div>\n",
       "<style scoped>\n",
       "    .dataframe tbody tr th:only-of-type {\n",
       "        vertical-align: middle;\n",
       "    }\n",
       "\n",
       "    .dataframe tbody tr th {\n",
       "        vertical-align: top;\n",
       "    }\n",
       "\n",
       "    .dataframe thead th {\n",
       "        text-align: right;\n",
       "    }\n",
       "</style>\n",
       "<table border=\"1\" class=\"dataframe\">\n",
       "  <thead>\n",
       "    <tr style=\"text-align: right;\">\n",
       "      <th></th>\n",
       "      <th>Unnamed: 0</th>\n",
       "      <th>lesion_id</th>\n",
       "      <th>image_id</th>\n",
       "      <th>dx</th>\n",
       "      <th>dx_type</th>\n",
       "      <th>age</th>\n",
       "      <th>sex</th>\n",
       "      <th>localization</th>\n",
       "    </tr>\n",
       "  </thead>\n",
       "  <tbody>\n",
       "  </tbody>\n",
       "</table>\n",
       "</div>"
      ],
      "text/plain": [
       "Empty DataFrame\n",
       "Columns: [Unnamed: 0, lesion_id, image_id, dx, dx_type, age, sex, localization]\n",
       "Index: []"
      ]
     },
     "execution_count": 15,
     "metadata": {},
     "output_type": "execute_result"
    }
   ],
   "source": [
    "loc_unknown = data[(data.localization == 'unknown')]\n",
    "loc_unknown.head(10)"
   ]
  },
  {
   "cell_type": "markdown",
   "metadata": {},
   "source": [
    "## Filling in blank values"
   ]
  },
  {
   "cell_type": "markdown",
   "metadata": {},
   "source": [
    "I attempted to fill in the numerical and categorical variables using Random Forest Regressor and Random Forest Classifier, respectively. I chose random forest because it \n",
    "* has a high accuracy for for large datasets (unlike DecisionTree or kNN)\n",
    "* captures relationships between variables (unlike Naive Bayes).\n",
    "* doesn't have a lot of parameters to tune (unlike SVM)."
   ]
  },
  {
   "cell_type": "markdown",
   "metadata": {},
   "source": [
    "### Age"
   ]
  },
  {
   "cell_type": "code",
   "execution_count": 16,
   "metadata": {},
   "outputs": [],
   "source": [
    "#Generating target and feature tables using data with not null ages.\n",
    "y = data[data.age.notnull()].age\n",
    "X = pd.get_dummies(data[data.age.notnull()].drop(['age','lesion_id','image_id'],axis=1))\n",
    "\n",
    "#Train test split\n",
    "X_train, X_test, y_train, y_test = train_test_split(X,y,test_size = 0.3)"
   ]
  },
  {
   "cell_type": "markdown",
   "metadata": {},
   "source": [
    "In GridSearchCV I tuned the \"n_estimators\" parameter.\n",
    "\n",
    "I used mean absolute error for the scoring because I think it's more interpretable compared to mean squared value or root of mean squared value. For example, if the mean absolute error is 10, then that means that on average, the predictions are 10 years off from the actual values. "
   ]
  },
  {
   "cell_type": "code",
   "execution_count": null,
   "metadata": {},
   "outputs": [
    {
     "name": "stderr",
     "output_type": "stream",
     "text": [
      "C:\\Users\\songs\\Anaconda3\\lib\\site-packages\\sklearn\\model_selection\\_split.py:1978: FutureWarning: The default value of cv will change from 3 to 5 in version 0.22. Specify it explicitly to silence this warning.\n",
      "  warnings.warn(CV_WARNING, FutureWarning)\n"
     ]
    }
   ],
   "source": [
    "#Parameter tuning\n",
    "param_grid = {'n_estimators':np.arange(10,100,5)}\n",
    "age_fill = RandomForestRegressor()\n",
    "age_cv = GridSearchCV(age_fill, param_grid, scoring='neg_mean_absolute_error')\n",
    "age_cv.fit(X_train, y_train)\n",
    "print(age_cv.best_params_)\n",
    "print(age_cv.best_score_)"
   ]
  },
  {
   "cell_type": "code",
   "execution_count": null,
   "metadata": {},
   "outputs": [],
   "source": [
    "#Fitting and predicting the for train/test datasets.\n",
    "age_fill = RandomForestRegressor(n_estimators=35)\n",
    "age_fill.fit(X_train, y_train)\n",
    "y_pred = age_fill.predict(X_test)\n",
    "\n",
    "mean_absolute_error(y_test,y_pred)"
   ]
  },
  {
   "cell_type": "markdown",
   "metadata": {},
   "source": [
    "The above results seem pretty good to me, so I filled out the missing columns with this."
   ]
  },
  {
   "cell_type": "code",
   "execution_count": null,
   "metadata": {},
   "outputs": [],
   "source": [
    "#Converting dataframe to onehotencoded form.\n",
    "X = pd.get_dummies(data.drop(['age','lesion_id','image_id'],axis=1))\n",
    "\n",
    "#Creating features.\n",
    "X_null = X.loc[data.age.isnull(), :]\n",
    "\n",
    "#Filling in values\n",
    "y_pred = age_fill.predict(X_null)\n",
    "data.loc[data.age.isnull(), 'age'] = y_pred"
   ]
  },
  {
   "cell_type": "markdown",
   "metadata": {},
   "source": [
    "### Sex"
   ]
  },
  {
   "cell_type": "markdown",
   "metadata": {},
   "source": [
    "I basically repeated the same process as above, except with a classifier instead of a regressor."
   ]
  },
  {
   "cell_type": "code",
   "execution_count": null,
   "metadata": {},
   "outputs": [],
   "source": [
    "#Generating target and feature tables using data with not null values.\n",
    "y = data[data.sex.notnull()].sex\n",
    "X = pd.get_dummies(data[data.sex.notnull()].drop(['sex','lesion_id','image_id'],axis=1))\n",
    "\n",
    "X_train, X_test, y_train, y_test = train_test_split(X,y,test_size = 0.3)"
   ]
  },
  {
   "cell_type": "code",
   "execution_count": null,
   "metadata": {},
   "outputs": [],
   "source": [
    "#Parameter tuning\n",
    "param_grid = {'n_estimators':np.arange(10,100,5)}\n",
    "sex_fill = RandomForestClassifier()\n",
    "sex_cv = GridSearchCV(sex_fill, param_grid, scoring='accuracy')\n",
    "sex_cv.fit(X_train, y_train)\n",
    "print(sex_cv.best_params_)\n",
    "print(sex_cv.best_score_)"
   ]
  },
  {
   "cell_type": "code",
   "execution_count": null,
   "metadata": {},
   "outputs": [],
   "source": [
    "#Fitting and predicting the for train/test datasets.\n",
    "sex_fill = RandomForestClassifier(n_estimators=75)\n",
    "sex_fill.fit(X_train, y_train)\n",
    "y_pred = sex_fill.predict(X_test)\n",
    "\n",
    "accuracy_score(y_test,y_pred)"
   ]
  },
  {
   "cell_type": "code",
   "execution_count": null,
   "metadata": {},
   "outputs": [],
   "source": [
    "#Filling in values\n",
    "X = pd.get_dummies(data.drop(['sex','lesion_id','image_id'],axis=1))\n",
    "X_null = X.loc[data.sex.isnull(), :]\n",
    "y_pred = sex_fill.predict(X_null)\n",
    "\n",
    "data.loc[data.sex.isnull(), 'sex'] = y_pred"
   ]
  },
  {
   "cell_type": "markdown",
   "metadata": {},
   "source": [
    "### Location of Lesion"
   ]
  },
  {
   "cell_type": "code",
   "execution_count": null,
   "metadata": {},
   "outputs": [],
   "source": [
    "#Generating target and feature tables using data with not null values.\n",
    "y = data[data.localization.notnull()].localization\n",
    "X = pd.get_dummies(data[data.localization.notnull()].drop(['localization','lesion_id','image_id'],axis=1))\n",
    "\n",
    "X_train, X_test, y_train, y_test = train_test_split(X,y,test_size = 0.3)"
   ]
  },
  {
   "cell_type": "code",
   "execution_count": null,
   "metadata": {},
   "outputs": [],
   "source": [
    "#Parameter tuning\n",
    "param_grid = {'n_estimators':np.arange(100,135,5)}\n",
    "localization_fill = RandomForestClassifier()\n",
    "localization_cv = GridSearchCV(localization_fill, param_grid, scoring='accuracy')\n",
    "localization_cv.fit(X_train, y_train)\n",
    "print(localization_cv.best_params_)\n",
    "print(localization_cv.best_score_)"
   ]
  },
  {
   "cell_type": "code",
   "execution_count": null,
   "metadata": {},
   "outputs": [],
   "source": [
    "#Fitting and predicting the for train/test datasets.\n",
    "localization_fill = RandomForestClassifier(n_estimators=130)\n",
    "localization_fill.fit(X_train, y_train)\n",
    "y_pred = localization_fill.predict(X_test)\n",
    "\n",
    "accuracy_score(y_test,y_pred)"
   ]
  },
  {
   "cell_type": "code",
   "execution_count": null,
   "metadata": {},
   "outputs": [],
   "source": [
    "#Filling in values\n",
    "X = pd.get_dummies(data.drop(['localization','lesion_id','image_id'],axis=1))\n",
    "X_null = X.loc[data.localization.isnull(), :]\n",
    "y_pred = localization_fill.predict(X_null)\n",
    "\n",
    "data.loc[data.localization.isnull(), 'localization'] = y_pred"
   ]
  },
  {
   "cell_type": "markdown",
   "metadata": {},
   "source": [
    "## Saving to csv"
   ]
  },
  {
   "cell_type": "code",
   "execution_count": null,
   "metadata": {},
   "outputs": [],
   "source": [
    "data.to_csv(r'C:\\Users\\songs\\Desktop\\CSV files\\dataverse_files\\HAM10000_metadata.csv')"
   ]
  }
 ],
 "metadata": {
  "kernelspec": {
   "display_name": "Python 3",
   "language": "python",
   "name": "python3"
  },
  "language_info": {
   "codemirror_mode": {
    "name": "ipython",
    "version": 3
   },
   "file_extension": ".py",
   "mimetype": "text/x-python",
   "name": "python",
   "nbconvert_exporter": "python",
   "pygments_lexer": "ipython3",
   "version": "3.7.3"
  }
 },
 "nbformat": 4,
 "nbformat_minor": 2
}
