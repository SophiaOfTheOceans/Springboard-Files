{
 "cells": [
  {
   "cell_type": "markdown",
   "metadata": {},
   "source": [
    "# Capstone Data Story"
   ]
  },
  {
   "cell_type": "markdown",
   "metadata": {},
   "source": [
    "The HAM10000 dataset does not have a lot of tabular data. In the metadata file, which is our only source of tabular data, there exists only one column of numerical data (\"age\"). Nevertheless, we can draw some interesting insights by looking at the data's distribution and correlation with the categorical variables. \n",
    "\n",
    "Below, you can find a summary of the .csv file and the \"age\" column in that file."
   ]
  },
  {
   "cell_type": "code",
   "execution_count": 1,
   "metadata": {},
   "outputs": [],
   "source": [
    "#Importing necessary modules.\n",
    "import pandas as pd\n",
    "import matplotlib.pyplot as plt\n",
    "import seaborn as sns"
   ]
  },
  {
   "cell_type": "markdown",
   "metadata": {},
   "source": [
    "### A look at the tabular data"
   ]
  },
  {
   "cell_type": "code",
   "execution_count": 2,
   "metadata": {},
   "outputs": [
    {
     "data": {
      "text/html": [
       "<div>\n",
       "<style scoped>\n",
       "    .dataframe tbody tr th:only-of-type {\n",
       "        vertical-align: middle;\n",
       "    }\n",
       "\n",
       "    .dataframe tbody tr th {\n",
       "        vertical-align: top;\n",
       "    }\n",
       "\n",
       "    .dataframe thead th {\n",
       "        text-align: right;\n",
       "    }\n",
       "</style>\n",
       "<table border=\"1\" class=\"dataframe\">\n",
       "  <thead>\n",
       "    <tr style=\"text-align: right;\">\n",
       "      <th></th>\n",
       "      <th>Unnamed: 0</th>\n",
       "      <th>lesion_id</th>\n",
       "      <th>image_id</th>\n",
       "      <th>dx</th>\n",
       "      <th>dx_type</th>\n",
       "      <th>age</th>\n",
       "      <th>sex</th>\n",
       "      <th>localization</th>\n",
       "    </tr>\n",
       "  </thead>\n",
       "  <tbody>\n",
       "    <tr>\n",
       "      <th>0</th>\n",
       "      <td>0</td>\n",
       "      <td>HAM_0000118</td>\n",
       "      <td>ISIC_0027419</td>\n",
       "      <td>bkl</td>\n",
       "      <td>histo</td>\n",
       "      <td>80.0</td>\n",
       "      <td>male</td>\n",
       "      <td>scalp</td>\n",
       "    </tr>\n",
       "    <tr>\n",
       "      <th>1</th>\n",
       "      <td>1</td>\n",
       "      <td>HAM_0000118</td>\n",
       "      <td>ISIC_0025030</td>\n",
       "      <td>bkl</td>\n",
       "      <td>histo</td>\n",
       "      <td>80.0</td>\n",
       "      <td>male</td>\n",
       "      <td>scalp</td>\n",
       "    </tr>\n",
       "    <tr>\n",
       "      <th>2</th>\n",
       "      <td>2</td>\n",
       "      <td>HAM_0002730</td>\n",
       "      <td>ISIC_0026769</td>\n",
       "      <td>bkl</td>\n",
       "      <td>histo</td>\n",
       "      <td>80.0</td>\n",
       "      <td>male</td>\n",
       "      <td>scalp</td>\n",
       "    </tr>\n",
       "    <tr>\n",
       "      <th>3</th>\n",
       "      <td>3</td>\n",
       "      <td>HAM_0002730</td>\n",
       "      <td>ISIC_0025661</td>\n",
       "      <td>bkl</td>\n",
       "      <td>histo</td>\n",
       "      <td>80.0</td>\n",
       "      <td>male</td>\n",
       "      <td>scalp</td>\n",
       "    </tr>\n",
       "    <tr>\n",
       "      <th>4</th>\n",
       "      <td>4</td>\n",
       "      <td>HAM_0001466</td>\n",
       "      <td>ISIC_0031633</td>\n",
       "      <td>bkl</td>\n",
       "      <td>histo</td>\n",
       "      <td>75.0</td>\n",
       "      <td>male</td>\n",
       "      <td>ear</td>\n",
       "    </tr>\n",
       "    <tr>\n",
       "      <th>5</th>\n",
       "      <td>5</td>\n",
       "      <td>HAM_0001466</td>\n",
       "      <td>ISIC_0027850</td>\n",
       "      <td>bkl</td>\n",
       "      <td>histo</td>\n",
       "      <td>75.0</td>\n",
       "      <td>male</td>\n",
       "      <td>ear</td>\n",
       "    </tr>\n",
       "    <tr>\n",
       "      <th>6</th>\n",
       "      <td>6</td>\n",
       "      <td>HAM_0002761</td>\n",
       "      <td>ISIC_0029176</td>\n",
       "      <td>bkl</td>\n",
       "      <td>histo</td>\n",
       "      <td>60.0</td>\n",
       "      <td>male</td>\n",
       "      <td>face</td>\n",
       "    </tr>\n",
       "    <tr>\n",
       "      <th>7</th>\n",
       "      <td>7</td>\n",
       "      <td>HAM_0002761</td>\n",
       "      <td>ISIC_0029068</td>\n",
       "      <td>bkl</td>\n",
       "      <td>histo</td>\n",
       "      <td>60.0</td>\n",
       "      <td>male</td>\n",
       "      <td>face</td>\n",
       "    </tr>\n",
       "    <tr>\n",
       "      <th>8</th>\n",
       "      <td>8</td>\n",
       "      <td>HAM_0005132</td>\n",
       "      <td>ISIC_0025837</td>\n",
       "      <td>bkl</td>\n",
       "      <td>histo</td>\n",
       "      <td>70.0</td>\n",
       "      <td>female</td>\n",
       "      <td>back</td>\n",
       "    </tr>\n",
       "    <tr>\n",
       "      <th>9</th>\n",
       "      <td>9</td>\n",
       "      <td>HAM_0005132</td>\n",
       "      <td>ISIC_0025209</td>\n",
       "      <td>bkl</td>\n",
       "      <td>histo</td>\n",
       "      <td>70.0</td>\n",
       "      <td>female</td>\n",
       "      <td>back</td>\n",
       "    </tr>\n",
       "  </tbody>\n",
       "</table>\n",
       "</div>"
      ],
      "text/plain": [
       "   Unnamed: 0    lesion_id      image_id   dx dx_type   age     sex  \\\n",
       "0           0  HAM_0000118  ISIC_0027419  bkl   histo  80.0    male   \n",
       "1           1  HAM_0000118  ISIC_0025030  bkl   histo  80.0    male   \n",
       "2           2  HAM_0002730  ISIC_0026769  bkl   histo  80.0    male   \n",
       "3           3  HAM_0002730  ISIC_0025661  bkl   histo  80.0    male   \n",
       "4           4  HAM_0001466  ISIC_0031633  bkl   histo  75.0    male   \n",
       "5           5  HAM_0001466  ISIC_0027850  bkl   histo  75.0    male   \n",
       "6           6  HAM_0002761  ISIC_0029176  bkl   histo  60.0    male   \n",
       "7           7  HAM_0002761  ISIC_0029068  bkl   histo  60.0    male   \n",
       "8           8  HAM_0005132  ISIC_0025837  bkl   histo  70.0  female   \n",
       "9           9  HAM_0005132  ISIC_0025209  bkl   histo  70.0  female   \n",
       "\n",
       "  localization  \n",
       "0        scalp  \n",
       "1        scalp  \n",
       "2        scalp  \n",
       "3        scalp  \n",
       "4          ear  \n",
       "5          ear  \n",
       "6         face  \n",
       "7         face  \n",
       "8         back  \n",
       "9         back  "
      ]
     },
     "execution_count": 2,
     "metadata": {},
     "output_type": "execute_result"
    }
   ],
   "source": [
    "#First ten rows of the data\n",
    "data = pd.read_csv(r'C:\\Users\\songs\\Desktop\\CSV files\\dataverse_files\\HAM10000_metadata.csv')\n",
    "data.head(10)"
   ]
  },
  {
   "cell_type": "markdown",
   "metadata": {},
   "source": [
    "According to the website where the data was found, the columns are as follows:\n",
    "* **lesion_id** - Lesion ID (identification code for the skin condition, may or may not be unique for every picture as multiple pictures may be taken for the same condition)\n",
    "* **image_id** - Image ID (identification code for the image itself, is unique for every picture)\n",
    "* **dx** - Diagnosis of the skin condition\n",
    "* **dx_type** - How the Diagnosis was made (histology, confocal viewing, at a follow-up, or by consensus)\n",
    "* **age** - Age of the patient\n",
    "* **sex** - Sex of the patient\n",
    "* **localization** - Where the skin condition was found"
   ]
  },
  {
   "cell_type": "markdown",
   "metadata": {},
   "source": [
    "We can see from the above table that \"age\" is the only numerical column, but we confirm it using the info() method."
   ]
  },
  {
   "cell_type": "code",
   "execution_count": 3,
   "metadata": {},
   "outputs": [
    {
     "name": "stdout",
     "output_type": "stream",
     "text": [
      "<class 'pandas.core.frame.DataFrame'>\n",
      "RangeIndex: 10015 entries, 0 to 10014\n",
      "Data columns (total 8 columns):\n",
      "Unnamed: 0      10015 non-null int64\n",
      "lesion_id       10015 non-null object\n",
      "image_id        10015 non-null object\n",
      "dx              10015 non-null object\n",
      "dx_type         10015 non-null object\n",
      "age             10015 non-null float64\n",
      "sex             10015 non-null object\n",
      "localization    10015 non-null object\n",
      "dtypes: float64(1), int64(1), object(6)\n",
      "memory usage: 626.0+ KB\n"
     ]
    }
   ],
   "source": [
    "data.info()"
   ]
  },
  {
   "cell_type": "markdown",
   "metadata": {},
   "source": [
    "### Distribution of the age column"
   ]
  },
  {
   "cell_type": "markdown",
   "metadata": {},
   "source": [
    "First, I used the .describe() method on the \"age\" column to look at its mean and standard deviation. After gathering this information, I plotted a box-and-whiskers plot to look for any outliers and a histogram to better visualize the data's distribution."
   ]
  },
  {
   "cell_type": "code",
   "execution_count": 4,
   "metadata": {},
   "outputs": [
    {
     "data": {
      "text/plain": [
       "count    10015.000000\n",
       "mean        51.824727\n",
       "std         16.940071\n",
       "min          0.000000\n",
       "25%         40.000000\n",
       "50%         50.000000\n",
       "75%         65.000000\n",
       "max         85.000000\n",
       "Name: age, dtype: float64"
      ]
     },
     "execution_count": 4,
     "metadata": {},
     "output_type": "execute_result"
    }
   ],
   "source": [
    "#A look at the \"age\" column\n",
    "age = data['age']\n",
    "age.describe()"
   ]
  },
  {
   "cell_type": "markdown",
   "metadata": {},
   "source": [
    "The mean age of the patients included was around 52, slightly older than the median age of 50, and the column has a standard deviation of approximately 17 years. The oldest patient was 85 years old, and the youngest was a newborn."
   ]
  },
  {
   "cell_type": "code",
   "execution_count": 5,
   "metadata": {},
   "outputs": [
    {
     "data": {
      "image/png": "[encoded data removed]",
      "text/plain": [
       "<Figure size 432x288 with 1 Axes>"
      ]
     },
     "metadata": {
      "needs_background": "light"
     },
     "output_type": "display_data"
    }
   ],
   "source": [
    "#Box-and-whiskers plot\n",
    "data.boxplot(column='age')\n",
    "plt.title('Boxplot of ages in the HAM10000 Dataset')\n",
    "plt.ylabel('Age')\n",
    "plt.show()"
   ]
  },
  {
   "cell_type": "markdown",
   "metadata": {},
   "source": [
    "There exists one outlier at 0 years, which I decided to keep after examining the data points: There are 39 values where the patient age is 0, and the diagnoses are either \"nv\" (nevi, or a mole/birthmark), \"vasc\" (vascular lesion, or a bruise), or \"bkl\" (benign keratosis-like lesions), none of which are cancerous. This information could be useful, and doesn't need to be dropped."
   ]
  },
  {
   "cell_type": "code",
   "execution_count": 6,
   "metadata": {},
   "outputs": [
    {
     "data": {
      "text/html": [
       "<div>\n",
       "<style scoped>\n",
       "    .dataframe tbody tr th:only-of-type {\n",
       "        vertical-align: middle;\n",
       "    }\n",
       "\n",
       "    .dataframe tbody tr th {\n",
       "        vertical-align: top;\n",
       "    }\n",
       "\n",
       "    .dataframe thead th {\n",
       "        text-align: right;\n",
       "    }\n",
       "</style>\n",
       "<table border=\"1\" class=\"dataframe\">\n",
       "  <thead>\n",
       "    <tr style=\"text-align: right;\">\n",
       "      <th></th>\n",
       "      <th>Unnamed: 0</th>\n",
       "      <th>lesion_id</th>\n",
       "      <th>image_id</th>\n",
       "      <th>dx</th>\n",
       "      <th>dx_type</th>\n",
       "      <th>age</th>\n",
       "      <th>sex</th>\n",
       "      <th>localization</th>\n",
       "    </tr>\n",
       "  </thead>\n",
       "  <tbody>\n",
       "    <tr>\n",
       "      <th>117</th>\n",
       "      <td>117</td>\n",
       "      <td>HAM_0007179</td>\n",
       "      <td>ISIC_0025906</td>\n",
       "      <td>bkl</td>\n",
       "      <td>histo</td>\n",
       "      <td>0.0</td>\n",
       "      <td>female</td>\n",
       "      <td>back</td>\n",
       "    </tr>\n",
       "    <tr>\n",
       "      <th>118</th>\n",
       "      <td>118</td>\n",
       "      <td>HAM_0007179</td>\n",
       "      <td>ISIC_0027151</td>\n",
       "      <td>bkl</td>\n",
       "      <td>histo</td>\n",
       "      <td>0.0</td>\n",
       "      <td>female</td>\n",
       "      <td>back</td>\n",
       "    </tr>\n",
       "    <tr>\n",
       "      <th>865</th>\n",
       "      <td>865</td>\n",
       "      <td>HAM_0006186</td>\n",
       "      <td>ISIC_0029320</td>\n",
       "      <td>bkl</td>\n",
       "      <td>consensus</td>\n",
       "      <td>0.0</td>\n",
       "      <td>male</td>\n",
       "      <td>lower extremity</td>\n",
       "    </tr>\n",
       "    <tr>\n",
       "      <th>866</th>\n",
       "      <td>866</td>\n",
       "      <td>HAM_0006186</td>\n",
       "      <td>ISIC_0029427</td>\n",
       "      <td>bkl</td>\n",
       "      <td>consensus</td>\n",
       "      <td>0.0</td>\n",
       "      <td>male</td>\n",
       "      <td>lower extremity</td>\n",
       "    </tr>\n",
       "    <tr>\n",
       "      <th>902</th>\n",
       "      <td>902</td>\n",
       "      <td>HAM_0004543</td>\n",
       "      <td>ISIC_0032170</td>\n",
       "      <td>bkl</td>\n",
       "      <td>consensus</td>\n",
       "      <td>0.0</td>\n",
       "      <td>female</td>\n",
       "      <td>back</td>\n",
       "    </tr>\n",
       "    <tr>\n",
       "      <th>2388</th>\n",
       "      <td>2388</td>\n",
       "      <td>HAM_0002610</td>\n",
       "      <td>ISIC_0026876</td>\n",
       "      <td>vasc</td>\n",
       "      <td>consensus</td>\n",
       "      <td>0.0</td>\n",
       "      <td>female</td>\n",
       "      <td>abdomen</td>\n",
       "    </tr>\n",
       "    <tr>\n",
       "      <th>2389</th>\n",
       "      <td>2389</td>\n",
       "      <td>HAM_0002610</td>\n",
       "      <td>ISIC_0030606</td>\n",
       "      <td>vasc</td>\n",
       "      <td>consensus</td>\n",
       "      <td>0.0</td>\n",
       "      <td>female</td>\n",
       "      <td>abdomen</td>\n",
       "    </tr>\n",
       "    <tr>\n",
       "      <th>2398</th>\n",
       "      <td>2398</td>\n",
       "      <td>HAM_0004542</td>\n",
       "      <td>ISIC_0024402</td>\n",
       "      <td>vasc</td>\n",
       "      <td>consensus</td>\n",
       "      <td>0.0</td>\n",
       "      <td>female</td>\n",
       "      <td>back</td>\n",
       "    </tr>\n",
       "    <tr>\n",
       "      <th>2399</th>\n",
       "      <td>2399</td>\n",
       "      <td>HAM_0004542</td>\n",
       "      <td>ISIC_0027256</td>\n",
       "      <td>vasc</td>\n",
       "      <td>consensus</td>\n",
       "      <td>0.0</td>\n",
       "      <td>female</td>\n",
       "      <td>back</td>\n",
       "    </tr>\n",
       "    <tr>\n",
       "      <th>6683</th>\n",
       "      <td>6683</td>\n",
       "      <td>HAM_0003246</td>\n",
       "      <td>ISIC_0029049</td>\n",
       "      <td>nv</td>\n",
       "      <td>histo</td>\n",
       "      <td>0.0</td>\n",
       "      <td>male</td>\n",
       "      <td>ear</td>\n",
       "    </tr>\n",
       "    <tr>\n",
       "      <th>6684</th>\n",
       "      <td>6684</td>\n",
       "      <td>HAM_0003246</td>\n",
       "      <td>ISIC_0029018</td>\n",
       "      <td>nv</td>\n",
       "      <td>histo</td>\n",
       "      <td>0.0</td>\n",
       "      <td>male</td>\n",
       "      <td>ear</td>\n",
       "    </tr>\n",
       "    <tr>\n",
       "      <th>6860</th>\n",
       "      <td>6860</td>\n",
       "      <td>HAM_0002159</td>\n",
       "      <td>ISIC_0031059</td>\n",
       "      <td>nv</td>\n",
       "      <td>histo</td>\n",
       "      <td>0.0</td>\n",
       "      <td>male</td>\n",
       "      <td>foot</td>\n",
       "    </tr>\n",
       "    <tr>\n",
       "      <th>6861</th>\n",
       "      <td>6861</td>\n",
       "      <td>HAM_0002159</td>\n",
       "      <td>ISIC_0030355</td>\n",
       "      <td>nv</td>\n",
       "      <td>histo</td>\n",
       "      <td>0.0</td>\n",
       "      <td>male</td>\n",
       "      <td>foot</td>\n",
       "    </tr>\n",
       "    <tr>\n",
       "      <th>7499</th>\n",
       "      <td>7499</td>\n",
       "      <td>HAM_0004176</td>\n",
       "      <td>ISIC_0034286</td>\n",
       "      <td>nv</td>\n",
       "      <td>histo</td>\n",
       "      <td>0.0</td>\n",
       "      <td>male</td>\n",
       "      <td>upper extremity</td>\n",
       "    </tr>\n",
       "    <tr>\n",
       "      <th>7500</th>\n",
       "      <td>7500</td>\n",
       "      <td>HAM_0004176</td>\n",
       "      <td>ISIC_0033373</td>\n",
       "      <td>nv</td>\n",
       "      <td>histo</td>\n",
       "      <td>0.0</td>\n",
       "      <td>male</td>\n",
       "      <td>upper extremity</td>\n",
       "    </tr>\n",
       "    <tr>\n",
       "      <th>8016</th>\n",
       "      <td>8016</td>\n",
       "      <td>HAM_0004076</td>\n",
       "      <td>ISIC_0032966</td>\n",
       "      <td>nv</td>\n",
       "      <td>histo</td>\n",
       "      <td>0.0</td>\n",
       "      <td>female</td>\n",
       "      <td>back</td>\n",
       "    </tr>\n",
       "    <tr>\n",
       "      <th>8017</th>\n",
       "      <td>8017</td>\n",
       "      <td>HAM_0004076</td>\n",
       "      <td>ISIC_0033864</td>\n",
       "      <td>nv</td>\n",
       "      <td>histo</td>\n",
       "      <td>0.0</td>\n",
       "      <td>female</td>\n",
       "      <td>back</td>\n",
       "    </tr>\n",
       "    <tr>\n",
       "      <th>9218</th>\n",
       "      <td>9218</td>\n",
       "      <td>HAM_0001689</td>\n",
       "      <td>ISIC_0025166</td>\n",
       "      <td>nv</td>\n",
       "      <td>consensus</td>\n",
       "      <td>0.0</td>\n",
       "      <td>female</td>\n",
       "      <td>upper extremity</td>\n",
       "    </tr>\n",
       "    <tr>\n",
       "      <th>9219</th>\n",
       "      <td>9219</td>\n",
       "      <td>HAM_0001689</td>\n",
       "      <td>ISIC_0028938</td>\n",
       "      <td>nv</td>\n",
       "      <td>consensus</td>\n",
       "      <td>0.0</td>\n",
       "      <td>female</td>\n",
       "      <td>upper extremity</td>\n",
       "    </tr>\n",
       "    <tr>\n",
       "      <th>9232</th>\n",
       "      <td>9232</td>\n",
       "      <td>HAM_0006358</td>\n",
       "      <td>ISIC_0027549</td>\n",
       "      <td>nv</td>\n",
       "      <td>consensus</td>\n",
       "      <td>0.0</td>\n",
       "      <td>male</td>\n",
       "      <td>foot</td>\n",
       "    </tr>\n",
       "    <tr>\n",
       "      <th>9233</th>\n",
       "      <td>9233</td>\n",
       "      <td>HAM_0006358</td>\n",
       "      <td>ISIC_0025581</td>\n",
       "      <td>nv</td>\n",
       "      <td>consensus</td>\n",
       "      <td>0.0</td>\n",
       "      <td>male</td>\n",
       "      <td>foot</td>\n",
       "    </tr>\n",
       "    <tr>\n",
       "      <th>9234</th>\n",
       "      <td>9234</td>\n",
       "      <td>HAM_0005817</td>\n",
       "      <td>ISIC_0028384</td>\n",
       "      <td>nv</td>\n",
       "      <td>consensus</td>\n",
       "      <td>0.0</td>\n",
       "      <td>male</td>\n",
       "      <td>upper extremity</td>\n",
       "    </tr>\n",
       "    <tr>\n",
       "      <th>9235</th>\n",
       "      <td>9235</td>\n",
       "      <td>HAM_0005817</td>\n",
       "      <td>ISIC_0030155</td>\n",
       "      <td>nv</td>\n",
       "      <td>consensus</td>\n",
       "      <td>0.0</td>\n",
       "      <td>male</td>\n",
       "      <td>upper extremity</td>\n",
       "    </tr>\n",
       "    <tr>\n",
       "      <th>9242</th>\n",
       "      <td>9242</td>\n",
       "      <td>HAM_0002708</td>\n",
       "      <td>ISIC_0029247</td>\n",
       "      <td>nv</td>\n",
       "      <td>consensus</td>\n",
       "      <td>0.0</td>\n",
       "      <td>male</td>\n",
       "      <td>lower extremity</td>\n",
       "    </tr>\n",
       "    <tr>\n",
       "      <th>9243</th>\n",
       "      <td>9243</td>\n",
       "      <td>HAM_0002708</td>\n",
       "      <td>ISIC_0024752</td>\n",
       "      <td>nv</td>\n",
       "      <td>consensus</td>\n",
       "      <td>0.0</td>\n",
       "      <td>male</td>\n",
       "      <td>lower extremity</td>\n",
       "    </tr>\n",
       "    <tr>\n",
       "      <th>9302</th>\n",
       "      <td>9302</td>\n",
       "      <td>HAM_0000666</td>\n",
       "      <td>ISIC_0026122</td>\n",
       "      <td>nv</td>\n",
       "      <td>consensus</td>\n",
       "      <td>0.0</td>\n",
       "      <td>male</td>\n",
       "      <td>foot</td>\n",
       "    </tr>\n",
       "    <tr>\n",
       "      <th>9303</th>\n",
       "      <td>9303</td>\n",
       "      <td>HAM_0000666</td>\n",
       "      <td>ISIC_0026024</td>\n",
       "      <td>nv</td>\n",
       "      <td>consensus</td>\n",
       "      <td>0.0</td>\n",
       "      <td>male</td>\n",
       "      <td>foot</td>\n",
       "    </tr>\n",
       "    <tr>\n",
       "      <th>9329</th>\n",
       "      <td>9329</td>\n",
       "      <td>HAM_0003872</td>\n",
       "      <td>ISIC_0028903</td>\n",
       "      <td>nv</td>\n",
       "      <td>consensus</td>\n",
       "      <td>0.0</td>\n",
       "      <td>female</td>\n",
       "      <td>abdomen</td>\n",
       "    </tr>\n",
       "    <tr>\n",
       "      <th>9346</th>\n",
       "      <td>9346</td>\n",
       "      <td>HAM_0002084</td>\n",
       "      <td>ISIC_0030404</td>\n",
       "      <td>nv</td>\n",
       "      <td>consensus</td>\n",
       "      <td>0.0</td>\n",
       "      <td>male</td>\n",
       "      <td>face</td>\n",
       "    </tr>\n",
       "    <tr>\n",
       "      <th>9347</th>\n",
       "      <td>9347</td>\n",
       "      <td>HAM_0002084</td>\n",
       "      <td>ISIC_0027311</td>\n",
       "      <td>nv</td>\n",
       "      <td>consensus</td>\n",
       "      <td>0.0</td>\n",
       "      <td>male</td>\n",
       "      <td>face</td>\n",
       "    </tr>\n",
       "    <tr>\n",
       "      <th>9356</th>\n",
       "      <td>9356</td>\n",
       "      <td>HAM_0002332</td>\n",
       "      <td>ISIC_0025670</td>\n",
       "      <td>nv</td>\n",
       "      <td>consensus</td>\n",
       "      <td>0.0</td>\n",
       "      <td>male</td>\n",
       "      <td>foot</td>\n",
       "    </tr>\n",
       "    <tr>\n",
       "      <th>9357</th>\n",
       "      <td>9357</td>\n",
       "      <td>HAM_0002332</td>\n",
       "      <td>ISIC_0025898</td>\n",
       "      <td>nv</td>\n",
       "      <td>consensus</td>\n",
       "      <td>0.0</td>\n",
       "      <td>male</td>\n",
       "      <td>foot</td>\n",
       "    </tr>\n",
       "    <tr>\n",
       "      <th>9371</th>\n",
       "      <td>9371</td>\n",
       "      <td>HAM_0005365</td>\n",
       "      <td>ISIC_0025253</td>\n",
       "      <td>nv</td>\n",
       "      <td>consensus</td>\n",
       "      <td>0.0</td>\n",
       "      <td>male</td>\n",
       "      <td>chest</td>\n",
       "    </tr>\n",
       "    <tr>\n",
       "      <th>9372</th>\n",
       "      <td>9372</td>\n",
       "      <td>HAM_0005365</td>\n",
       "      <td>ISIC_0027961</td>\n",
       "      <td>nv</td>\n",
       "      <td>consensus</td>\n",
       "      <td>0.0</td>\n",
       "      <td>male</td>\n",
       "      <td>chest</td>\n",
       "    </tr>\n",
       "    <tr>\n",
       "      <th>9375</th>\n",
       "      <td>9375</td>\n",
       "      <td>HAM_0005246</td>\n",
       "      <td>ISIC_0030059</td>\n",
       "      <td>nv</td>\n",
       "      <td>consensus</td>\n",
       "      <td>0.0</td>\n",
       "      <td>male</td>\n",
       "      <td>scalp</td>\n",
       "    </tr>\n",
       "    <tr>\n",
       "      <th>9377</th>\n",
       "      <td>9377</td>\n",
       "      <td>HAM_0007437</td>\n",
       "      <td>ISIC_0032020</td>\n",
       "      <td>nv</td>\n",
       "      <td>consensus</td>\n",
       "      <td>0.0</td>\n",
       "      <td>female</td>\n",
       "      <td>lower extremity</td>\n",
       "    </tr>\n",
       "    <tr>\n",
       "      <th>9378</th>\n",
       "      <td>9378</td>\n",
       "      <td>HAM_0007437</td>\n",
       "      <td>ISIC_0024745</td>\n",
       "      <td>nv</td>\n",
       "      <td>consensus</td>\n",
       "      <td>0.0</td>\n",
       "      <td>female</td>\n",
       "      <td>lower extremity</td>\n",
       "    </tr>\n",
       "    <tr>\n",
       "      <th>9633</th>\n",
       "      <td>9633</td>\n",
       "      <td>HAM_0006720</td>\n",
       "      <td>ISIC_0024725</td>\n",
       "      <td>nv</td>\n",
       "      <td>consensus</td>\n",
       "      <td>0.0</td>\n",
       "      <td>female</td>\n",
       "      <td>lower extremity</td>\n",
       "    </tr>\n",
       "    <tr>\n",
       "      <th>9634</th>\n",
       "      <td>9634</td>\n",
       "      <td>HAM_0006720</td>\n",
       "      <td>ISIC_0031259</td>\n",
       "      <td>nv</td>\n",
       "      <td>consensus</td>\n",
       "      <td>0.0</td>\n",
       "      <td>female</td>\n",
       "      <td>lower extremity</td>\n",
       "    </tr>\n",
       "  </tbody>\n",
       "</table>\n",
       "</div>"
      ],
      "text/plain": [
       "      Unnamed: 0    lesion_id      image_id    dx    dx_type  age     sex  \\\n",
       "117          117  HAM_0007179  ISIC_0025906   bkl      histo  0.0  female   \n",
       "118          118  HAM_0007179  ISIC_0027151   bkl      histo  0.0  female   \n",
       "865          865  HAM_0006186  ISIC_0029320   bkl  consensus  0.0    male   \n",
       "866          866  HAM_0006186  ISIC_0029427   bkl  consensus  0.0    male   \n",
       "902          902  HAM_0004543  ISIC_0032170   bkl  consensus  0.0  female   \n",
       "2388        2388  HAM_0002610  ISIC_0026876  vasc  consensus  0.0  female   \n",
       "2389        2389  HAM_0002610  ISIC_0030606  vasc  consensus  0.0  female   \n",
       "2398        2398  HAM_0004542  ISIC_0024402  vasc  consensus  0.0  female   \n",
       "2399        2399  HAM_0004542  ISIC_0027256  vasc  consensus  0.0  female   \n",
       "6683        6683  HAM_0003246  ISIC_0029049    nv      histo  0.0    male   \n",
       "6684        6684  HAM_0003246  ISIC_0029018    nv      histo  0.0    male   \n",
       "6860        6860  HAM_0002159  ISIC_0031059    nv      histo  0.0    male   \n",
       "6861        6861  HAM_0002159  ISIC_0030355    nv      histo  0.0    male   \n",
       "7499        7499  HAM_0004176  ISIC_0034286    nv      histo  0.0    male   \n",
       "7500        7500  HAM_0004176  ISIC_0033373    nv      histo  0.0    male   \n",
       "8016        8016  HAM_0004076  ISIC_0032966    nv      histo  0.0  female   \n",
       "8017        8017  HAM_0004076  ISIC_0033864    nv      histo  0.0  female   \n",
       "9218        9218  HAM_0001689  ISIC_0025166    nv  consensus  0.0  female   \n",
       "9219        9219  HAM_0001689  ISIC_0028938    nv  consensus  0.0  female   \n",
       "9232        9232  HAM_0006358  ISIC_0027549    nv  consensus  0.0    male   \n",
       "9233        9233  HAM_0006358  ISIC_0025581    nv  consensus  0.0    male   \n",
       "9234        9234  HAM_0005817  ISIC_0028384    nv  consensus  0.0    male   \n",
       "9235        9235  HAM_0005817  ISIC_0030155    nv  consensus  0.0    male   \n",
       "9242        9242  HAM_0002708  ISIC_0029247    nv  consensus  0.0    male   \n",
       "9243        9243  HAM_0002708  ISIC_0024752    nv  consensus  0.0    male   \n",
       "9302        9302  HAM_0000666  ISIC_0026122    nv  consensus  0.0    male   \n",
       "9303        9303  HAM_0000666  ISIC_0026024    nv  consensus  0.0    male   \n",
       "9329        9329  HAM_0003872  ISIC_0028903    nv  consensus  0.0  female   \n",
       "9346        9346  HAM_0002084  ISIC_0030404    nv  consensus  0.0    male   \n",
       "9347        9347  HAM_0002084  ISIC_0027311    nv  consensus  0.0    male   \n",
       "9356        9356  HAM_0002332  ISIC_0025670    nv  consensus  0.0    male   \n",
       "9357        9357  HAM_0002332  ISIC_0025898    nv  consensus  0.0    male   \n",
       "9371        9371  HAM_0005365  ISIC_0025253    nv  consensus  0.0    male   \n",
       "9372        9372  HAM_0005365  ISIC_0027961    nv  consensus  0.0    male   \n",
       "9375        9375  HAM_0005246  ISIC_0030059    nv  consensus  0.0    male   \n",
       "9377        9377  HAM_0007437  ISIC_0032020    nv  consensus  0.0  female   \n",
       "9378        9378  HAM_0007437  ISIC_0024745    nv  consensus  0.0  female   \n",
       "9633        9633  HAM_0006720  ISIC_0024725    nv  consensus  0.0  female   \n",
       "9634        9634  HAM_0006720  ISIC_0031259    nv  consensus  0.0  female   \n",
       "\n",
       "         localization  \n",
       "117              back  \n",
       "118              back  \n",
       "865   lower extremity  \n",
       "866   lower extremity  \n",
       "902              back  \n",
       "2388          abdomen  \n",
       "2389          abdomen  \n",
       "2398             back  \n",
       "2399             back  \n",
       "6683              ear  \n",
       "6684              ear  \n",
       "6860             foot  \n",
       "6861             foot  \n",
       "7499  upper extremity  \n",
       "7500  upper extremity  \n",
       "8016             back  \n",
       "8017             back  \n",
       "9218  upper extremity  \n",
       "9219  upper extremity  \n",
       "9232             foot  \n",
       "9233             foot  \n",
       "9234  upper extremity  \n",
       "9235  upper extremity  \n",
       "9242  lower extremity  \n",
       "9243  lower extremity  \n",
       "9302             foot  \n",
       "9303             foot  \n",
       "9329          abdomen  \n",
       "9346             face  \n",
       "9347             face  \n",
       "9356             foot  \n",
       "9357             foot  \n",
       "9371            chest  \n",
       "9372            chest  \n",
       "9375            scalp  \n",
       "9377  lower extremity  \n",
       "9378  lower extremity  \n",
       "9633  lower extremity  \n",
       "9634  lower extremity  "
      ]
     },
     "execution_count": 6,
     "metadata": {},
     "output_type": "execute_result"
    }
   ],
   "source": [
    "data[data.age == 0]"
   ]
  },
  {
   "cell_type": "code",
   "execution_count": 16,
   "metadata": {},
   "outputs": [
    {
     "data": {
      "image/png": "[encoded data removed]",
      "text/plain": [
       "<Figure size 432x288 with 1 Axes>"
      ]
     },
     "metadata": {
      "needs_background": "light"
     },
     "output_type": "display_data"
    }
   ],
   "source": [
    "#Histogram\n",
    "age.plot(kind='hist',bins=20)\n",
    "plt.title('Distribution of ages in the HAM10000 Dataset')\n",
    "plt.xlabel('Age')\n",
    "plt.show()"
   ]
  },
  {
   "cell_type": "markdown",
   "metadata": {},
   "source": [
    "It appears that patient age does not follow a normal distribution, and the data skews to the left with most of the patients being older than 40 years of age. This makes sense, since the risk for all types of cancer, including skin cancer, increases with age and is much higher for people older than 40 years than for those younger."
   ]
  },
  {
   "cell_type": "markdown",
   "metadata": {},
   "source": [
    "### Looking for relationships between age and other variables."
   ]
  },
  {
   "cell_type": "markdown",
   "metadata": {},
   "source": [
    "I wondered if patients in some categories were older than the others. Starting with **diagnosis**, below I made bar graphs showing the mean age for each type of condition to see if there are any differences."
   ]
  },
  {
   "cell_type": "code",
   "execution_count": 34,
   "metadata": {},
   "outputs": [
    {
     "name": "stdout",
     "output_type": "stream",
     "text": [
      "dx\n",
      "akiec    66.529052\n",
      "bcc      66.828794\n",
      "bkl      64.283747\n",
      "df       53.043478\n",
      "mel      60.679568\n",
      "nv       46.477477\n",
      "vasc     51.373239\n",
      "Name: age, dtype: float64\n"
     ]
    },
    {
     "data": {
      "image/png": "[encoded data removed]",
      "text/plain": [
       "<Figure size 432x288 with 1 Axes>"
      ]
     },
     "metadata": {
      "needs_background": "light"
     },
     "output_type": "display_data"
    }
   ],
   "source": [
    "by_dx = data.groupby(data['dx']).mean()\n",
    "by_dx_age = by_dx['age']\n",
    "print(by_dx_age)\n",
    "\n",
    "sns.barplot(x='dx', y='age', data=data)\n",
    "plt.ylabel('Mean age (years)')\n",
    "plt.title('The mean of patient age for diagnosis of skin condition')\n",
    "plt.show()"
   ]
  },
  {
   "cell_type": "markdown",
   "metadata": {},
   "source": [
    "It appears that patients with moles (nv), bruises (vasc), and dermatofibromas (df) have lower ages than others. This observation makes sense, since all of these are benign skin conditions whose incidence do not correlate with age. However, benign keratosis lesions (bkl), which is also a benign skin condition, do not demonstrate lower patient ages."
   ]
  },
  {
   "cell_type": "markdown",
   "metadata": {},
   "source": [
    "Next, I made bar graphs showing the mean age for each type of **diagnosis method** to see if there are any differences."
   ]
  },
  {
   "cell_type": "code",
   "execution_count": 39,
   "metadata": {},
   "outputs": [
    {
     "name": "stdout",
     "output_type": "stream",
     "text": [
      "dx_type\n",
      "confocal     64.202899\n",
      "consensus    47.966002\n",
      "follow_up    48.610961\n",
      "histo        54.587397\n",
      "Name: age, dtype: float64\n"
     ]
    },
    {
     "data": {
      "image/png": "[encoded data removed]",
      "text/plain": [
       "<Figure size 432x288 with 1 Axes>"
      ]
     },
     "metadata": {
      "needs_background": "light"
     },
     "output_type": "display_data"
    }
   ],
   "source": [
    "by_dx_type = data.groupby(data['dx_type']).mean()\n",
    "by_dx_type_age = by_dx_type['age']\n",
    "print(by_dx_type_age)\n",
    "\n",
    "sns.barplot(x='dx_type', y='age', data=data)\n",
    "plt.ylabel('Mean age (years)')\n",
    "plt.title('The mean of patient age for method of diagnosis')\n",
    "plt.show()"
   ]
  },
  {
   "cell_type": "markdown",
   "metadata": {},
   "source": [
    "It appears that patients whose skin conditions are diagnosed using a confocal microscrope are significantly older than those who were diagnosed using other methods. There is no reason for this discrepancy, and this may be attributed to an accident."
   ]
  },
  {
   "cell_type": "markdown",
   "metadata": {},
   "source": [
    "Next, I made bar graphs showing the mean age for each **sex** to see if there are any differences."
   ]
  },
  {
   "cell_type": "code",
   "execution_count": 7,
   "metadata": {},
   "outputs": [
    {
     "name": "stdout",
     "output_type": "stream",
     "text": [
      "sex\n",
      "female    48.630608\n",
      "male      54.534835\n",
      "Name: age, dtype: float64\n"
     ]
    },
    {
     "data": {
      "image/png": "[encoded data removed]",
      "text/plain": [
       "<Figure size 432x288 with 1 Axes>"
      ]
     },
     "metadata": {
      "needs_background": "light"
     },
     "output_type": "display_data"
    }
   ],
   "source": [
    "by_sex = data.groupby(data['sex']).mean()\n",
    "by_sex_age = by_sex['age']\n",
    "print(by_sex_age)\n",
    "\n",
    "sns.barplot(x='sex', y='age', data=data)\n",
    "plt.ylabel('Mean age (years)')\n",
    "plt.title('The mean of patient age for sex of patient')\n",
    "plt.show()"
   ]
  },
  {
   "cell_type": "markdown",
   "metadata": {},
   "source": [
    "It appears that male patients are generally older than female ones."
   ]
  },
  {
   "cell_type": "markdown",
   "metadata": {},
   "source": [
    "Next, I made bar graphs showing the mean age for each **location of lesion** to see if there are any differences."
   ]
  },
  {
   "cell_type": "code",
   "execution_count": 43,
   "metadata": {},
   "outputs": [
    {
     "name": "stdout",
     "output_type": "stream",
     "text": [
      "localization\n",
      "abdomen            48.947111\n",
      "acral              37.142857\n",
      "back               52.522810\n",
      "chest              53.432099\n",
      "ear                55.982143\n",
      "face               61.682369\n",
      "foot               44.684543\n",
      "genital            46.770833\n",
      "hand               48.111111\n",
      "lower extremity    50.746269\n",
      "neck               53.660714\n",
      "scalp              60.117188\n",
      "trunk              49.387028\n",
      "unknown            45.588235\n",
      "upper extremity    53.606631\n",
      "Name: age, dtype: float64\n"
     ]
    },
    {
     "data": {
      "image/png": "[encoded data removed]",
      "text/plain": [
       "<Figure size 1440x576 with 1 Axes>"
      ]
     },
     "metadata": {
      "needs_background": "light"
     },
     "output_type": "display_data"
    }
   ],
   "source": [
    "by_localization = data.groupby(data['localization']).mean()\n",
    "by_localization_age = by_localization['age']\n",
    "print(by_localization_age)\n",
    "\n",
    "plt.figure(figsize=(20,8))\n",
    "\n",
    "sns.barplot(x='localization', y='age', data=data)\n",
    "plt.ylabel('Mean age (years)')\n",
    "plt.title('The mean of patient age for location of skin condition')\n",
    "plt.show()"
   ]
  },
  {
   "cell_type": "markdown",
   "metadata": {},
   "source": [
    "Generally, the standard deviations for the locations were much wider than those of previous categories. Overall most ages were around 50 years, but patients whose condition was on the scalp and face tended to be older (around 60 years old) while those with conditions in the foot, unknown, or acral regions tended to be younger (around 45 years old)."
   ]
  }
 ],
 "metadata": {
  "kernelspec": {
   "display_name": "Python 3",
   "language": "python",
   "name": "python3"
  },
  "language_info": {
   "codemirror_mode": {
    "name": "ipython",
    "version": 3
   },
   "file_extension": ".py",
   "mimetype": "text/x-python",
   "name": "python",
   "nbconvert_exporter": "python",
   "pygments_lexer": "ipython3",
   "version": "3.7.3"
  }
 },
 "nbformat": 4,
 "nbformat_minor": 2
}
