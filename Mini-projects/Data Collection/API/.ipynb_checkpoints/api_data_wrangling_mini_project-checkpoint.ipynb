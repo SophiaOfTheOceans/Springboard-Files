{
 "cells": [
  {
   "cell_type": "markdown",
   "metadata": {},
   "source": [
    "This exercise will require you to pull some data from the Qunadl API. Qaundl is currently the most widely used aggregator of financial market data."
   ]
  },
  {
   "cell_type": "markdown",
   "metadata": {},
   "source": [
    "As a first step, you will need to register a free account on the http://www.quandl.com website."
   ]
  },
  {
   "cell_type": "markdown",
   "metadata": {},
   "source": [
    "After you register, you will be provided with a unique API key, that you should store:"
   ]
  },
  {
   "cell_type": "code",
   "execution_count": 1,
   "metadata": {},
   "outputs": [],
   "source": [
    "# Store the API key as a string - according to PEP8, constants are always named in all upper case\n",
    "API_KEY = 'Ev3xeqQtKoSJk2z_t3We'"
   ]
  },
  {
   "cell_type": "markdown",
   "metadata": {},
   "source": [
    "Qaundl has a large number of data sources, but, unfortunately, most of them require a Premium subscription. Still, there are also a good number of free datasets."
   ]
  },
  {
   "cell_type": "markdown",
   "metadata": {},
   "source": [
    "For this mini project, we will focus on equities data from the Frankfurt Stock Exhange (FSE), which is available for free. We'll try and analyze the stock prices of a company called Carl Zeiss Meditec, which manufactures tools for eye examinations, as well as medical lasers for laser eye surgery: https://www.zeiss.com/meditec/int/home.html. The company is listed under the stock ticker AFX_X."
   ]
  },
  {
   "cell_type": "markdown",
   "metadata": {},
   "source": [
    "You can find the detailed Quandl API instructions here: https://docs.quandl.com/docs/time-series"
   ]
  },
  {
   "cell_type": "markdown",
   "metadata": {},
   "source": [
    "While there is a dedicated Python package for connecting to the Quandl API, we would prefer that you use the *requests* package, which can be easily downloaded using *pip* or *conda*. You can find the documentation for the package here: http://docs.python-requests.org/en/master/ "
   ]
  },
  {
   "cell_type": "markdown",
   "metadata": {},
   "source": [
    "Finally, apart from the *requests* package, you are encouraged to not use any third party Python packages, such as *pandas*, and instead focus on what's available in the Python Standard Library (the *collections* module might come in handy: https://pymotw.com/3/collections/ ).\n",
    "Also, since you won't have access to DataFrames, you are encouraged to us Python's native data structures - preferably dictionaries, though some questions can also be answered using lists.\n",
    "You can read more on these data structures here: https://docs.python.org/3/tutorial/datastructures.html"
   ]
  },
  {
   "cell_type": "markdown",
   "metadata": {},
   "source": [
    "Keep in mind that the JSON responses you will be getting from the API map almost one-to-one to Python's dictionaries. Unfortunately, they can be very nested, so make sure you read up on indexing dictionaries in the documentation provided above."
   ]
  },
  {
   "cell_type": "code",
   "execution_count": 2,
   "metadata": {},
   "outputs": [],
   "source": [
    "# First, import the relevant modules\n",
    "import requests\n"
   ]
  },
  {
   "cell_type": "code",
   "execution_count": 3,
   "metadata": {},
   "outputs": [],
   "source": [
    "# Now, call the Quandl API and pull out a small sample of the data (only one day) to get a glimpse\n",
    "# into the JSON structure that will be returned\n",
    "url = 'https://www.quandl.com/api/v3/datasets/FSE/AFX_X/data.json?limit=10&api_key='+API_KEY\n",
    "r = requests.get(url)\n",
    "json = r.json()"
   ]
  },
  {
   "cell_type": "code",
   "execution_count": 4,
   "metadata": {},
   "outputs": [
    {
     "name": "stdout",
     "output_type": "stream",
     "text": [
      "{'dataset_data': {'limit': 10, 'transform': None, 'column_index': None, 'column_names': ['Date', 'Open', 'High', 'Low', 'Close', 'Change', 'Traded Volume', 'Turnover', 'Last Price of the Day', 'Daily Traded Units', 'Daily Turnover'], 'start_date': '2000-06-07', 'end_date': '2019-06-06', 'frequency': 'daily', 'data': [['2019-06-06', None, 86.05, 85.0, 85.5, None, 141747.0, 12126871.0, None, None, None], ['2019-06-05', None, 86.0, 83.6, 85.85, None, 196908.0, 16831752.0, None, None, None], ['2019-06-04', None, 84.05, 81.95, 83.8, None, 194026.0, 16189447.0, None, None, None], ['2019-06-03', None, 84.6, 83.15, 84.6, None, 211906.0, 17831665.0, None, None, None], ['2019-05-31', None, 85.15, 82.4, 84.25, None, 224136.0, 18772682.0, None, None, None], ['2019-05-30', None, 85.9, 84.0, 85.85, None, 117606.0, 10048622.0, None, None, None], ['2019-05-29', None, 87.7, 83.65, 84.1, None, 253284.0, 21473837.0, None, None, None], ['2019-05-28', None, 88.4, 86.25, 87.4, None, 2957391.0, 258453491.0, None, None, None], ['2019-05-27', None, 88.4, 87.65, 87.85, None, 85999.0, 7560564.0, None, None, None], ['2019-05-24', None, 88.85, 87.5, 88.1, None, 143958.0, 12681718.0, None, None, None]], 'collapse': None, 'order': None}}\n"
     ]
    }
   ],
   "source": [
    "# Inspect the JSON structure of the object you created, and take note of how nested it is,\n",
    "# as well as the overall structure\n",
    "print(json)"
   ]
  },
  {
   "cell_type": "markdown",
   "metadata": {},
   "source": [
    "These are your tasks for this mini project:\n",
    "\n",
    "1. Collect data from the Franfurt Stock Exchange, for the ticker AFX_X, for the whole year 2017 (keep in mind that the date format is YYYY-MM-DD).\n",
    "2. Convert the returned JSON object into a Python dictionary.\n",
    "3. Calculate what the highest and lowest opening prices were for the stock in this period.\n",
    "4. What was the largest change in any one day (based on High and Low price)?\n",
    "5. What was the largest change between any two days (based on Closing Price)?\n",
    "6. What was the average daily trading volume during this year?\n",
    "7. (Optional) What was the median trading volume during this year. (Note: you may need to implement your own function for calculating the median.)"
   ]
  },
  {
   "cell_type": "markdown",
   "metadata": {},
   "source": [
    "## Question 1. Collect data from the Franfurt Stock Exchange, for the ticker AFX_X, for the whole year 2017 (keep in mind that the date format is YYYY-MM-DD)."
   ]
  },
  {
   "cell_type": "code",
   "execution_count": 15,
   "metadata": {},
   "outputs": [],
   "source": [
    "url = 'https://www.quandl.com/api/v3/datasets/FSE/AFX_X/data.json?start_date=2017-01-01&end_date=2017-12-31&&api_key=' + API_KEY\n",
    "question_1 = requests.get(url)"
   ]
  },
  {
   "cell_type": "markdown",
   "metadata": {},
   "source": [
    "## Question 2. Convert the returned JSON object into a Python dictionary."
   ]
  },
  {
   "cell_type": "code",
   "execution_count": 14,
   "metadata": {},
   "outputs": [],
   "source": [
    "question_2 = question_1.json()"
   ]
  },
  {
   "cell_type": "markdown",
   "metadata": {},
   "source": [
    "## Question 3. Calculate what the highest and lowest opening prices were for the stock in this period."
   ]
  },
  {
   "cell_type": "code",
   "execution_count": 13,
   "metadata": {},
   "outputs": [
    {
     "name": "stdout",
     "output_type": "stream",
     "text": [
      "['Date', 'Open', 'High', 'Low', 'Close', 'Change', 'Traded Volume', 'Turnover', 'Last Price of the Day', 'Daily Traded Units', 'Daily Turnover']\n"
     ]
    }
   ],
   "source": [
    "question_3_to_7_list = question_2['dataset_data']['data']\n",
    "\n",
    "#Print out the column names to remind ourselves what the columns are\n",
    "print(json['dataset_data']['column_names'])"
   ]
  },
  {
   "cell_type": "code",
   "execution_count": 8,
   "metadata": {},
   "outputs": [
    {
     "name": "stdout",
     "output_type": "stream",
     "text": [
      "Highest Opening Price: 53.11\n",
      "Lowest Opening Price: 34.0\n"
     ]
    }
   ],
   "source": [
    "opening_prices = []\n",
    "for row in question_3_to_7_list:\n",
    "    if row[1] != None:\n",
    "        opening_prices.append(row[1])\n",
    "question_3_answer = ('Highest Opening Price: ' + str(max(opening_prices)) \n",
    "                     + '\\n' + 'Lowest Opening Price: ' + str(min(opening_prices)))\n",
    "print(question_3_answer)"
   ]
  },
  {
   "cell_type": "markdown",
   "metadata": {},
   "source": [
    "## Question 4. What was the largest change in any one day (based on High and Low price)?"
   ]
  },
  {
   "cell_type": "code",
   "execution_count": 9,
   "metadata": {},
   "outputs": [
    {
     "name": "stdout",
     "output_type": "stream",
     "text": [
      "Highest Change in 1 Day: 2.81\n"
     ]
    }
   ],
   "source": [
    "differences = []\n",
    "for row in question_3_to_7_list:\n",
    "    if row[2] != None and row[3] != None:\n",
    "        differences.append(row[2] - row[3])\n",
    "question_4_answer = ('Highest Change in 1 Day: ' + str(round(max(differences), 2)))\n",
    "print(question_4_answer)"
   ]
  },
  {
   "cell_type": "markdown",
   "metadata": {},
   "source": [
    "## Question 5. What was the largest change between any two days (based on Closing Price)?"
   ]
  },
  {
   "cell_type": "code",
   "execution_count": 10,
   "metadata": {},
   "outputs": [
    {
     "name": "stdout",
     "output_type": "stream",
     "text": [
      "Highest Change Between 2 Days: 2.56\n"
     ]
    }
   ],
   "source": [
    "#5\n",
    "change = []\n",
    "for i in range(len(question_3_to_7_list)):\n",
    "    if i <= len(question_3_to_7_list) - 2:\n",
    "        change.append(abs(question_3_to_7_list[i][4] - question_3_to_7_list[i+1][4]))\n",
    "question_5_answer = ('Highest Change Between 2 Days: ' + str(round(max(change), 2)))\n",
    "print(question_5_answer)"
   ]
  },
  {
   "cell_type": "markdown",
   "metadata": {},
   "source": [
    "## Question 6. What was the average daily trading volume during this year?"
   ]
  },
  {
   "cell_type": "code",
   "execution_count": 11,
   "metadata": {},
   "outputs": [
    {
     "name": "stdout",
     "output_type": "stream",
     "text": [
      "Mean volume traded: 89124.33725490196\n"
     ]
    }
   ],
   "source": [
    "#6\n",
    "trading_volume = []\n",
    "for row in question_3_to_7_list:\n",
    "    if row[6] != None:\n",
    "        trading_volume.append(row[6])\n",
    "question_6_answer = ('Mean volume traded: ' + str(sum(trading_volume)/len(trading_volume)))\n",
    "print(question_6_answer)"
   ]
  },
  {
   "cell_type": "markdown",
   "metadata": {},
   "source": [
    "## Question 7. (Optional) What was the median trading volume during this year. "
   ]
  },
  {
   "cell_type": "code",
   "execution_count": 12,
   "metadata": {},
   "outputs": [
    {
     "name": "stdout",
     "output_type": "stream",
     "text": [
      "Median volume traded: 76600.0\n"
     ]
    }
   ],
   "source": [
    "#7\n",
    "def median(x):\n",
    "    \"\"\"Finding the median of a list of numbers\"\"\"\n",
    "    x.sort()\n",
    "    if len(x) // 2 == 0:\n",
    "        value = (x[len(x) / 2] + x[len(x) / 2 + 1])/2\n",
    "    else:\n",
    "        value = x[round(len(x) / 2)]\n",
    "    return value\n",
    "\n",
    "question_7_answer = ('Median volume traded: ' + str(median(trading_volume)))\n",
    "print(question_7_answer)"
   ]
  },
  {
   "cell_type": "code",
   "execution_count": null,
   "metadata": {},
   "outputs": [],
   "source": []
  }
 ],
 "metadata": {
  "kernelspec": {
   "display_name": "Python 3",
   "language": "python",
   "name": "python3"
  },
  "language_info": {
   "codemirror_mode": {
    "name": "ipython",
    "version": 3
   },
   "file_extension": ".py",
   "mimetype": "text/x-python",
   "name": "python",
   "nbconvert_exporter": "python",
   "pygments_lexer": "ipython3",
   "version": "3.7.3"
  }
 },
 "nbformat": 4,
 "nbformat_minor": 2
}
