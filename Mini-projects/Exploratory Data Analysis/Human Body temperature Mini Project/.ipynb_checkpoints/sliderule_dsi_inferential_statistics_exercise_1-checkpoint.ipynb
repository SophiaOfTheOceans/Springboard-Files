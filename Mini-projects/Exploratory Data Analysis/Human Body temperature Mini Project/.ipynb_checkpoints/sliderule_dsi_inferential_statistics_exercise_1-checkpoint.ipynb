{
 "cells": [
  {
   "cell_type": "markdown",
   "metadata": {
    "colab_type": "text",
    "id": "6PXbTcLWknaC"
   },
   "source": [
    "# What is the True Normal Human Body Temperature? \n",
    "\n",
    "#### Background\n",
    "\n",
    "The mean normal body temperature was held to be 37$^{\\circ}$C or 98.6$^{\\circ}$F for more than 120 years since it was first conceptualized and reported by Carl Wunderlich in a famous 1868 book. But, is this value statistically correct?"
   ]
  },
  {
   "cell_type": "markdown",
   "metadata": {
    "colab_type": "text",
    "id": "usmTpN26knaD"
   },
   "source": [
    "<h3>Exercises</h3>\n",
    "\n",
    "<p>In this exercise, you will analyze a dataset of human body temperatures and employ the concepts of hypothesis testing, confidence intervals, and statistical significance.</p>\n",
    "\n",
    "<p>Answer the following questions <b>in this notebook below and submit to your Github account</b>.</p> \n",
    "\n",
    "<ol>\n",
    "<li>  Is the distribution of body temperatures normal? \n",
    "    <ul>\n",
    "    <li> Although this is not a requirement for the Central Limit Theorem to hold (read the introduction on Wikipedia's page about the CLT carefully: https://en.wikipedia.org/wiki/Central_limit_theorem), it gives us some peace of mind that the population may also be normally distributed if we assume that this sample is representative of the population.\n",
    "    <li> Think about the way you're going to check for the normality of the distribution. Graphical methods are usually used first, but there are also other ways: https://en.wikipedia.org/wiki/Normality_test\n",
    "    </ul>\n",
    "<li>  Is the sample size large? Are the observations independent?\n",
    "    <ul>\n",
    "    <li> Remember that this is a condition for the Central Limit Theorem, and hence the statistical tests we are using, to apply.\n",
    "    </ul>\n",
    "<li>  Is the true population mean really 98.6 degrees F?\n",
    "    <ul>\n",
    "    <li> First, try a bootstrap hypothesis test.\n",
    "    <li> Now, let's try frequentist statistical testing. Would you use a one-sample or two-sample test? Why?\n",
    "    <li> In this situation, is it appropriate to use the $t$ or $z$ statistic? \n",
    "    <li> Now try using the other test. How is the result be different? Why?\n",
    "    </ul>\n",
    "<li>  Draw a small sample of size 10 from the data and repeat both frequentist tests. \n",
    "    <ul>\n",
    "    <li> Which one is the correct one to use? \n",
    "    <li> What do you notice? What does this tell you about the difference in application of the $t$ and $z$ statistic?\n",
    "    </ul>\n",
    "<li>  At what temperature should we consider someone's temperature to be \"abnormal\"?\n",
    "    <ul>\n",
    "    <li> As in the previous example, try calculating everything using the boostrap approach, as well as the frequentist approach.\n",
    "    <li> Start by computing the margin of error and confidence interval. When calculating the confidence interval, keep in mind that you should use the appropriate formula for one draw, and not N draws.\n",
    "    </ul>\n",
    "<li>  Is there a significant difference between males and females in normal temperature?\n",
    "    <ul>\n",
    "    <li> What testing approach did you use and why?\n",
    "    <li> Write a story with your conclusion in the context of the original problem.\n",
    "    </ul>\n",
    "</ol>\n",
    "\n",
    "You can include written notes in notebook cells using Markdown: \n",
    "   - In the control panel at the top, choose Cell > Cell Type > Markdown\n",
    "   - Markdown syntax: http://nestacms.com/docs/creating-content/markdown-cheat-sheet\n",
    "\n",
    "#### Resources\n",
    "\n",
    "+ Information and data sources: http://www.amstat.org/publications/jse/datasets/normtemp.txt, http://www.amstat.org/publications/jse/jse_data_archive.htm\n",
    "+ Markdown syntax: http://nestacms.com/docs/creating-content/markdown-cheat-sheet\n",
    "\n",
    "****"
   ]
  },
  {
   "cell_type": "code",
   "execution_count": 3,
   "metadata": {
    "colab": {
     "base_uri": "https://localhost:8080/",
     "height": 74,
     "resources": {
      "http://localhost:8080/nbextensions/google.colab/files.js": {
       "data": "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",
       "headers": [
        [
         "content-type",
         "application/javascript"
        ]
       ],
       "ok": true,
       "status": 200,
       "status_text": ""
      }
     }
    },
    "colab_type": "code",
    "id": "wlTGIgtwknaE",
    "outputId": "d4569f7a-5e3d-400a-bd3f-7f13417501d9"
   },
   "outputs": [],
   "source": [
    "import pandas as pd\n",
    "import numpy as np\n",
    "import matplotlib.pyplot as plt\n",
    "import scipy.stats as st"
   ]
  },
  {
   "cell_type": "code",
   "execution_count": 4,
   "metadata": {
    "colab": {
     "base_uri": "https://localhost:8080/",
     "height": 286
    },
    "colab_type": "code",
    "id": "XE3g6FR6knaH",
    "outputId": "71a92d43-339e-48d4-cb9b-6b45ae90fbeb"
   },
   "outputs": [
    {
     "data": {
      "text/html": [
       "<div>\n",
       "<style scoped>\n",
       "    .dataframe tbody tr th:only-of-type {\n",
       "        vertical-align: middle;\n",
       "    }\n",
       "\n",
       "    .dataframe tbody tr th {\n",
       "        vertical-align: top;\n",
       "    }\n",
       "\n",
       "    .dataframe thead th {\n",
       "        text-align: right;\n",
       "    }\n",
       "</style>\n",
       "<table border=\"1\" class=\"dataframe\">\n",
       "  <thead>\n",
       "    <tr style=\"text-align: right;\">\n",
       "      <th></th>\n",
       "      <th>temperature</th>\n",
       "      <th>gender</th>\n",
       "      <th>heart_rate</th>\n",
       "    </tr>\n",
       "  </thead>\n",
       "  <tbody>\n",
       "    <tr>\n",
       "      <th>0</th>\n",
       "      <td>99.3</td>\n",
       "      <td>F</td>\n",
       "      <td>68.0</td>\n",
       "    </tr>\n",
       "    <tr>\n",
       "      <th>1</th>\n",
       "      <td>98.4</td>\n",
       "      <td>F</td>\n",
       "      <td>81.0</td>\n",
       "    </tr>\n",
       "    <tr>\n",
       "      <th>2</th>\n",
       "      <td>97.8</td>\n",
       "      <td>M</td>\n",
       "      <td>73.0</td>\n",
       "    </tr>\n",
       "    <tr>\n",
       "      <th>3</th>\n",
       "      <td>99.2</td>\n",
       "      <td>F</td>\n",
       "      <td>66.0</td>\n",
       "    </tr>\n",
       "    <tr>\n",
       "      <th>4</th>\n",
       "      <td>98.0</td>\n",
       "      <td>F</td>\n",
       "      <td>73.0</td>\n",
       "    </tr>\n",
       "  </tbody>\n",
       "</table>\n",
       "</div>"
      ],
      "text/plain": [
       "   temperature gender  heart_rate\n",
       "0         99.3      F        68.0\n",
       "1         98.4      F        81.0\n",
       "2         97.8      M        73.0\n",
       "3         99.2      F        66.0\n",
       "4         98.0      F        73.0"
      ]
     },
     "execution_count": 4,
     "metadata": {},
     "output_type": "execute_result"
    }
   ],
   "source": [
    "# Your work here.\n",
    "\n",
    "#First, we import the data.\n",
    "df = pd.read_csv(r'C:\\Users\\songs\\Desktop\\Springboard Files\\Human Body temperature Mini Project\\human_body_temperature.csv')\n",
    "df.head()"
   ]
  },
  {
   "cell_type": "code",
   "execution_count": 5,
   "metadata": {},
   "outputs": [
    {
     "data": {
      "text/plain": [
       "(130, 3)"
      ]
     },
     "execution_count": 5,
     "metadata": {},
     "output_type": "execute_result"
    }
   ],
   "source": [
    "df.shape"
   ]
  },
  {
   "cell_type": "markdown",
   "metadata": {
    "colab_type": "text",
    "id": "GnhM-rAiphZ2"
   },
   "source": [
    "**Question 1: Is the distribution of body temperatures normal?** \n",
    "\n",
    "There are a few ways to test a sample's normalcy:\n",
    "\n",
    "*1.Compile a normal distribution using np.random.normal with the mean and standard deviation of the data and compare the shape and ECDF of the data with that of the simulated normal distribution.*"
   ]
  },
  {
   "cell_type": "code",
   "execution_count": 6,
   "metadata": {},
   "outputs": [
    {
     "data": {
      "image/png": "[encoded data removed]",
      "text/plain": [
       "<Figure size 432x288 with 1 Axes>"
      ]
     },
     "metadata": {
      "needs_background": "light"
     },
     "output_type": "display_data"
    }
   ],
   "source": [
    "# Create a normal distribution using the mean and standard deviation of the temperature.\n",
    "\n",
    "temperature = df['temperature']\n",
    "\n",
    "norm_dist = np.random.normal(temperature.mean(),temperature.std(), size=10000)\n",
    "plt.hist(norm_dist, density = True, histtype = 'step')\n",
    "plt.show()"
   ]
  },
  {
   "cell_type": "code",
   "execution_count": 7,
   "metadata": {},
   "outputs": [
    {
     "data": {
      "image/png": "[encoded data removed]",
      "text/plain": [
       "<Figure size 1008x432 with 2 Axes>"
      ]
     },
     "metadata": {
      "needs_background": "light"
     },
     "output_type": "display_data"
    }
   ],
   "source": [
    "# Compare with our data.\n",
    "\n",
    "#Setting figure size\n",
    "plt.figure(figsize = (14, 6))\n",
    "\n",
    "#Histograms\n",
    "plt.subplot(1,2,1)\n",
    "plt.hist(temperature, density = True, histtype = 'step', color = 'r', label = 'data')\n",
    "plt.hist(norm_dist, density = True, histtype = 'step', label = 'Simulated normal distribution')\n",
    "plt.title('Histogram data vs normal distribution')\n",
    "plt.xlabel('Temperature (F)')\n",
    "plt.ylabel('Proportion')\n",
    "plt.legend(loc = 'upper right')\n",
    "\n",
    "#ECDF\n",
    "def ecdf(x_col, lab = None, shade = 'b', al = 1):\n",
    "    x = np.sort(x_col)\n",
    "    y = np.arange(1, len(x) + 1)/len(x)\n",
    "    plt.plot(x, y, color = shade, label = lab, alpha = al)\n",
    "    plt.margins(0.02)\n",
    "\n",
    "#Plotting ECDF\n",
    "plt.subplot(1,2,2)\n",
    "ecdf(temperature, shade = 'r', lab = 'data')\n",
    "ecdf(norm_dist, lab = 'Simulated normal distribution')\n",
    "plt.title('ECDF of data vs normal distribution')\n",
    "plt.xlabel('Temperature (F)')\n",
    "plt.ylabel('Proportion')\n",
    "plt.legend(loc = 'lower right')\n",
    "plt.show()"
   ]
  },
  {
   "cell_type": "markdown",
   "metadata": {},
   "source": [
    "The two histograms and ECDFs look pretty similar, so I would say that our data is normally distributed."
   ]
  },
  {
   "cell_type": "markdown",
   "metadata": {},
   "source": [
    "*2.Compare the median relative to the mean, calculate the percentage of points that fell within one, two, and three standard deviations of the mean, and see if the results agree with those of a normal distribution.*"
   ]
  },
  {
   "cell_type": "markdown",
   "metadata": {},
   "source": [
    "In a normal distribution, the mean is approximately equal to the median. Also, around 68% of the data points should fall within 1 standard deviation of the mean, 95% should fall within 2 standard deviations of the mean, and 99.7% should fall within 3 standard deviations of the mean."
   ]
  },
  {
   "cell_type": "code",
   "execution_count": 8,
   "metadata": {},
   "outputs": [
    {
     "name": "stdout",
     "output_type": "stream",
     "text": [
      "Mean of data is 98.24923076923078, and Median of data is 98.3\n"
     ]
    }
   ],
   "source": [
    "# In a normal distribution, the mean should be close to the median. Is this true?\n",
    "med = np.median(temperature)\n",
    "mean = np.mean(temperature)\n",
    "\n",
    "print(\"Mean of data is \" + str(mean) + \", and Median of data is \" + str(med))"
   ]
  },
  {
   "cell_type": "markdown",
   "metadata": {},
   "source": [
    "The two appears to be pretty close, so I think that satisfies our requirement."
   ]
  },
  {
   "cell_type": "code",
   "execution_count": 9,
   "metadata": {},
   "outputs": [
    {
     "name": "stdout",
     "output_type": "stream",
     "text": [
      "68.0453846153846% of the data is within 1 standard deviation. 92.96615384615384% of the data is within 2 standard deviations. 97.47384615384614% of the data is within 3 standard deviations.\n"
     ]
    }
   ],
   "source": [
    "# In a normal distribution, 68% is within 1 std, 95% is within 2 stds, and 99.7% is within 3 stds. Is this true?\n",
    "\n",
    "def percentage_within(stds):\n",
    "    upper = temperature.mean() + stds * temperature.std()\n",
    "    lower = temperature.mean() - stds * temperature.std()\n",
    "    selector = temperature[(temperature < upper) & (temperature > lower)]\n",
    "    percent = np.sum(selector)/len(temperature)\n",
    "    return percent\n",
    "\n",
    "print(str(percentage_within(1)) + \"% of the data is within 1 standard deviation. \" \n",
    "      + str(percentage_within(2)) + \"% of the data is within 2 standard deviations. \"\n",
    "      + str(percentage_within(3)) + \"% of the data is within 3 standard deviations.\")"
   ]
  },
  {
   "cell_type": "markdown",
   "metadata": {},
   "source": [
    "Although there are slightly less data contained in 2 and 3 standard deviations from the mean, I would say that the results are close enough to what we expect, making our data normal."
   ]
  },
  {
   "cell_type": "markdown",
   "metadata": {
    "colab_type": "text",
    "id": "-YqVkdyUDc6P"
   },
   "source": [
    "**Question 2: Is the sample size large? Are the observations independent?**\n",
    "\n",
    "For a sample to be large enough, n should be greater than 30. \n",
    "\n",
    "Even though it was not explicitly stated in the problem, we can assume that the temperatures were independent since 1) one person's body temperature had nothing to do with that of another's, and 2) even though we're sampling without replacement, the sample size was less than 10% of the population."
   ]
  },
  {
   "cell_type": "markdown",
   "metadata": {
    "colab_type": "text",
    "id": "c-G3D15lUwsg"
   },
   "source": [
    "**Question 3: Is the true population mean really 98.6 degrees F?**\n",
    "\n",
    "*1. First, try a bootstrap hypothesis test.*\n"
   ]
  },
  {
   "cell_type": "code",
   "execution_count": 10,
   "metadata": {},
   "outputs": [
    {
     "name": "stdout",
     "output_type": "stream",
     "text": [
      "P-value is: 0.0\n"
     ]
    }
   ],
   "source": [
    "# Shift the temperature data so that its mean is 98.6 degrees. \n",
    "shifted_temps = temperature - mean + 98.6\n",
    "\n",
    "# Write a function to calculate a sample's difference from 98.6 degrees.\n",
    "def difference(data):\n",
    "    return np.mean(data) - 98.6\n",
    "\n",
    "# Calculate how different our sample is from 98.6.\n",
    "diff_obs = difference(temperature)\n",
    "\n",
    "# Calculate bootstrap replicates\n",
    "def draw_bs_reps(data, func, size = 10000):\n",
    "    array = np.empty(size)\n",
    "    for i in range(size):\n",
    "        bs_samps = np.random.choice(data, size = len(data))\n",
    "        array[i] = func(bs_samps)\n",
    "    return array\n",
    "\n",
    "bs_reps = draw_bs_reps(shifted_temps, difference)\n",
    "\n",
    "#Calculate the p-value.\n",
    "p_value = np.sum(bs_reps <= diff_obs)/10000\n",
    "print(\"P-value is: \" + str(p_value))"
   ]
  },
  {
   "cell_type": "markdown",
   "metadata": {},
   "source": [
    "*2. Now, let's try frequentist statistical testing. Would you use a one-sample or two-sample test? Why?*\n",
    "> I would utilize a one-sample test because we are comparing the mean of one sample to a known value."
   ]
  },
  {
   "cell_type": "code",
   "execution_count": 11,
   "metadata": {},
   "outputs": [
    {
     "name": "stdout",
     "output_type": "stream",
     "text": [
      "P-value is: 4.3523151658821886e-08\n",
      "The true mean of the population is, according to our sample, significantly different from 98.6 degrees.\n"
     ]
    }
   ],
   "source": [
    "H0 = \"The true mean of the population is, according to our sample, not significantly different from 98.6 degrees.\"\n",
    "H1 = \"The true mean of the population is, according to our sample, significantly different from 98.6 degrees.\"\n",
    "\n",
    "alpha = 0.05\n",
    "\n",
    "z_score = (mean - 98.6) / (np.std(temperature)/np.sqrt(len(temperature)))\n",
    "p_value = 2 * (st.norm.cdf(z_score))\n",
    "print(\"P-value is: \" + str(p_value))\n",
    "if p_value < alpha:\n",
    "    print(H1)\n",
    "else:\n",
    "    print(H0)"
   ]
  },
  {
   "cell_type": "markdown",
   "metadata": {},
   "source": [
    "*3. In this situation, is it appropriate to use the t or z statistic?*\n",
    "> Since our sample size is above 30, I would use the z statistic. Technically, since our population standard deviation is unknown we should use the t-statistic, but when sample size is above 30 the two distributions are practically the same.\n",
    "\n",
    "*4. Now try using the other test. How is the result be different? Why?*\n",
    "> When we approximate the population standard deviation using the sample standard deviation in a t-statistic, we tend to overestimate the 95% confidence interval and increase our type II error. "
   ]
  },
  {
   "cell_type": "code",
   "execution_count": 12,
   "metadata": {},
   "outputs": [
    {
     "name": "stdout",
     "output_type": "stream",
     "text": [
      "P-value is: 2.1887464624095175e-07\n"
     ]
    }
   ],
   "source": [
    "t_score = (mean - 98.6) / (np.std(temperature)/np.sqrt(len(temperature)))\n",
    "p_value = st.t.sf(np.abs(t_score), len(temperature)-1)*2 \n",
    "print(\"P-value is: \" + str(p_value))"
   ]
  },
  {
   "cell_type": "markdown",
   "metadata": {
    "colab_type": "text",
    "id": "jmGt2vzZXZKV"
   },
   "source": [
    "**Question 4: Draw a small sample of size 10 from the data and repeat both frequentist tests.**\n",
    "\n",
    "*1. Which one is the correct one to use?*\n",
    "> Since our sample size is below 30, I would uze the t-statistic.\n",
    "\n",
    "*2. What do you notice? What does this tell you about the difference in application of the  t  and  z  statistic?*\n",
    ">When we approximate the population standard deviation using the sample standard deviation in a z-statistic, we tend to underestimate the 95% confidence interval and increase our type I error."
   ]
  },
  {
   "cell_type": "code",
   "execution_count": 13,
   "metadata": {},
   "outputs": [
    {
     "name": "stdout",
     "output_type": "stream",
     "text": [
      "P-value is: 0.00011669474424797447\n",
      "The true mean of the population is, according to our sample, significantly different from 98.6 degrees.\n"
     ]
    }
   ],
   "source": [
    "sample = temperature.sample(10)\n",
    "\n",
    "#Z-test:\n",
    "H0 = \"The true mean of the population is, according to our sample, not significantly different 98.6 degrees.\"\n",
    "H1 = \"The true mean of the population is, according to our sample, significantly different from 98.6 degrees.\"\n",
    "\n",
    "alpha = 0.05\n",
    "\n",
    "z_score = (sample.mean() - 98.6) / (sample.std()/np.sqrt(10))\n",
    "p_value = 2 * (st.norm.cdf(z_score))\n",
    "print(\"P-value is: \" + str(p_value))\n",
    "if p_value < alpha:\n",
    "    print(H1)\n",
    "else:\n",
    "    print(H0)"
   ]
  },
  {
   "cell_type": "code",
   "execution_count": 14,
   "metadata": {},
   "outputs": [
    {
     "name": "stdout",
     "output_type": "stream",
     "text": [
      "P-value is: 0.003888631559618885\n",
      "The true mean of the population is, according to our sample, significantly different from 98.6 degrees.\n"
     ]
    }
   ],
   "source": [
    "#T-test:\n",
    "t_score = (sample.mean() - 98.6) / (sample.std()/np.sqrt(10))\n",
    "p_value = st.t.sf(np.abs(t_score), 9) * 2 \n",
    "print(\"P-value is: \" + str(p_value))\n",
    "if p_value < alpha:\n",
    "    print(H1)\n",
    "else:\n",
    "    print(H0)"
   ]
  },
  {
   "cell_type": "markdown",
   "metadata": {
    "colab_type": "text",
    "id": "bs4dJB2OYb8U"
   },
   "source": [
    "**Question 5: At what temperature should we consider someone's temperature to be \"abnormal\"?**\n",
    "\n",
    "I would say that a person's temperature is abnormal when it falls out of the 95% Confidence interval of the mean body temperature.\n",
    "\n",
    "*1. As in the previous example, try calculating everything using the boostrap approach, as well as the frequentist approach.*"
   ]
  },
  {
   "cell_type": "markdown",
   "metadata": {},
   "source": [
    "\n",
    "*2. Start by computing the margin of error and confidence interval. When calculating the confidence interval, keep in mind that you should use the appropriate formula for one draw, and not N draws.*"
   ]
  },
  {
   "cell_type": "code",
   "execution_count": 15,
   "metadata": {},
   "outputs": [
    {
     "name": "stdout",
     "output_type": "stream",
     "text": [
      "98.1426943241349 98.35576721432666\n"
     ]
    }
   ],
   "source": [
    "# Frequentist approach:\n",
    "n = len(temperature)\n",
    "se = temperature.std()/np.sqrt(n)\n",
    "moe = se * st.t.ppf(0.95, n-1)\n",
    "\n",
    "ci_lower, ci_higher = (mean - moe, mean + moe)\n",
    "print(ci_lower, ci_higher)"
   ]
  },
  {
   "cell_type": "code",
   "execution_count": 16,
   "metadata": {},
   "outputs": [
    {
     "name": "stdout",
     "output_type": "stream",
     "text": [
      "98.1246153846154 98.37615384615384\n"
     ]
    }
   ],
   "source": [
    "# Bootstrap approach:\n",
    "bs_replicates = draw_bs_reps(temperature, np.mean, size = 10000)\n",
    "ci_lower, ci_higher = np.percentile(bs_replicates, 2.5), np.percentile(bs_replicates, 97.5)\n",
    "print(ci_lower, ci_higher)"
   ]
  },
  {
   "cell_type": "markdown",
   "metadata": {
    "colab_type": "text",
    "id": "6tctqLemZo6-"
   },
   "source": [
    "**Question 6: Is there a significant difference between males and females in normal temperature?**\n",
    "\n"
   ]
  },
  {
   "cell_type": "markdown",
   "metadata": {},
   "source": [
    "*1. What testing approach did you use and why?*\n",
    "\n",
    ">I used a two sample approach because this time, we are comparing the mean of two difference samples. First, I permutated the temperature data and compared the result to actual male and female temperatures. This gave us a qualitative look at the difference between the data. Then, for a more quantitative analysis, I used a bootstrap approach to generate a p-value."
   ]
  },
  {
   "cell_type": "code",
   "execution_count": 17,
   "metadata": {},
   "outputs": [],
   "source": [
    "#Splitting the data into male and female\n",
    "female = df[df['gender'] == 'F']['temperature']\n",
    "male = df[df['gender'] == 'M']['temperature']\n"
   ]
  },
  {
   "cell_type": "code",
   "execution_count": 18,
   "metadata": {},
   "outputs": [
    {
     "data": {
      "image/png": "[encoded data removed]",
      "text/plain": [
       "<Figure size 432x288 with 1 Axes>"
      ]
     },
     "metadata": {
      "needs_background": "light"
     },
     "output_type": "display_data"
    }
   ],
   "source": [
    "#ECDF\n",
    "ecdf(female, shade = 'r', lab = 'female')\n",
    "ecdf(male, lab = 'male')\n",
    "#Generatin replicates of the data\n",
    "for i in range(100):\n",
    "    perm = np.random.permutation(temperature)\n",
    "    female_perm = perm[:len(female)]\n",
    "    male_perm = perm[len(female):]\n",
    "    ecdf(female_perm, shade = 'r', al=0.01)\n",
    "    ecdf(male_perm, shade = 'b', al=0.01)\n",
    "plt.xlabel('Temperature (F)')\n",
    "plt.ylabel('Proportion')\n",
    "plt.legend(loc = 'lower right')\n",
    "plt.show()"
   ]
  },
  {
   "cell_type": "markdown",
   "metadata": {},
   "source": [
    "Judging from how the original ECDFs are touching the permutated bootstrap replicates, this might be very close and not obvious to tell graphically. To get a p-value, I generated bootstrap replicates of the difference between the two genders and looked at what is the probably that we could get a result as extreme as the one we have."
   ]
  },
  {
   "cell_type": "code",
   "execution_count": 20,
   "metadata": {},
   "outputs": [
    {
     "name": "stdout",
     "output_type": "stream",
     "text": [
      "0.0009\n",
      "Female body temperature is significantly higher than male body temperature.\n"
     ]
    }
   ],
   "source": [
    "#Bootstrap\n",
    "\n",
    "# Shift the temperature data so that its mean is 98.6 degrees. \n",
    "shifted_male = male - np.mean(male) + np.mean(female)\n",
    "\n",
    "# Write a function to calculate a sample's difference from 98.6 degrees.\n",
    "def diff_from_f(data):\n",
    "    return np.mean(data) - np.mean(female)\n",
    "                            \n",
    "# Calculate how different our sample is from 98.6.\n",
    "diff_obs = np.mean(male) - np.mean(female)\n",
    "\n",
    "# Calculate bootstrap replicates\n",
    "bs_reps = draw_bs_reps(shifted_male, diff_from_f, 10000)\n",
    "\n",
    "#Null and alternate hypothesis\n",
    "H0 = \"Male and female body temperatures are not significantly different.\"\n",
    "H1 = \"Female body temperature is significantly higher than male body temperature.\"\n",
    "alpha = 0.05\n",
    "#Calculate the p-value.\n",
    "p_value = np.sum(bs_reps <= diff_obs)/10000\n",
    "print(p_value)\n",
    "if p_value < alpha:\n",
    "    print(H1)\n",
    "else:\n",
    "    print(H0)"
   ]
  },
  {
   "cell_type": "markdown",
   "metadata": {},
   "source": [
    "*2. Write a story with your conclusion in the context of the original problem.*"
   ]
  },
  {
   "cell_type": "markdown",
   "metadata": {},
   "source": [
    "In the data, the mean of the females' body temperature is 98.39 degrees Fahrenheit, and the mean of the males' body temperature is 98.10 degrees Fahrenheit. The .29 degrees difference might suggest that females have a higher body temperature, but there's a probability that this difference is caused by mere chance. To determine whether the 65 male and 65 female participants included in the data had significantly different body temperatures, I compared the temperatures using two different methods and reached the same conclusion **that the males' and females' body temperatures are significantly different with alpha = 0.05**.\n",
    "\n",
    "In the first method, I shuffled the data, randomly re-assigned each entry to \"male\" and \"female\" labels, and compared the results to the original male and female temperature data to see whether the difference can be accounted to chance. I plotted 100 of these generated data on the same plot as the original male and female temperature data, and as you can see, the original data seems to be on the outer edge of the generated data, making it difficult to reach a conclusion with the graphical method.\n",
    "\n",
    "To further investigate the difference, I shifted the male temperature data so that both genders have the same mean body temperature, and using this shifted male data, generated 10000 more samples. I took the mean of each sample and compared it with the female sample to see what are the chances that I could get a 0.29 degree difference when both mean temperatures are actually equal. I got a p-value of 0.009, which is lower than 0.05 and means that there is a little less than a 1% chance that we could get the difference when the mean body temperature of the male and female populations are equal. \n",
    "\n",
    "This analysis would suggest that male and female body temperatures are different. However, it is entirely possible that the male and female body temperatures are actually  not different and we have a type I error. To decrease this error, perhaps we need more samples to increase the power or a smaller p-value. "
   ]
  },
  {
   "cell_type": "code",
   "execution_count": null,
   "metadata": {},
   "outputs": [],
   "source": []
  }
 ],
 "metadata": {
  "colab": {
   "collapsed_sections": [],
   "name": "sliderule_dsi_inferential_statistics_exercise_1.ipynb",
   "provenance": [],
   "version": "0.3.2"
  },
  "kernelspec": {
   "display_name": "Python 3",
   "language": "python",
   "name": "python3"
  },
  "language_info": {
   "codemirror_mode": {
    "name": "ipython",
    "version": 3
   },
   "file_extension": ".py",
   "mimetype": "text/x-python",
   "name": "python",
   "nbconvert_exporter": "python",
   "pygments_lexer": "ipython3",
   "version": "3.7.3"
  }
 },
 "nbformat": 4,
 "nbformat_minor": 1
}
