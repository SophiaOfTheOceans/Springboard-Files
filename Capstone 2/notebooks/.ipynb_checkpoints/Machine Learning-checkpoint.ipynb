{
 "cells": [
  {
   "cell_type": "markdown",
   "metadata": {},
   "source": [
    "# Model Creation"
   ]
  },
  {
   "cell_type": "markdown",
   "metadata": {},
   "source": [
    "After cleaning and getting a preliminary idea of the data, we're going to fit several models and evaluate them using the Mean Absolute Error (MAE). The models I'm going to try are:\n",
    "\n",
    "* Linear Regression\n",
    "* Ridge Regression\n",
    "* Lasso Regression\n",
    "* RandomForestRegressor\n",
    "\n",
    "For the metrics, I am using the R^2 value to evaluate how well the closely our model fits to the data, and I'm also using the mean absolute error to tell a more concrete story of how well our model is performing. \n",
    "\n",
    "Instead of mean squared error, I used mean absolute error because we have several large outliers and I don't want our metric to be skewed by the large errors that'd be generated when we try to predict them using a model meant for typical revenue. It's also more interpretable, with the error returned simple being how many dollars, on average, we're off from the actual weekly revenue."
   ]
  },
  {
   "cell_type": "code",
   "execution_count": 1,
   "metadata": {},
   "outputs": [],
   "source": [
    "#Importing necessary modules\n",
    "from sklearn.preprocessing import StandardScaler\n",
    "from sklearn.model_selection import train_test_split\n",
    "from sklearn.linear_model import LinearRegression, Ridge, Lasso\n",
    "import pandas as pd\n",
    "from statsmodels.formula.api import ols\n",
    "from sklearn.decomposition import PCA\n",
    "from sklearn.metrics import mean_absolute_error\n",
    "import matplotlib.pyplot as plt\n",
    "from sklearn.ensemble import RandomForestRegressor\n",
    "from sklearn.model_selection import cross_validate\n",
    "from sklearn.feature_selection import RFE\n",
    "import numpy as np"
   ]
  },
  {
   "cell_type": "markdown",
   "metadata": {},
   "source": [
    "## Finding the best features.\n",
    "\n",
    "First, I'm going to see whether the logged values or the exponential values perform best for each model. After finding that, I would then find the most important features for that particular model."
   ]
  },
  {
   "cell_type": "code",
   "execution_count": 2,
   "metadata": {},
   "outputs": [
    {
     "data": {
      "text/html": [
       "<div>\n",
       "<style scoped>\n",
       "    .dataframe tbody tr th:only-of-type {\n",
       "        vertical-align: middle;\n",
       "    }\n",
       "\n",
       "    .dataframe tbody tr th {\n",
       "        vertical-align: top;\n",
       "    }\n",
       "\n",
       "    .dataframe thead th {\n",
       "        text-align: right;\n",
       "    }\n",
       "</style>\n",
       "<table border=\"1\" class=\"dataframe\">\n",
       "  <thead>\n",
       "    <tr style=\"text-align: right;\">\n",
       "      <th></th>\n",
       "      <th>Store</th>\n",
       "      <th>Dept</th>\n",
       "      <th>Weekly_Sales</th>\n",
       "      <th>IsHoliday</th>\n",
       "      <th>Temperature</th>\n",
       "      <th>Fuel_Price</th>\n",
       "      <th>CPI</th>\n",
       "      <th>Unemployment</th>\n",
       "      <th>Size</th>\n",
       "      <th>Type_A</th>\n",
       "      <th>...</th>\n",
       "      <th>log_revenue</th>\n",
       "      <th>Total_MarkDown</th>\n",
       "      <th>Year</th>\n",
       "      <th>Month</th>\n",
       "      <th>Week_of_year</th>\n",
       "      <th>Day</th>\n",
       "      <th>Median_Sales</th>\n",
       "      <th>IsThanksgiving</th>\n",
       "      <th>IsChristmas</th>\n",
       "      <th>IsDept72</th>\n",
       "    </tr>\n",
       "  </thead>\n",
       "  <tbody>\n",
       "    <tr>\n",
       "      <th>0</th>\n",
       "      <td>26</td>\n",
       "      <td>92</td>\n",
       "      <td>87235.57</td>\n",
       "      <td>False</td>\n",
       "      <td>61.10</td>\n",
       "      <td>3.796</td>\n",
       "      <td>136.213613</td>\n",
       "      <td>7.767</td>\n",
       "      <td>152513</td>\n",
       "      <td>1</td>\n",
       "      <td>...</td>\n",
       "      <td>11.431992</td>\n",
       "      <td>0.0</td>\n",
       "      <td>2011</td>\n",
       "      <td>8</td>\n",
       "      <td>34</td>\n",
       "      <td>26</td>\n",
       "      <td>80340.795</td>\n",
       "      <td>False</td>\n",
       "      <td>False</td>\n",
       "      <td>False</td>\n",
       "    </tr>\n",
       "    <tr>\n",
       "      <th>1</th>\n",
       "      <td>26</td>\n",
       "      <td>92</td>\n",
       "      <td>80254.53</td>\n",
       "      <td>False</td>\n",
       "      <td>50.72</td>\n",
       "      <td>3.758</td>\n",
       "      <td>136.367000</td>\n",
       "      <td>7.767</td>\n",
       "      <td>152513</td>\n",
       "      <td>1</td>\n",
       "      <td>...</td>\n",
       "      <td>11.353279</td>\n",
       "      <td>0.0</td>\n",
       "      <td>2011</td>\n",
       "      <td>9</td>\n",
       "      <td>38</td>\n",
       "      <td>23</td>\n",
       "      <td>80340.795</td>\n",
       "      <td>False</td>\n",
       "      <td>False</td>\n",
       "      <td>False</td>\n",
       "    </tr>\n",
       "    <tr>\n",
       "      <th>2</th>\n",
       "      <td>26</td>\n",
       "      <td>92</td>\n",
       "      <td>77715.58</td>\n",
       "      <td>False</td>\n",
       "      <td>56.74</td>\n",
       "      <td>4.034</td>\n",
       "      <td>134.767774</td>\n",
       "      <td>7.818</td>\n",
       "      <td>152513</td>\n",
       "      <td>1</td>\n",
       "      <td>...</td>\n",
       "      <td>11.323042</td>\n",
       "      <td>0.0</td>\n",
       "      <td>2011</td>\n",
       "      <td>5</td>\n",
       "      <td>21</td>\n",
       "      <td>27</td>\n",
       "      <td>80340.795</td>\n",
       "      <td>False</td>\n",
       "      <td>False</td>\n",
       "      <td>False</td>\n",
       "    </tr>\n",
       "    <tr>\n",
       "      <th>3</th>\n",
       "      <td>26</td>\n",
       "      <td>92</td>\n",
       "      <td>83599.56</td>\n",
       "      <td>False</td>\n",
       "      <td>59.89</td>\n",
       "      <td>3.815</td>\n",
       "      <td>135.446800</td>\n",
       "      <td>7.767</td>\n",
       "      <td>152513</td>\n",
       "      <td>1</td>\n",
       "      <td>...</td>\n",
       "      <td>11.391769</td>\n",
       "      <td>0.0</td>\n",
       "      <td>2011</td>\n",
       "      <td>7</td>\n",
       "      <td>26</td>\n",
       "      <td>1</td>\n",
       "      <td>80340.795</td>\n",
       "      <td>False</td>\n",
       "      <td>False</td>\n",
       "      <td>False</td>\n",
       "    </tr>\n",
       "    <tr>\n",
       "      <th>4</th>\n",
       "      <td>26</td>\n",
       "      <td>92</td>\n",
       "      <td>77876.10</td>\n",
       "      <td>False</td>\n",
       "      <td>33.81</td>\n",
       "      <td>3.919</td>\n",
       "      <td>134.357100</td>\n",
       "      <td>7.818</td>\n",
       "      <td>152513</td>\n",
       "      <td>1</td>\n",
       "      <td>...</td>\n",
       "      <td>11.324981</td>\n",
       "      <td>0.0</td>\n",
       "      <td>2011</td>\n",
       "      <td>4</td>\n",
       "      <td>16</td>\n",
       "      <td>22</td>\n",
       "      <td>80340.795</td>\n",
       "      <td>False</td>\n",
       "      <td>False</td>\n",
       "      <td>False</td>\n",
       "    </tr>\n",
       "  </tbody>\n",
       "</table>\n",
       "<p>5 rows × 21 columns</p>\n",
       "</div>"
      ],
      "text/plain": [
       "   Store  Dept  Weekly_Sales  IsHoliday  Temperature  Fuel_Price         CPI  \\\n",
       "0     26    92      87235.57      False        61.10       3.796  136.213613   \n",
       "1     26    92      80254.53      False        50.72       3.758  136.367000   \n",
       "2     26    92      77715.58      False        56.74       4.034  134.767774   \n",
       "3     26    92      83599.56      False        59.89       3.815  135.446800   \n",
       "4     26    92      77876.10      False        33.81       3.919  134.357100   \n",
       "\n",
       "   Unemployment    Size  Type_A  ...  log_revenue  Total_MarkDown  Year  \\\n",
       "0         7.767  152513       1  ...    11.431992             0.0  2011   \n",
       "1         7.767  152513       1  ...    11.353279             0.0  2011   \n",
       "2         7.818  152513       1  ...    11.323042             0.0  2011   \n",
       "3         7.767  152513       1  ...    11.391769             0.0  2011   \n",
       "4         7.818  152513       1  ...    11.324981             0.0  2011   \n",
       "\n",
       "   Month  Week_of_year  Day  Median_Sales  IsThanksgiving  IsChristmas  \\\n",
       "0      8            34   26     80340.795           False        False   \n",
       "1      9            38   23     80340.795           False        False   \n",
       "2      5            21   27     80340.795           False        False   \n",
       "3      7            26    1     80340.795           False        False   \n",
       "4      4            16   22     80340.795           False        False   \n",
       "\n",
       "   IsDept72  \n",
       "0     False  \n",
       "1     False  \n",
       "2     False  \n",
       "3     False  \n",
       "4     False  \n",
       "\n",
       "[5 rows x 21 columns]"
      ]
     },
     "execution_count": 2,
     "metadata": {},
     "output_type": "execute_result"
    }
   ],
   "source": [
    "#Reading in the original test data\n",
    "df = pd.read_csv(r'C:\\Users\\songs\\Desktop\\Springboard Files\\Capstone 2\\data\\Interim\\train_all_features.csv', index_col=0)\n",
    "df.head()"
   ]
  },
  {
   "cell_type": "markdown",
   "metadata": {},
   "source": [
    "### Determining whether to use logged or unlogged values"
   ]
  },
  {
   "cell_type": "code",
   "execution_count": 3,
   "metadata": {},
   "outputs": [],
   "source": [
    "linear = LinearRegression()\n",
    "rf = RandomForestRegressor()\n",
    "\n",
    "#Creating Features and Target\n",
    "X = df.drop(['Weekly_Sales','log_revenue'], axis=1).values\n",
    "y_log = df['log_revenue'].values\n",
    "y_not = df['Weekly_Sales'].values\n",
    "\n",
    "#Function for creating training and testing dataset\n",
    "def mean_abs_error(y,model):\n",
    "    X_train, X_test, y_train, y_test = train_test_split(X, y, test_size=0.3)\n",
    "    model.fit(X_train, y_train)\n",
    "    y_pred = model.predict(X_test)\n",
    "    if (y == y_log).all():\n",
    "        y_pred = np.exp(y_pred) - 4989.94\n",
    "        y_true = np.exp(y_test)\n",
    "    else:\n",
    "        y_true = y_test\n",
    "    return mean_absolute_error(y_true, y_pred)"
   ]
  },
  {
   "cell_type": "code",
   "execution_count": 4,
   "metadata": {},
   "outputs": [
    {
     "name": "stdout",
     "output_type": "stream",
     "text": [
      "The mean absolute error calculated using the logged values is 15815.77\n",
      "The mean absolute error calculated using the original values is 2585.23\n"
     ]
    }
   ],
   "source": [
    "#Linear\n",
    "print(\"The mean absolute error calculated using the logged values is \" + str(round(mean_abs_error(y_log,linear),2)))\n",
    "print(\"The mean absolute error calculated using the original values is \" + str(round(mean_abs_error(y_not,linear),2)))"
   ]
  },
  {
   "cell_type": "code",
   "execution_count": 5,
   "metadata": {},
   "outputs": [
    {
     "name": "stderr",
     "output_type": "stream",
     "text": [
      "C:\\Users\\songs\\Anaconda3\\lib\\site-packages\\sklearn\\ensemble\\forest.py:245: FutureWarning: The default value of n_estimators will change from 10 in version 0.20 to 100 in 0.22.\n",
      "  \"10 in version 0.20 to 100 in 0.22.\", FutureWarning)\n"
     ]
    },
    {
     "name": "stdout",
     "output_type": "stream",
     "text": [
      "The mean absolute error calculated using the logged values is 5454.67\n",
      "The mean absolute error calculated using the original values is 1825.17\n"
     ]
    }
   ],
   "source": [
    "#RandomForestRegressor\n",
    "print(\"The mean absolute error calculated using the logged values is \" + str(round(mean_abs_error(y_log,rf),2)))\n",
    "print(\"The mean absolute error calculated using the original values is \" + str(round(mean_abs_error(y_not,rf),2)))"
   ]
  },
  {
   "cell_type": "markdown",
   "metadata": {},
   "source": [
    "In both cases, it appears that we should use the original values.\n",
    "\n",
    "### RFE feature selector for Linear Regression model"
   ]
  },
  {
   "cell_type": "code",
   "execution_count": 6,
   "metadata": {},
   "outputs": [],
   "source": [
    "#Train Test Split\n",
    "X_train, X_test, y_train, y_test = train_test_split(X, y_not, test_size=0.3)"
   ]
  },
  {
   "cell_type": "code",
   "execution_count": 8,
   "metadata": {},
   "outputs": [
    {
     "name": "stdout",
     "output_type": "stream",
     "text": [
      "1\n",
      "2\n",
      "3\n",
      "4\n",
      "5\n",
      "6\n",
      "7\n",
      "8\n",
      "9\n",
      "10\n",
      "11\n",
      "12\n",
      "13\n",
      "14\n",
      "15\n",
      "16\n",
      "17\n",
      "18\n"
     ]
    },
    {
     "data": {
      "text/plain": [
       "(17, 2563.51)"
      ]
     },
     "execution_count": 8,
     "metadata": {},
     "output_type": "execute_result"
    }
   ],
   "source": [
    "def feature_selector(model):\n",
    "    #Optimal number of features\n",
    "    number_of_features = len(df.drop(['Weekly_Sales','log_revenue'], axis=1).columns)\n",
    "    options_for_features = np.arange(1,number_of_features)\n",
    "    low_score = 4000 #A number we're certainly going to be lower than\n",
    "    nof = 0\n",
    "    #Fitting model\n",
    "    for n in range(len(options_for_features)):\n",
    "        #Creating model\n",
    "        rfe = RFE(model,options_for_features[n])\n",
    "        X_train_rfe = rfe.fit_transform(X_train,y_train)\n",
    "        X_test_rfe = rfe.transform(X_test)\n",
    "        #Fitting model\n",
    "        model.fit(X_train_rfe,y_train)\n",
    "        y_pred = model.predict(X_test_rfe)\n",
    "        score = mean_absolute_error(y_test, y_pred)\n",
    "        if(score<low_score):\n",
    "            low_score = score\n",
    "            nof = options_for_features[n]\n",
    "        print(options_for_features[n])\n",
    "    return nof, round(low_score,2)\n",
    "\n",
    "feature_selector(linear)"
   ]
  },
  {
   "cell_type": "code",
   "execution_count": 10,
   "metadata": {},
   "outputs": [
    {
     "name": "stdout",
     "output_type": "stream",
     "text": [
      "['Store', 'Dept', 'IsHoliday', 'Temperature', 'Fuel_Price', 'CPI', 'Unemployment', 'Type_A', 'Type_C', 'Year', 'Month', 'Week_of_year', 'Day', 'Median_Sales', 'IsThanksgiving', 'IsChristmas', 'IsDept72']\n"
     ]
    }
   ],
   "source": [
    "#Initializing RFE model\n",
    "rfe_linear = RFE(linear, 17)\n",
    "\n",
    "#Transforming data using RFE\n",
    "X_rfe = rfe_linear.fit_transform(X_train,y_train)\n",
    "\n",
    "#Fitting the data to model\n",
    "linear.fit(X_rfe,y_train)\n",
    "\n",
    "#Visualizing which ones are most important\n",
    "cols = list(df.drop(['Weekly_Sales','log_revenue'],axis=1).columns)\n",
    "\n",
    "temp = pd.Series(rfe_linear.support_,index = cols)\n",
    "selected_features_rfe_linear = list(temp[temp==True].index)\n",
    "print(selected_features_rfe_linear)"
   ]
  },
  {
   "cell_type": "markdown",
   "metadata": {},
   "source": [
    "## Standardizing the data and finding PCA\n",
    "\n",
    "### Standardization"
   ]
  },
  {
   "cell_type": "code",
   "execution_count": 11,
   "metadata": {},
   "outputs": [
    {
     "data": {
      "text/html": [
       "<div>\n",
       "<style scoped>\n",
       "    .dataframe tbody tr th:only-of-type {\n",
       "        vertical-align: middle;\n",
       "    }\n",
       "\n",
       "    .dataframe tbody tr th {\n",
       "        vertical-align: top;\n",
       "    }\n",
       "\n",
       "    .dataframe thead th {\n",
       "        text-align: right;\n",
       "    }\n",
       "</style>\n",
       "<table border=\"1\" class=\"dataframe\">\n",
       "  <thead>\n",
       "    <tr style=\"text-align: right;\">\n",
       "      <th></th>\n",
       "      <th>Store</th>\n",
       "      <th>Dept</th>\n",
       "      <th>IsHoliday</th>\n",
       "      <th>Temperature</th>\n",
       "      <th>Fuel_Price</th>\n",
       "      <th>CPI</th>\n",
       "      <th>Unemployment</th>\n",
       "      <th>Type_A</th>\n",
       "      <th>Type_C</th>\n",
       "      <th>Year</th>\n",
       "      <th>Month</th>\n",
       "      <th>Week_of_year</th>\n",
       "      <th>Day</th>\n",
       "      <th>Median_Sales</th>\n",
       "      <th>IsThanksgiving</th>\n",
       "      <th>IsChristmas</th>\n",
       "      <th>IsDept72</th>\n",
       "      <th>Weekly_Sales</th>\n",
       "    </tr>\n",
       "  </thead>\n",
       "  <tbody>\n",
       "    <tr>\n",
       "      <th>0</th>\n",
       "      <td>0.297826</td>\n",
       "      <td>1.564202</td>\n",
       "      <td>-0.274706</td>\n",
       "      <td>0.053474</td>\n",
       "      <td>0.950059</td>\n",
       "      <td>-0.893608</td>\n",
       "      <td>-0.107640</td>\n",
       "      <td>0.976671</td>\n",
       "      <td>-0.334865</td>\n",
       "      <td>0.042076</td>\n",
       "      <td>0.477757</td>\n",
       "      <td>0.577424</td>\n",
       "      <td>1.180835</td>\n",
       "      <td>3.075362</td>\n",
       "      <td>-0.118986</td>\n",
       "      <td>-0.119551</td>\n",
       "      <td>-0.120552</td>\n",
       "      <td>87235.57</td>\n",
       "    </tr>\n",
       "    <tr>\n",
       "      <th>1</th>\n",
       "      <td>0.297826</td>\n",
       "      <td>1.564202</td>\n",
       "      <td>-0.274706</td>\n",
       "      <td>-0.509236</td>\n",
       "      <td>0.867199</td>\n",
       "      <td>-0.889692</td>\n",
       "      <td>-0.107640</td>\n",
       "      <td>0.976671</td>\n",
       "      <td>-0.334865</td>\n",
       "      <td>0.042076</td>\n",
       "      <td>0.786223</td>\n",
       "      <td>0.860237</td>\n",
       "      <td>0.837896</td>\n",
       "      <td>3.075362</td>\n",
       "      <td>-0.118986</td>\n",
       "      <td>-0.119551</td>\n",
       "      <td>-0.120552</td>\n",
       "      <td>80254.53</td>\n",
       "    </tr>\n",
       "    <tr>\n",
       "      <th>2</th>\n",
       "      <td>0.297826</td>\n",
       "      <td>1.564202</td>\n",
       "      <td>-0.274706</td>\n",
       "      <td>-0.182886</td>\n",
       "      <td>1.469028</td>\n",
       "      <td>-0.930529</td>\n",
       "      <td>-0.080339</td>\n",
       "      <td>0.976671</td>\n",
       "      <td>-0.334865</td>\n",
       "      <td>0.042076</td>\n",
       "      <td>-0.447643</td>\n",
       "      <td>-0.341719</td>\n",
       "      <td>1.295148</td>\n",
       "      <td>3.075362</td>\n",
       "      <td>-0.118986</td>\n",
       "      <td>-0.119551</td>\n",
       "      <td>-0.120552</td>\n",
       "      <td>77715.58</td>\n",
       "    </tr>\n",
       "    <tr>\n",
       "      <th>3</th>\n",
       "      <td>0.297826</td>\n",
       "      <td>1.564202</td>\n",
       "      <td>-0.274706</td>\n",
       "      <td>-0.012121</td>\n",
       "      <td>0.991490</td>\n",
       "      <td>-0.913190</td>\n",
       "      <td>-0.107640</td>\n",
       "      <td>0.976671</td>\n",
       "      <td>-0.334865</td>\n",
       "      <td>0.042076</td>\n",
       "      <td>0.169290</td>\n",
       "      <td>0.011797</td>\n",
       "      <td>-1.676986</td>\n",
       "      <td>3.075362</td>\n",
       "      <td>-0.118986</td>\n",
       "      <td>-0.119551</td>\n",
       "      <td>-0.120552</td>\n",
       "      <td>83599.56</td>\n",
       "    </tr>\n",
       "    <tr>\n",
       "      <th>4</th>\n",
       "      <td>0.297826</td>\n",
       "      <td>1.564202</td>\n",
       "      <td>-0.274706</td>\n",
       "      <td>-1.425942</td>\n",
       "      <td>1.218266</td>\n",
       "      <td>-0.941016</td>\n",
       "      <td>-0.080339</td>\n",
       "      <td>0.976671</td>\n",
       "      <td>-0.334865</td>\n",
       "      <td>0.042076</td>\n",
       "      <td>-0.756109</td>\n",
       "      <td>-0.695236</td>\n",
       "      <td>0.723584</td>\n",
       "      <td>3.075362</td>\n",
       "      <td>-0.118986</td>\n",
       "      <td>-0.119551</td>\n",
       "      <td>-0.120552</td>\n",
       "      <td>77876.10</td>\n",
       "    </tr>\n",
       "  </tbody>\n",
       "</table>\n",
       "</div>"
      ],
      "text/plain": [
       "      Store      Dept  IsHoliday  Temperature  Fuel_Price       CPI  \\\n",
       "0  0.297826  1.564202  -0.274706     0.053474    0.950059 -0.893608   \n",
       "1  0.297826  1.564202  -0.274706    -0.509236    0.867199 -0.889692   \n",
       "2  0.297826  1.564202  -0.274706    -0.182886    1.469028 -0.930529   \n",
       "3  0.297826  1.564202  -0.274706    -0.012121    0.991490 -0.913190   \n",
       "4  0.297826  1.564202  -0.274706    -1.425942    1.218266 -0.941016   \n",
       "\n",
       "   Unemployment    Type_A    Type_C      Year     Month  Week_of_year  \\\n",
       "0     -0.107640  0.976671 -0.334865  0.042076  0.477757      0.577424   \n",
       "1     -0.107640  0.976671 -0.334865  0.042076  0.786223      0.860237   \n",
       "2     -0.080339  0.976671 -0.334865  0.042076 -0.447643     -0.341719   \n",
       "3     -0.107640  0.976671 -0.334865  0.042076  0.169290      0.011797   \n",
       "4     -0.080339  0.976671 -0.334865  0.042076 -0.756109     -0.695236   \n",
       "\n",
       "        Day  Median_Sales  IsThanksgiving  IsChristmas  IsDept72  Weekly_Sales  \n",
       "0  1.180835      3.075362       -0.118986    -0.119551 -0.120552      87235.57  \n",
       "1  0.837896      3.075362       -0.118986    -0.119551 -0.120552      80254.53  \n",
       "2  1.295148      3.075362       -0.118986    -0.119551 -0.120552      77715.58  \n",
       "3 -1.676986      3.075362       -0.118986    -0.119551 -0.120552      83599.56  \n",
       "4  0.723584      3.075362       -0.118986    -0.119551 -0.120552      77876.10  "
      ]
     },
     "execution_count": 11,
     "metadata": {},
     "output_type": "execute_result"
    }
   ],
   "source": [
    "#Creating separate dataframes for linear and randomforest\n",
    "df_linear = df[selected_features_rfe_linear]\n",
    "\n",
    "#Standardizing the data\n",
    "scaler = StandardScaler()\n",
    "df_linear_revenue = df_linear.join(df['Weekly_Sales'], how='outer')\n",
    "df_linear_revenue.to_csv(r'C:\\Users\\songs\\Desktop\\Springboard Files\\Capstone 2\\data\\Interim\\original_train_linear.csv')\n",
    "\n",
    "scaled_df_linear = scaler.fit_transform(df_linear)\n",
    "scaled_df_linear = pd.DataFrame(scaled_df_linear)\n",
    "scaled_df_linear = scaled_df_linear.join(df['Weekly_Sales'], how='outer')\n",
    "scaled_df_linear.columns = df_linear_revenue.columns\n",
    "\n",
    "#Saving the data\n",
    "scaled_df_linear.to_csv(r'C:\\Users\\songs\\Desktop\\Springboard Files\\Capstone 2\\data\\Interim\\scaled_train_linear.csv')\n",
    "scaled_df_linear.head()"
   ]
  },
  {
   "cell_type": "code",
   "execution_count": 15,
   "metadata": {},
   "outputs": [
    {
     "data": {
      "text/html": [
       "<div>\n",
       "<style scoped>\n",
       "    .dataframe tbody tr th:only-of-type {\n",
       "        vertical-align: middle;\n",
       "    }\n",
       "\n",
       "    .dataframe tbody tr th {\n",
       "        vertical-align: top;\n",
       "    }\n",
       "\n",
       "    .dataframe thead th {\n",
       "        text-align: right;\n",
       "    }\n",
       "</style>\n",
       "<table border=\"1\" class=\"dataframe\">\n",
       "  <thead>\n",
       "    <tr style=\"text-align: right;\">\n",
       "      <th></th>\n",
       "      <th>Store</th>\n",
       "      <th>Dept</th>\n",
       "      <th>IsHoliday</th>\n",
       "      <th>Temperature</th>\n",
       "      <th>Fuel_Price</th>\n",
       "      <th>CPI</th>\n",
       "      <th>Unemployment</th>\n",
       "      <th>Size</th>\n",
       "      <th>Type_A</th>\n",
       "      <th>Type_C</th>\n",
       "      <th>Total_MarkDown</th>\n",
       "      <th>Year</th>\n",
       "      <th>Month</th>\n",
       "      <th>Week_of_year</th>\n",
       "      <th>Day</th>\n",
       "      <th>Median_Sales</th>\n",
       "      <th>IsThanksgiving</th>\n",
       "      <th>IsChristmas</th>\n",
       "      <th>IsDept72</th>\n",
       "      <th>Weekly_Sales</th>\n",
       "    </tr>\n",
       "  </thead>\n",
       "  <tbody>\n",
       "    <tr>\n",
       "      <th>0</th>\n",
       "      <td>0.297826</td>\n",
       "      <td>1.564202</td>\n",
       "      <td>-0.274706</td>\n",
       "      <td>0.053474</td>\n",
       "      <td>0.950059</td>\n",
       "      <td>-0.893608</td>\n",
       "      <td>-0.107640</td>\n",
       "      <td>0.258731</td>\n",
       "      <td>0.976671</td>\n",
       "      <td>-0.334865</td>\n",
       "      <td>-0.452199</td>\n",
       "      <td>0.042076</td>\n",
       "      <td>0.477757</td>\n",
       "      <td>0.577424</td>\n",
       "      <td>1.180835</td>\n",
       "      <td>3.075362</td>\n",
       "      <td>-0.118986</td>\n",
       "      <td>-0.119551</td>\n",
       "      <td>-0.120552</td>\n",
       "      <td>87235.57</td>\n",
       "    </tr>\n",
       "    <tr>\n",
       "      <th>1</th>\n",
       "      <td>0.297826</td>\n",
       "      <td>1.564202</td>\n",
       "      <td>-0.274706</td>\n",
       "      <td>-0.509236</td>\n",
       "      <td>0.867199</td>\n",
       "      <td>-0.889692</td>\n",
       "      <td>-0.107640</td>\n",
       "      <td>0.258731</td>\n",
       "      <td>0.976671</td>\n",
       "      <td>-0.334865</td>\n",
       "      <td>-0.452199</td>\n",
       "      <td>0.042076</td>\n",
       "      <td>0.786223</td>\n",
       "      <td>0.860237</td>\n",
       "      <td>0.837896</td>\n",
       "      <td>3.075362</td>\n",
       "      <td>-0.118986</td>\n",
       "      <td>-0.119551</td>\n",
       "      <td>-0.120552</td>\n",
       "      <td>80254.53</td>\n",
       "    </tr>\n",
       "    <tr>\n",
       "      <th>2</th>\n",
       "      <td>0.297826</td>\n",
       "      <td>1.564202</td>\n",
       "      <td>-0.274706</td>\n",
       "      <td>-0.182886</td>\n",
       "      <td>1.469028</td>\n",
       "      <td>-0.930529</td>\n",
       "      <td>-0.080339</td>\n",
       "      <td>0.258731</td>\n",
       "      <td>0.976671</td>\n",
       "      <td>-0.334865</td>\n",
       "      <td>-0.452199</td>\n",
       "      <td>0.042076</td>\n",
       "      <td>-0.447643</td>\n",
       "      <td>-0.341719</td>\n",
       "      <td>1.295148</td>\n",
       "      <td>3.075362</td>\n",
       "      <td>-0.118986</td>\n",
       "      <td>-0.119551</td>\n",
       "      <td>-0.120552</td>\n",
       "      <td>77715.58</td>\n",
       "    </tr>\n",
       "    <tr>\n",
       "      <th>3</th>\n",
       "      <td>0.297826</td>\n",
       "      <td>1.564202</td>\n",
       "      <td>-0.274706</td>\n",
       "      <td>-0.012121</td>\n",
       "      <td>0.991490</td>\n",
       "      <td>-0.913190</td>\n",
       "      <td>-0.107640</td>\n",
       "      <td>0.258731</td>\n",
       "      <td>0.976671</td>\n",
       "      <td>-0.334865</td>\n",
       "      <td>-0.452199</td>\n",
       "      <td>0.042076</td>\n",
       "      <td>0.169290</td>\n",
       "      <td>0.011797</td>\n",
       "      <td>-1.676986</td>\n",
       "      <td>3.075362</td>\n",
       "      <td>-0.118986</td>\n",
       "      <td>-0.119551</td>\n",
       "      <td>-0.120552</td>\n",
       "      <td>83599.56</td>\n",
       "    </tr>\n",
       "    <tr>\n",
       "      <th>4</th>\n",
       "      <td>0.297826</td>\n",
       "      <td>1.564202</td>\n",
       "      <td>-0.274706</td>\n",
       "      <td>-1.425942</td>\n",
       "      <td>1.218266</td>\n",
       "      <td>-0.941016</td>\n",
       "      <td>-0.080339</td>\n",
       "      <td>0.258731</td>\n",
       "      <td>0.976671</td>\n",
       "      <td>-0.334865</td>\n",
       "      <td>-0.452199</td>\n",
       "      <td>0.042076</td>\n",
       "      <td>-0.756109</td>\n",
       "      <td>-0.695236</td>\n",
       "      <td>0.723584</td>\n",
       "      <td>3.075362</td>\n",
       "      <td>-0.118986</td>\n",
       "      <td>-0.119551</td>\n",
       "      <td>-0.120552</td>\n",
       "      <td>77876.10</td>\n",
       "    </tr>\n",
       "  </tbody>\n",
       "</table>\n",
       "</div>"
      ],
      "text/plain": [
       "      Store      Dept  IsHoliday  Temperature  Fuel_Price       CPI  \\\n",
       "0  0.297826  1.564202  -0.274706     0.053474    0.950059 -0.893608   \n",
       "1  0.297826  1.564202  -0.274706    -0.509236    0.867199 -0.889692   \n",
       "2  0.297826  1.564202  -0.274706    -0.182886    1.469028 -0.930529   \n",
       "3  0.297826  1.564202  -0.274706    -0.012121    0.991490 -0.913190   \n",
       "4  0.297826  1.564202  -0.274706    -1.425942    1.218266 -0.941016   \n",
       "\n",
       "   Unemployment      Size    Type_A    Type_C  Total_MarkDown      Year  \\\n",
       "0     -0.107640  0.258731  0.976671 -0.334865       -0.452199  0.042076   \n",
       "1     -0.107640  0.258731  0.976671 -0.334865       -0.452199  0.042076   \n",
       "2     -0.080339  0.258731  0.976671 -0.334865       -0.452199  0.042076   \n",
       "3     -0.107640  0.258731  0.976671 -0.334865       -0.452199  0.042076   \n",
       "4     -0.080339  0.258731  0.976671 -0.334865       -0.452199  0.042076   \n",
       "\n",
       "      Month  Week_of_year       Day  Median_Sales  IsThanksgiving  \\\n",
       "0  0.477757      0.577424  1.180835      3.075362       -0.118986   \n",
       "1  0.786223      0.860237  0.837896      3.075362       -0.118986   \n",
       "2 -0.447643     -0.341719  1.295148      3.075362       -0.118986   \n",
       "3  0.169290      0.011797 -1.676986      3.075362       -0.118986   \n",
       "4 -0.756109     -0.695236  0.723584      3.075362       -0.118986   \n",
       "\n",
       "   IsChristmas  IsDept72  Weekly_Sales  \n",
       "0    -0.119551 -0.120552      87235.57  \n",
       "1    -0.119551 -0.120552      80254.53  \n",
       "2    -0.119551 -0.120552      77715.58  \n",
       "3    -0.119551 -0.120552      83599.56  \n",
       "4    -0.119551 -0.120552      77876.10  "
      ]
     },
     "execution_count": 15,
     "metadata": {},
     "output_type": "execute_result"
    }
   ],
   "source": [
    "#Standardizing the data\n",
    "scaler = StandardScaler()\n",
    "\n",
    "scaled_df = scaler.fit_transform(df.drop(['Weekly_Sales','log_revenue'],axis=1))\n",
    "scaled_df = pd.DataFrame(scaled_df)\n",
    "scaled_df.columns = df.drop(['Weekly_Sales','log_revenue'],axis=1).columns\n",
    "scaled_df = scaled_df.join(df['Weekly_Sales'], how='outer')\n",
    "\n",
    "#Saving the data\n",
    "scaled_df.to_csv(r'C:\\Users\\songs\\Desktop\\Springboard Files\\Capstone 2\\data\\Interim\\scaled_train.csv')\n",
    "scaled_df.head()"
   ]
  },
  {
   "cell_type": "markdown",
   "metadata": {},
   "source": [
    "### PCA"
   ]
  },
  {
   "cell_type": "code",
   "execution_count": 18,
   "metadata": {},
   "outputs": [
    {
     "data": {
      "image/png": "[encoded data removed]",
      "text/plain": [
       "<Figure size 1440x720 with 1 Axes>"
      ]
     },
     "metadata": {
      "needs_background": "light"
     },
     "output_type": "display_data"
    }
   ],
   "source": [
    "pca = PCA()\n",
    "pca.fit(scaled_df_linear.drop('Weekly_Sales',axis=1))\n",
    "\n",
    "#Graphing the data\n",
    "plt.figure(figsize=(20,10))\n",
    "\n",
    "plt.plot(np.cumsum(pca.explained_variance_ratio_))\n",
    "plt.title('Visualization of feature variances')\n",
    "plt.xlabel('PCA feature')\n",
    "plt.ylabel('Cumulative explaned variance')\n",
    "plt.show()"
   ]
  },
  {
   "cell_type": "code",
   "execution_count": 19,
   "metadata": {},
   "outputs": [
    {
     "data": {
      "text/html": [
       "<div>\n",
       "<style scoped>\n",
       "    .dataframe tbody tr th:only-of-type {\n",
       "        vertical-align: middle;\n",
       "    }\n",
       "\n",
       "    .dataframe tbody tr th {\n",
       "        vertical-align: top;\n",
       "    }\n",
       "\n",
       "    .dataframe thead th {\n",
       "        text-align: right;\n",
       "    }\n",
       "</style>\n",
       "<table border=\"1\" class=\"dataframe\">\n",
       "  <thead>\n",
       "    <tr style=\"text-align: right;\">\n",
       "      <th></th>\n",
       "      <th>0</th>\n",
       "      <th>1</th>\n",
       "      <th>2</th>\n",
       "      <th>3</th>\n",
       "      <th>4</th>\n",
       "      <th>5</th>\n",
       "      <th>6</th>\n",
       "      <th>7</th>\n",
       "      <th>8</th>\n",
       "      <th>9</th>\n",
       "      <th>10</th>\n",
       "      <th>11</th>\n",
       "      <th>12</th>\n",
       "      <th>13</th>\n",
       "      <th>14</th>\n",
       "      <th>15</th>\n",
       "      <th>16</th>\n",
       "      <th>Weekly_Sales</th>\n",
       "    </tr>\n",
       "  </thead>\n",
       "  <tbody>\n",
       "    <tr>\n",
       "      <th>0</th>\n",
       "      <td>0.314453</td>\n",
       "      <td>-0.910735</td>\n",
       "      <td>-0.763669</td>\n",
       "      <td>0.202073</td>\n",
       "      <td>3.169432</td>\n",
       "      <td>-0.255155</td>\n",
       "      <td>-0.499047</td>\n",
       "      <td>-0.911806</td>\n",
       "      <td>-0.435344</td>\n",
       "      <td>-1.006070</td>\n",
       "      <td>-0.636611</td>\n",
       "      <td>1.502592</td>\n",
       "      <td>0.055922</td>\n",
       "      <td>0.138686</td>\n",
       "      <td>0.223703</td>\n",
       "      <td>-0.413285</td>\n",
       "      <td>-0.000376</td>\n",
       "      <td>87235.57</td>\n",
       "    </tr>\n",
       "    <tr>\n",
       "      <th>1</th>\n",
       "      <td>0.573722</td>\n",
       "      <td>-0.922032</td>\n",
       "      <td>-0.659698</td>\n",
       "      <td>0.223087</td>\n",
       "      <td>3.188966</td>\n",
       "      <td>-0.416823</td>\n",
       "      <td>-0.375338</td>\n",
       "      <td>-0.375925</td>\n",
       "      <td>-0.551091</td>\n",
       "      <td>-1.019872</td>\n",
       "      <td>-0.827418</td>\n",
       "      <td>1.553698</td>\n",
       "      <td>-0.298002</td>\n",
       "      <td>-0.005244</td>\n",
       "      <td>0.313156</td>\n",
       "      <td>-0.367669</td>\n",
       "      <td>0.002362</td>\n",
       "      <td>80254.53</td>\n",
       "    </tr>\n",
       "    <tr>\n",
       "      <th>2</th>\n",
       "      <td>-0.825579</td>\n",
       "      <td>-0.776800</td>\n",
       "      <td>-0.435613</td>\n",
       "      <td>0.744393</td>\n",
       "      <td>3.187385</td>\n",
       "      <td>-0.197947</td>\n",
       "      <td>-0.554300</td>\n",
       "      <td>-1.171277</td>\n",
       "      <td>-0.358429</td>\n",
       "      <td>-1.001140</td>\n",
       "      <td>-0.495013</td>\n",
       "      <td>1.475658</td>\n",
       "      <td>0.109089</td>\n",
       "      <td>0.135441</td>\n",
       "      <td>0.086524</td>\n",
       "      <td>-0.860347</td>\n",
       "      <td>-0.002932</td>\n",
       "      <td>77715.58</td>\n",
       "    </tr>\n",
       "    <tr>\n",
       "      <th>3</th>\n",
       "      <td>-0.509954</td>\n",
       "      <td>-0.779483</td>\n",
       "      <td>-0.365484</td>\n",
       "      <td>-0.270296</td>\n",
       "      <td>3.193785</td>\n",
       "      <td>-0.460613</td>\n",
       "      <td>0.747654</td>\n",
       "      <td>0.903013</td>\n",
       "      <td>-1.272506</td>\n",
       "      <td>-0.788306</td>\n",
       "      <td>0.537209</td>\n",
       "      <td>1.410308</td>\n",
       "      <td>0.139808</td>\n",
       "      <td>0.065518</td>\n",
       "      <td>-0.459940</td>\n",
       "      <td>-0.484269</td>\n",
       "      <td>-0.003191</td>\n",
       "      <td>83599.56</td>\n",
       "    </tr>\n",
       "    <tr>\n",
       "      <th>4</th>\n",
       "      <td>-1.300318</td>\n",
       "      <td>-0.661037</td>\n",
       "      <td>0.405473</td>\n",
       "      <td>1.113857</td>\n",
       "      <td>3.168874</td>\n",
       "      <td>-0.324495</td>\n",
       "      <td>-0.375190</td>\n",
       "      <td>-0.414601</td>\n",
       "      <td>-0.555824</td>\n",
       "      <td>-1.014715</td>\n",
       "      <td>-0.741051</td>\n",
       "      <td>1.561930</td>\n",
       "      <td>-0.417805</td>\n",
       "      <td>-0.113519</td>\n",
       "      <td>0.122549</td>\n",
       "      <td>-0.803215</td>\n",
       "      <td>-0.001840</td>\n",
       "      <td>77876.10</td>\n",
       "    </tr>\n",
       "  </tbody>\n",
       "</table>\n",
       "</div>"
      ],
      "text/plain": [
       "          0         1         2         3         4         5         6  \\\n",
       "0  0.314453 -0.910735 -0.763669  0.202073  3.169432 -0.255155 -0.499047   \n",
       "1  0.573722 -0.922032 -0.659698  0.223087  3.188966 -0.416823 -0.375338   \n",
       "2 -0.825579 -0.776800 -0.435613  0.744393  3.187385 -0.197947 -0.554300   \n",
       "3 -0.509954 -0.779483 -0.365484 -0.270296  3.193785 -0.460613  0.747654   \n",
       "4 -1.300318 -0.661037  0.405473  1.113857  3.168874 -0.324495 -0.375190   \n",
       "\n",
       "          7         8         9        10        11        12        13  \\\n",
       "0 -0.911806 -0.435344 -1.006070 -0.636611  1.502592  0.055922  0.138686   \n",
       "1 -0.375925 -0.551091 -1.019872 -0.827418  1.553698 -0.298002 -0.005244   \n",
       "2 -1.171277 -0.358429 -1.001140 -0.495013  1.475658  0.109089  0.135441   \n",
       "3  0.903013 -1.272506 -0.788306  0.537209  1.410308  0.139808  0.065518   \n",
       "4 -0.414601 -0.555824 -1.014715 -0.741051  1.561930 -0.417805 -0.113519   \n",
       "\n",
       "         14        15        16  Weekly_Sales  \n",
       "0  0.223703 -0.413285 -0.000376      87235.57  \n",
       "1  0.313156 -0.367669  0.002362      80254.53  \n",
       "2  0.086524 -0.860347 -0.002932      77715.58  \n",
       "3 -0.459940 -0.484269 -0.003191      83599.56  \n",
       "4  0.122549 -0.803215 -0.001840      77876.10  "
      ]
     },
     "execution_count": 19,
     "metadata": {},
     "output_type": "execute_result"
    }
   ],
   "source": [
    "pca_features = pca.fit_transform(scaled_df_linear.drop('Weekly_Sales',axis=1))\n",
    "pca_features_linear = pd.DataFrame(pca_features)\n",
    "pca_features_linear['Weekly_Sales'] = df['Weekly_Sales']\n",
    "pca_features_linear.to_csv(r'C:\\Users\\songs\\Desktop\\Springboard Files\\Capstone 2\\data\\Interim\\pca_train_linear.csv')\n",
    "pca_features_linear.head()"
   ]
  },
  {
   "cell_type": "code",
   "execution_count": 20,
   "metadata": {},
   "outputs": [
    {
     "data": {
      "image/png": "[encoded data removed]",
      "text/plain": [
       "<Figure size 1440x720 with 1 Axes>"
      ]
     },
     "metadata": {
      "needs_background": "light"
     },
     "output_type": "display_data"
    }
   ],
   "source": [
    "pca.fit(scaled_df.drop('Weekly_Sales',axis=1))\n",
    "\n",
    "#Graphing the data\n",
    "plt.figure(figsize=(20,10))\n",
    "\n",
    "plt.plot(np.cumsum(pca.explained_variance_ratio_))\n",
    "plt.title('Visualization of feature variances')\n",
    "plt.xlabel('PCA feature')\n",
    "plt.ylabel('Cumulative explaned variance')\n",
    "plt.show()"
   ]
  },
  {
   "cell_type": "code",
   "execution_count": 22,
   "metadata": {},
   "outputs": [
    {
     "data": {
      "text/html": [
       "<div>\n",
       "<style scoped>\n",
       "    .dataframe tbody tr th:only-of-type {\n",
       "        vertical-align: middle;\n",
       "    }\n",
       "\n",
       "    .dataframe tbody tr th {\n",
       "        vertical-align: top;\n",
       "    }\n",
       "\n",
       "    .dataframe thead th {\n",
       "        text-align: right;\n",
       "    }\n",
       "</style>\n",
       "<table border=\"1\" class=\"dataframe\">\n",
       "  <thead>\n",
       "    <tr style=\"text-align: right;\">\n",
       "      <th></th>\n",
       "      <th>0</th>\n",
       "      <th>1</th>\n",
       "      <th>2</th>\n",
       "      <th>3</th>\n",
       "      <th>4</th>\n",
       "      <th>5</th>\n",
       "      <th>6</th>\n",
       "      <th>7</th>\n",
       "      <th>8</th>\n",
       "      <th>9</th>\n",
       "      <th>10</th>\n",
       "      <th>11</th>\n",
       "      <th>12</th>\n",
       "      <th>13</th>\n",
       "      <th>14</th>\n",
       "      <th>15</th>\n",
       "      <th>16</th>\n",
       "      <th>17</th>\n",
       "      <th>18</th>\n",
       "      <th>Weekly_Sales</th>\n",
       "    </tr>\n",
       "  </thead>\n",
       "  <tbody>\n",
       "    <tr>\n",
       "      <th>0</th>\n",
       "      <td>0.749024</td>\n",
       "      <td>1.019159</td>\n",
       "      <td>0.168953</td>\n",
       "      <td>-0.678830</td>\n",
       "      <td>2.212308</td>\n",
       "      <td>1.733274</td>\n",
       "      <td>-1.034881</td>\n",
       "      <td>0.035388</td>\n",
       "      <td>0.552644</td>\n",
       "      <td>-1.298549</td>\n",
       "      <td>-0.595630</td>\n",
       "      <td>1.724888</td>\n",
       "      <td>-0.403650</td>\n",
       "      <td>-0.189859</td>\n",
       "      <td>0.197068</td>\n",
       "      <td>0.052015</td>\n",
       "      <td>0.576174</td>\n",
       "      <td>0.410569</td>\n",
       "      <td>-0.000370</td>\n",
       "      <td>87235.57</td>\n",
       "    </tr>\n",
       "    <tr>\n",
       "      <th>1</th>\n",
       "      <td>0.627506</td>\n",
       "      <td>1.249321</td>\n",
       "      <td>0.155581</td>\n",
       "      <td>-0.575501</td>\n",
       "      <td>2.224472</td>\n",
       "      <td>1.672642</td>\n",
       "      <td>-0.717711</td>\n",
       "      <td>-0.363284</td>\n",
       "      <td>0.319251</td>\n",
       "      <td>-1.325845</td>\n",
       "      <td>-0.835657</td>\n",
       "      <td>1.768069</td>\n",
       "      <td>-0.357276</td>\n",
       "      <td>-0.538048</td>\n",
       "      <td>0.031313</td>\n",
       "      <td>0.105114</td>\n",
       "      <td>0.622423</td>\n",
       "      <td>0.349045</td>\n",
       "      <td>0.002372</td>\n",
       "      <td>80254.53</td>\n",
       "    </tr>\n",
       "    <tr>\n",
       "      <th>2</th>\n",
       "      <td>1.429321</td>\n",
       "      <td>0.103321</td>\n",
       "      <td>0.057536</td>\n",
       "      <td>-0.094313</td>\n",
       "      <td>2.220313</td>\n",
       "      <td>1.771078</td>\n",
       "      <td>-1.278923</td>\n",
       "      <td>0.224174</td>\n",
       "      <td>0.733992</td>\n",
       "      <td>-1.291340</td>\n",
       "      <td>-0.466143</td>\n",
       "      <td>1.712154</td>\n",
       "      <td>-0.604620</td>\n",
       "      <td>-0.221559</td>\n",
       "      <td>0.180249</td>\n",
       "      <td>-0.144270</td>\n",
       "      <td>0.480943</td>\n",
       "      <td>0.797974</td>\n",
       "      <td>-0.002935</td>\n",
       "      <td>77715.58</td>\n",
       "    </tr>\n",
       "    <tr>\n",
       "      <th>3</th>\n",
       "      <td>1.199893</td>\n",
       "      <td>0.340415</td>\n",
       "      <td>-0.236703</td>\n",
       "      <td>-0.665774</td>\n",
       "      <td>2.236359</td>\n",
       "      <td>1.656241</td>\n",
       "      <td>0.969407</td>\n",
       "      <td>-0.784410</td>\n",
       "      <td>-0.558264</td>\n",
       "      <td>-1.149784</td>\n",
       "      <td>0.287705</td>\n",
       "      <td>1.706963</td>\n",
       "      <td>-1.093811</td>\n",
       "      <td>-0.228497</td>\n",
       "      <td>0.142438</td>\n",
       "      <td>-0.683232</td>\n",
       "      <td>0.525360</td>\n",
       "      <td>0.352748</td>\n",
       "      <td>-0.003172</td>\n",
       "      <td>83599.56</td>\n",
       "    </tr>\n",
       "    <tr>\n",
       "      <th>4</th>\n",
       "      <td>1.739566</td>\n",
       "      <td>-0.242885</td>\n",
       "      <td>-0.382661</td>\n",
       "      <td>0.723381</td>\n",
       "      <td>2.110546</td>\n",
       "      <td>1.750246</td>\n",
       "      <td>-0.836900</td>\n",
       "      <td>-0.293676</td>\n",
       "      <td>0.367265</td>\n",
       "      <td>-1.327163</td>\n",
       "      <td>-0.787508</td>\n",
       "      <td>1.787577</td>\n",
       "      <td>-0.541915</td>\n",
       "      <td>-0.734130</td>\n",
       "      <td>-0.094844</td>\n",
       "      <td>-0.166081</td>\n",
       "      <td>0.547818</td>\n",
       "      <td>0.706165</td>\n",
       "      <td>-0.001835</td>\n",
       "      <td>77876.10</td>\n",
       "    </tr>\n",
       "  </tbody>\n",
       "</table>\n",
       "</div>"
      ],
      "text/plain": [
       "          0         1         2         3         4         5         6  \\\n",
       "0  0.749024  1.019159  0.168953 -0.678830  2.212308  1.733274 -1.034881   \n",
       "1  0.627506  1.249321  0.155581 -0.575501  2.224472  1.672642 -0.717711   \n",
       "2  1.429321  0.103321  0.057536 -0.094313  2.220313  1.771078 -1.278923   \n",
       "3  1.199893  0.340415 -0.236703 -0.665774  2.236359  1.656241  0.969407   \n",
       "4  1.739566 -0.242885 -0.382661  0.723381  2.110546  1.750246 -0.836900   \n",
       "\n",
       "          7         8         9        10        11        12        13  \\\n",
       "0  0.035388  0.552644 -1.298549 -0.595630  1.724888 -0.403650 -0.189859   \n",
       "1 -0.363284  0.319251 -1.325845 -0.835657  1.768069 -0.357276 -0.538048   \n",
       "2  0.224174  0.733992 -1.291340 -0.466143  1.712154 -0.604620 -0.221559   \n",
       "3 -0.784410 -0.558264 -1.149784  0.287705  1.706963 -1.093811 -0.228497   \n",
       "4 -0.293676  0.367265 -1.327163 -0.787508  1.787577 -0.541915 -0.734130   \n",
       "\n",
       "         14        15        16        17        18  Weekly_Sales  \n",
       "0  0.197068  0.052015  0.576174  0.410569 -0.000370      87235.57  \n",
       "1  0.031313  0.105114  0.622423  0.349045  0.002372      80254.53  \n",
       "2  0.180249 -0.144270  0.480943  0.797974 -0.002935      77715.58  \n",
       "3  0.142438 -0.683232  0.525360  0.352748 -0.003172      83599.56  \n",
       "4 -0.094844 -0.166081  0.547818  0.706165 -0.001835      77876.10  "
      ]
     },
     "execution_count": 22,
     "metadata": {},
     "output_type": "execute_result"
    }
   ],
   "source": [
    "pca_features = pca.fit_transform(scaled_df.drop('Weekly_Sales',axis=1))\n",
    "pca_features_all = pd.DataFrame(pca_features)\n",
    "pca_features_all['Weekly_Sales'] = df['Weekly_Sales']\n",
    "pca_features_all.to_csv(r'C:\\Users\\songs\\Desktop\\Springboard Files\\Capstone 2\\data\\Interim\\pca_train_all.csv')\n",
    "pca_features_all.head()"
   ]
  },
  {
   "cell_type": "markdown",
   "metadata": {},
   "source": [
    "## Model creation:"
   ]
  },
  {
   "cell_type": "markdown",
   "metadata": {},
   "source": [
    "### Linear Regression"
   ]
  },
  {
   "cell_type": "code",
   "execution_count": 25,
   "metadata": {},
   "outputs": [],
   "source": [
    "#Loading data\n",
    "scaled_linear_df = pd.read_csv(r'C:\\Users\\songs\\Desktop\\Springboard Files\\Capstone 2\\data\\Interim\\scaled_train_linear.csv',index_col=0)\n",
    "pca_linear_df = pd.read_csv(r'C:\\Users\\songs\\Desktop\\Springboard Files\\Capstone 2\\data\\Interim\\pca_train_linear.csv',index_col=0)\n",
    "original_linear_df = pd.read_csv(r'C:\\Users\\songs\\Desktop\\Springboard Files\\Capstone 2\\data\\Interim\\original_train_linear.csv',index_col=0)"
   ]
  },
  {
   "cell_type": "code",
   "execution_count": 23,
   "metadata": {},
   "outputs": [],
   "source": [
    "#Splitting\n",
    "def linear_fit(data):\n",
    "    X = data.drop(['Weekly_Sales'], axis=1).values\n",
    "    y_log = data['Weekly_Sales'].values\n",
    "    results = []\n",
    "    for i in range(5):\n",
    "        X_train, X_test, y_train, y_test = train_test_split(X, y_log, test_size=0.3)\n",
    "        linear.fit(X_train,y_train)\n",
    "        y_pred = linear.predict(X_test)\n",
    "        results.append(mean_absolute_error(y_test,y_pred))\n",
    "    return results"
   ]
  },
  {
   "cell_type": "code",
   "execution_count": 27,
   "metadata": {},
   "outputs": [
    {
     "name": "stdout",
     "output_type": "stream",
     "text": [
      "[2584.2983044206594, 2574.77205914692, 2578.1109481904364]\n",
      "[14.60015046487896, 13.914129450637013, 13.393863903659563]\n"
     ]
    },
    {
     "data": {
      "image/png": "[encoded data removed]",
      "text/plain": [
       "<Figure size 720x360 with 1 Axes>"
      ]
     },
     "metadata": {
      "needs_background": "light"
     },
     "output_type": "display_data"
    }
   ],
   "source": [
    "scaled_results = linear_fit(scaled_linear_df)\n",
    "pca_results = linear_fit(pca_linear_df)\n",
    "original_results = linear_fit(original_linear_df)\n",
    "\n",
    "means = [np.mean(scaled_results),np.mean(pca_results),np.mean(original_results)]\n",
    "stds = [np.std(scaled_results),np.std(pca_results),np.std(original_results)]\n",
    "\n",
    "plt.figure(figsize=(10,5))\n",
    "plt.bar(range(3),means)\n",
    "plt.errorbar(range(3), means, stds, linestyle='None', marker='^',color='red')\n",
    "plt.xlabel(\"dataset used\")\n",
    "plt.xticks(range(3),['Scaled','PCA','Original'])\n",
    "plt.ylabel(\"Mean Absolute Error\")\n",
    "plt.title(\"Linear Regression\")\n",
    "\n",
    "print(means)\n",
    "print(stds)"
   ]
  },
  {
   "cell_type": "markdown",
   "metadata": {},
   "source": [
    "### Ridge"
   ]
  },
  {
   "cell_type": "code",
   "execution_count": 28,
   "metadata": {},
   "outputs": [],
   "source": [
    "#Loading data\n",
    "scaled_df = pd.read_csv(r'C:\\Users\\songs\\Desktop\\Springboard Files\\Capstone 2\\data\\Interim\\scaled_train.csv',index_col=0)\n",
    "pca_df = pd.read_csv(r'C:\\Users\\songs\\Desktop\\Springboard Files\\Capstone 2\\data\\Interim\\pca_train_all.csv',index_col=0)\n",
    "original_df = pd.read_csv(r'C:\\Users\\songs\\Desktop\\Springboard Files\\Capstone 2\\data\\Interim\\train_all_features.csv',index_col=0)"
   ]
  },
  {
   "cell_type": "code",
   "execution_count": null,
   "metadata": {},
   "outputs": [],
   "source": []
  },
  {
   "cell_type": "code",
   "execution_count": 29,
   "metadata": {},
   "outputs": [],
   "source": [
    "ridge = Ridge(alpha=0.01)\n",
    "\n",
    "def ridge_fit(data):\n",
    "    X = data.drop(['Weekly_Sales'], axis=1).values\n",
    "    y_log = data['Weekly_Sales'].values\n",
    "    results = []\n",
    "    for i in range(5):\n",
    "        X_train, X_test, y_train, y_test = train_test_split(X, y_log, test_size=0.3)\n",
    "        ridge.fit(X_train,y_train)\n",
    "        y_pred = ridge.predict(X_test)\n",
    "        y_pred = np.exp(y_pred) - 4989.94\n",
    "        y_true = np.exp(y_test)\n",
    "        results.append(mean_absolute_error(y_true,y_pred))\n",
    "    return results"
   ]
  },
  {
   "cell_type": "code",
   "execution_count": 30,
   "metadata": {},
   "outputs": [
    {
     "ename": "ValueError",
     "evalue": "Input contains NaN, infinity or a value too large for dtype('float64').",
     "output_type": "error",
     "traceback": [
      "\u001b[1;31m---------------------------------------------------------------------------\u001b[0m",
      "\u001b[1;31mValueError\u001b[0m                                Traceback (most recent call last)",
      "\u001b[1;32m<ipython-input-30-95bac6342e94>\u001b[0m in \u001b[0;36m<module>\u001b[1;34m\u001b[0m\n\u001b[1;32m----> 1\u001b[1;33m \u001b[0mscaled_results\u001b[0m \u001b[1;33m=\u001b[0m \u001b[0mridge_fit\u001b[0m\u001b[1;33m(\u001b[0m\u001b[0mscaled_df\u001b[0m\u001b[1;33m)\u001b[0m\u001b[1;33m\u001b[0m\u001b[1;33m\u001b[0m\u001b[0m\n\u001b[0m\u001b[0;32m      2\u001b[0m \u001b[0mpca_results\u001b[0m \u001b[1;33m=\u001b[0m \u001b[0mridge_fit\u001b[0m\u001b[1;33m(\u001b[0m\u001b[0mpca_df\u001b[0m\u001b[1;33m)\u001b[0m\u001b[1;33m\u001b[0m\u001b[1;33m\u001b[0m\u001b[0m\n\u001b[0;32m      3\u001b[0m \u001b[0moriginal_results\u001b[0m \u001b[1;33m=\u001b[0m \u001b[0mridge_fit\u001b[0m\u001b[1;33m(\u001b[0m\u001b[0moriginal_df\u001b[0m\u001b[1;33m)\u001b[0m\u001b[1;33m\u001b[0m\u001b[1;33m\u001b[0m\u001b[0m\n\u001b[0;32m      4\u001b[0m \u001b[1;33m\u001b[0m\u001b[0m\n\u001b[0;32m      5\u001b[0m \u001b[0mmeans\u001b[0m \u001b[1;33m=\u001b[0m \u001b[1;33m[\u001b[0m\u001b[0mnp\u001b[0m\u001b[1;33m.\u001b[0m\u001b[0mmean\u001b[0m\u001b[1;33m(\u001b[0m\u001b[0mscaled_results\u001b[0m\u001b[1;33m)\u001b[0m\u001b[1;33m,\u001b[0m\u001b[0mnp\u001b[0m\u001b[1;33m.\u001b[0m\u001b[0mmean\u001b[0m\u001b[1;33m(\u001b[0m\u001b[0mpca_results\u001b[0m\u001b[1;33m)\u001b[0m\u001b[1;33m,\u001b[0m\u001b[0mnp\u001b[0m\u001b[1;33m.\u001b[0m\u001b[0mmean\u001b[0m\u001b[1;33m(\u001b[0m\u001b[0moriginal_results\u001b[0m\u001b[1;33m)\u001b[0m\u001b[1;33m]\u001b[0m\u001b[1;33m\u001b[0m\u001b[1;33m\u001b[0m\u001b[0m\n",
      "\u001b[1;32m<ipython-input-29-eb919c71d999>\u001b[0m in \u001b[0;36mridge_fit\u001b[1;34m(data)\u001b[0m\n\u001b[0;32m     11\u001b[0m         \u001b[0my_pred\u001b[0m \u001b[1;33m=\u001b[0m \u001b[0mnp\u001b[0m\u001b[1;33m.\u001b[0m\u001b[0mexp\u001b[0m\u001b[1;33m(\u001b[0m\u001b[0my_pred\u001b[0m\u001b[1;33m)\u001b[0m \u001b[1;33m-\u001b[0m \u001b[1;36m4989.94\u001b[0m\u001b[1;33m\u001b[0m\u001b[1;33m\u001b[0m\u001b[0m\n\u001b[0;32m     12\u001b[0m         \u001b[0my_true\u001b[0m \u001b[1;33m=\u001b[0m \u001b[0mnp\u001b[0m\u001b[1;33m.\u001b[0m\u001b[0mexp\u001b[0m\u001b[1;33m(\u001b[0m\u001b[0my_test\u001b[0m\u001b[1;33m)\u001b[0m\u001b[1;33m\u001b[0m\u001b[1;33m\u001b[0m\u001b[0m\n\u001b[1;32m---> 13\u001b[1;33m         \u001b[0mresults\u001b[0m\u001b[1;33m.\u001b[0m\u001b[0mappend\u001b[0m\u001b[1;33m(\u001b[0m\u001b[0mmean_absolute_error\u001b[0m\u001b[1;33m(\u001b[0m\u001b[0my_true\u001b[0m\u001b[1;33m,\u001b[0m\u001b[0my_pred\u001b[0m\u001b[1;33m)\u001b[0m\u001b[1;33m)\u001b[0m\u001b[1;33m\u001b[0m\u001b[1;33m\u001b[0m\u001b[0m\n\u001b[0m\u001b[0;32m     14\u001b[0m     \u001b[1;32mreturn\u001b[0m \u001b[0mresults\u001b[0m\u001b[1;33m\u001b[0m\u001b[1;33m\u001b[0m\u001b[0m\n",
      "\u001b[1;32m~\\Anaconda3\\lib\\site-packages\\sklearn\\metrics\\regression.py\u001b[0m in \u001b[0;36mmean_absolute_error\u001b[1;34m(y_true, y_pred, sample_weight, multioutput)\u001b[0m\n\u001b[0;32m    170\u001b[0m     \"\"\"\n\u001b[0;32m    171\u001b[0m     y_type, y_true, y_pred, multioutput = _check_reg_targets(\n\u001b[1;32m--> 172\u001b[1;33m         y_true, y_pred, multioutput)\n\u001b[0m\u001b[0;32m    173\u001b[0m     \u001b[0mcheck_consistent_length\u001b[0m\u001b[1;33m(\u001b[0m\u001b[0my_true\u001b[0m\u001b[1;33m,\u001b[0m \u001b[0my_pred\u001b[0m\u001b[1;33m,\u001b[0m \u001b[0msample_weight\u001b[0m\u001b[1;33m)\u001b[0m\u001b[1;33m\u001b[0m\u001b[1;33m\u001b[0m\u001b[0m\n\u001b[0;32m    174\u001b[0m     output_errors = np.average(np.abs(y_pred - y_true),\n",
      "\u001b[1;32m~\\Anaconda3\\lib\\site-packages\\sklearn\\metrics\\regression.py\u001b[0m in \u001b[0;36m_check_reg_targets\u001b[1;34m(y_true, y_pred, multioutput)\u001b[0m\n\u001b[0;32m     76\u001b[0m     \"\"\"\n\u001b[0;32m     77\u001b[0m     \u001b[0mcheck_consistent_length\u001b[0m\u001b[1;33m(\u001b[0m\u001b[0my_true\u001b[0m\u001b[1;33m,\u001b[0m \u001b[0my_pred\u001b[0m\u001b[1;33m)\u001b[0m\u001b[1;33m\u001b[0m\u001b[1;33m\u001b[0m\u001b[0m\n\u001b[1;32m---> 78\u001b[1;33m     \u001b[0my_true\u001b[0m \u001b[1;33m=\u001b[0m \u001b[0mcheck_array\u001b[0m\u001b[1;33m(\u001b[0m\u001b[0my_true\u001b[0m\u001b[1;33m,\u001b[0m \u001b[0mensure_2d\u001b[0m\u001b[1;33m=\u001b[0m\u001b[1;32mFalse\u001b[0m\u001b[1;33m)\u001b[0m\u001b[1;33m\u001b[0m\u001b[1;33m\u001b[0m\u001b[0m\n\u001b[0m\u001b[0;32m     79\u001b[0m     \u001b[0my_pred\u001b[0m \u001b[1;33m=\u001b[0m \u001b[0mcheck_array\u001b[0m\u001b[1;33m(\u001b[0m\u001b[0my_pred\u001b[0m\u001b[1;33m,\u001b[0m \u001b[0mensure_2d\u001b[0m\u001b[1;33m=\u001b[0m\u001b[1;32mFalse\u001b[0m\u001b[1;33m)\u001b[0m\u001b[1;33m\u001b[0m\u001b[1;33m\u001b[0m\u001b[0m\n\u001b[0;32m     80\u001b[0m \u001b[1;33m\u001b[0m\u001b[0m\n",
      "\u001b[1;32m~\\Anaconda3\\lib\\site-packages\\sklearn\\utils\\validation.py\u001b[0m in \u001b[0;36mcheck_array\u001b[1;34m(array, accept_sparse, accept_large_sparse, dtype, order, copy, force_all_finite, ensure_2d, allow_nd, ensure_min_samples, ensure_min_features, warn_on_dtype, estimator)\u001b[0m\n\u001b[0;32m    540\u001b[0m         \u001b[1;32mif\u001b[0m \u001b[0mforce_all_finite\u001b[0m\u001b[1;33m:\u001b[0m\u001b[1;33m\u001b[0m\u001b[1;33m\u001b[0m\u001b[0m\n\u001b[0;32m    541\u001b[0m             _assert_all_finite(array,\n\u001b[1;32m--> 542\u001b[1;33m                                allow_nan=force_all_finite == 'allow-nan')\n\u001b[0m\u001b[0;32m    543\u001b[0m \u001b[1;33m\u001b[0m\u001b[0m\n\u001b[0;32m    544\u001b[0m     \u001b[1;32mif\u001b[0m \u001b[0mensure_min_samples\u001b[0m \u001b[1;33m>\u001b[0m \u001b[1;36m0\u001b[0m\u001b[1;33m:\u001b[0m\u001b[1;33m\u001b[0m\u001b[1;33m\u001b[0m\u001b[0m\n",
      "\u001b[1;32m~\\Anaconda3\\lib\\site-packages\\sklearn\\utils\\validation.py\u001b[0m in \u001b[0;36m_assert_all_finite\u001b[1;34m(X, allow_nan)\u001b[0m\n\u001b[0;32m     54\u001b[0m                 not allow_nan and not np.isfinite(X).all()):\n\u001b[0;32m     55\u001b[0m             \u001b[0mtype_err\u001b[0m \u001b[1;33m=\u001b[0m \u001b[1;34m'infinity'\u001b[0m \u001b[1;32mif\u001b[0m \u001b[0mallow_nan\u001b[0m \u001b[1;32melse\u001b[0m \u001b[1;34m'NaN, infinity'\u001b[0m\u001b[1;33m\u001b[0m\u001b[1;33m\u001b[0m\u001b[0m\n\u001b[1;32m---> 56\u001b[1;33m             \u001b[1;32mraise\u001b[0m \u001b[0mValueError\u001b[0m\u001b[1;33m(\u001b[0m\u001b[0mmsg_err\u001b[0m\u001b[1;33m.\u001b[0m\u001b[0mformat\u001b[0m\u001b[1;33m(\u001b[0m\u001b[0mtype_err\u001b[0m\u001b[1;33m,\u001b[0m \u001b[0mX\u001b[0m\u001b[1;33m.\u001b[0m\u001b[0mdtype\u001b[0m\u001b[1;33m)\u001b[0m\u001b[1;33m)\u001b[0m\u001b[1;33m\u001b[0m\u001b[1;33m\u001b[0m\u001b[0m\n\u001b[0m\u001b[0;32m     57\u001b[0m     \u001b[1;31m# for object dtype data, we only check for NaNs (GH-13254)\u001b[0m\u001b[1;33m\u001b[0m\u001b[1;33m\u001b[0m\u001b[1;33m\u001b[0m\u001b[0m\n\u001b[0;32m     58\u001b[0m     \u001b[1;32melif\u001b[0m \u001b[0mX\u001b[0m\u001b[1;33m.\u001b[0m\u001b[0mdtype\u001b[0m \u001b[1;33m==\u001b[0m \u001b[0mnp\u001b[0m\u001b[1;33m.\u001b[0m\u001b[0mdtype\u001b[0m\u001b[1;33m(\u001b[0m\u001b[1;34m'object'\u001b[0m\u001b[1;33m)\u001b[0m \u001b[1;32mand\u001b[0m \u001b[1;32mnot\u001b[0m \u001b[0mallow_nan\u001b[0m\u001b[1;33m:\u001b[0m\u001b[1;33m\u001b[0m\u001b[1;33m\u001b[0m\u001b[0m\n",
      "\u001b[1;31mValueError\u001b[0m: Input contains NaN, infinity or a value too large for dtype('float64')."
     ]
    }
   ],
   "source": [
    "scaled_results = ridge_fit(scaled_df)\n",
    "pca_results = ridge_fit(pca_df)\n",
    "original_results = ridge_fit(original_df)\n",
    "\n",
    "means = [np.mean(scaled_results),np.mean(pca_results),np.mean(original_results)]\n",
    "stds = [np.std(scaled_results),np.std(pca_results),np.std(original_results)]\n",
    "\n",
    "plt.figure(figsize=(10,5))\n",
    "plt.bar(range(3),means)\n",
    "plt.errorbar(range(3), means, stds, linestyle='None', marker='^',color='red')\n",
    "plt.xlabel(\"dataset used\")\n",
    "plt.xticks(range(3),['Scaled','PCA','Original'])\n",
    "plt.ylabel(\"Mean Absolute Error\")\n",
    "plt.title(\"Ridge Regression\")\n",
    "\n",
    "print(means)\n",
    "print(stds)"
   ]
  },
  {
   "cell_type": "markdown",
   "metadata": {},
   "source": [
    "### Lasso"
   ]
  },
  {
   "cell_type": "code",
   "execution_count": 103,
   "metadata": {},
   "outputs": [],
   "source": [
    "lasso = Lasso(alpha=0.01)\n",
    "\n",
    "def lasso_fit(data):\n",
    "    X = df.drop(['Weekly_Sales','log_revenue'], axis=1).values\n",
    "    y_log = df['log_revenue'].values\n",
    "    results = []\n",
    "    for i in range(5):\n",
    "        X_train, X_test, y_train, y_test = train_test_split(X, y_log, test_size=0.3)\n",
    "        lasso.fit(X_train,y_train)\n",
    "        y_pred = lasso.predict(X_test)\n",
    "        y_pred = np.exp(y_pred) - 4989.94\n",
    "        y_true = np.exp(y_test)\n",
    "        results.append(mean_absolute_error(y_true,y_pred))\n",
    "    return results"
   ]
  },
  {
   "cell_type": "code",
   "execution_count": 104,
   "metadata": {},
   "outputs": [
    {
     "name": "stdout",
     "output_type": "stream",
     "text": [
      "[13418.60628309655, 13316.155072426689, 13442.168778768255]\n",
      "[30.626120238300384, 71.55978066257384, 75.93210030342435]\n"
     ]
    },
    {
     "data": {
      "image/png": "[encoded data removed]",
      "text/plain": [
       "<Figure size 720x360 with 1 Axes>"
      ]
     },
     "metadata": {
      "needs_background": "light"
     },
     "output_type": "display_data"
    }
   ],
   "source": [
    "scaled_results = lasso_fit(scaled_linear)\n",
    "pca_results = lasso_fit(pca_linear)\n",
    "original_results = lasso_fit(original_linear)\n",
    "\n",
    "means = [np.mean(scaled_results),np.mean(pca_results),np.mean(original_results)]\n",
    "stds = [np.std(scaled_results),np.std(pca_results),np.std(original_results)]\n",
    "\n",
    "plt.figure(figsize=(10,5))\n",
    "plt.bar(range(3),means)\n",
    "plt.errorbar(range(3), means, stds, linestyle='None', marker='^',color='red')\n",
    "plt.xlabel(\"dataset used\")\n",
    "plt.xticks(range(3),['Scaled','PCA','Original'])\n",
    "plt.ylabel(\"Mean Absolute Error\")\n",
    "plt.title(\"Lasso Regression\")\n",
    "\n",
    "print(means)\n",
    "print(stds)"
   ]
  },
  {
   "cell_type": "markdown",
   "metadata": {},
   "source": [
    "### RandomForest"
   ]
  },
  {
   "cell_type": "code",
   "execution_count": 99,
   "metadata": {},
   "outputs": [],
   "source": [
    "def rf_fit(data):\n",
    "    X = df.drop(['Weekly_Sales','log_revenue'], axis=1).values\n",
    "    y_log = df['log_revenue'].values\n",
    "    results = []\n",
    "    for i in range(5):\n",
    "        X_train, X_test, y_train, y_test = train_test_split(X, y_log, test_size=0.3)\n",
    "        rf.fit(X_train,y_train)\n",
    "        y_pred = rf.predict(X_test)\n",
    "        y_pred = np.exp(y_pred) - 4989.94\n",
    "        y_true = np.exp(y_test)\n",
    "        results.append(mean_absolute_error(y_true,y_pred))\n",
    "        \n",
    "    return results"
   ]
  },
  {
   "cell_type": "code",
   "execution_count": 100,
   "metadata": {},
   "outputs": [
    {
     "name": "stdout",
     "output_type": "stream",
     "text": [
      "[13185.510896819824, 13207.0814288867, 13188.42211753047]\n",
      "[60.9208693297605, 33.5500459931308, 53.67463607277562]\n"
     ]
    },
    {
     "data": {
      "image/png": "[encoded data removed]",
      "text/plain": [
       "<Figure size 720x360 with 1 Axes>"
      ]
     },
     "metadata": {
      "needs_background": "light"
     },
     "output_type": "display_data"
    }
   ],
   "source": [
    "scaled_results = rf_fit(scaled_linear)\n",
    "pca_results = rf_fit(pca_linear)\n",
    "original_results = rf_fit(original_linear)\n",
    "\n",
    "means = [np.mean(scaled_results),np.mean(pca_results),np.mean(original_results)]\n",
    "stds = [np.std(scaled_results),np.std(pca_results),np.std(original_results)]\n",
    "\n",
    "plt.figure(figsize=(10,5))\n",
    "plt.bar(range(3),means)\n",
    "plt.errorbar(range(3), means, stds, linestyle='None', marker='^',color='red')\n",
    "plt.xlabel(\"dataset used\")\n",
    "plt.xticks(range(3),['Scaled','PCA','Original'])\n",
    "plt.ylabel(\"Mean Absolute Error\")\n",
    "plt.title(\"RandomForestRegression\")\n",
    "\n",
    "print(means)\n",
    "print(stds)"
   ]
  },
  {
   "cell_type": "code",
   "execution_count": 6,
   "metadata": {},
   "outputs": [
    {
     "name": "stdout",
     "output_type": "stream",
     "text": [
      "                            OLS Regression Results                            \n",
      "==============================================================================\n",
      "Dep. Variable:           Weekly_Sales   R-squared:                       0.090\n",
      "Model:                            OLS   Adj. R-squared:                  0.090\n",
      "Method:                 Least Squares   F-statistic:                     1737.\n",
      "Date:                Sat, 28 Sep 2019   Prob (F-statistic):               0.00\n",
      "Time:                        14:33:12   Log-Likelihood:            -3.8752e+05\n",
      "No. Observations:              282451   AIC:                         7.751e+05\n",
      "Df Residuals:                  282434   BIC:                         7.753e+05\n",
      "Df Model:                          16                                         \n",
      "Covariance Type:            nonrobust                                         \n",
      "======================================================================================\n",
      "                         coef    std err          t      P>|t|      [0.025      0.975]\n",
      "--------------------------------------------------------------------------------------\n",
      "Intercept              0.0451      0.002     19.427      0.000       0.041       0.050\n",
      "IsHoliday[T.True]      0.0301      0.008      3.983      0.000       0.015       0.045\n",
      "IsMarkDown[T.True]    -0.0156      0.006     -2.653      0.008      -0.027      -0.004\n",
      "Store                 -0.0788      0.002    -37.154      0.000      -0.083      -0.075\n",
      "Dept                   0.1475      0.002     82.108      0.000       0.144       0.151\n",
      "Temperature            0.0128      0.002      6.491      0.000       0.009       0.017\n",
      "Fuel_Price            -0.0083      0.002     -4.070      0.000      -0.012      -0.004\n",
      "MarkDown1              0.0118      0.004      3.072      0.002       0.004       0.019\n",
      "MarkDown2             -0.0003      0.002     -0.129      0.897      -0.004       0.004\n",
      "MarkDown3              0.0264      0.002     13.948      0.000       0.023       0.030\n",
      "MarkDown4             -0.0042      0.003     -1.233      0.218      -0.011       0.002\n",
      "MarkDown5              0.0176      0.002      8.371      0.000       0.013       0.022\n",
      "CPI                   -0.0474      0.002    -23.307      0.000      -0.051      -0.043\n",
      "Unemployment          -0.0198      0.002     -9.992      0.000      -0.024      -0.016\n",
      "Size                   0.2617      0.003     82.803      0.000       0.256       0.268\n",
      "Type_A                -0.0637      0.004    -14.863      0.000      -0.072      -0.055\n",
      "Type_B                -0.0770      0.003    -24.727      0.000      -0.083      -0.071\n",
      "Type_C                 0.1858      0.006     30.088      0.000       0.174       0.198\n",
      "==============================================================================\n",
      "Omnibus:                   197345.584   Durbin-Watson:                   2.003\n",
      "Prob(Omnibus):                  0.000   Jarque-Bera (JB):          5918118.975\n",
      "Skew:                           2.988   Prob(JB):                         0.00\n",
      "Kurtosis:                      24.614   Cond. No.                     3.14e+15\n",
      "==============================================================================\n",
      "\n",
      "Warnings:\n",
      "[1] Standard Errors assume that the covariance matrix of the errors is correctly specified.\n",
      "[2] The smallest eigenvalue is 7.01e-26. This might indicate that there are\n",
      "strong multicollinearity problems or that the design matrix is singular.\n"
     ]
    }
   ],
   "source": [
    "#As I am too lazy to put all of the numerical values in by hand I wrote a function to do that\n",
    "\n",
    "def write_stmt(df):\n",
    "    stmt = 'Weekly_Sales ~ '\n",
    "    for x in df.columns:\n",
    "        if x != 'Weekly_Sales':\n",
    "            stmt = stmt + x + ' + '\n",
    "    stmt = stmt[:-3]\n",
    "    return stmt\n",
    "\n",
    "stmt = write_stmt(scaled_df)\n",
    "\n",
    "#Fitting the models\n",
    "m = ols(stmt,scaled_df).fit()\n",
    "print(m.summary())"
   ]
  },
  {
   "cell_type": "markdown",
   "metadata": {},
   "source": [
    "### ASK THYAGO ABOUT MULTICOLLINEARITY AND RESIDUALS"
   ]
  },
  {
   "cell_type": "markdown",
   "metadata": {},
   "source": [
    "Now we actually create the Linear Regression model and see how well it performs."
   ]
  },
  {
   "cell_type": "code",
   "execution_count": 8,
   "metadata": {},
   "outputs": [],
   "source": [
    "#Create the Regression model:\n",
    "linear = LinearRegression()\n",
    "linear.fit(X_train, y_train)\n",
    "\n",
    "#Making predictions\n",
    "y_pred = linear.predict(X_test)"
   ]
  },
  {
   "cell_type": "code",
   "execution_count": 9,
   "metadata": {},
   "outputs": [
    {
     "data": {
      "text/plain": [
       "0.08939457511837712"
      ]
     },
     "execution_count": 9,
     "metadata": {},
     "output_type": "execute_result"
    }
   ],
   "source": [
    "#R^2 value\n",
    "linear.score(X_test,y_test)"
   ]
  },
  {
   "cell_type": "markdown",
   "metadata": {},
   "source": [
    "So our model only accounts for a little more than 9% of the variance. That doesn't sound good. Let's look at the mean absolute error."
   ]
  },
  {
   "cell_type": "code",
   "execution_count": 10,
   "metadata": {},
   "outputs": [
    {
     "data": {
      "text/plain": [
       "14552.458326869068"
      ]
     },
     "execution_count": 10,
     "metadata": {},
     "output_type": "execute_result"
    }
   ],
   "source": [
    "#Inverse Transform only works when the data is in the original shape of the dataframe used to train the scaler, so\n",
    "#we create a new dataframe to get the weekly sales.\n",
    "prediction_df = scaled_df.drop(['IsHoliday', 'IsMarkDown', \"Type_A\", \"Type_B\", \"Type_C\"], axis=1).loc[:y_pred.shape[0]-1, :]\n",
    "prediction_df['Weekly_Sales'] = y_pred\n",
    "y_pred = scaler.inverse_transform(prediction_df)[:,2]\n",
    "\n",
    "prediction_df['Weekly_Sales'] = y_test\n",
    "y_true = scaler.inverse_transform(prediction_df)[:,2]\n",
    "\n",
    "mean_absolute_error(y_true, y_pred)"
   ]
  },
  {
   "cell_type": "code",
   "execution_count": 12,
   "metadata": {},
   "outputs": [
    {
     "ename": "NameError",
     "evalue": "name 'sklearn' is not defined",
     "output_type": "error",
     "traceback": [
      "\u001b[1;31m---------------------------------------------------------------------------\u001b[0m",
      "\u001b[1;31mNameError\u001b[0m                                 Traceback (most recent call last)",
      "\u001b[1;32m<ipython-input-12-12eadd30b0a1>\u001b[0m in \u001b[0;36m<module>\u001b[1;34m\u001b[0m\n\u001b[1;32m----> 1\u001b[1;33m \u001b[0msorted\u001b[0m\u001b[1;33m(\u001b[0m\u001b[0msklearn\u001b[0m\u001b[1;33m.\u001b[0m\u001b[0mmetrics\u001b[0m\u001b[1;33m.\u001b[0m\u001b[0mSCORERS\u001b[0m\u001b[1;33m.\u001b[0m\u001b[0mkeys\u001b[0m\u001b[1;33m(\u001b[0m\u001b[1;33m)\u001b[0m\u001b[1;33m)\u001b[0m\u001b[1;33m\u001b[0m\u001b[1;33m\u001b[0m\u001b[0m\n\u001b[0m",
      "\u001b[1;31mNameError\u001b[0m: name 'sklearn' is not defined"
     ]
    }
   ],
   "source": []
  },
  {
   "cell_type": "code",
   "execution_count": 11,
   "metadata": {},
   "outputs": [
    {
     "ename": "ValueError",
     "evalue": "'mean_absolute_error' is not a valid scoring value. Use sorted(sklearn.metrics.SCORERS.keys()) to get valid options.",
     "output_type": "error",
     "traceback": [
      "\u001b[1;31m---------------------------------------------------------------------------\u001b[0m",
      "\u001b[1;31mKeyError\u001b[0m                                  Traceback (most recent call last)",
      "\u001b[1;32m~\\Anaconda3\\lib\\site-packages\\sklearn\\metrics\\scorer.py\u001b[0m in \u001b[0;36mget_scorer\u001b[1;34m(scoring)\u001b[0m\n\u001b[0;32m    227\u001b[0m         \u001b[1;32mtry\u001b[0m\u001b[1;33m:\u001b[0m\u001b[1;33m\u001b[0m\u001b[1;33m\u001b[0m\u001b[0m\n\u001b[1;32m--> 228\u001b[1;33m             \u001b[0mscorer\u001b[0m \u001b[1;33m=\u001b[0m \u001b[0mSCORERS\u001b[0m\u001b[1;33m[\u001b[0m\u001b[0mscoring\u001b[0m\u001b[1;33m]\u001b[0m\u001b[1;33m\u001b[0m\u001b[1;33m\u001b[0m\u001b[0m\n\u001b[0m\u001b[0;32m    229\u001b[0m         \u001b[1;32mexcept\u001b[0m \u001b[0mKeyError\u001b[0m\u001b[1;33m:\u001b[0m\u001b[1;33m\u001b[0m\u001b[1;33m\u001b[0m\u001b[0m\n",
      "\u001b[1;31mKeyError\u001b[0m: 'mean_absolute_error'",
      "\nDuring handling of the above exception, another exception occurred:\n",
      "\u001b[1;31mValueError\u001b[0m                                Traceback (most recent call last)",
      "\u001b[1;32m<ipython-input-11-80ec0762cc56>\u001b[0m in \u001b[0;36m<module>\u001b[1;34m\u001b[0m\n\u001b[0;32m      1\u001b[0m \u001b[0mscoring\u001b[0m \u001b[1;33m=\u001b[0m \u001b[1;33m[\u001b[0m\u001b[1;34m'mean_absolute_error'\u001b[0m\u001b[1;33m]\u001b[0m\u001b[1;33m\u001b[0m\u001b[1;33m\u001b[0m\u001b[0m\n\u001b[0;32m      2\u001b[0m scores = cross_validate(linear, X_test, y_test, scoring=scoring,\n\u001b[1;32m----> 3\u001b[1;33m                          cv=5)\n\u001b[0m\u001b[0;32m      4\u001b[0m \u001b[0mscores\u001b[0m\u001b[1;33m\u001b[0m\u001b[1;33m\u001b[0m\u001b[0m\n",
      "\u001b[1;32m~\\Anaconda3\\lib\\site-packages\\sklearn\\model_selection\\_validation.py\u001b[0m in \u001b[0;36mcross_validate\u001b[1;34m(estimator, X, y, groups, scoring, cv, n_jobs, verbose, fit_params, pre_dispatch, return_train_score, return_estimator, error_score)\u001b[0m\n\u001b[0;32m    217\u001b[0m \u001b[1;33m\u001b[0m\u001b[0m\n\u001b[0;32m    218\u001b[0m     \u001b[0mcv\u001b[0m \u001b[1;33m=\u001b[0m \u001b[0mcheck_cv\u001b[0m\u001b[1;33m(\u001b[0m\u001b[0mcv\u001b[0m\u001b[1;33m,\u001b[0m \u001b[0my\u001b[0m\u001b[1;33m,\u001b[0m \u001b[0mclassifier\u001b[0m\u001b[1;33m=\u001b[0m\u001b[0mis_classifier\u001b[0m\u001b[1;33m(\u001b[0m\u001b[0mestimator\u001b[0m\u001b[1;33m)\u001b[0m\u001b[1;33m)\u001b[0m\u001b[1;33m\u001b[0m\u001b[1;33m\u001b[0m\u001b[0m\n\u001b[1;32m--> 219\u001b[1;33m     \u001b[0mscorers\u001b[0m\u001b[1;33m,\u001b[0m \u001b[0m_\u001b[0m \u001b[1;33m=\u001b[0m \u001b[0m_check_multimetric_scoring\u001b[0m\u001b[1;33m(\u001b[0m\u001b[0mestimator\u001b[0m\u001b[1;33m,\u001b[0m \u001b[0mscoring\u001b[0m\u001b[1;33m=\u001b[0m\u001b[0mscoring\u001b[0m\u001b[1;33m)\u001b[0m\u001b[1;33m\u001b[0m\u001b[1;33m\u001b[0m\u001b[0m\n\u001b[0m\u001b[0;32m    220\u001b[0m \u001b[1;33m\u001b[0m\u001b[0m\n\u001b[0;32m    221\u001b[0m     \u001b[1;31m# We clone the estimator to make sure that all the folds are\u001b[0m\u001b[1;33m\u001b[0m\u001b[1;33m\u001b[0m\u001b[1;33m\u001b[0m\u001b[0m\n",
      "\u001b[1;32m~\\Anaconda3\\lib\\site-packages\\sklearn\\metrics\\scorer.py\u001b[0m in \u001b[0;36m_check_multimetric_scoring\u001b[1;34m(estimator, scoring)\u001b[0m\n\u001b[0;32m    378\u001b[0m                                          % repr(scoring))\n\u001b[0;32m    379\u001b[0m                 scorers = {scorer: check_scoring(estimator, scoring=scorer)\n\u001b[1;32m--> 380\u001b[1;33m                            for scorer in scoring}\n\u001b[0m\u001b[0;32m    381\u001b[0m             \u001b[1;32melse\u001b[0m\u001b[1;33m:\u001b[0m\u001b[1;33m\u001b[0m\u001b[1;33m\u001b[0m\u001b[0m\n\u001b[0;32m    382\u001b[0m                 raise ValueError(err_msg +\n",
      "\u001b[1;32m~\\Anaconda3\\lib\\site-packages\\sklearn\\metrics\\scorer.py\u001b[0m in \u001b[0;36m<dictcomp>\u001b[1;34m(.0)\u001b[0m\n\u001b[0;32m    378\u001b[0m                                          % repr(scoring))\n\u001b[0;32m    379\u001b[0m                 scorers = {scorer: check_scoring(estimator, scoring=scorer)\n\u001b[1;32m--> 380\u001b[1;33m                            for scorer in scoring}\n\u001b[0m\u001b[0;32m    381\u001b[0m             \u001b[1;32melse\u001b[0m\u001b[1;33m:\u001b[0m\u001b[1;33m\u001b[0m\u001b[1;33m\u001b[0m\u001b[0m\n\u001b[0;32m    382\u001b[0m                 raise ValueError(err_msg +\n",
      "\u001b[1;32m~\\Anaconda3\\lib\\site-packages\\sklearn\\metrics\\scorer.py\u001b[0m in \u001b[0;36mcheck_scoring\u001b[1;34m(estimator, scoring, allow_none)\u001b[0m\n\u001b[0;32m    270\u001b[0m                         \"'fit' method, %r was passed\" % estimator)\n\u001b[0;32m    271\u001b[0m     \u001b[1;32mif\u001b[0m \u001b[0misinstance\u001b[0m\u001b[1;33m(\u001b[0m\u001b[0mscoring\u001b[0m\u001b[1;33m,\u001b[0m \u001b[0mstr\u001b[0m\u001b[1;33m)\u001b[0m\u001b[1;33m:\u001b[0m\u001b[1;33m\u001b[0m\u001b[1;33m\u001b[0m\u001b[0m\n\u001b[1;32m--> 272\u001b[1;33m         \u001b[1;32mreturn\u001b[0m \u001b[0mget_scorer\u001b[0m\u001b[1;33m(\u001b[0m\u001b[0mscoring\u001b[0m\u001b[1;33m)\u001b[0m\u001b[1;33m\u001b[0m\u001b[1;33m\u001b[0m\u001b[0m\n\u001b[0m\u001b[0;32m    273\u001b[0m     \u001b[1;32melif\u001b[0m \u001b[0mcallable\u001b[0m\u001b[1;33m(\u001b[0m\u001b[0mscoring\u001b[0m\u001b[1;33m)\u001b[0m\u001b[1;33m:\u001b[0m\u001b[1;33m\u001b[0m\u001b[1;33m\u001b[0m\u001b[0m\n\u001b[0;32m    274\u001b[0m         \u001b[1;31m# Heuristic to ensure user has not passed a metric\u001b[0m\u001b[1;33m\u001b[0m\u001b[1;33m\u001b[0m\u001b[1;33m\u001b[0m\u001b[0m\n",
      "\u001b[1;32m~\\Anaconda3\\lib\\site-packages\\sklearn\\metrics\\scorer.py\u001b[0m in \u001b[0;36mget_scorer\u001b[1;34m(scoring)\u001b[0m\n\u001b[0;32m    230\u001b[0m             raise ValueError('%r is not a valid scoring value. '\n\u001b[0;32m    231\u001b[0m                              \u001b[1;34m'Use sorted(sklearn.metrics.SCORERS.keys()) '\u001b[0m\u001b[1;33m\u001b[0m\u001b[1;33m\u001b[0m\u001b[0m\n\u001b[1;32m--> 232\u001b[1;33m                              'to get valid options.' % (scoring))\n\u001b[0m\u001b[0;32m    233\u001b[0m     \u001b[1;32melse\u001b[0m\u001b[1;33m:\u001b[0m\u001b[1;33m\u001b[0m\u001b[1;33m\u001b[0m\u001b[0m\n\u001b[0;32m    234\u001b[0m         \u001b[0mscorer\u001b[0m \u001b[1;33m=\u001b[0m \u001b[0mscoring\u001b[0m\u001b[1;33m\u001b[0m\u001b[1;33m\u001b[0m\u001b[0m\n",
      "\u001b[1;31mValueError\u001b[0m: 'mean_absolute_error' is not a valid scoring value. Use sorted(sklearn.metrics.SCORERS.keys()) to get valid options."
     ]
    }
   ],
   "source": [
    "scoring = ['mean_absolute_error']\n",
    "scores = cross_validate(linear, X_test, y_test, scoring=scoring,\n",
    "                         cv=5)\n",
    "scores"
   ]
  },
  {
   "cell_type": "markdown",
   "metadata": {},
   "source": [
    "On average, we're $14,527 off from the correct weekly revenue. This is not great."
   ]
  },
  {
   "cell_type": "markdown",
   "metadata": {},
   "source": [
    "### Ridge Regression"
   ]
  },
  {
   "cell_type": "code",
   "execution_count": 156,
   "metadata": {},
   "outputs": [],
   "source": [
    "#Create the Regression model:\n",
    "ridge = Ridge(alpha=0.01, normalize=True)\n",
    "ridge.fit(X_train, y_train)\n",
    "\n",
    "#Making predictions\n",
    "y_pred = ridge.predict(X_test)"
   ]
  },
  {
   "cell_type": "code",
   "execution_count": 157,
   "metadata": {},
   "outputs": [
    {
     "data": {
      "text/plain": [
       "0.09220802616039281"
      ]
     },
     "execution_count": 157,
     "metadata": {},
     "output_type": "execute_result"
    }
   ],
   "source": [
    "#Inverse Transform only works when the data is in the original shape of the dataframe used to train the scaler, so\n",
    "#we create a new dataframe to get the weekly sales.\n",
    "prediction_df['Weekly_Sales'] = y_pred\n",
    "y_pred = scaler.inverse_transform(prediction_df)[:,2]\n",
    "\n",
    "ridge.score(X_test, y_test)"
   ]
  },
  {
   "cell_type": "markdown",
   "metadata": {},
   "source": [
    "Like above, we still have 9.22% of the variance accounted by the model."
   ]
  },
  {
   "cell_type": "code",
   "execution_count": 158,
   "metadata": {},
   "outputs": [
    {
     "data": {
      "text/plain": [
       "14520.916446280567"
      ]
     },
     "execution_count": 158,
     "metadata": {},
     "output_type": "execute_result"
    }
   ],
   "source": [
    "mean_absolute_error(y_true, y_pred)"
   ]
  },
  {
   "cell_type": "markdown",
   "metadata": {},
   "source": [
    "We're approximately doing $6 better than the simple linear regression, which is an improvement so small that it could be ignored."
   ]
  },
  {
   "cell_type": "markdown",
   "metadata": {},
   "source": [
    "### Lasso"
   ]
  },
  {
   "cell_type": "code",
   "execution_count": 159,
   "metadata": {},
   "outputs": [],
   "source": [
    "#Create the Regression model:\n",
    "lasso = Lasso(alpha=0.01)\n",
    "lasso.fit(X_train, y_train)\n",
    "\n",
    "#Making predictions\n",
    "y_pred = lasso.predict(X_test)"
   ]
  },
  {
   "cell_type": "code",
   "execution_count": 160,
   "metadata": {},
   "outputs": [
    {
     "data": {
      "text/plain": [
       "0.0882524306682001"
      ]
     },
     "execution_count": 160,
     "metadata": {},
     "output_type": "execute_result"
    }
   ],
   "source": [
    "#Inverse Transform only works when the data is in the original shape of the dataframe used to train the scaler, so\n",
    "#we create a new dataframe to get the weekly sales.\n",
    "prediction_df['Weekly_Sales'] = y_pred\n",
    "y_pred = scaler.inverse_transform(prediction_df)[:,2]\n",
    "\n",
    "lasso.score(X_test, y_test)"
   ]
  },
  {
   "cell_type": "markdown",
   "metadata": {},
   "source": [
    "Approximately 8.8% of the variance is accounted for by our model. This makes sense, since Lasso Regression actually shrinks the influence of variables it determines to be unimportant to 0, which may decrease the R^2 value."
   ]
  },
  {
   "cell_type": "code",
   "execution_count": 161,
   "metadata": {},
   "outputs": [
    {
     "data": {
      "text/plain": [
       "14511.796364730018"
      ]
     },
     "execution_count": 161,
     "metadata": {},
     "output_type": "execute_result"
    }
   ],
   "source": [
    "mean_absolute_error(y_true, y_pred)"
   ]
  },
  {
   "cell_type": "markdown",
   "metadata": {},
   "source": [
    "It does slightly better than both ridge and simple linear regression, but the improvement is quite small.\n",
    "\n",
    "Since Lasso regression also provides a method by which you can look at the amount of variance your model contributes, it might be helpful to take a look."
   ]
  },
  {
   "cell_type": "code",
   "execution_count": 171,
   "metadata": {},
   "outputs": [
    {
     "data": {
      "image/png": "[encoded data removed]",
      "text/plain": [
       "<Figure size 432x288 with 1 Axes>"
      ]
     },
     "metadata": {
      "needs_background": "light"
     },
     "output_type": "display_data"
    }
   ],
   "source": [
    "lasso_coef = lasso.fit(X_train, y_train).coef_\n",
    "plt.bar(range(len(lasso_coef)), lasso_coef)\n",
    "plt.xticks(range(len(lasso_coef)), X,rotation=90)\n",
    "plt.show()"
   ]
  },
  {
   "cell_type": "markdown",
   "metadata": {},
   "source": [
    "### RandomForest Regressor"
   ]
  },
  {
   "cell_type": "code",
   "execution_count": 173,
   "metadata": {},
   "outputs": [
    {
     "name": "stderr",
     "output_type": "stream",
     "text": [
      "C:\\Users\\songs\\Anaconda3\\lib\\site-packages\\sklearn\\ensemble\\forest.py:245: FutureWarning: The default value of n_estimators will change from 10 in version 0.20 to 100 in 0.22.\n",
      "  \"10 in version 0.20 to 100 in 0.22.\", FutureWarning)\n"
     ]
    },
    {
     "data": {
      "text/plain": [
       "0.9445499496860893"
      ]
     },
     "execution_count": 173,
     "metadata": {},
     "output_type": "execute_result"
    }
   ],
   "source": [
    "rf = RandomForestRegressor()\n",
    "rf.fit(X_train, y_train)\n",
    "y_pred = rf.predict(X_test)\n",
    "prediction_df['Weekly_Sales'] = y_pred\n",
    "y_pred = scaler.inverse_transform(prediction_df)[:,2]\n",
    "\n",
    "rf.score(X_test, y_test)"
   ]
  },
  {
   "cell_type": "markdown",
   "metadata": {},
   "source": [
    "??? This seems suspicious."
   ]
  },
  {
   "cell_type": "code",
   "execution_count": 174,
   "metadata": {},
   "outputs": [
    {
     "data": {
      "text/plain": [
       "2027.0064192321151"
      ]
     },
     "execution_count": 174,
     "metadata": {},
     "output_type": "execute_result"
    }
   ],
   "source": [
    "mean_absolute_error(y_true, y_pred)"
   ]
  },
  {
   "cell_type": "markdown",
   "metadata": {},
   "source": [
    "??? This seems suspicious, as the top competition result on kaggle had a mean absolute error of $2300... ASK THYAGO"
   ]
  },
  {
   "cell_type": "code",
   "execution_count": null,
   "metadata": {},
   "outputs": [],
   "source": []
  }
 ],
 "metadata": {
  "kernelspec": {
   "display_name": "Python 3",
   "language": "python",
   "name": "python3"
  },
  "language_info": {
   "codemirror_mode": {
    "name": "ipython",
    "version": 3
   },
   "file_extension": ".py",
   "mimetype": "text/x-python",
   "name": "python",
   "nbconvert_exporter": "python",
   "pygments_lexer": "ipython3",
   "version": "3.7.3"
  }
 },
 "nbformat": 4,
 "nbformat_minor": 2
}
