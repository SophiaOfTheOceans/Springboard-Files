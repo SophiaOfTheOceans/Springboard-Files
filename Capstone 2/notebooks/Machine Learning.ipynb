{
 "cells": [
  {
   "cell_type": "markdown",
   "metadata": {},
   "source": [
    "# Model Creation"
   ]
  },
  {
   "cell_type": "markdown",
   "metadata": {},
   "source": [
    "After cleaning and getting a preliminary idea of the data, we're going to fit several models and evaluate them using the Mean Absolute Error (MAE). The models I'm going to try are:\n",
    "\n",
    "* Linear Regression\n",
    "* Ridge Regression\n",
    "* Lasso Regression\n",
    "* RandomForestRegressor\n",
    "\n",
    "For the metrics, I'm also using the mean absolute error to tell a more concrete story of how well our model is performing. Instead of mean squared error, I used mean absolute error because we have several large outliers and I don't want our metric to be skewed by the large errors that'd be generated when we try to predict them using a model meant for typical revenue. It's also more interpretable, with the error returned simply being how many dollars, on average, we're off from the actual weekly revenue."
   ]
  },
  {
   "cell_type": "code",
   "execution_count": 54,
   "metadata": {},
   "outputs": [],
   "source": [
    "#Importing necessary modules\n",
    "from sklearn.preprocessing import StandardScaler\n",
    "from sklearn.model_selection import train_test_split\n",
    "from sklearn.linear_model import LinearRegression, Ridge, Lasso\n",
    "import pandas as pd\n",
    "from statsmodels.formula.api import ols\n",
    "from sklearn.decomposition import PCA\n",
    "from sklearn.metrics import mean_absolute_error\n",
    "import matplotlib.pyplot as plt\n",
    "from sklearn.ensemble import RandomForestRegressor\n",
    "from sklearn.model_selection import cross_val_score\n",
    "from sklearn.feature_selection import RFE\n",
    "import numpy as np\n",
    "from sklearn.model_selection import GridSearchCV\n",
    "from tqdm import tqdm"
   ]
  },
  {
   "cell_type": "markdown",
   "metadata": {},
   "source": [
    "## Reading in the original data"
   ]
  },
  {
   "cell_type": "code",
   "execution_count": 55,
   "metadata": {},
   "outputs": [
    {
     "data": {
      "text/html": [
       "<div>\n",
       "<style scoped>\n",
       "    .dataframe tbody tr th:only-of-type {\n",
       "        vertical-align: middle;\n",
       "    }\n",
       "\n",
       "    .dataframe tbody tr th {\n",
       "        vertical-align: top;\n",
       "    }\n",
       "\n",
       "    .dataframe thead th {\n",
       "        text-align: right;\n",
       "    }\n",
       "</style>\n",
       "<table border=\"1\" class=\"dataframe\">\n",
       "  <thead>\n",
       "    <tr style=\"text-align: right;\">\n",
       "      <th></th>\n",
       "      <th>Store</th>\n",
       "      <th>Dept</th>\n",
       "      <th>Weekly_Sales</th>\n",
       "      <th>IsHoliday</th>\n",
       "      <th>Temperature</th>\n",
       "      <th>Fuel_Price</th>\n",
       "      <th>MarkDown1</th>\n",
       "      <th>MarkDown2</th>\n",
       "      <th>MarkDown3</th>\n",
       "      <th>MarkDown4</th>\n",
       "      <th>...</th>\n",
       "      <th>Week_of_year</th>\n",
       "      <th>Day</th>\n",
       "      <th>Median_Sales</th>\n",
       "      <th>IsThanksgiving</th>\n",
       "      <th>IsChristmas</th>\n",
       "      <th>IsPreChristmas</th>\n",
       "      <th>Lagged_Value</th>\n",
       "      <th>Lag_Available</th>\n",
       "      <th>Diff_from_Med</th>\n",
       "      <th>IsDept72</th>\n",
       "    </tr>\n",
       "  </thead>\n",
       "  <tbody>\n",
       "    <tr>\n",
       "      <th>106604</th>\n",
       "      <td>1</td>\n",
       "      <td>1</td>\n",
       "      <td>46039.49</td>\n",
       "      <td>True</td>\n",
       "      <td>38.51</td>\n",
       "      <td>2.548</td>\n",
       "      <td>0.0</td>\n",
       "      <td>0.0</td>\n",
       "      <td>0.0</td>\n",
       "      <td>0.0</td>\n",
       "      <td>...</td>\n",
       "      <td>6</td>\n",
       "      <td>12</td>\n",
       "      <td>19239.405</td>\n",
       "      <td>False</td>\n",
       "      <td>False</td>\n",
       "      <td>False</td>\n",
       "      <td>19239.405</td>\n",
       "      <td>False</td>\n",
       "      <td>0.000</td>\n",
       "      <td>False</td>\n",
       "    </tr>\n",
       "    <tr>\n",
       "      <th>106610</th>\n",
       "      <td>1</td>\n",
       "      <td>1</td>\n",
       "      <td>19403.54</td>\n",
       "      <td>False</td>\n",
       "      <td>46.63</td>\n",
       "      <td>2.561</td>\n",
       "      <td>0.0</td>\n",
       "      <td>0.0</td>\n",
       "      <td>0.0</td>\n",
       "      <td>0.0</td>\n",
       "      <td>...</td>\n",
       "      <td>8</td>\n",
       "      <td>26</td>\n",
       "      <td>19239.405</td>\n",
       "      <td>False</td>\n",
       "      <td>False</td>\n",
       "      <td>False</td>\n",
       "      <td>19239.405</td>\n",
       "      <td>False</td>\n",
       "      <td>0.000</td>\n",
       "      <td>False</td>\n",
       "    </tr>\n",
       "    <tr>\n",
       "      <th>106598</th>\n",
       "      <td>1</td>\n",
       "      <td>1</td>\n",
       "      <td>21827.90</td>\n",
       "      <td>False</td>\n",
       "      <td>46.50</td>\n",
       "      <td>2.625</td>\n",
       "      <td>0.0</td>\n",
       "      <td>0.0</td>\n",
       "      <td>0.0</td>\n",
       "      <td>0.0</td>\n",
       "      <td>...</td>\n",
       "      <td>9</td>\n",
       "      <td>5</td>\n",
       "      <td>19239.405</td>\n",
       "      <td>False</td>\n",
       "      <td>False</td>\n",
       "      <td>False</td>\n",
       "      <td>19403.540</td>\n",
       "      <td>True</td>\n",
       "      <td>164.135</td>\n",
       "      <td>False</td>\n",
       "    </tr>\n",
       "    <tr>\n",
       "      <th>106620</th>\n",
       "      <td>1</td>\n",
       "      <td>1</td>\n",
       "      <td>21043.39</td>\n",
       "      <td>False</td>\n",
       "      <td>57.79</td>\n",
       "      <td>2.667</td>\n",
       "      <td>0.0</td>\n",
       "      <td>0.0</td>\n",
       "      <td>0.0</td>\n",
       "      <td>0.0</td>\n",
       "      <td>...</td>\n",
       "      <td>10</td>\n",
       "      <td>12</td>\n",
       "      <td>19239.405</td>\n",
       "      <td>False</td>\n",
       "      <td>False</td>\n",
       "      <td>False</td>\n",
       "      <td>21827.900</td>\n",
       "      <td>True</td>\n",
       "      <td>2588.495</td>\n",
       "      <td>False</td>\n",
       "    </tr>\n",
       "    <tr>\n",
       "      <th>106607</th>\n",
       "      <td>1</td>\n",
       "      <td>1</td>\n",
       "      <td>57258.43</td>\n",
       "      <td>False</td>\n",
       "      <td>62.27</td>\n",
       "      <td>2.719</td>\n",
       "      <td>0.0</td>\n",
       "      <td>0.0</td>\n",
       "      <td>0.0</td>\n",
       "      <td>0.0</td>\n",
       "      <td>...</td>\n",
       "      <td>13</td>\n",
       "      <td>2</td>\n",
       "      <td>19239.405</td>\n",
       "      <td>False</td>\n",
       "      <td>False</td>\n",
       "      <td>False</td>\n",
       "      <td>19239.405</td>\n",
       "      <td>False</td>\n",
       "      <td>0.000</td>\n",
       "      <td>False</td>\n",
       "    </tr>\n",
       "  </tbody>\n",
       "</table>\n",
       "<p>5 rows × 30 columns</p>\n",
       "</div>"
      ],
      "text/plain": [
       "        Store  Dept  Weekly_Sales  IsHoliday  Temperature  Fuel_Price  \\\n",
       "106604      1     1      46039.49       True        38.51       2.548   \n",
       "106610      1     1      19403.54      False        46.63       2.561   \n",
       "106598      1     1      21827.90      False        46.50       2.625   \n",
       "106620      1     1      21043.39      False        57.79       2.667   \n",
       "106607      1     1      57258.43      False        62.27       2.719   \n",
       "\n",
       "        MarkDown1  MarkDown2  MarkDown3  MarkDown4  ...  Week_of_year  Day  \\\n",
       "106604        0.0        0.0        0.0        0.0  ...             6   12   \n",
       "106610        0.0        0.0        0.0        0.0  ...             8   26   \n",
       "106598        0.0        0.0        0.0        0.0  ...             9    5   \n",
       "106620        0.0        0.0        0.0        0.0  ...            10   12   \n",
       "106607        0.0        0.0        0.0        0.0  ...            13    2   \n",
       "\n",
       "        Median_Sales  IsThanksgiving  IsChristmas  IsPreChristmas  \\\n",
       "106604     19239.405           False        False           False   \n",
       "106610     19239.405           False        False           False   \n",
       "106598     19239.405           False        False           False   \n",
       "106620     19239.405           False        False           False   \n",
       "106607     19239.405           False        False           False   \n",
       "\n",
       "        Lagged_Value  Lag_Available  Diff_from_Med  IsDept72  \n",
       "106604     19239.405          False          0.000     False  \n",
       "106610     19239.405          False          0.000     False  \n",
       "106598     19403.540           True        164.135     False  \n",
       "106620     21827.900           True       2588.495     False  \n",
       "106607     19239.405          False          0.000     False  \n",
       "\n",
       "[5 rows x 30 columns]"
      ]
     },
     "execution_count": 55,
     "metadata": {},
     "output_type": "execute_result"
    }
   ],
   "source": [
    "#Reading in the original test data\n",
    "df = pd.read_csv(r'C:\\Users\\songs\\Desktop\\Springboard Files\\Springboard-Files\\Capstone 2\\data\\Interim\\train_all_features.csv', \n",
    "                 index_col=0)\n",
    "df.head()"
   ]
  },
  {
   "cell_type": "markdown",
   "metadata": {},
   "source": [
    "## Feature Selection\n",
    "\n",
    "First, I'm going to see whether the logged revenue or the original revenue generates less error for each model. After finding that, I would then do feature selection to find the most important features for that particular model."
   ]
  },
  {
   "cell_type": "markdown",
   "metadata": {},
   "source": [
    "### Determining whether to use logged or unlogged values"
   ]
  },
  {
   "cell_type": "code",
   "execution_count": 56,
   "metadata": {},
   "outputs": [],
   "source": [
    "#Creating Features and Target\n",
    "X = df.drop(['Weekly_Sales','log_revenue'], axis=1).values\n",
    "y_log = df['log_revenue'].values\n",
    "y_not = df['Weekly_Sales'].values"
   ]
  },
  {
   "cell_type": "markdown",
   "metadata": {},
   "source": [
    "As we're going to be doing this a lot, I wrote a function to split the data into training and testing set, fit the model (without any hyperparameter tuning), and evaluate the model."
   ]
  },
  {
   "cell_type": "code",
   "execution_count": 57,
   "metadata": {},
   "outputs": [],
   "source": [
    "#Function for creating training and testing dataset\n",
    "def mean_abs_error(y,model):\n",
    "    X_train, X_test, y_train, y_test = train_test_split(X, y, test_size=0.3)\n",
    "    model.fit(X_train, y_train)\n",
    "    y_pred = model.predict(X_test)\n",
    "    if (y == y_log).all():\n",
    "        y_pred = np.exp(y_pred) - 4989.94\n",
    "        y_true = np.exp(y_test)\n",
    "    else:\n",
    "        y_true = y_test\n",
    "    return mean_absolute_error(y_true, y_pred)"
   ]
  },
  {
   "cell_type": "markdown",
   "metadata": {},
   "source": [
    "#### Linear Regression"
   ]
  },
  {
   "cell_type": "code",
   "execution_count": 58,
   "metadata": {},
   "outputs": [
    {
     "name": "stdout",
     "output_type": "stream",
     "text": [
      "The mean absolute error calculated using the logged values is 46431.79\n",
      "The mean absolute error calculated using the original values is 2244.92\n"
     ]
    }
   ],
   "source": [
    "#Linear\n",
    "linear = LinearRegression()\n",
    "\n",
    "print(\"The mean absolute error calculated using the logged values is \" + str(round(mean_abs_error(y_log,linear),2)))\n",
    "print(\"The mean absolute error calculated using the original values is \" + str(round(mean_abs_error(y_not,linear),2)))"
   ]
  },
  {
   "cell_type": "markdown",
   "metadata": {},
   "source": [
    "It's clear that the original values perform better. Next, we're going to test RandomForestRegressor. I didn't test Lasso and Ridge regression because they're very similar to Linear Regression, and the dataset that performs better for Linear Regression is likely to replicate its success for Lasso and Ridge Regression."
   ]
  },
  {
   "cell_type": "markdown",
   "metadata": {},
   "source": [
    "#### RandomForestRegressor"
   ]
  },
  {
   "cell_type": "code",
   "execution_count": 59,
   "metadata": {},
   "outputs": [
    {
     "name": "stderr",
     "output_type": "stream",
     "text": [
      "C:\\Users\\songs\\Anaconda3\\lib\\site-packages\\sklearn\\ensemble\\forest.py:245: FutureWarning: The default value of n_estimators will change from 10 in version 0.20 to 100 in 0.22.\n",
      "  \"10 in version 0.20 to 100 in 0.22.\", FutureWarning)\n"
     ]
    },
    {
     "name": "stdout",
     "output_type": "stream",
     "text": [
      "The mean absolute error calculated using the logged values is 5482.54\n",
      "The mean absolute error calculated using the original values is 1915.93\n"
     ]
    }
   ],
   "source": [
    "#RandomForestRegressor\n",
    "rf = RandomForestRegressor()\n",
    "\n",
    "print(\"The mean absolute error calculated using the logged values is \" + str(round(mean_abs_error(y_log,rf),2)))\n",
    "print(\"The mean absolute error calculated using the original values is \" + str(round(mean_abs_error(y_not,rf),2)))"
   ]
  },
  {
   "cell_type": "markdown",
   "metadata": {},
   "source": [
    "In both cases, it appears that we should predict using the original values as they generate the smaller MAE.\n",
    "\n",
    "### RFE feature selector for Linear Regression model\n",
    "\n",
    "Next, we're going to try to eliminate some of the extraneous features for Linear Regression and its relatives (Lasso and Ridge Regression). I didn't do this for RandomForestRegressor because it has a built-in feature that measures feature importance."
   ]
  },
  {
   "cell_type": "code",
   "execution_count": 60,
   "metadata": {},
   "outputs": [],
   "source": [
    "#Train Test Split on original revenue.\n",
    "X_train, X_test, y_train, y_test = train_test_split(X, y_not, test_size=0.3)"
   ]
  },
  {
   "cell_type": "markdown",
   "metadata": {},
   "source": [
    "First, we find the optimal number of features for our linear regression model, which we defined above (linear) when comparing prelimary results between logged and unlogged values."
   ]
  },
  {
   "cell_type": "code",
   "execution_count": 61,
   "metadata": {},
   "outputs": [
    {
     "name": "stderr",
     "output_type": "stream",
     "text": [
      "\n",
      "  0%|                                                                                           | 0/27 [00:00<?, ?it/s]\n",
      "  4%|███                                                                                | 1/27 [00:04<01:49,  4.20s/it]\n",
      "  7%|██████▏                                                                            | 2/27 [00:07<01:41,  4.06s/it]\n",
      " 11%|█████████▏                                                                         | 3/27 [00:11<01:35,  3.99s/it]\n",
      " 15%|████████████▎                                                                      | 4/27 [00:16<01:34,  4.10s/it]\n",
      " 19%|███████████████▎                                                                   | 5/27 [00:19<01:28,  4.02s/it]\n",
      " 22%|██████████████████▍                                                                | 6/27 [00:24<01:25,  4.08s/it]\n",
      " 26%|█████████████████████▌                                                             | 7/27 [00:27<01:19,  3.98s/it]\n",
      " 30%|████████████████████████▌                                                          | 8/27 [00:31<01:14,  3.90s/it]\n",
      " 33%|███████████████████████████▋                                                       | 9/27 [00:35<01:09,  3.88s/it]\n",
      " 37%|██████████████████████████████▎                                                   | 10/27 [00:39<01:05,  3.84s/it]\n",
      " 41%|█████████████████████████████████▍                                                | 11/27 [00:43<01:01,  3.87s/it]\n",
      " 44%|████████████████████████████████████▍                                             | 12/27 [00:46<00:57,  3.82s/it]\n",
      " 48%|███████████████████████████████████████▍                                          | 13/27 [00:50<00:52,  3.77s/it]\n",
      " 52%|██████████████████████████████████████████▌                                       | 14/27 [00:54<00:49,  3.80s/it]\n",
      " 56%|█████████████████████████████████████████████▌                                    | 15/27 [00:57<00:44,  3.68s/it]\n",
      " 59%|████████████████████████████████████████████████▌                                 | 16/27 [01:01<00:39,  3.63s/it]\n",
      " 63%|███████████████████████████████████████████████████▋                              | 17/27 [01:04<00:36,  3.62s/it]\n",
      " 67%|██████████████████████████████████████████████████████▋                           | 18/27 [01:08<00:31,  3.47s/it]\n",
      " 70%|█████████████████████████████████████████████████████████▋                        | 19/27 [01:11<00:26,  3.36s/it]\n",
      " 74%|████████████████████████████████████████████████████████████▋                     | 20/27 [01:14<00:22,  3.23s/it]\n",
      " 78%|███████████████████████████████████████████████████████████████▊                  | 21/27 [01:16<00:18,  3.08s/it]\n",
      " 81%|██████████████████████████████████████████████████████████████████▊               | 22/27 [01:19<00:14,  2.94s/it]\n",
      " 85%|█████████████████████████████████████████████████████████████████████▊            | 23/27 [01:21<00:11,  2.80s/it]\n",
      " 89%|████████████████████████████████████████████████████████████████████████▉         | 24/27 [01:24<00:07,  2.66s/it]\n",
      " 93%|███████████████████████████████████████████████████████████████████████████▉      | 25/27 [01:26<00:05,  2.53s/it]\n",
      " 96%|██████████████████████████████████████████████████████████████████████████████▉   | 26/27 [01:28<00:02,  2.39s/it]\n",
      "100%|██████████████████████████████████████████████████████████████████████████████████| 27/27 [01:30<00:00,  2.24s/it]"
     ]
    },
    {
     "name": "stdout",
     "output_type": "stream",
     "text": [
      "25 2213.32\n"
     ]
    }
   ],
   "source": [
    "#Total number of features\n",
    "n_features = len(df.drop(['Weekly_Sales','log_revenue'], axis=1).columns)\n",
    "options = np.arange(1,n_features)\n",
    "low_score = 4000 #A number we're certainly going to be lower than\n",
    "nof = 0\n",
    "\n",
    "#Fitting model\n",
    "for n in tqdm(range(len(options))):\n",
    "    \n",
    "    #Creating model\n",
    "    rfe = RFE(linear, options[n])\n",
    "    X_train_rfe = rfe.fit_transform(X_train,y_train)\n",
    "    X_test_rfe = rfe.transform(X_test)\n",
    "    \n",
    "    #Fitting model\n",
    "    linear.fit(X_train_rfe,y_train)\n",
    "    y_pred = linear.predict(X_test_rfe)\n",
    "    score = mean_absolute_error(y_test, y_pred)\n",
    "    if(score<low_score):\n",
    "        low_score = score\n",
    "        nof = options[n]\n",
    "    \n",
    "print(nof, round(low_score,2))"
   ]
  },
  {
   "cell_type": "markdown",
   "metadata": {},
   "source": [
    "It appears that a linear regression model with 26 features performs the best, with a mean absolute error or 2215.84 dollars. That is 22 dollars less than our preliminary model without any feature selection, so it is an improvement. Now let's find out what those features are."
   ]
  },
  {
   "cell_type": "code",
   "execution_count": 62,
   "metadata": {},
   "outputs": [
    {
     "data": {
      "text/plain": [
       "Store              True\n",
       "Dept               True\n",
       "IsHoliday          True\n",
       "Temperature        True\n",
       "Fuel_Price         True\n",
       "MarkDown1          True\n",
       "MarkDown2          True\n",
       "MarkDown3          True\n",
       "MarkDown4         False\n",
       "MarkDown5         False\n",
       "CPI                True\n",
       "Unemployment       True\n",
       "Size              False\n",
       "Type_A             True\n",
       "Type_C             True\n",
       "IsMarkDown         True\n",
       "Year               True\n",
       "Month              True\n",
       "Week_of_year       True\n",
       "Day                True\n",
       "Median_Sales       True\n",
       "IsThanksgiving     True\n",
       "IsChristmas        True\n",
       "IsPreChristmas     True\n",
       "Lagged_Value       True\n",
       "Lag_Available      True\n",
       "Diff_from_Med      True\n",
       "IsDept72           True\n",
       "dtype: bool"
      ]
     },
     "execution_count": 62,
     "metadata": {},
     "output_type": "execute_result"
    }
   ],
   "source": [
    "#Initializing RFE model and transforming the data with it.\n",
    "rfe_linear = RFE(linear, nof)\n",
    "X_rfe = rfe_linear.fit_transform(X_train,y_train)\n",
    "\n",
    "#Fitting the data to model\n",
    "linear.fit(X_rfe,y_train)\n",
    "\n",
    "#Visualizing which ones are most important\n",
    "cols = list(df.drop(['Weekly_Sales','log_revenue'],axis=1).columns)\n",
    "\n",
    "temp = pd.Series(rfe_linear.support_,index = cols)\n",
    "temp"
   ]
  },
  {
   "cell_type": "markdown",
   "metadata": {},
   "source": [
    "As it apears, the size is not important for predicting the revenue generated. This is surprising, but perhaps the type attribute already covered information about size."
   ]
  },
  {
   "cell_type": "code",
   "execution_count": 100,
   "metadata": {},
   "outputs": [
    {
     "data": {
      "text/html": [
       "<div>\n",
       "<style scoped>\n",
       "    .dataframe tbody tr th:only-of-type {\n",
       "        vertical-align: middle;\n",
       "    }\n",
       "\n",
       "    .dataframe tbody tr th {\n",
       "        vertical-align: top;\n",
       "    }\n",
       "\n",
       "    .dataframe thead th {\n",
       "        text-align: right;\n",
       "    }\n",
       "</style>\n",
       "<table border=\"1\" class=\"dataframe\">\n",
       "  <thead>\n",
       "    <tr style=\"text-align: right;\">\n",
       "      <th></th>\n",
       "      <th>Store</th>\n",
       "      <th>Dept</th>\n",
       "      <th>IsHoliday</th>\n",
       "      <th>Temperature</th>\n",
       "      <th>Fuel_Price</th>\n",
       "      <th>MarkDown1</th>\n",
       "      <th>MarkDown2</th>\n",
       "      <th>MarkDown3</th>\n",
       "      <th>CPI</th>\n",
       "      <th>Unemployment</th>\n",
       "      <th>...</th>\n",
       "      <th>Day</th>\n",
       "      <th>Median_Sales</th>\n",
       "      <th>IsThanksgiving</th>\n",
       "      <th>IsChristmas</th>\n",
       "      <th>IsPreChristmas</th>\n",
       "      <th>Lagged_Value</th>\n",
       "      <th>Lag_Available</th>\n",
       "      <th>Diff_from_Med</th>\n",
       "      <th>IsDept72</th>\n",
       "      <th>Weekly_Sales</th>\n",
       "    </tr>\n",
       "  </thead>\n",
       "  <tbody>\n",
       "    <tr>\n",
       "      <th>106604</th>\n",
       "      <td>1</td>\n",
       "      <td>1</td>\n",
       "      <td>True</td>\n",
       "      <td>38.51</td>\n",
       "      <td>2.548</td>\n",
       "      <td>0.0</td>\n",
       "      <td>0.0</td>\n",
       "      <td>0.0</td>\n",
       "      <td>211.242170</td>\n",
       "      <td>8.106</td>\n",
       "      <td>...</td>\n",
       "      <td>12</td>\n",
       "      <td>19239.405</td>\n",
       "      <td>False</td>\n",
       "      <td>False</td>\n",
       "      <td>False</td>\n",
       "      <td>19239.405</td>\n",
       "      <td>False</td>\n",
       "      <td>0.000</td>\n",
       "      <td>False</td>\n",
       "      <td>46039.49</td>\n",
       "    </tr>\n",
       "    <tr>\n",
       "      <th>106610</th>\n",
       "      <td>1</td>\n",
       "      <td>1</td>\n",
       "      <td>False</td>\n",
       "      <td>46.63</td>\n",
       "      <td>2.561</td>\n",
       "      <td>0.0</td>\n",
       "      <td>0.0</td>\n",
       "      <td>0.0</td>\n",
       "      <td>211.319643</td>\n",
       "      <td>8.106</td>\n",
       "      <td>...</td>\n",
       "      <td>26</td>\n",
       "      <td>19239.405</td>\n",
       "      <td>False</td>\n",
       "      <td>False</td>\n",
       "      <td>False</td>\n",
       "      <td>19239.405</td>\n",
       "      <td>False</td>\n",
       "      <td>0.000</td>\n",
       "      <td>False</td>\n",
       "      <td>19403.54</td>\n",
       "    </tr>\n",
       "    <tr>\n",
       "      <th>106598</th>\n",
       "      <td>1</td>\n",
       "      <td>1</td>\n",
       "      <td>False</td>\n",
       "      <td>46.50</td>\n",
       "      <td>2.625</td>\n",
       "      <td>0.0</td>\n",
       "      <td>0.0</td>\n",
       "      <td>0.0</td>\n",
       "      <td>211.350143</td>\n",
       "      <td>8.106</td>\n",
       "      <td>...</td>\n",
       "      <td>5</td>\n",
       "      <td>19239.405</td>\n",
       "      <td>False</td>\n",
       "      <td>False</td>\n",
       "      <td>False</td>\n",
       "      <td>19403.540</td>\n",
       "      <td>True</td>\n",
       "      <td>164.135</td>\n",
       "      <td>False</td>\n",
       "      <td>21827.90</td>\n",
       "    </tr>\n",
       "    <tr>\n",
       "      <th>106620</th>\n",
       "      <td>1</td>\n",
       "      <td>1</td>\n",
       "      <td>False</td>\n",
       "      <td>57.79</td>\n",
       "      <td>2.667</td>\n",
       "      <td>0.0</td>\n",
       "      <td>0.0</td>\n",
       "      <td>0.0</td>\n",
       "      <td>211.380643</td>\n",
       "      <td>8.106</td>\n",
       "      <td>...</td>\n",
       "      <td>12</td>\n",
       "      <td>19239.405</td>\n",
       "      <td>False</td>\n",
       "      <td>False</td>\n",
       "      <td>False</td>\n",
       "      <td>21827.900</td>\n",
       "      <td>True</td>\n",
       "      <td>2588.495</td>\n",
       "      <td>False</td>\n",
       "      <td>21043.39</td>\n",
       "    </tr>\n",
       "    <tr>\n",
       "      <th>106607</th>\n",
       "      <td>1</td>\n",
       "      <td>1</td>\n",
       "      <td>False</td>\n",
       "      <td>62.27</td>\n",
       "      <td>2.719</td>\n",
       "      <td>0.0</td>\n",
       "      <td>0.0</td>\n",
       "      <td>0.0</td>\n",
       "      <td>210.820450</td>\n",
       "      <td>7.808</td>\n",
       "      <td>...</td>\n",
       "      <td>2</td>\n",
       "      <td>19239.405</td>\n",
       "      <td>False</td>\n",
       "      <td>False</td>\n",
       "      <td>False</td>\n",
       "      <td>19239.405</td>\n",
       "      <td>False</td>\n",
       "      <td>0.000</td>\n",
       "      <td>False</td>\n",
       "      <td>57258.43</td>\n",
       "    </tr>\n",
       "  </tbody>\n",
       "</table>\n",
       "<p>5 rows × 26 columns</p>\n",
       "</div>"
      ],
      "text/plain": [
       "        Store  Dept  IsHoliday  Temperature  Fuel_Price  MarkDown1  MarkDown2  \\\n",
       "106604      1     1       True        38.51       2.548        0.0        0.0   \n",
       "106610      1     1      False        46.63       2.561        0.0        0.0   \n",
       "106598      1     1      False        46.50       2.625        0.0        0.0   \n",
       "106620      1     1      False        57.79       2.667        0.0        0.0   \n",
       "106607      1     1      False        62.27       2.719        0.0        0.0   \n",
       "\n",
       "        MarkDown3         CPI  Unemployment  ...  Day  Median_Sales  \\\n",
       "106604        0.0  211.242170         8.106  ...   12     19239.405   \n",
       "106610        0.0  211.319643         8.106  ...   26     19239.405   \n",
       "106598        0.0  211.350143         8.106  ...    5     19239.405   \n",
       "106620        0.0  211.380643         8.106  ...   12     19239.405   \n",
       "106607        0.0  210.820450         7.808  ...    2     19239.405   \n",
       "\n",
       "        IsThanksgiving  IsChristmas  IsPreChristmas  Lagged_Value  \\\n",
       "106604           False        False           False     19239.405   \n",
       "106610           False        False           False     19239.405   \n",
       "106598           False        False           False     19403.540   \n",
       "106620           False        False           False     21827.900   \n",
       "106607           False        False           False     19239.405   \n",
       "\n",
       "        Lag_Available  Diff_from_Med  IsDept72  Weekly_Sales  \n",
       "106604          False          0.000     False      46039.49  \n",
       "106610          False          0.000     False      19403.54  \n",
       "106598           True        164.135     False      21827.90  \n",
       "106620           True       2588.495     False      21043.39  \n",
       "106607          False          0.000     False      57258.43  \n",
       "\n",
       "[5 rows x 26 columns]"
      ]
     },
     "execution_count": 100,
     "metadata": {},
     "output_type": "execute_result"
    }
   ],
   "source": [
    "selected_features_rfe_linear = list(temp[temp==True].index)\n",
    "\n",
    "#Creating and saving the resulting dataframe\n",
    "df_linear = df[selected_features_rfe_linear]\n",
    "df_linear_revenue = df_linear.join(df['Weekly_Sales'], how='outer')\n",
    "df_linear_revenue.to_csv(r'C:\\Users\\songs\\Desktop\\Springboard Files\\Springboard-Files\\Capstone 2\\data\\Interim\\original_train_linear.csv')\n",
    "df_linear_revenue.head()"
   ]
  },
  {
   "cell_type": "markdown",
   "metadata": {},
   "source": [
    "## Standardizing the data and finding PCA\n",
    "\n",
    "For both the original dataset and the feature selected dataset, I'm going to standardize the features, do principal component analysis (PCA) on them, and compare the mean absolute error generated between the three datasets.\n",
    "\n",
    "### Standardization"
   ]
  },
  {
   "cell_type": "markdown",
   "metadata": {},
   "source": [
    "First, we're going to scale the **feature selected** data"
   ]
  },
  {
   "cell_type": "code",
   "execution_count": 125,
   "metadata": {},
   "outputs": [
    {
     "data": {
      "text/html": [
       "<div>\n",
       "<style scoped>\n",
       "    .dataframe tbody tr th:only-of-type {\n",
       "        vertical-align: middle;\n",
       "    }\n",
       "\n",
       "    .dataframe tbody tr th {\n",
       "        vertical-align: top;\n",
       "    }\n",
       "\n",
       "    .dataframe thead th {\n",
       "        text-align: right;\n",
       "    }\n",
       "</style>\n",
       "<table border=\"1\" class=\"dataframe\">\n",
       "  <thead>\n",
       "    <tr style=\"text-align: right;\">\n",
       "      <th></th>\n",
       "      <th>Store</th>\n",
       "      <th>Dept</th>\n",
       "      <th>IsHoliday</th>\n",
       "      <th>Temperature</th>\n",
       "      <th>Fuel_Price</th>\n",
       "      <th>MarkDown1</th>\n",
       "      <th>MarkDown2</th>\n",
       "      <th>MarkDown3</th>\n",
       "      <th>CPI</th>\n",
       "      <th>Unemployment</th>\n",
       "      <th>...</th>\n",
       "      <th>Day</th>\n",
       "      <th>Median_Sales</th>\n",
       "      <th>IsThanksgiving</th>\n",
       "      <th>IsChristmas</th>\n",
       "      <th>IsPreChristmas</th>\n",
       "      <th>Lagged_Value</th>\n",
       "      <th>Lag_Available</th>\n",
       "      <th>Diff_from_Med</th>\n",
       "      <th>IsDept72</th>\n",
       "      <th>Weekly_Sales</th>\n",
       "    </tr>\n",
       "  </thead>\n",
       "  <tbody>\n",
       "    <tr>\n",
       "      <th>0</th>\n",
       "      <td>-1.658029</td>\n",
       "      <td>-1.419057</td>\n",
       "      <td>3.640258</td>\n",
       "      <td>-1.171151</td>\n",
       "      <td>-1.771255</td>\n",
       "      <td>-0.428104</td>\n",
       "      <td>-0.171766</td>\n",
       "      <td>-0.083882</td>\n",
       "      <td>1.022305</td>\n",
       "      <td>0.073834</td>\n",
       "      <td>...</td>\n",
       "      <td>-0.419545</td>\n",
       "      <td>0.190542</td>\n",
       "      <td>-0.118986</td>\n",
       "      <td>-0.119551</td>\n",
       "      <td>-0.120143</td>\n",
       "      <td>0.158578</td>\n",
       "      <td>-1.381278</td>\n",
       "      <td>-0.092290</td>\n",
       "      <td>-0.120552</td>\n",
       "      <td>87235.57</td>\n",
       "    </tr>\n",
       "    <tr>\n",
       "      <th>1</th>\n",
       "      <td>-1.658029</td>\n",
       "      <td>-1.419057</td>\n",
       "      <td>-0.274706</td>\n",
       "      <td>-0.730958</td>\n",
       "      <td>-1.742908</td>\n",
       "      <td>-0.428104</td>\n",
       "      <td>-0.171766</td>\n",
       "      <td>-0.083882</td>\n",
       "      <td>1.024284</td>\n",
       "      <td>0.073834</td>\n",
       "      <td>...</td>\n",
       "      <td>1.180835</td>\n",
       "      <td>0.190542</td>\n",
       "      <td>-0.118986</td>\n",
       "      <td>-0.119551</td>\n",
       "      <td>-0.120143</td>\n",
       "      <td>0.158578</td>\n",
       "      <td>-1.381278</td>\n",
       "      <td>-0.092290</td>\n",
       "      <td>-0.120552</td>\n",
       "      <td>80254.53</td>\n",
       "    </tr>\n",
       "    <tr>\n",
       "      <th>2</th>\n",
       "      <td>-1.658029</td>\n",
       "      <td>-1.419057</td>\n",
       "      <td>-0.274706</td>\n",
       "      <td>-0.738006</td>\n",
       "      <td>-1.603354</td>\n",
       "      <td>-0.428104</td>\n",
       "      <td>-0.171766</td>\n",
       "      <td>-0.083882</td>\n",
       "      <td>1.025062</td>\n",
       "      <td>0.073834</td>\n",
       "      <td>...</td>\n",
       "      <td>-1.219735</td>\n",
       "      <td>0.190542</td>\n",
       "      <td>-0.118986</td>\n",
       "      <td>-0.119551</td>\n",
       "      <td>-0.120143</td>\n",
       "      <td>0.165984</td>\n",
       "      <td>0.723967</td>\n",
       "      <td>-0.063237</td>\n",
       "      <td>-0.120552</td>\n",
       "      <td>77715.58</td>\n",
       "    </tr>\n",
       "    <tr>\n",
       "      <th>3</th>\n",
       "      <td>-1.658029</td>\n",
       "      <td>-1.419057</td>\n",
       "      <td>-0.274706</td>\n",
       "      <td>-0.125964</td>\n",
       "      <td>-1.511771</td>\n",
       "      <td>-0.428104</td>\n",
       "      <td>-0.171766</td>\n",
       "      <td>-0.083882</td>\n",
       "      <td>1.025841</td>\n",
       "      <td>0.073834</td>\n",
       "      <td>...</td>\n",
       "      <td>-0.419545</td>\n",
       "      <td>0.190542</td>\n",
       "      <td>-0.118986</td>\n",
       "      <td>-0.119551</td>\n",
       "      <td>-0.120143</td>\n",
       "      <td>0.275378</td>\n",
       "      <td>0.723967</td>\n",
       "      <td>0.365888</td>\n",
       "      <td>-0.120552</td>\n",
       "      <td>83599.56</td>\n",
       "    </tr>\n",
       "    <tr>\n",
       "      <th>4</th>\n",
       "      <td>-1.658029</td>\n",
       "      <td>-1.419057</td>\n",
       "      <td>-0.274706</td>\n",
       "      <td>0.116900</td>\n",
       "      <td>-1.398383</td>\n",
       "      <td>-0.428104</td>\n",
       "      <td>-0.171766</td>\n",
       "      <td>-0.083882</td>\n",
       "      <td>1.011536</td>\n",
       "      <td>-0.085692</td>\n",
       "      <td>...</td>\n",
       "      <td>-1.562674</td>\n",
       "      <td>0.190542</td>\n",
       "      <td>-0.118986</td>\n",
       "      <td>-0.119551</td>\n",
       "      <td>-0.120143</td>\n",
       "      <td>0.158578</td>\n",
       "      <td>-1.381278</td>\n",
       "      <td>-0.092290</td>\n",
       "      <td>-0.120552</td>\n",
       "      <td>77876.10</td>\n",
       "    </tr>\n",
       "  </tbody>\n",
       "</table>\n",
       "<p>5 rows × 26 columns</p>\n",
       "</div>"
      ],
      "text/plain": [
       "      Store      Dept  IsHoliday  Temperature  Fuel_Price  MarkDown1  \\\n",
       "0 -1.658029 -1.419057   3.640258    -1.171151   -1.771255  -0.428104   \n",
       "1 -1.658029 -1.419057  -0.274706    -0.730958   -1.742908  -0.428104   \n",
       "2 -1.658029 -1.419057  -0.274706    -0.738006   -1.603354  -0.428104   \n",
       "3 -1.658029 -1.419057  -0.274706    -0.125964   -1.511771  -0.428104   \n",
       "4 -1.658029 -1.419057  -0.274706     0.116900   -1.398383  -0.428104   \n",
       "\n",
       "   MarkDown2  MarkDown3       CPI  Unemployment  ...       Day  Median_Sales  \\\n",
       "0  -0.171766  -0.083882  1.022305      0.073834  ... -0.419545      0.190542   \n",
       "1  -0.171766  -0.083882  1.024284      0.073834  ...  1.180835      0.190542   \n",
       "2  -0.171766  -0.083882  1.025062      0.073834  ... -1.219735      0.190542   \n",
       "3  -0.171766  -0.083882  1.025841      0.073834  ... -0.419545      0.190542   \n",
       "4  -0.171766  -0.083882  1.011536     -0.085692  ... -1.562674      0.190542   \n",
       "\n",
       "   IsThanksgiving  IsChristmas  IsPreChristmas  Lagged_Value  Lag_Available  \\\n",
       "0       -0.118986    -0.119551       -0.120143      0.158578      -1.381278   \n",
       "1       -0.118986    -0.119551       -0.120143      0.158578      -1.381278   \n",
       "2       -0.118986    -0.119551       -0.120143      0.165984       0.723967   \n",
       "3       -0.118986    -0.119551       -0.120143      0.275378       0.723967   \n",
       "4       -0.118986    -0.119551       -0.120143      0.158578      -1.381278   \n",
       "\n",
       "   Diff_from_Med  IsDept72  Weekly_Sales  \n",
       "0      -0.092290 -0.120552      87235.57  \n",
       "1      -0.092290 -0.120552      80254.53  \n",
       "2      -0.063237 -0.120552      77715.58  \n",
       "3       0.365888 -0.120552      83599.56  \n",
       "4      -0.092290 -0.120552      77876.10  \n",
       "\n",
       "[5 rows x 26 columns]"
      ]
     },
     "execution_count": 125,
     "metadata": {},
     "output_type": "execute_result"
    }
   ],
   "source": [
    "#Standardizing the feature selected data\n",
    "scaler = StandardScaler()\n",
    "\n",
    "scaled_df_linear = scaler.fit_transform(df_linear)\n",
    "scaled_df_linear = pd.DataFrame(scaled_df_linear)\n",
    "scaled_df_linear = scaled_df_linear.join(df['Weekly_Sales'], how='outer')\n",
    "scaled_df_linear.columns = df_linear_revenue.columns\n",
    "\n",
    "#Saving the data\n",
    "scaled_df_linear.to_csv(r'C:\\Users\\songs\\Desktop\\Springboard Files\\Springboard-Files\\Capstone 2\\data\\Interim\\scaled_train_linear.csv')\n",
    "scaled_df_linear.head()"
   ]
  },
  {
   "cell_type": "markdown",
   "metadata": {},
   "source": [
    "First, we're going to scale the **not feature selected** data"
   ]
  },
  {
   "cell_type": "code",
   "execution_count": 65,
   "metadata": {},
   "outputs": [
    {
     "data": {
      "text/html": [
       "<div>\n",
       "<style scoped>\n",
       "    .dataframe tbody tr th:only-of-type {\n",
       "        vertical-align: middle;\n",
       "    }\n",
       "\n",
       "    .dataframe tbody tr th {\n",
       "        vertical-align: top;\n",
       "    }\n",
       "\n",
       "    .dataframe thead th {\n",
       "        text-align: right;\n",
       "    }\n",
       "</style>\n",
       "<table border=\"1\" class=\"dataframe\">\n",
       "  <thead>\n",
       "    <tr style=\"text-align: right;\">\n",
       "      <th></th>\n",
       "      <th>Store</th>\n",
       "      <th>Dept</th>\n",
       "      <th>IsHoliday</th>\n",
       "      <th>Temperature</th>\n",
       "      <th>Fuel_Price</th>\n",
       "      <th>MarkDown1</th>\n",
       "      <th>MarkDown2</th>\n",
       "      <th>MarkDown3</th>\n",
       "      <th>MarkDown4</th>\n",
       "      <th>MarkDown5</th>\n",
       "      <th>...</th>\n",
       "      <th>Day</th>\n",
       "      <th>Median_Sales</th>\n",
       "      <th>IsThanksgiving</th>\n",
       "      <th>IsChristmas</th>\n",
       "      <th>IsPreChristmas</th>\n",
       "      <th>Lagged_Value</th>\n",
       "      <th>Lag_Available</th>\n",
       "      <th>Diff_from_Med</th>\n",
       "      <th>IsDept72</th>\n",
       "      <th>Weekly_Sales</th>\n",
       "    </tr>\n",
       "  </thead>\n",
       "  <tbody>\n",
       "    <tr>\n",
       "      <th>0</th>\n",
       "      <td>-1.658029</td>\n",
       "      <td>-1.419057</td>\n",
       "      <td>3.640258</td>\n",
       "      <td>-1.171151</td>\n",
       "      <td>-1.771255</td>\n",
       "      <td>-0.428104</td>\n",
       "      <td>-0.171766</td>\n",
       "      <td>-0.083882</td>\n",
       "      <td>-0.278062</td>\n",
       "      <td>-0.390249</td>\n",
       "      <td>...</td>\n",
       "      <td>-0.419545</td>\n",
       "      <td>0.190542</td>\n",
       "      <td>-0.118986</td>\n",
       "      <td>-0.119551</td>\n",
       "      <td>-0.120143</td>\n",
       "      <td>0.158578</td>\n",
       "      <td>-1.381278</td>\n",
       "      <td>-0.092290</td>\n",
       "      <td>-0.120552</td>\n",
       "      <td>87235.57</td>\n",
       "    </tr>\n",
       "    <tr>\n",
       "      <th>1</th>\n",
       "      <td>-1.658029</td>\n",
       "      <td>-1.419057</td>\n",
       "      <td>-0.274706</td>\n",
       "      <td>-0.730958</td>\n",
       "      <td>-1.742908</td>\n",
       "      <td>-0.428104</td>\n",
       "      <td>-0.171766</td>\n",
       "      <td>-0.083882</td>\n",
       "      <td>-0.278062</td>\n",
       "      <td>-0.390249</td>\n",
       "      <td>...</td>\n",
       "      <td>1.180835</td>\n",
       "      <td>0.190542</td>\n",
       "      <td>-0.118986</td>\n",
       "      <td>-0.119551</td>\n",
       "      <td>-0.120143</td>\n",
       "      <td>0.158578</td>\n",
       "      <td>-1.381278</td>\n",
       "      <td>-0.092290</td>\n",
       "      <td>-0.120552</td>\n",
       "      <td>80254.53</td>\n",
       "    </tr>\n",
       "    <tr>\n",
       "      <th>2</th>\n",
       "      <td>-1.658029</td>\n",
       "      <td>-1.419057</td>\n",
       "      <td>-0.274706</td>\n",
       "      <td>-0.738006</td>\n",
       "      <td>-1.603354</td>\n",
       "      <td>-0.428104</td>\n",
       "      <td>-0.171766</td>\n",
       "      <td>-0.083882</td>\n",
       "      <td>-0.278062</td>\n",
       "      <td>-0.390249</td>\n",
       "      <td>...</td>\n",
       "      <td>-1.219735</td>\n",
       "      <td>0.190542</td>\n",
       "      <td>-0.118986</td>\n",
       "      <td>-0.119551</td>\n",
       "      <td>-0.120143</td>\n",
       "      <td>0.165984</td>\n",
       "      <td>0.723967</td>\n",
       "      <td>-0.063237</td>\n",
       "      <td>-0.120552</td>\n",
       "      <td>77715.58</td>\n",
       "    </tr>\n",
       "    <tr>\n",
       "      <th>3</th>\n",
       "      <td>-1.658029</td>\n",
       "      <td>-1.419057</td>\n",
       "      <td>-0.274706</td>\n",
       "      <td>-0.125964</td>\n",
       "      <td>-1.511771</td>\n",
       "      <td>-0.428104</td>\n",
       "      <td>-0.171766</td>\n",
       "      <td>-0.083882</td>\n",
       "      <td>-0.278062</td>\n",
       "      <td>-0.390249</td>\n",
       "      <td>...</td>\n",
       "      <td>-0.419545</td>\n",
       "      <td>0.190542</td>\n",
       "      <td>-0.118986</td>\n",
       "      <td>-0.119551</td>\n",
       "      <td>-0.120143</td>\n",
       "      <td>0.275378</td>\n",
       "      <td>0.723967</td>\n",
       "      <td>0.365888</td>\n",
       "      <td>-0.120552</td>\n",
       "      <td>83599.56</td>\n",
       "    </tr>\n",
       "    <tr>\n",
       "      <th>4</th>\n",
       "      <td>-1.658029</td>\n",
       "      <td>-1.419057</td>\n",
       "      <td>-0.274706</td>\n",
       "      <td>0.116900</td>\n",
       "      <td>-1.398383</td>\n",
       "      <td>-0.428104</td>\n",
       "      <td>-0.171766</td>\n",
       "      <td>-0.083882</td>\n",
       "      <td>-0.278062</td>\n",
       "      <td>-0.390249</td>\n",
       "      <td>...</td>\n",
       "      <td>-1.562674</td>\n",
       "      <td>0.190542</td>\n",
       "      <td>-0.118986</td>\n",
       "      <td>-0.119551</td>\n",
       "      <td>-0.120143</td>\n",
       "      <td>0.158578</td>\n",
       "      <td>-1.381278</td>\n",
       "      <td>-0.092290</td>\n",
       "      <td>-0.120552</td>\n",
       "      <td>77876.10</td>\n",
       "    </tr>\n",
       "  </tbody>\n",
       "</table>\n",
       "<p>5 rows × 29 columns</p>\n",
       "</div>"
      ],
      "text/plain": [
       "      Store      Dept  IsHoliday  Temperature  Fuel_Price  MarkDown1  \\\n",
       "0 -1.658029 -1.419057   3.640258    -1.171151   -1.771255  -0.428104   \n",
       "1 -1.658029 -1.419057  -0.274706    -0.730958   -1.742908  -0.428104   \n",
       "2 -1.658029 -1.419057  -0.274706    -0.738006   -1.603354  -0.428104   \n",
       "3 -1.658029 -1.419057  -0.274706    -0.125964   -1.511771  -0.428104   \n",
       "4 -1.658029 -1.419057  -0.274706     0.116900   -1.398383  -0.428104   \n",
       "\n",
       "   MarkDown2  MarkDown3  MarkDown4  MarkDown5  ...       Day  Median_Sales  \\\n",
       "0  -0.171766  -0.083882  -0.278062  -0.390249  ... -0.419545      0.190542   \n",
       "1  -0.171766  -0.083882  -0.278062  -0.390249  ...  1.180835      0.190542   \n",
       "2  -0.171766  -0.083882  -0.278062  -0.390249  ... -1.219735      0.190542   \n",
       "3  -0.171766  -0.083882  -0.278062  -0.390249  ... -0.419545      0.190542   \n",
       "4  -0.171766  -0.083882  -0.278062  -0.390249  ... -1.562674      0.190542   \n",
       "\n",
       "   IsThanksgiving  IsChristmas  IsPreChristmas  Lagged_Value  Lag_Available  \\\n",
       "0       -0.118986    -0.119551       -0.120143      0.158578      -1.381278   \n",
       "1       -0.118986    -0.119551       -0.120143      0.158578      -1.381278   \n",
       "2       -0.118986    -0.119551       -0.120143      0.165984       0.723967   \n",
       "3       -0.118986    -0.119551       -0.120143      0.275378       0.723967   \n",
       "4       -0.118986    -0.119551       -0.120143      0.158578      -1.381278   \n",
       "\n",
       "   Diff_from_Med  IsDept72  Weekly_Sales  \n",
       "0      -0.092290 -0.120552      87235.57  \n",
       "1      -0.092290 -0.120552      80254.53  \n",
       "2      -0.063237 -0.120552      77715.58  \n",
       "3       0.365888 -0.120552      83599.56  \n",
       "4      -0.092290 -0.120552      77876.10  \n",
       "\n",
       "[5 rows x 29 columns]"
      ]
     },
     "execution_count": 65,
     "metadata": {},
     "output_type": "execute_result"
    }
   ],
   "source": [
    "#Standardizing the non-feature selected data\n",
    "scaler = StandardScaler()\n",
    "\n",
    "scaled_df = scaler.fit_transform(df.drop(['Weekly_Sales','log_revenue'],axis=1))\n",
    "scaled_df = pd.DataFrame(scaled_df)\n",
    "scaled_df.columns = df.drop(['Weekly_Sales','log_revenue'],axis=1).columns\n",
    "scaled_df = scaled_df.join(df['Weekly_Sales'], how='outer')\n",
    "\n",
    "#Saving the data\n",
    "scaled_df.to_csv(r'C:\\Users\\songs\\Desktop\\Springboard Files\\Springboard-Files\\Capstone 2\\data\\Interim\\scaled_train.csv')\n",
    "scaled_df.head()"
   ]
  },
  {
   "cell_type": "markdown",
   "metadata": {},
   "source": [
    "### PCA\n",
    "\n",
    "Next, we're going to decorrelate the standardized dataset even more than we have already done. PCA completely eliminates all multicollinearity, at the cost of making the features uninterpretable. This is fine.\n",
    "\n",
    "#### Feature Selected"
   ]
  },
  {
   "cell_type": "code",
   "execution_count": 66,
   "metadata": {},
   "outputs": [
    {
     "data": {
      "image/png": "[encoded data removed]",
      "text/plain": [
       "<Figure size 1440x720 with 1 Axes>"
      ]
     },
     "metadata": {
      "needs_background": "light"
     },
     "output_type": "display_data"
    }
   ],
   "source": [
    "pca = PCA()\n",
    "pca.fit(scaled_df_linear.drop('Weekly_Sales',axis=1))\n",
    "\n",
    "#Graphing the data\n",
    "plt.figure(figsize=(20,10))\n",
    "\n",
    "plt.plot(np.cumsum(pca.explained_variance_ratio_))\n",
    "plt.title('Visualization of feature variances')\n",
    "plt.xlabel('PCA feature')\n",
    "plt.ylabel('Cumulative explaned variance')\n",
    "plt.show()"
   ]
  },
  {
   "cell_type": "code",
   "execution_count": 67,
   "metadata": {},
   "outputs": [
    {
     "data": {
      "text/html": [
       "<div>\n",
       "<style scoped>\n",
       "    .dataframe tbody tr th:only-of-type {\n",
       "        vertical-align: middle;\n",
       "    }\n",
       "\n",
       "    .dataframe tbody tr th {\n",
       "        vertical-align: top;\n",
       "    }\n",
       "\n",
       "    .dataframe thead th {\n",
       "        text-align: right;\n",
       "    }\n",
       "</style>\n",
       "<table border=\"1\" class=\"dataframe\">\n",
       "  <thead>\n",
       "    <tr style=\"text-align: right;\">\n",
       "      <th></th>\n",
       "      <th>0</th>\n",
       "      <th>1</th>\n",
       "      <th>2</th>\n",
       "      <th>3</th>\n",
       "      <th>4</th>\n",
       "      <th>5</th>\n",
       "      <th>6</th>\n",
       "      <th>7</th>\n",
       "      <th>8</th>\n",
       "      <th>9</th>\n",
       "      <th>...</th>\n",
       "      <th>16</th>\n",
       "      <th>17</th>\n",
       "      <th>18</th>\n",
       "      <th>19</th>\n",
       "      <th>20</th>\n",
       "      <th>21</th>\n",
       "      <th>22</th>\n",
       "      <th>23</th>\n",
       "      <th>24</th>\n",
       "      <th>Weekly_Sales</th>\n",
       "    </tr>\n",
       "  </thead>\n",
       "  <tbody>\n",
       "    <tr>\n",
       "      <th>0</th>\n",
       "      <td>-0.752335</td>\n",
       "      <td>0.068117</td>\n",
       "      <td>0.970663</td>\n",
       "      <td>3.478323</td>\n",
       "      <td>-2.108176</td>\n",
       "      <td>0.321941</td>\n",
       "      <td>-0.491063</td>\n",
       "      <td>-0.774540</td>\n",
       "      <td>-0.328520</td>\n",
       "      <td>0.254814</td>\n",
       "      <td>...</td>\n",
       "      <td>-1.270536</td>\n",
       "      <td>0.531778</td>\n",
       "      <td>-0.173915</td>\n",
       "      <td>-0.354399</td>\n",
       "      <td>-0.899842</td>\n",
       "      <td>1.466349</td>\n",
       "      <td>-0.115129</td>\n",
       "      <td>0.003964</td>\n",
       "      <td>-8.756189e-14</td>\n",
       "      <td>87235.57</td>\n",
       "    </tr>\n",
       "    <tr>\n",
       "      <th>1</th>\n",
       "      <td>-0.549790</td>\n",
       "      <td>-0.933805</td>\n",
       "      <td>1.503068</td>\n",
       "      <td>1.954158</td>\n",
       "      <td>-2.275526</td>\n",
       "      <td>0.033691</td>\n",
       "      <td>-0.190576</td>\n",
       "      <td>0.369842</td>\n",
       "      <td>0.561588</td>\n",
       "      <td>-1.081586</td>\n",
       "      <td>...</td>\n",
       "      <td>-0.344002</td>\n",
       "      <td>-0.090741</td>\n",
       "      <td>0.275123</td>\n",
       "      <td>0.532742</td>\n",
       "      <td>-0.687657</td>\n",
       "      <td>0.177188</td>\n",
       "      <td>-0.016111</td>\n",
       "      <td>0.010096</td>\n",
       "      <td>1.236883e-13</td>\n",
       "      <td>80254.53</td>\n",
       "    </tr>\n",
       "    <tr>\n",
       "      <th>2</th>\n",
       "      <td>-0.461566</td>\n",
       "      <td>-1.037258</td>\n",
       "      <td>1.640471</td>\n",
       "      <td>1.588625</td>\n",
       "      <td>-2.295451</td>\n",
       "      <td>0.035476</td>\n",
       "      <td>0.086270</td>\n",
       "      <td>-0.417934</td>\n",
       "      <td>0.562711</td>\n",
       "      <td>1.292499</td>\n",
       "      <td>...</td>\n",
       "      <td>0.403864</td>\n",
       "      <td>-0.199976</td>\n",
       "      <td>0.400694</td>\n",
       "      <td>0.443014</td>\n",
       "      <td>-0.706355</td>\n",
       "      <td>-0.261634</td>\n",
       "      <td>-0.051205</td>\n",
       "      <td>-0.006041</td>\n",
       "      <td>-9.912919e-15</td>\n",
       "      <td>77715.58</td>\n",
       "    </tr>\n",
       "    <tr>\n",
       "      <th>3</th>\n",
       "      <td>-0.522906</td>\n",
       "      <td>-0.818632</td>\n",
       "      <td>1.669310</td>\n",
       "      <td>1.296223</td>\n",
       "      <td>-2.165385</td>\n",
       "      <td>-0.013559</td>\n",
       "      <td>-0.208960</td>\n",
       "      <td>-0.189112</td>\n",
       "      <td>1.190923</td>\n",
       "      <td>0.894515</td>\n",
       "      <td>...</td>\n",
       "      <td>0.216796</td>\n",
       "      <td>0.086552</td>\n",
       "      <td>0.372673</td>\n",
       "      <td>0.357901</td>\n",
       "      <td>-0.556076</td>\n",
       "      <td>-0.178644</td>\n",
       "      <td>-0.094264</td>\n",
       "      <td>-0.005139</td>\n",
       "      <td>-6.825293e-15</td>\n",
       "      <td>83599.56</td>\n",
       "    </tr>\n",
       "    <tr>\n",
       "      <th>4</th>\n",
       "      <td>-0.562801</td>\n",
       "      <td>-0.926086</td>\n",
       "      <td>1.493272</td>\n",
       "      <td>0.924735</td>\n",
       "      <td>-2.361050</td>\n",
       "      <td>0.124559</td>\n",
       "      <td>-0.102493</td>\n",
       "      <td>-1.020222</td>\n",
       "      <td>-0.451497</td>\n",
       "      <td>0.566600</td>\n",
       "      <td>...</td>\n",
       "      <td>0.575908</td>\n",
       "      <td>0.182986</td>\n",
       "      <td>0.439408</td>\n",
       "      <td>0.260756</td>\n",
       "      <td>-0.497150</td>\n",
       "      <td>-0.388944</td>\n",
       "      <td>-0.129134</td>\n",
       "      <td>-0.000446</td>\n",
       "      <td>-1.587492e-15</td>\n",
       "      <td>77876.10</td>\n",
       "    </tr>\n",
       "  </tbody>\n",
       "</table>\n",
       "<p>5 rows × 26 columns</p>\n",
       "</div>"
      ],
      "text/plain": [
       "          0         1         2         3         4         5         6  \\\n",
       "0 -0.752335  0.068117  0.970663  3.478323 -2.108176  0.321941 -0.491063   \n",
       "1 -0.549790 -0.933805  1.503068  1.954158 -2.275526  0.033691 -0.190576   \n",
       "2 -0.461566 -1.037258  1.640471  1.588625 -2.295451  0.035476  0.086270   \n",
       "3 -0.522906 -0.818632  1.669310  1.296223 -2.165385 -0.013559 -0.208960   \n",
       "4 -0.562801 -0.926086  1.493272  0.924735 -2.361050  0.124559 -0.102493   \n",
       "\n",
       "          7         8         9  ...        16        17        18        19  \\\n",
       "0 -0.774540 -0.328520  0.254814  ... -1.270536  0.531778 -0.173915 -0.354399   \n",
       "1  0.369842  0.561588 -1.081586  ... -0.344002 -0.090741  0.275123  0.532742   \n",
       "2 -0.417934  0.562711  1.292499  ...  0.403864 -0.199976  0.400694  0.443014   \n",
       "3 -0.189112  1.190923  0.894515  ...  0.216796  0.086552  0.372673  0.357901   \n",
       "4 -1.020222 -0.451497  0.566600  ...  0.575908  0.182986  0.439408  0.260756   \n",
       "\n",
       "         20        21        22        23            24  Weekly_Sales  \n",
       "0 -0.899842  1.466349 -0.115129  0.003964 -8.756189e-14      87235.57  \n",
       "1 -0.687657  0.177188 -0.016111  0.010096  1.236883e-13      80254.53  \n",
       "2 -0.706355 -0.261634 -0.051205 -0.006041 -9.912919e-15      77715.58  \n",
       "3 -0.556076 -0.178644 -0.094264 -0.005139 -6.825293e-15      83599.56  \n",
       "4 -0.497150 -0.388944 -0.129134 -0.000446 -1.587492e-15      77876.10  \n",
       "\n",
       "[5 rows x 26 columns]"
      ]
     },
     "execution_count": 67,
     "metadata": {},
     "output_type": "execute_result"
    }
   ],
   "source": [
    "pca_features = pca.fit_transform(scaled_df_linear.drop('Weekly_Sales',axis=1))\n",
    "pca_features_linear = pd.DataFrame(pca_features)\n",
    "pca_features_linear['Weekly_Sales'] = df['Weekly_Sales']\n",
    "pca_features_linear.to_csv(r'C:\\Users\\songs\\Desktop\\Springboard Files\\Springboard-Files\\Capstone 2\\data\\Interim\\pca_train_linear.csv')\n",
    "pca_features_linear.head()"
   ]
  },
  {
   "cell_type": "markdown",
   "metadata": {},
   "source": [
    "#### Not Feature Selected"
   ]
  },
  {
   "cell_type": "code",
   "execution_count": 68,
   "metadata": {},
   "outputs": [
    {
     "data": {
      "image/png": "[encoded data removed]",
      "text/plain": [
       "<Figure size 1440x720 with 1 Axes>"
      ]
     },
     "metadata": {
      "needs_background": "light"
     },
     "output_type": "display_data"
    }
   ],
   "source": [
    "pca.fit(scaled_df.drop('Weekly_Sales',axis=1))\n",
    "\n",
    "#Graphing the data\n",
    "plt.figure(figsize=(20,10))\n",
    "\n",
    "plt.plot(np.cumsum(pca.explained_variance_ratio_))\n",
    "plt.title('Visualization of feature variances')\n",
    "plt.xlabel('PCA feature')\n",
    "plt.ylabel('Cumulative explaned variance')\n",
    "plt.show()"
   ]
  },
  {
   "cell_type": "code",
   "execution_count": 69,
   "metadata": {},
   "outputs": [
    {
     "data": {
      "text/html": [
       "<div>\n",
       "<style scoped>\n",
       "    .dataframe tbody tr th:only-of-type {\n",
       "        vertical-align: middle;\n",
       "    }\n",
       "\n",
       "    .dataframe tbody tr th {\n",
       "        vertical-align: top;\n",
       "    }\n",
       "\n",
       "    .dataframe thead th {\n",
       "        text-align: right;\n",
       "    }\n",
       "</style>\n",
       "<table border=\"1\" class=\"dataframe\">\n",
       "  <thead>\n",
       "    <tr style=\"text-align: right;\">\n",
       "      <th></th>\n",
       "      <th>0</th>\n",
       "      <th>1</th>\n",
       "      <th>2</th>\n",
       "      <th>3</th>\n",
       "      <th>4</th>\n",
       "      <th>5</th>\n",
       "      <th>6</th>\n",
       "      <th>7</th>\n",
       "      <th>8</th>\n",
       "      <th>9</th>\n",
       "      <th>...</th>\n",
       "      <th>19</th>\n",
       "      <th>20</th>\n",
       "      <th>21</th>\n",
       "      <th>22</th>\n",
       "      <th>23</th>\n",
       "      <th>24</th>\n",
       "      <th>25</th>\n",
       "      <th>26</th>\n",
       "      <th>27</th>\n",
       "      <th>Weekly_Sales</th>\n",
       "    </tr>\n",
       "  </thead>\n",
       "  <tbody>\n",
       "    <tr>\n",
       "      <th>0</th>\n",
       "      <td>-0.750720</td>\n",
       "      <td>0.968127</td>\n",
       "      <td>1.405234</td>\n",
       "      <td>-3.534053</td>\n",
       "      <td>-0.709929</td>\n",
       "      <td>0.114137</td>\n",
       "      <td>0.932270</td>\n",
       "      <td>1.211420</td>\n",
       "      <td>-0.664996</td>\n",
       "      <td>0.080213</td>\n",
       "      <td>...</td>\n",
       "      <td>-0.422060</td>\n",
       "      <td>0.230915</td>\n",
       "      <td>-0.590773</td>\n",
       "      <td>1.406542</td>\n",
       "      <td>0.615568</td>\n",
       "      <td>-0.114161</td>\n",
       "      <td>0.240652</td>\n",
       "      <td>0.003960</td>\n",
       "      <td>8.387638e-14</td>\n",
       "      <td>87235.57</td>\n",
       "    </tr>\n",
       "    <tr>\n",
       "      <th>1</th>\n",
       "      <td>-0.827327</td>\n",
       "      <td>0.257187</td>\n",
       "      <td>2.216137</td>\n",
       "      <td>-2.035985</td>\n",
       "      <td>-1.232567</td>\n",
       "      <td>-0.148951</td>\n",
       "      <td>0.972311</td>\n",
       "      <td>0.124215</td>\n",
       "      <td>0.259617</td>\n",
       "      <td>-0.249607</td>\n",
       "      <td>...</td>\n",
       "      <td>0.320014</td>\n",
       "      <td>-0.098852</td>\n",
       "      <td>-0.722737</td>\n",
       "      <td>0.074744</td>\n",
       "      <td>0.566277</td>\n",
       "      <td>-0.074426</td>\n",
       "      <td>0.131861</td>\n",
       "      <td>0.010103</td>\n",
       "      <td>-1.267414e-13</td>\n",
       "      <td>80254.53</td>\n",
       "    </tr>\n",
       "    <tr>\n",
       "      <th>2</th>\n",
       "      <td>-0.704417</td>\n",
       "      <td>0.161014</td>\n",
       "      <td>2.318746</td>\n",
       "      <td>-1.650940</td>\n",
       "      <td>-1.312254</td>\n",
       "      <td>-0.159641</td>\n",
       "      <td>0.683084</td>\n",
       "      <td>1.159147</td>\n",
       "      <td>-0.060412</td>\n",
       "      <td>1.360997</td>\n",
       "      <td>...</td>\n",
       "      <td>0.437736</td>\n",
       "      <td>0.030981</td>\n",
       "      <td>-0.715317</td>\n",
       "      <td>-0.348441</td>\n",
       "      <td>0.496988</td>\n",
       "      <td>-0.050472</td>\n",
       "      <td>0.155158</td>\n",
       "      <td>-0.006050</td>\n",
       "      <td>9.205646e-15</td>\n",
       "      <td>77715.58</td>\n",
       "    </tr>\n",
       "    <tr>\n",
       "      <th>3</th>\n",
       "      <td>-0.730341</td>\n",
       "      <td>0.351529</td>\n",
       "      <td>2.218119</td>\n",
       "      <td>-1.348977</td>\n",
       "      <td>-1.216232</td>\n",
       "      <td>-0.191023</td>\n",
       "      <td>0.879127</td>\n",
       "      <td>0.636738</td>\n",
       "      <td>-0.112127</td>\n",
       "      <td>1.518486</td>\n",
       "      <td>...</td>\n",
       "      <td>0.380818</td>\n",
       "      <td>0.057097</td>\n",
       "      <td>-0.544693</td>\n",
       "      <td>-0.264195</td>\n",
       "      <td>0.477929</td>\n",
       "      <td>-0.029389</td>\n",
       "      <td>0.192830</td>\n",
       "      <td>-0.005139</td>\n",
       "      <td>9.223192e-15</td>\n",
       "      <td>83599.56</td>\n",
       "    </tr>\n",
       "    <tr>\n",
       "      <th>4</th>\n",
       "      <td>-0.728031</td>\n",
       "      <td>0.239211</td>\n",
       "      <td>2.100961</td>\n",
       "      <td>-1.055872</td>\n",
       "      <td>-1.569517</td>\n",
       "      <td>-0.062887</td>\n",
       "      <td>0.678983</td>\n",
       "      <td>1.303062</td>\n",
       "      <td>-0.610465</td>\n",
       "      <td>0.248969</td>\n",
       "      <td>...</td>\n",
       "      <td>0.425938</td>\n",
       "      <td>0.153010</td>\n",
       "      <td>-0.461351</td>\n",
       "      <td>-0.464084</td>\n",
       "      <td>0.425401</td>\n",
       "      <td>-0.010880</td>\n",
       "      <td>0.217854</td>\n",
       "      <td>-0.000453</td>\n",
       "      <td>-2.143111e-15</td>\n",
       "      <td>77876.10</td>\n",
       "    </tr>\n",
       "  </tbody>\n",
       "</table>\n",
       "<p>5 rows × 29 columns</p>\n",
       "</div>"
      ],
      "text/plain": [
       "          0         1         2         3         4         5         6  \\\n",
       "0 -0.750720  0.968127  1.405234 -3.534053 -0.709929  0.114137  0.932270   \n",
       "1 -0.827327  0.257187  2.216137 -2.035985 -1.232567 -0.148951  0.972311   \n",
       "2 -0.704417  0.161014  2.318746 -1.650940 -1.312254 -0.159641  0.683084   \n",
       "3 -0.730341  0.351529  2.218119 -1.348977 -1.216232 -0.191023  0.879127   \n",
       "4 -0.728031  0.239211  2.100961 -1.055872 -1.569517 -0.062887  0.678983   \n",
       "\n",
       "          7         8         9  ...        19        20        21        22  \\\n",
       "0  1.211420 -0.664996  0.080213  ... -0.422060  0.230915 -0.590773  1.406542   \n",
       "1  0.124215  0.259617 -0.249607  ...  0.320014 -0.098852 -0.722737  0.074744   \n",
       "2  1.159147 -0.060412  1.360997  ...  0.437736  0.030981 -0.715317 -0.348441   \n",
       "3  0.636738 -0.112127  1.518486  ...  0.380818  0.057097 -0.544693 -0.264195   \n",
       "4  1.303062 -0.610465  0.248969  ...  0.425938  0.153010 -0.461351 -0.464084   \n",
       "\n",
       "         23        24        25        26            27  Weekly_Sales  \n",
       "0  0.615568 -0.114161  0.240652  0.003960  8.387638e-14      87235.57  \n",
       "1  0.566277 -0.074426  0.131861  0.010103 -1.267414e-13      80254.53  \n",
       "2  0.496988 -0.050472  0.155158 -0.006050  9.205646e-15      77715.58  \n",
       "3  0.477929 -0.029389  0.192830 -0.005139  9.223192e-15      83599.56  \n",
       "4  0.425401 -0.010880  0.217854 -0.000453 -2.143111e-15      77876.10  \n",
       "\n",
       "[5 rows x 29 columns]"
      ]
     },
     "execution_count": 69,
     "metadata": {},
     "output_type": "execute_result"
    }
   ],
   "source": [
    "pca_features = pca.fit_transform(scaled_df.drop('Weekly_Sales',axis=1))\n",
    "pca_features_all = pd.DataFrame(pca_features)\n",
    "pca_features_all['Weekly_Sales'] = df['Weekly_Sales']\n",
    "pca_features_all.to_csv(r'C:\\Users\\songs\\Desktop\\Springboard Files\\Springboard-Files\\Capstone 2\\data\\Interim\\pca_train_all.csv')\n",
    "pca_features_all.head()"
   ]
  },
  {
   "cell_type": "markdown",
   "metadata": {},
   "source": [
    "## Model creation:"
   ]
  },
  {
   "cell_type": "markdown",
   "metadata": {},
   "source": [
    "First, let's read in our data which we processed above.\n",
    "\n",
    "### Feature Selected (Linear, Ridge, and Lasso Regression)"
   ]
  },
  {
   "cell_type": "code",
   "execution_count": 70,
   "metadata": {},
   "outputs": [],
   "source": [
    "scaled_df_fs = pd.read_csv(r'C:\\Users\\songs\\Desktop\\Springboard Files\\Springboard-Files\\Capstone 2\\data\\Interim\\scaled_train_linear.csv',index_col=0)\n",
    "pca_df_fs = pd.read_csv(r'C:\\Users\\songs\\Desktop\\Springboard Files\\Springboard-Files\\Capstone 2\\data\\Interim\\pca_train_linear.csv',index_col=0)\n",
    "original_df_fs = pd.read_csv(r'C:\\Users\\songs\\Desktop\\Springboard Files\\Springboard-Files\\Capstone 2\\data\\Interim\\original_train_linear.csv',index_col=0)"
   ]
  },
  {
   "cell_type": "markdown",
   "metadata": {},
   "source": [
    "### Not Feature Selected (RandomForestRegressor)"
   ]
  },
  {
   "cell_type": "code",
   "execution_count": 214,
   "metadata": {},
   "outputs": [],
   "source": [
    "scaled_df = pd.read_csv(r'C:\\Users\\songs\\Desktop\\Springboard Files\\Springboard-Files\\Capstone 2\\data\\Interim\\scaled_train.csv',index_col=0)\n",
    "pca_df = pd.read_csv(r'C:\\Users\\songs\\Desktop\\Springboard Files\\Springboard-Files\\Capstone 2\\data\\Interim\\pca_train_all.csv',index_col=0)\n",
    "original_df = pd.read_csv(r'C:\\Users\\songs\\Desktop\\Springboard Files\\Springboard-Files\\Capstone 2\\data\\Interim\\train_all_features.csv',index_col=0).drop('log_revenue',axis=1)"
   ]
  },
  {
   "cell_type": "markdown",
   "metadata": {},
   "source": [
    "### Train test split\n",
    "\n",
    "It's troublesome to create train_test_split for all 6 datasets, so I wrote a function that returns a tuple of 4. When it's time to use the train_test_split we can simply unpack them."
   ]
  },
  {
   "cell_type": "code",
   "execution_count": 141,
   "metadata": {},
   "outputs": [],
   "source": [
    "def create_train_test(data):\n",
    "    X = data.drop(['Weekly_Sales'], axis=1).values\n",
    "    y = data['Weekly_Sales'].values\n",
    "    X_train, X_test, y_train, y_test = train_test_split(X, y, test_size=0.3)\n",
    "    return X_train, X_test, y_train, y_test"
   ]
  },
  {
   "cell_type": "markdown",
   "metadata": {},
   "source": [
    "### A hyperparameter optimizer.\n",
    "\n",
    "RandomForest, as well as Lasso and Ridge Regression, have hyperparameters that need to be optimized for best performance. I wrote a function to expedite this process. All I need to input is the model, the hyperparameters tested in dictionary format, and the data to fit the model to."
   ]
  },
  {
   "cell_type": "code",
   "execution_count": 187,
   "metadata": {},
   "outputs": [],
   "source": [
    "#Writing a function to find best hyperparams\n",
    "def optimize_params(model, params, data):\n",
    "    \"\"\"\n",
    "    Select the best parameters out of a dict for a model given training data\n",
    "    \"\"\"\n",
    "    #Train_test_split\n",
    "    X = data.drop(['Weekly_Sales'], axis=1).values\n",
    "    y = data['Weekly_Sales'].values\n",
    "    X_train, X_test, y_train, y_test = train_test_split(X, y, test_size=0.3)\n",
    "    \n",
    "    #Search for best combination of hyperparameters from the dictionary\n",
    "    reg = model()\n",
    "    reg_cv = GridSearchCV(reg, param_grid=params, scoring='neg_mean_absolute_error',cv=5, verbose=10)\n",
    "    reg_cv.fit(X_train, y_train)\n",
    "    print(reg_cv.best_params_)"
   ]
  },
  {
   "cell_type": "markdown",
   "metadata": {},
   "source": [
    "## Linear Regression"
   ]
  },
  {
   "cell_type": "markdown",
   "metadata": {},
   "source": [
    "The process goes as follows: each dataset is put through the create_test_split function created above, cross-validated after fitting, and the results are saved and plotted in a bar graph. If there's anything interesting, they'll be noted later."
   ]
  },
  {
   "cell_type": "markdown",
   "metadata": {},
   "source": [
    "#### Scaled"
   ]
  },
  {
   "cell_type": "code",
   "execution_count": 144,
   "metadata": {},
   "outputs": [],
   "source": [
    "#Create LinearRegression Model\n",
    "linear = LinearRegression()\n",
    "\n",
    "#Create training and testing split\n",
    "X_train, X_test, y_train, y_test = create_train_test(scaled_df_fs)\n",
    "\n",
    "#Fit and cross-validate\n",
    "linear.fit(X_train, y_train)\n",
    "scaled_results = cross_val_score(linear,X_test,y_test,scoring='neg_mean_absolute_error',cv=5)"
   ]
  },
  {
   "cell_type": "markdown",
   "metadata": {},
   "source": [
    "#### PCA"
   ]
  },
  {
   "cell_type": "code",
   "execution_count": 145,
   "metadata": {},
   "outputs": [],
   "source": [
    "#Create training and testing split\n",
    "X_train, X_test, y_train, y_test = create_train_test(pca_df_fs)\n",
    "\n",
    "#Fit and cross-validate\n",
    "linear.fit(X_train, y_train)\n",
    "pca_results = cross_val_score(linear,X_test,y_test,scoring='neg_mean_absolute_error',cv=5)"
   ]
  },
  {
   "cell_type": "markdown",
   "metadata": {},
   "source": [
    "#### Original Dataset"
   ]
  },
  {
   "cell_type": "code",
   "execution_count": 146,
   "metadata": {},
   "outputs": [],
   "source": [
    "#Create training and testing split\n",
    "X_train, X_test, y_train, y_test = create_train_test(original_df_fs)\n",
    "\n",
    "#Fit and cross-validate\n",
    "linear.fit(X_train, y_train)\n",
    "original_results = cross_val_score(linear,X_test,y_test,scoring='neg_mean_absolute_error',cv=5)"
   ]
  },
  {
   "cell_type": "markdown",
   "metadata": {},
   "source": [
    "Then, after getting the scores, we find the mean and standard deviation. Since the scoring is negative mean absolute error, I will multiply the means by -1 to get the MAE and plot them with their standard deviations in a bar plot."
   ]
  },
  {
   "cell_type": "code",
   "execution_count": 168,
   "metadata": {},
   "outputs": [],
   "source": [
    "means = [np.mean(scaled_results)*-1, np.mean(pca_results)*-1, np.mean(original_results)*-1]\n",
    "stds = [np.std(scaled_results),np.std(pca_results),np.std(original_results)]"
   ]
  },
  {
   "cell_type": "markdown",
   "metadata": {},
   "source": [
    "#### Graphing"
   ]
  },
  {
   "cell_type": "code",
   "execution_count": 169,
   "metadata": {},
   "outputs": [
    {
     "name": "stdout",
     "output_type": "stream",
     "text": [
      "[15040.350329737417, 15173.405420967178, 2226.093735693712]\n",
      "[106.83031762758206, 145.38750219866108, 17.547364843849518]\n"
     ]
    },
    {
     "data": {
      "image/png": "[encoded data removed]",
      "text/plain": [
       "<Figure size 720x360 with 1 Axes>"
      ]
     },
     "metadata": {
      "needs_background": "light"
     },
     "output_type": "display_data"
    }
   ],
   "source": [
    "plt.figure(figsize=(10,5))\n",
    "\n",
    "#Data\n",
    "plt.bar(range(3),means)\n",
    "plt.errorbar(range(3), means, stds, linestyle='None', marker='^',color='red')\n",
    "plt.xlabel(\"dataset used\")\n",
    "plt.xticks(range(3),['Scaled','PCA','Original'])\n",
    "plt.ylabel(\"Mean Absolute Error\")\n",
    "plt.title(\"Linear Regression\")\n",
    "\n",
    "print(means)\n",
    "print(stds)"
   ]
  },
  {
   "cell_type": "markdown",
   "metadata": {},
   "source": [
    "It appears that the original dataset performs the best (has the lowest MAE) for Linear Regression. \n",
    "\n",
    "It would be interesting to see what the coefficients are for each variable in the original dataset, so I isolated the coefficients and mapped them to each feature."
   ]
  },
  {
   "cell_type": "code",
   "execution_count": 170,
   "metadata": {},
   "outputs": [
    {
     "data": {
      "text/plain": [
       "Store            -3.533121e+00\n",
       "Dept             -8.268125e+00\n",
       "IsHoliday         3.345378e+02\n",
       "Temperature      -4.944058e+00\n",
       "Fuel_Price        3.695768e+02\n",
       "MarkDown1         2.166726e-02\n",
       "MarkDown2        -1.036866e-02\n",
       "MarkDown3         5.413248e-02\n",
       "CPI               1.231851e-01\n",
       "Unemployment      7.389900e+00\n",
       "Type_A            8.076209e+01\n",
       "Type_C           -1.859526e+02\n",
       "IsMarkDown        2.096690e+02\n",
       "Year             -2.329605e+02\n",
       "Month             2.104648e+03\n",
       "Week_of_year     -4.702887e+02\n",
       "Day               3.155556e+01\n",
       "Median_Sales     -8.209461e+09\n",
       "IsThanksgiving    4.834211e+03\n",
       "IsChristmas      -4.648866e+03\n",
       "IsPreChristmas    8.640638e+03\n",
       "Lagged_Value      8.209461e+09\n",
       "Lag_Available    -3.646950e+02\n",
       "Diff_from_Med    -8.209461e+09\n",
       "IsDept72          4.263293e+03\n",
       "dtype: float64"
      ]
     },
     "execution_count": 170,
     "metadata": {},
     "output_type": "execute_result"
    }
   ],
   "source": [
    "significance = pd.Series(linear.coef_)\n",
    "significance.index = original_df_fs.drop('Weekly_Sales',axis=1).columns\n",
    "significance"
   ]
  },
  {
   "cell_type": "markdown",
   "metadata": {},
   "source": [
    "### Ridge Regression\n",
    "\n",
    "For Ridge and Lasso Regression, we need to first search for the best value of alpha. "
   ]
  },
  {
   "cell_type": "code",
   "execution_count": 176,
   "metadata": {},
   "outputs": [
    {
     "name": "stdout",
     "output_type": "stream",
     "text": [
      "{'alpha': 0.0009000000000000001}\n",
      "{'alpha': 0.0001}\n"
     ]
    },
    {
     "name": "stderr",
     "output_type": "stream",
     "text": [
      "C:\\Users\\songs\\Anaconda3\\lib\\site-packages\\sklearn\\linear_model\\ridge.py:147: LinAlgWarning: Ill-conditioned matrix (rcond=1.404e-17): result may not be accurate.\n",
      "  overwrite_a=True).T\n",
      "C:\\Users\\songs\\Anaconda3\\lib\\site-packages\\sklearn\\linear_model\\ridge.py:147: LinAlgWarning: Ill-conditioned matrix (rcond=7.67656e-18): result may not be accurate.\n",
      "  overwrite_a=True).T\n",
      "C:\\Users\\songs\\Anaconda3\\lib\\site-packages\\sklearn\\linear_model\\ridge.py:147: LinAlgWarning: Ill-conditioned matrix (rcond=1.67088e-17): result may not be accurate.\n",
      "  overwrite_a=True).T\n",
      "C:\\Users\\songs\\Anaconda3\\lib\\site-packages\\sklearn\\linear_model\\ridge.py:147: LinAlgWarning: Ill-conditioned matrix (rcond=1.35871e-17): result may not be accurate.\n",
      "  overwrite_a=True).T\n",
      "C:\\Users\\songs\\Anaconda3\\lib\\site-packages\\sklearn\\linear_model\\ridge.py:147: LinAlgWarning: Ill-conditioned matrix (rcond=1.58192e-17): result may not be accurate.\n",
      "  overwrite_a=True).T\n",
      "C:\\Users\\songs\\Anaconda3\\lib\\site-packages\\sklearn\\linear_model\\ridge.py:147: LinAlgWarning: Ill-conditioned matrix (rcond=6.34484e-18): result may not be accurate.\n",
      "  overwrite_a=True).T\n",
      "C:\\Users\\songs\\Anaconda3\\lib\\site-packages\\sklearn\\linear_model\\ridge.py:147: LinAlgWarning: Ill-conditioned matrix (rcond=4.51562e-19): result may not be accurate.\n",
      "  overwrite_a=True).T\n",
      "C:\\Users\\songs\\Anaconda3\\lib\\site-packages\\sklearn\\linear_model\\ridge.py:147: LinAlgWarning: Ill-conditioned matrix (rcond=7.67701e-18): result may not be accurate.\n",
      "  overwrite_a=True).T\n",
      "C:\\Users\\songs\\Anaconda3\\lib\\site-packages\\sklearn\\linear_model\\ridge.py:147: LinAlgWarning: Ill-conditioned matrix (rcond=2.21923e-17): result may not be accurate.\n",
      "  overwrite_a=True).T\n",
      "C:\\Users\\songs\\Anaconda3\\lib\\site-packages\\sklearn\\linear_model\\ridge.py:147: LinAlgWarning: Ill-conditioned matrix (rcond=2.25794e-17): result may not be accurate.\n",
      "  overwrite_a=True).T\n",
      "C:\\Users\\songs\\Anaconda3\\lib\\site-packages\\sklearn\\linear_model\\ridge.py:147: LinAlgWarning: Ill-conditioned matrix (rcond=1.17406e-17): result may not be accurate.\n",
      "  overwrite_a=True).T\n",
      "C:\\Users\\songs\\Anaconda3\\lib\\site-packages\\sklearn\\linear_model\\ridge.py:147: LinAlgWarning: Ill-conditioned matrix (rcond=1.30961e-17): result may not be accurate.\n",
      "  overwrite_a=True).T\n",
      "C:\\Users\\songs\\Anaconda3\\lib\\site-packages\\sklearn\\linear_model\\ridge.py:147: LinAlgWarning: Ill-conditioned matrix (rcond=5.89164e-18): result may not be accurate.\n",
      "  overwrite_a=True).T\n",
      "C:\\Users\\songs\\Anaconda3\\lib\\site-packages\\sklearn\\linear_model\\ridge.py:147: LinAlgWarning: Ill-conditioned matrix (rcond=4.51562e-19): result may not be accurate.\n",
      "  overwrite_a=True).T\n",
      "C:\\Users\\songs\\Anaconda3\\lib\\site-packages\\sklearn\\linear_model\\ridge.py:147: LinAlgWarning: Ill-conditioned matrix (rcond=5.41907e-18): result may not be accurate.\n",
      "  overwrite_a=True).T\n",
      "C:\\Users\\songs\\Anaconda3\\lib\\site-packages\\sklearn\\linear_model\\ridge.py:147: LinAlgWarning: Ill-conditioned matrix (rcond=1.67574e-17): result may not be accurate.\n",
      "  overwrite_a=True).T\n",
      "C:\\Users\\songs\\Anaconda3\\lib\\site-packages\\sklearn\\linear_model\\ridge.py:147: LinAlgWarning: Ill-conditioned matrix (rcond=4.51977e-18): result may not be accurate.\n",
      "  overwrite_a=True).T\n",
      "C:\\Users\\songs\\Anaconda3\\lib\\site-packages\\sklearn\\linear_model\\ridge.py:147: LinAlgWarning: Ill-conditioned matrix (rcond=2.25781e-17): result may not be accurate.\n",
      "  overwrite_a=True).T\n",
      "C:\\Users\\songs\\Anaconda3\\lib\\site-packages\\sklearn\\linear_model\\ridge.py:147: LinAlgWarning: Ill-conditioned matrix (rcond=1.26445e-17): result may not be accurate.\n",
      "  overwrite_a=True).T\n",
      "C:\\Users\\songs\\Anaconda3\\lib\\site-packages\\sklearn\\linear_model\\ridge.py:147: LinAlgWarning: Ill-conditioned matrix (rcond=2.43858e-17): result may not be accurate.\n",
      "  overwrite_a=True).T\n",
      "C:\\Users\\songs\\Anaconda3\\lib\\site-packages\\sklearn\\linear_model\\ridge.py:147: LinAlgWarning: Ill-conditioned matrix (rcond=9.51097e-18): result may not be accurate.\n",
      "  overwrite_a=True).T\n",
      "C:\\Users\\songs\\Anaconda3\\lib\\site-packages\\sklearn\\linear_model\\ridge.py:147: LinAlgWarning: Ill-conditioned matrix (rcond=5.89164e-18): result may not be accurate.\n",
      "  overwrite_a=True).T\n",
      "C:\\Users\\songs\\Anaconda3\\lib\\site-packages\\sklearn\\linear_model\\ridge.py:147: LinAlgWarning: Ill-conditioned matrix (rcond=8.1286e-18): result may not be accurate.\n",
      "  overwrite_a=True).T\n",
      "C:\\Users\\songs\\Anaconda3\\lib\\site-packages\\sklearn\\linear_model\\ridge.py:147: LinAlgWarning: Ill-conditioned matrix (rcond=2.43858e-17): result may not be accurate.\n",
      "  overwrite_a=True).T\n",
      "C:\\Users\\songs\\Anaconda3\\lib\\site-packages\\sklearn\\linear_model\\ridge.py:147: LinAlgWarning: Ill-conditioned matrix (rcond=1.55572e-17): result may not be accurate.\n",
      "  overwrite_a=True).T\n"
     ]
    },
    {
     "name": "stdout",
     "output_type": "stream",
     "text": [
      "{'alpha': 0.0009000000000000001}\n"
     ]
    }
   ],
   "source": [
    "model = Ridge\n",
    "params_to_test = {'alpha':np.arange(0.0001, 0.001, 0.0001)}\n",
    "\n",
    "optimize_params(model, params_to_test, scaled_df)\n",
    "optimize_params(model, params_to_test, pca_df)\n",
    "optimize_params(model, params_to_test, original_df)"
   ]
  },
  {
   "cell_type": "markdown",
   "metadata": {},
   "source": [
    "Using the alphas found above, we create our models. After creating the models, we find the mean negative absolute error, multiple it by -1, and graph it in a bar plot with the standard deviation just like we've done before."
   ]
  },
  {
   "cell_type": "markdown",
   "metadata": {},
   "source": [
    "#### Scaled"
   ]
  },
  {
   "cell_type": "code",
   "execution_count": 177,
   "metadata": {},
   "outputs": [],
   "source": [
    "#Create Ridge Regression Model\n",
    "ridge = Ridge(alpha=0.0009)\n",
    "\n",
    "#Create training and testing split\n",
    "X_train, X_test, y_train, y_test = create_train_test(scaled_df_fs)\n",
    "\n",
    "#Fit and cross-validate\n",
    "ridge.fit(X_train, y_train)\n",
    "scaled_results = cross_val_score(ridge,X_test,y_test,scoring='neg_mean_absolute_error',cv=5)"
   ]
  },
  {
   "cell_type": "markdown",
   "metadata": {},
   "source": [
    "#### PCA"
   ]
  },
  {
   "cell_type": "code",
   "execution_count": 178,
   "metadata": {},
   "outputs": [],
   "source": [
    "#Create Ridge Regression Model\n",
    "ridge = Ridge(alpha=0.0001)\n",
    "\n",
    "#Create training and testing split\n",
    "X_train, X_test, y_train, y_test = create_train_test(pca_df_fs)\n",
    "\n",
    "#Fit and cross-validate\n",
    "ridge.fit(X_train, y_train)\n",
    "pca_results = cross_val_score(ridge,X_test,y_test,scoring='neg_mean_absolute_error',cv=5)"
   ]
  },
  {
   "cell_type": "markdown",
   "metadata": {},
   "source": [
    "#### Original Dataset"
   ]
  },
  {
   "cell_type": "code",
   "execution_count": 179,
   "metadata": {},
   "outputs": [
    {
     "name": "stderr",
     "output_type": "stream",
     "text": [
      "C:\\Users\\songs\\Anaconda3\\lib\\site-packages\\sklearn\\linear_model\\ridge.py:147: LinAlgWarning: Ill-conditioned matrix (rcond=2.07649e-17): result may not be accurate.\n",
      "  overwrite_a=True).T\n",
      "C:\\Users\\songs\\Anaconda3\\lib\\site-packages\\sklearn\\linear_model\\ridge.py:147: LinAlgWarning: Ill-conditioned matrix (rcond=3.99927e-17): result may not be accurate.\n",
      "  overwrite_a=True).T\n",
      "C:\\Users\\songs\\Anaconda3\\lib\\site-packages\\sklearn\\linear_model\\ridge.py:147: LinAlgWarning: Ill-conditioned matrix (rcond=6.67531e-17): result may not be accurate.\n",
      "  overwrite_a=True).T\n"
     ]
    }
   ],
   "source": [
    "#Create Ridge Regression Model\n",
    "ridge = Ridge(alpha=0.0009)\n",
    "\n",
    "#Create training and testing split\n",
    "X_train, X_test, y_train, y_test = create_train_test(original_df_fs)\n",
    "\n",
    "#Fit and cross-validate\n",
    "ridge.fit(X_train, y_train)\n",
    "scaled_results = cross_val_score(ridge,X_test,y_test,scoring='neg_mean_absolute_error',cv=5)"
   ]
  },
  {
   "cell_type": "code",
   "execution_count": 204,
   "metadata": {},
   "outputs": [],
   "source": [
    "#Graphing\n",
    "means = [np.mean(scaled_results)*-1, np.mean(pca_results)*-1, np.mean(original_results)*-1]\n",
    "stds = [np.std(scaled_results),np.std(pca_results),np.std(original_results)]"
   ]
  },
  {
   "cell_type": "code",
   "execution_count": 181,
   "metadata": {},
   "outputs": [
    {
     "name": "stdout",
     "output_type": "stream",
     "text": [
      "[2215.0366319094014, 15188.47529584504, 2226.093735693712]\n",
      "[58.22602150130048, 102.92823676953664, 17.547364843849518]\n"
     ]
    },
    {
     "data": {
      "image/png": "[encoded data removed]",
      "text/plain": [
       "<Figure size 720x360 with 1 Axes>"
      ]
     },
     "metadata": {
      "needs_background": "light"
     },
     "output_type": "display_data"
    }
   ],
   "source": [
    "plt.figure(figsize=(10,5))\n",
    "plt.bar(range(3),means)\n",
    "plt.errorbar(range(3), means, stds, linestyle='None', marker='^',color='red')\n",
    "plt.xlabel(\"dataset used\")\n",
    "plt.xticks(range(3),['Scaled','PCA','Original'])\n",
    "plt.ylabel(\"Mean Absolute Error\")\n",
    "plt.title(\"Ridge Regression\")\n",
    "\n",
    "print(means)\n",
    "print(stds)"
   ]
  },
  {
   "cell_type": "markdown",
   "metadata": {},
   "source": [
    "### Lasso\n",
    "\n",
    "Similar to Ridge Regression, I first optimized the alpha value before fitting the models and getting the MAE."
   ]
  },
  {
   "cell_type": "code",
   "execution_count": 196,
   "metadata": {
    "scrolled": false
   },
   "outputs": [
    {
     "name": "stdout",
     "output_type": "stream",
     "text": [
      "{'alpha': 0.0001}\n",
      "{'alpha': 0.0001}\n",
      "{'alpha': 0.0009}\n"
     ]
    }
   ],
   "source": [
    "model = Lasso\n",
    "params_to_test = {'alpha':np.arange(0.00001, 0.0001, 0.00001)}\n",
    "\n",
    "optimize_params(model, params_to_test, scaled_df)\n",
    "optimize_params(model, params_to_test, pca_df)\n",
    "optimize_params(model, params_to_test, original_df)"
   ]
  },
  {
   "cell_type": "markdown",
   "metadata": {},
   "source": [
    "#### Scaled"
   ]
  },
  {
   "cell_type": "code",
   "execution_count": 191,
   "metadata": {},
   "outputs": [
    {
     "name": "stderr",
     "output_type": "stream",
     "text": [
      "C:\\Users\\songs\\Anaconda3\\lib\\site-packages\\sklearn\\linear_model\\coordinate_descent.py:475: ConvergenceWarning: Objective did not converge. You might want to increase the number of iterations. Duality gap: 50326269930939.086, tolerance: 10077125689.496344\n",
      "  positive)\n",
      "C:\\Users\\songs\\Anaconda3\\lib\\site-packages\\sklearn\\linear_model\\coordinate_descent.py:475: ConvergenceWarning: Objective did not converge. You might want to increase the number of iterations. Duality gap: 17427602356375.768, tolerance: 3500288922.2857084\n",
      "  positive)\n",
      "C:\\Users\\songs\\Anaconda3\\lib\\site-packages\\sklearn\\linear_model\\coordinate_descent.py:475: ConvergenceWarning: Objective did not converge. You might want to increase the number of iterations. Duality gap: 17729792985201.53, tolerance: 3556634249.6644244\n",
      "  positive)\n",
      "C:\\Users\\songs\\Anaconda3\\lib\\site-packages\\sklearn\\linear_model\\coordinate_descent.py:475: ConvergenceWarning: Objective did not converge. You might want to increase the number of iterations. Duality gap: 17681860006215.062, tolerance: 3540769557.4174423\n",
      "  positive)\n",
      "C:\\Users\\songs\\Anaconda3\\lib\\site-packages\\sklearn\\linear_model\\coordinate_descent.py:475: ConvergenceWarning: Objective did not converge. You might want to increase the number of iterations. Duality gap: 17868746738905.867, tolerance: 3581381330.24422\n",
      "  positive)\n",
      "C:\\Users\\songs\\Anaconda3\\lib\\site-packages\\sklearn\\linear_model\\coordinate_descent.py:475: ConvergenceWarning: Objective did not converge. You might want to increase the number of iterations. Duality gap: 17617817894549.984, tolerance: 3530104817.9328785\n",
      "  positive)\n"
     ]
    }
   ],
   "source": [
    "#Create Model\n",
    "lasso = Lasso(alpha=0.0001)\n",
    "\n",
    "#Create training and testing split\n",
    "X_train, X_test, y_train, y_test = create_train_test(scaled_df_fs)\n",
    "\n",
    "#Fit and cross-validate\n",
    "lasso.fit(X_train, y_train)\n",
    "scaled_results = cross_val_score(lasso,X_test,y_test,scoring='neg_mean_absolute_error',cv=5)"
   ]
  },
  {
   "cell_type": "markdown",
   "metadata": {},
   "source": [
    "#### PCA"
   ]
  },
  {
   "cell_type": "code",
   "execution_count": 192,
   "metadata": {},
   "outputs": [],
   "source": [
    "#Create Model\n",
    "lasso = Lasso(alpha=0.0001)\n",
    "\n",
    "#Create training and testing split\n",
    "X_train, X_test, y_train, y_test = create_train_test(pca_df_fs)\n",
    "\n",
    "#Fit and cross-validate\n",
    "lasso.fit(X_train, y_train)\n",
    "scaled_results = cross_val_score(lasso,X_test,y_test,scoring='neg_mean_absolute_error',cv=5)"
   ]
  },
  {
   "cell_type": "markdown",
   "metadata": {},
   "source": [
    "#### Original Dataset"
   ]
  },
  {
   "cell_type": "code",
   "execution_count": 193,
   "metadata": {},
   "outputs": [
    {
     "name": "stderr",
     "output_type": "stream",
     "text": [
      "C:\\Users\\songs\\Anaconda3\\lib\\site-packages\\sklearn\\linear_model\\coordinate_descent.py:475: ConvergenceWarning: Objective did not converge. You might want to increase the number of iterations. Duality gap: 3752822436610.8003, tolerance: 10089503149.793413\n",
      "  positive)\n",
      "C:\\Users\\songs\\Anaconda3\\lib\\site-packages\\sklearn\\linear_model\\coordinate_descent.py:475: ConvergenceWarning: Objective did not converge. You might want to increase the number of iterations. Duality gap: 1401619302052.6838, tolerance: 3576068381.6816463\n",
      "  positive)\n",
      "C:\\Users\\songs\\Anaconda3\\lib\\site-packages\\sklearn\\linear_model\\coordinate_descent.py:475: ConvergenceWarning: Objective did not converge. You might want to increase the number of iterations. Duality gap: 1356970734625.3748, tolerance: 3545127825.465794\n",
      "  positive)\n",
      "C:\\Users\\songs\\Anaconda3\\lib\\site-packages\\sklearn\\linear_model\\coordinate_descent.py:475: ConvergenceWarning: Objective did not converge. You might want to increase the number of iterations. Duality gap: 1398968235890.7048, tolerance: 3563120492.8371954\n",
      "  positive)\n",
      "C:\\Users\\songs\\Anaconda3\\lib\\site-packages\\sklearn\\linear_model\\coordinate_descent.py:475: ConvergenceWarning: Objective did not converge. You might want to increase the number of iterations. Duality gap: 1295565071379.4749, tolerance: 3495016087.6155634\n",
      "  positive)\n",
      "C:\\Users\\songs\\Anaconda3\\lib\\site-packages\\sklearn\\linear_model\\coordinate_descent.py:475: ConvergenceWarning: Objective did not converge. You might want to increase the number of iterations. Duality gap: 1207165486298.237, tolerance: 3480317966.611958\n",
      "  positive)\n"
     ]
    }
   ],
   "source": [
    "#Create Model\n",
    "lasso = Lasso(alpha=0.0009)\n",
    "\n",
    "#Create training and testing split\n",
    "X_train, X_test, y_train, y_test = create_train_test(original_df_fs)\n",
    "\n",
    "#Fit and cross-validate\n",
    "lasso.fit(X_train, y_train)\n",
    "scaled_results = cross_val_score(lasso,X_test,y_test,scoring='neg_mean_absolute_error',cv=5)"
   ]
  },
  {
   "cell_type": "markdown",
   "metadata": {},
   "source": [
    "Below is the plot of MAE with standard deviation."
   ]
  },
  {
   "cell_type": "code",
   "execution_count": 194,
   "metadata": {},
   "outputs": [],
   "source": [
    "means = [np.mean(scaled_results)*-1, np.mean(pca_results)*-1, np.mean(original_results)*-1]\n",
    "stds = [np.std(scaled_results),np.std(pca_results),np.std(original_results)]"
   ]
  },
  {
   "cell_type": "code",
   "execution_count": 198,
   "metadata": {},
   "outputs": [
    {
     "name": "stdout",
     "output_type": "stream",
     "text": [
      "[2227.323491948231, 15188.47529584504, 2226.093735693712]\n",
      "[37.07224084555823, 102.92823676953664, 17.547364843849518]\n"
     ]
    },
    {
     "data": {
      "image/png": "[encoded data removed]",
      "text/plain": [
       "<Figure size 720x360 with 1 Axes>"
      ]
     },
     "metadata": {
      "needs_background": "light"
     },
     "output_type": "display_data"
    }
   ],
   "source": [
    "plt.figure(figsize=(10,5))\n",
    "plt.bar(range(3),means)\n",
    "plt.errorbar(range(3), means, stds, linestyle='None', marker='^',color='red')\n",
    "plt.xlabel(\"dataset used\")\n",
    "plt.xticks(range(3),['Scaled','PCA','Original'])\n",
    "plt.ylabel(\"Mean Absolute Error\")\n",
    "plt.title(\"Lasso Regression\")\n",
    "\n",
    "print(means)\n",
    "print(stds)"
   ]
  },
  {
   "cell_type": "markdown",
   "metadata": {},
   "source": [
    "Let's look at the Lasso Coefs of the Original to see what variables are the most important."
   ]
  },
  {
   "cell_type": "code",
   "execution_count": 213,
   "metadata": {},
   "outputs": [
    {
     "data": {
      "image/png": "[encoded data removed]",
      "text/plain": [
       "<Figure size 1008x504 with 1 Axes>"
      ]
     },
     "metadata": {
      "needs_background": "light"
     },
     "output_type": "display_data"
    }
   ],
   "source": [
    "lasso_coef = lasso.coef_\n",
    "\n",
    "plt.figure(figsize=(14,7))\n",
    "plt.bar(range(len(lasso_coef)),lasso_coef)\n",
    "plt.xticks(range(len(lasso_coef)),original_df_fs.drop('Weekly_Sales',axis=1).columns,rotation=90)\n",
    "plt.show()"
   ]
  },
  {
   "cell_type": "markdown",
   "metadata": {},
   "source": [
    "### RandomForestRegressor\n",
    "\n",
    "I tested for the optimal number of trees (\"n_estimators\") because that is the most important hyperparameter to tune. "
   ]
  },
  {
   "cell_type": "code",
   "execution_count": 197,
   "metadata": {
    "scrolled": true
   },
   "outputs": [
    {
     "name": "stdout",
     "output_type": "stream",
     "text": [
      "Fitting 5 folds for each of 8 candidates, totalling 40 fits\n"
     ]
    },
    {
     "name": "stderr",
     "output_type": "stream",
     "text": [
      "[Parallel(n_jobs=1)]: Using backend SequentialBackend with 1 concurrent workers.\n"
     ]
    },
    {
     "name": "stdout",
     "output_type": "stream",
     "text": [
      "[CV] n_estimators=5 ..................................................\n",
      "[CV] .................. n_estimators=5, score=-6741.739, total=   9.5s\n"
     ]
    },
    {
     "name": "stderr",
     "output_type": "stream",
     "text": [
      "[Parallel(n_jobs=1)]: Done   1 out of   1 | elapsed:    9.4s remaining:    0.0s\n"
     ]
    },
    {
     "name": "stdout",
     "output_type": "stream",
     "text": [
      "[CV] n_estimators=5 ..................................................\n",
      "[CV] .................. n_estimators=5, score=-6661.348, total=   9.6s\n"
     ]
    },
    {
     "name": "stderr",
     "output_type": "stream",
     "text": [
      "[Parallel(n_jobs=1)]: Done   2 out of   2 | elapsed:   19.0s remaining:    0.0s\n"
     ]
    },
    {
     "name": "stdout",
     "output_type": "stream",
     "text": [
      "[CV] n_estimators=5 ..................................................\n",
      "[CV] .................. n_estimators=5, score=-6842.757, total=   9.7s\n"
     ]
    },
    {
     "name": "stderr",
     "output_type": "stream",
     "text": [
      "[Parallel(n_jobs=1)]: Done   3 out of   3 | elapsed:   28.7s remaining:    0.0s\n"
     ]
    },
    {
     "name": "stdout",
     "output_type": "stream",
     "text": [
      "[CV] n_estimators=5 ..................................................\n",
      "[CV] .................. n_estimators=5, score=-6879.903, total=   9.3s\n"
     ]
    },
    {
     "name": "stderr",
     "output_type": "stream",
     "text": [
      "[Parallel(n_jobs=1)]: Done   4 out of   4 | elapsed:   38.0s remaining:    0.0s\n"
     ]
    },
    {
     "name": "stdout",
     "output_type": "stream",
     "text": [
      "[CV] n_estimators=5 ..................................................\n",
      "[CV] .................. n_estimators=5, score=-6755.881, total=   9.9s\n"
     ]
    },
    {
     "name": "stderr",
     "output_type": "stream",
     "text": [
      "[Parallel(n_jobs=1)]: Done   5 out of   5 | elapsed:   47.9s remaining:    0.0s\n"
     ]
    },
    {
     "name": "stdout",
     "output_type": "stream",
     "text": [
      "[CV] n_estimators=10 .................................................\n",
      "[CV] ................. n_estimators=10, score=-6520.731, total=  19.5s\n"
     ]
    },
    {
     "name": "stderr",
     "output_type": "stream",
     "text": [
      "[Parallel(n_jobs=1)]: Done   6 out of   6 | elapsed:  1.1min remaining:    0.0s\n"
     ]
    },
    {
     "name": "stdout",
     "output_type": "stream",
     "text": [
      "[CV] n_estimators=10 .................................................\n",
      "[CV] ................. n_estimators=10, score=-6369.295, total=  19.2s\n"
     ]
    },
    {
     "name": "stderr",
     "output_type": "stream",
     "text": [
      "[Parallel(n_jobs=1)]: Done   7 out of   7 | elapsed:  1.4min remaining:    0.0s\n"
     ]
    },
    {
     "name": "stdout",
     "output_type": "stream",
     "text": [
      "[CV] n_estimators=10 .................................................\n",
      "[CV] ................. n_estimators=10, score=-6505.843, total=  18.9s\n"
     ]
    },
    {
     "name": "stderr",
     "output_type": "stream",
     "text": [
      "[Parallel(n_jobs=1)]: Done   8 out of   8 | elapsed:  1.8min remaining:    0.0s\n"
     ]
    },
    {
     "name": "stdout",
     "output_type": "stream",
     "text": [
      "[CV] n_estimators=10 .................................................\n",
      "[CV] ................. n_estimators=10, score=-6398.961, total=  18.7s\n"
     ]
    },
    {
     "name": "stderr",
     "output_type": "stream",
     "text": [
      "[Parallel(n_jobs=1)]: Done   9 out of   9 | elapsed:  2.1min remaining:    0.0s\n"
     ]
    },
    {
     "name": "stdout",
     "output_type": "stream",
     "text": [
      "[CV] n_estimators=10 .................................................\n",
      "[CV] ................. n_estimators=10, score=-6517.407, total=  19.6s\n",
      "[CV] n_estimators=20 .................................................\n",
      "[CV] ................. n_estimators=20, score=-6107.125, total=  39.2s\n",
      "[CV] n_estimators=20 .................................................\n",
      "[CV] ................. n_estimators=20, score=-6169.894, total=  40.5s\n",
      "[CV] n_estimators=20 .................................................\n",
      "[CV] ................. n_estimators=20, score=-6176.500, total=  38.2s\n",
      "[CV] n_estimators=20 .................................................\n",
      "[CV] ................. n_estimators=20, score=-6253.987, total=  37.9s\n",
      "[CV] n_estimators=20 .................................................\n",
      "[CV] ................. n_estimators=20, score=-6142.646, total=  39.8s\n",
      "[CV] n_estimators=30 .................................................\n",
      "[CV] ................. n_estimators=30, score=-6098.287, total=  56.3s\n",
      "[CV] n_estimators=30 .................................................\n",
      "[CV] ................. n_estimators=30, score=-6090.912, total=  57.9s\n",
      "[CV] n_estimators=30 .................................................\n",
      "[CV] ................. n_estimators=30, score=-6079.599, total=  57.7s\n",
      "[CV] n_estimators=30 .................................................\n",
      "[CV] ................. n_estimators=30, score=-6171.392, total=  58.0s\n",
      "[CV] n_estimators=30 .................................................\n",
      "[CV] ................. n_estimators=30, score=-6119.704, total=  58.7s\n",
      "[CV] n_estimators=40 .................................................\n",
      "[CV] ................. n_estimators=40, score=-6040.955, total= 1.3min\n",
      "[CV] n_estimators=40 .................................................\n",
      "[CV] ................. n_estimators=40, score=-6031.677, total= 1.3min\n",
      "[CV] n_estimators=40 .................................................\n",
      "[CV] ................. n_estimators=40, score=-6010.888, total= 1.3min\n",
      "[CV] n_estimators=40 .................................................\n",
      "[CV] ................. n_estimators=40, score=-6098.911, total= 1.3min\n",
      "[CV] n_estimators=40 .................................................\n",
      "[CV] ................. n_estimators=40, score=-6042.416, total= 1.3min\n",
      "[CV] n_estimators=50 .................................................\n",
      "[CV] ................. n_estimators=50, score=-5998.577, total= 1.6min\n",
      "[CV] n_estimators=50 .................................................\n",
      "[CV] ................. n_estimators=50, score=-5975.995, total= 1.6min\n",
      "[CV] n_estimators=50 .................................................\n",
      "[CV] ................. n_estimators=50, score=-6000.699, total= 1.6min\n",
      "[CV] n_estimators=50 .................................................\n",
      "[CV] ................. n_estimators=50, score=-6060.962, total= 1.6min\n",
      "[CV] n_estimators=50 .................................................\n",
      "[CV] ................. n_estimators=50, score=-6019.836, total= 1.6min\n",
      "[CV] n_estimators=75 .................................................\n",
      "[CV] ................. n_estimators=75, score=-5977.551, total= 2.3min\n",
      "[CV] n_estimators=75 .................................................\n",
      "[CV] ................. n_estimators=75, score=-5945.194, total= 2.4min\n",
      "[CV] n_estimators=75 .................................................\n",
      "[CV] ................. n_estimators=75, score=-5963.061, total= 2.4min\n",
      "[CV] n_estimators=75 .................................................\n",
      "[CV] ................. n_estimators=75, score=-6044.428, total= 2.4min\n",
      "[CV] n_estimators=75 .................................................\n",
      "[CV] ................. n_estimators=75, score=-5950.131, total= 2.5min\n",
      "[CV] n_estimators=100 ................................................\n",
      "[CV] ................ n_estimators=100, score=-5981.756, total= 3.2min\n",
      "[CV] n_estimators=100 ................................................\n",
      "[CV] ................ n_estimators=100, score=-5942.341, total= 3.2min\n",
      "[CV] n_estimators=100 ................................................\n",
      "[CV] ................ n_estimators=100, score=-5920.944, total= 3.2min\n",
      "[CV] n_estimators=100 ................................................\n",
      "[CV] ................ n_estimators=100, score=-6015.446, total= 3.2min\n",
      "[CV] n_estimators=100 ................................................\n",
      "[CV] ................ n_estimators=100, score=-5939.617, total= 3.3min\n"
     ]
    },
    {
     "name": "stderr",
     "output_type": "stream",
     "text": [
      "[Parallel(n_jobs=1)]: Done  40 out of  40 | elapsed: 52.8min finished\n"
     ]
    },
    {
     "name": "stdout",
     "output_type": "stream",
     "text": [
      "{'n_estimators': 100}\n",
      "Fitting 5 folds for each of 8 candidates, totalling 40 fits\n"
     ]
    },
    {
     "name": "stderr",
     "output_type": "stream",
     "text": [
      "[Parallel(n_jobs=1)]: Using backend SequentialBackend with 1 concurrent workers.\n"
     ]
    },
    {
     "name": "stdout",
     "output_type": "stream",
     "text": [
      "[CV] n_estimators=5 ..................................................\n",
      "[CV] ................. n_estimators=5, score=-17095.711, total=  39.8s\n"
     ]
    },
    {
     "name": "stderr",
     "output_type": "stream",
     "text": [
      "[Parallel(n_jobs=1)]: Done   1 out of   1 | elapsed:   39.7s remaining:    0.0s\n"
     ]
    },
    {
     "name": "stdout",
     "output_type": "stream",
     "text": [
      "[CV] n_estimators=5 ..................................................\n",
      "[CV] ................. n_estimators=5, score=-17310.972, total=  38.8s\n"
     ]
    },
    {
     "name": "stderr",
     "output_type": "stream",
     "text": [
      "[Parallel(n_jobs=1)]: Done   2 out of   2 | elapsed:  1.3min remaining:    0.0s\n"
     ]
    },
    {
     "name": "stdout",
     "output_type": "stream",
     "text": [
      "[CV] n_estimators=5 ..................................................\n",
      "[CV] ................. n_estimators=5, score=-17237.167, total=  39.5s\n"
     ]
    },
    {
     "name": "stderr",
     "output_type": "stream",
     "text": [
      "[Parallel(n_jobs=1)]: Done   3 out of   3 | elapsed:  2.0min remaining:    0.0s\n"
     ]
    },
    {
     "name": "stdout",
     "output_type": "stream",
     "text": [
      "[CV] n_estimators=5 ..................................................\n",
      "[CV] ................. n_estimators=5, score=-17236.810, total=  41.3s\n"
     ]
    },
    {
     "name": "stderr",
     "output_type": "stream",
     "text": [
      "[Parallel(n_jobs=1)]: Done   4 out of   4 | elapsed:  2.7min remaining:    0.0s\n"
     ]
    },
    {
     "name": "stdout",
     "output_type": "stream",
     "text": [
      "[CV] n_estimators=5 ..................................................\n",
      "[CV] ................. n_estimators=5, score=-17282.369, total=  42.5s\n"
     ]
    },
    {
     "name": "stderr",
     "output_type": "stream",
     "text": [
      "[Parallel(n_jobs=1)]: Done   5 out of   5 | elapsed:  3.4min remaining:    0.0s\n"
     ]
    },
    {
     "name": "stdout",
     "output_type": "stream",
     "text": [
      "[CV] n_estimators=10 .................................................\n",
      "[CV] ................ n_estimators=10, score=-16552.792, total= 1.4min\n"
     ]
    },
    {
     "name": "stderr",
     "output_type": "stream",
     "text": [
      "[Parallel(n_jobs=1)]: Done   6 out of   6 | elapsed:  4.7min remaining:    0.0s\n"
     ]
    },
    {
     "name": "stdout",
     "output_type": "stream",
     "text": [
      "[CV] n_estimators=10 .................................................\n",
      "[CV] ................ n_estimators=10, score=-16642.187, total= 1.3min\n"
     ]
    },
    {
     "name": "stderr",
     "output_type": "stream",
     "text": [
      "[Parallel(n_jobs=1)]: Done   7 out of   7 | elapsed:  6.0min remaining:    0.0s\n"
     ]
    },
    {
     "name": "stdout",
     "output_type": "stream",
     "text": [
      "[CV] n_estimators=10 .................................................\n",
      "[CV] ................ n_estimators=10, score=-16667.010, total= 1.3min\n"
     ]
    },
    {
     "name": "stderr",
     "output_type": "stream",
     "text": [
      "[Parallel(n_jobs=1)]: Done   8 out of   8 | elapsed:  7.3min remaining:    0.0s\n"
     ]
    },
    {
     "name": "stdout",
     "output_type": "stream",
     "text": [
      "[CV] n_estimators=10 .................................................\n",
      "[CV] ................ n_estimators=10, score=-16694.292, total= 1.4min\n"
     ]
    },
    {
     "name": "stderr",
     "output_type": "stream",
     "text": [
      "[Parallel(n_jobs=1)]: Done   9 out of   9 | elapsed:  8.7min remaining:    0.0s\n"
     ]
    },
    {
     "name": "stdout",
     "output_type": "stream",
     "text": [
      "[CV] n_estimators=10 .................................................\n",
      "[CV] ................ n_estimators=10, score=-16670.625, total= 1.4min\n",
      "[CV] n_estimators=20 .................................................\n",
      "[CV] ................ n_estimators=20, score=-16190.061, total= 2.7min\n",
      "[CV] n_estimators=20 .................................................\n",
      "[CV] ................ n_estimators=20, score=-16326.061, total= 2.7min\n",
      "[CV] n_estimators=20 .................................................\n",
      "[CV] ................ n_estimators=20, score=-16319.006, total= 2.6min\n",
      "[CV] n_estimators=20 .................................................\n",
      "[CV] ................ n_estimators=20, score=-16360.258, total= 2.6min\n",
      "[CV] n_estimators=20 .................................................\n",
      "[CV] ................ n_estimators=20, score=-16232.393, total= 2.8min\n",
      "[CV] n_estimators=30 .................................................\n",
      "[CV] ................ n_estimators=30, score=-16072.712, total= 4.1min\n",
      "[CV] n_estimators=30 .................................................\n",
      "[CV] ................ n_estimators=30, score=-16168.120, total= 4.0min\n",
      "[CV] n_estimators=30 .................................................\n",
      "[CV] ................ n_estimators=30, score=-16202.436, total= 4.0min\n",
      "[CV] n_estimators=30 .................................................\n",
      "[CV] ................ n_estimators=30, score=-16219.792, total= 4.0min\n",
      "[CV] n_estimators=30 .................................................\n",
      "[CV] ................ n_estimators=30, score=-16121.094, total= 4.1min\n",
      "[CV] n_estimators=40 .................................................\n",
      "[CV] ................ n_estimators=40, score=-16004.898, total= 5.4min\n",
      "[CV] n_estimators=40 .................................................\n",
      "[CV] ................ n_estimators=40, score=-16162.798, total= 5.3min\n",
      "[CV] n_estimators=40 .................................................\n",
      "[CV] ................ n_estimators=40, score=-16126.534, total= 5.3min\n",
      "[CV] n_estimators=40 .................................................\n",
      "[CV] ................ n_estimators=40, score=-16202.963, total= 5.4min\n",
      "[CV] n_estimators=40 .................................................\n",
      "[CV] ................ n_estimators=40, score=-16088.311, total= 5.5min\n",
      "[CV] n_estimators=50 .................................................\n",
      "[CV] ................ n_estimators=50, score=-15971.009, total= 6.6min\n",
      "[CV] n_estimators=50 .................................................\n",
      "[CV] ................ n_estimators=50, score=-16100.099, total= 6.6min\n",
      "[CV] n_estimators=50 .................................................\n",
      "[CV] ................ n_estimators=50, score=-16137.048, total= 6.7min\n",
      "[CV] n_estimators=50 .................................................\n",
      "[CV] ................ n_estimators=50, score=-16159.725, total= 6.8min\n",
      "[CV] n_estimators=50 .................................................\n",
      "[CV] ................ n_estimators=50, score=-16079.821, total= 6.8min\n",
      "[CV] n_estimators=75 .................................................\n",
      "[CV] ................ n_estimators=75, score=-15908.943, total= 9.9min\n",
      "[CV] n_estimators=75 .................................................\n",
      "[CV] ................ n_estimators=75, score=-16077.509, total=10.0min\n",
      "[CV] n_estimators=75 .................................................\n",
      "[CV] ................ n_estimators=75, score=-16058.355, total= 9.9min\n",
      "[CV] n_estimators=75 .................................................\n",
      "[CV] ................ n_estimators=75, score=-16114.476, total=10.1min\n",
      "[CV] n_estimators=75 .................................................\n",
      "[CV] ................ n_estimators=75, score=-15994.986, total=10.2min\n",
      "[CV] n_estimators=100 ................................................\n",
      "[CV] ............... n_estimators=100, score=-15905.801, total=13.2min\n",
      "[CV] n_estimators=100 ................................................\n",
      "[CV] ............... n_estimators=100, score=-16028.601, total=13.2min\n",
      "[CV] n_estimators=100 ................................................\n",
      "[CV] ............... n_estimators=100, score=-16024.556, total=13.1min\n",
      "[CV] n_estimators=100 ................................................\n",
      "[CV] ............... n_estimators=100, score=-16095.240, total=13.6min\n",
      "[CV] n_estimators=100 ................................................\n",
      "[CV] ............... n_estimators=100, score=-15971.043, total=13.5min\n"
     ]
    },
    {
     "name": "stderr",
     "output_type": "stream",
     "text": [
      "[Parallel(n_jobs=1)]: Done  40 out of  40 | elapsed: 220.8min finished\n"
     ]
    },
    {
     "name": "stdout",
     "output_type": "stream",
     "text": [
      "{'n_estimators': 100}\n",
      "Fitting 5 folds for each of 8 candidates, totalling 40 fits\n"
     ]
    },
    {
     "name": "stderr",
     "output_type": "stream",
     "text": [
      "[Parallel(n_jobs=1)]: Using backend SequentialBackend with 1 concurrent workers.\n"
     ]
    },
    {
     "name": "stdout",
     "output_type": "stream",
     "text": [
      "[CV] n_estimators=5 ..................................................\n",
      "[CV] ..................... n_estimators=5, score=-4.945, total=   8.7s\n"
     ]
    },
    {
     "name": "stderr",
     "output_type": "stream",
     "text": [
      "[Parallel(n_jobs=1)]: Done   1 out of   1 | elapsed:    8.7s remaining:    0.0s\n"
     ]
    },
    {
     "name": "stdout",
     "output_type": "stream",
     "text": [
      "[CV] n_estimators=5 ..................................................\n",
      "[CV] .................... n_estimators=5, score=-10.858, total=   8.7s\n"
     ]
    },
    {
     "name": "stderr",
     "output_type": "stream",
     "text": [
      "[Parallel(n_jobs=1)]: Done   2 out of   2 | elapsed:   17.5s remaining:    0.0s\n"
     ]
    },
    {
     "name": "stdout",
     "output_type": "stream",
     "text": [
      "[CV] n_estimators=5 ..................................................\n",
      "[CV] ..................... n_estimators=5, score=-2.472, total=   8.7s\n"
     ]
    },
    {
     "name": "stderr",
     "output_type": "stream",
     "text": [
      "[Parallel(n_jobs=1)]: Done   3 out of   3 | elapsed:   26.2s remaining:    0.0s\n"
     ]
    },
    {
     "name": "stdout",
     "output_type": "stream",
     "text": [
      "[CV] n_estimators=5 ..................................................\n",
      "[CV] ..................... n_estimators=5, score=-4.171, total=   8.7s\n"
     ]
    },
    {
     "name": "stderr",
     "output_type": "stream",
     "text": [
      "[Parallel(n_jobs=1)]: Done   4 out of   4 | elapsed:   35.0s remaining:    0.0s\n"
     ]
    },
    {
     "name": "stdout",
     "output_type": "stream",
     "text": [
      "[CV] n_estimators=5 ..................................................\n",
      "[CV] ..................... n_estimators=5, score=-2.863, total=   8.7s\n"
     ]
    },
    {
     "name": "stderr",
     "output_type": "stream",
     "text": [
      "[Parallel(n_jobs=1)]: Done   5 out of   5 | elapsed:   43.8s remaining:    0.0s\n"
     ]
    },
    {
     "name": "stdout",
     "output_type": "stream",
     "text": [
      "[CV] n_estimators=10 .................................................\n",
      "[CV] .................... n_estimators=10, score=-3.312, total=  17.0s\n"
     ]
    },
    {
     "name": "stderr",
     "output_type": "stream",
     "text": [
      "[Parallel(n_jobs=1)]: Done   6 out of   6 | elapsed:  1.0min remaining:    0.0s\n"
     ]
    },
    {
     "name": "stdout",
     "output_type": "stream",
     "text": [
      "[CV] n_estimators=10 .................................................\n",
      "[CV] .................... n_estimators=10, score=-8.170, total=  17.0s\n"
     ]
    },
    {
     "name": "stderr",
     "output_type": "stream",
     "text": [
      "[Parallel(n_jobs=1)]: Done   7 out of   7 | elapsed:  1.3min remaining:    0.0s\n"
     ]
    },
    {
     "name": "stdout",
     "output_type": "stream",
     "text": [
      "[CV] n_estimators=10 .................................................\n",
      "[CV] .................... n_estimators=10, score=-3.148, total=  17.0s\n"
     ]
    },
    {
     "name": "stderr",
     "output_type": "stream",
     "text": [
      "[Parallel(n_jobs=1)]: Done   8 out of   8 | elapsed:  1.6min remaining:    0.0s\n"
     ]
    },
    {
     "name": "stdout",
     "output_type": "stream",
     "text": [
      "[CV] n_estimators=10 .................................................\n",
      "[CV] .................... n_estimators=10, score=-3.653, total=  17.1s\n"
     ]
    },
    {
     "name": "stderr",
     "output_type": "stream",
     "text": [
      "[Parallel(n_jobs=1)]: Done   9 out of   9 | elapsed:  1.9min remaining:    0.0s\n"
     ]
    },
    {
     "name": "stdout",
     "output_type": "stream",
     "text": [
      "[CV] n_estimators=10 .................................................\n",
      "[CV] .................... n_estimators=10, score=-3.272, total=  17.1s\n",
      "[CV] n_estimators=20 .................................................\n",
      "[CV] .................... n_estimators=20, score=-7.429, total=  33.7s\n",
      "[CV] n_estimators=20 .................................................\n",
      "[CV] .................... n_estimators=20, score=-7.729, total=  33.7s\n",
      "[CV] n_estimators=20 .................................................\n",
      "[CV] .................... n_estimators=20, score=-3.349, total=  33.7s\n",
      "[CV] n_estimators=20 .................................................\n",
      "[CV] .................... n_estimators=20, score=-3.785, total=  33.5s\n",
      "[CV] n_estimators=20 .................................................\n",
      "[CV] .................... n_estimators=20, score=-2.346, total=  33.7s\n",
      "[CV] n_estimators=30 .................................................\n",
      "[CV] .................... n_estimators=30, score=-6.810, total=  50.3s\n",
      "[CV] n_estimators=30 .................................................\n",
      "[CV] .................... n_estimators=30, score=-8.654, total=  50.3s\n",
      "[CV] n_estimators=30 .................................................\n",
      "[CV] .................... n_estimators=30, score=-1.967, total=  50.3s\n",
      "[CV] n_estimators=30 .................................................\n",
      "[CV] .................... n_estimators=30, score=-4.209, total=  50.3s\n",
      "[CV] n_estimators=30 .................................................\n",
      "[CV] .................... n_estimators=30, score=-1.967, total=  50.3s\n",
      "[CV] n_estimators=40 .................................................\n",
      "[CV] .................... n_estimators=40, score=-5.870, total= 1.1min\n",
      "[CV] n_estimators=40 .................................................\n",
      "[CV] .................... n_estimators=40, score=-8.197, total= 1.1min\n",
      "[CV] n_estimators=40 .................................................\n",
      "[CV] .................... n_estimators=40, score=-2.234, total= 1.1min\n",
      "[CV] n_estimators=40 .................................................\n",
      "[CV] .................... n_estimators=40, score=-3.444, total= 1.1min\n",
      "[CV] n_estimators=40 .................................................\n",
      "[CV] .................... n_estimators=40, score=-2.061, total= 1.1min\n",
      "[CV] n_estimators=50 .................................................\n",
      "[CV] .................... n_estimators=50, score=-5.123, total= 1.4min\n",
      "[CV] n_estimators=50 .................................................\n",
      "[CV] .................... n_estimators=50, score=-7.720, total= 1.4min\n",
      "[CV] n_estimators=50 .................................................\n",
      "[CV] .................... n_estimators=50, score=-2.001, total= 1.4min\n",
      "[CV] n_estimators=50 .................................................\n",
      "[CV] .................... n_estimators=50, score=-5.495, total= 1.4min\n",
      "[CV] n_estimators=50 .................................................\n",
      "[CV] .................... n_estimators=50, score=-2.158, total= 1.4min\n",
      "[CV] n_estimators=75 .................................................\n",
      "[CV] .................... n_estimators=75, score=-5.170, total= 2.1min\n",
      "[CV] n_estimators=75 .................................................\n",
      "[CV] .................... n_estimators=75, score=-7.771, total= 2.1min\n",
      "[CV] n_estimators=75 .................................................\n",
      "[CV] .................... n_estimators=75, score=-1.609, total= 2.1min\n",
      "[CV] n_estimators=75 .................................................\n",
      "[CV] .................... n_estimators=75, score=-3.842, total= 2.1min\n",
      "[CV] n_estimators=75 .................................................\n",
      "[CV] .................... n_estimators=75, score=-1.858, total= 2.1min\n",
      "[CV] n_estimators=100 ................................................\n",
      "[CV] ................... n_estimators=100, score=-5.740, total= 2.8min\n",
      "[CV] n_estimators=100 ................................................\n",
      "[CV] ................... n_estimators=100, score=-8.105, total= 2.8min\n",
      "[CV] n_estimators=100 ................................................\n",
      "[CV] ................... n_estimators=100, score=-2.018, total= 2.8min\n",
      "[CV] n_estimators=100 ................................................\n",
      "[CV] ................... n_estimators=100, score=-4.332, total= 2.8min\n",
      "[CV] n_estimators=100 ................................................\n",
      "[CV] ................... n_estimators=100, score=-1.939, total= 2.8min\n"
     ]
    },
    {
     "name": "stderr",
     "output_type": "stream",
     "text": [
      "[Parallel(n_jobs=1)]: Done  40 out of  40 | elapsed: 46.0min finished\n"
     ]
    },
    {
     "name": "stdout",
     "output_type": "stream",
     "text": [
      "{'n_estimators': 75}\n"
     ]
    }
   ],
   "source": [
    "model = RandomForestRegressor\n",
    "params_to_test = {'n_estimators':[5,10,20,30,40,50,75,100]}\n",
    "\n",
    "optimize_params(model, params_to_test, scaled_df)\n",
    "optimize_params(model, params_to_test, pca_df)\n",
    "optimize_params(model, params_to_test, original_df)"
   ]
  },
  {
   "cell_type": "markdown",
   "metadata": {},
   "source": [
    "#### Scaled"
   ]
  },
  {
   "cell_type": "code",
   "execution_count": 199,
   "metadata": {},
   "outputs": [],
   "source": [
    "#Create RandomForest Model\n",
    "rf = RandomForestRegressor(n_estimators=100)\n",
    "\n",
    "#Create training and testing split\n",
    "X_train, X_test, y_train, y_test = create_train_test(scaled_df)\n",
    "\n",
    "#Fit and cross-validate\n",
    "rf.fit(X_train, y_train)\n",
    "scaled_results = cross_val_score(rf,X_test,y_test,scoring='neg_mean_absolute_error',cv=5)"
   ]
  },
  {
   "cell_type": "markdown",
   "metadata": {},
   "source": [
    "#### PCA"
   ]
  },
  {
   "cell_type": "code",
   "execution_count": 200,
   "metadata": {},
   "outputs": [],
   "source": [
    "#Create Model\n",
    "rf = RandomForestRegressor(n_estimators=100)\n",
    "\n",
    "#Create training and testing split\n",
    "X_train, X_test, y_train, y_test = create_train_test(pca_df)\n",
    "\n",
    "#Fit and cross-validate\n",
    "rf.fit(X_train, y_train)\n",
    "scaled_results = cross_val_score(rf,X_test,y_test,scoring='neg_mean_absolute_error',cv=5)"
   ]
  },
  {
   "cell_type": "markdown",
   "metadata": {},
   "source": [
    "#### Original Dataset"
   ]
  },
  {
   "cell_type": "code",
   "execution_count": 215,
   "metadata": {},
   "outputs": [],
   "source": [
    "#Create Model\n",
    "rf = RandomForestRegressor(n_estimators=75)\n",
    "\n",
    "#Create training and testing split\n",
    "X_train, X_test, y_train, y_test = create_train_test(original_df)\n",
    "\n",
    "#Fit and cross-validate\n",
    "rf.fit(X_train, y_train)\n",
    "scaled_results = cross_val_score(rf,X_test,y_test,scoring='neg_mean_absolute_error',cv=5)"
   ]
  },
  {
   "cell_type": "code",
   "execution_count": 202,
   "metadata": {},
   "outputs": [],
   "source": [
    "means = [np.mean(scaled_results)*-1, np.mean(pca_results)*-1, np.mean(original_results)*-1]\n",
    "stds = [np.std(scaled_results),np.std(pca_results),np.std(original_results)]"
   ]
  },
  {
   "cell_type": "code",
   "execution_count": 218,
   "metadata": {},
   "outputs": [
    {
     "name": "stdout",
     "output_type": "stream",
     "text": [
      "[9.796695495367963, 15188.47529584504, 2226.093735693712]\n",
      "[6.78323506197862, 102.92823676953664, 17.547364843849518]\n"
     ]
    },
    {
     "data": {
      "image/png": "[encoded data removed]",
      "text/plain": [
       "<Figure size 720x360 with 1 Axes>"
      ]
     },
     "metadata": {
      "needs_background": "light"
     },
     "output_type": "display_data"
    }
   ],
   "source": [
    "plt.figure(figsize=(10,5))\n",
    "plt.bar(range(3),means)\n",
    "plt.errorbar(range(3), means, stds, linestyle='None', marker='^',color='red')\n",
    "plt.xlabel(\"dataset used\")\n",
    "plt.xticks(range(3),['Scaled','PCA','Original'])\n",
    "plt.ylabel(\"Mean Absolute Error\")\n",
    "plt.title(\"RandomForestRegressor\")\n",
    "\n",
    "print(means)\n",
    "print(stds)"
   ]
  },
  {
   "cell_type": "markdown",
   "metadata": {},
   "source": [
    "Now, let's look at the feature importance of the last RandomForestRegressor model."
   ]
  },
  {
   "cell_type": "code",
   "execution_count": 216,
   "metadata": {},
   "outputs": [
    {
     "data": {
      "image/png": "[encoded data removed]",
      "text/plain": [
       "<Figure size 1008x504 with 1 Axes>"
      ]
     },
     "metadata": {
      "needs_background": "light"
     },
     "output_type": "display_data"
    }
   ],
   "source": [
    "plt.figure(figsize=(14,7))\n",
    "plt.bar(range(len(rf.feature_importances_)),rf.feature_importances_)\n",
    "plt.xticks(range(len(rf.feature_importances_)),original_df.drop('Weekly_Sales',axis=1).columns,rotation=90)\n",
    "plt.show()"
   ]
  },
  {
   "cell_type": "code",
   "execution_count": null,
   "metadata": {},
   "outputs": [],
   "source": []
  }
 ],
 "metadata": {
  "kernelspec": {
   "display_name": "Python 3",
   "language": "python",
   "name": "python3"
  },
  "language_info": {
   "codemirror_mode": {
    "name": "ipython",
    "version": 3
   },
   "file_extension": ".py",
   "mimetype": "text/x-python",
   "name": "python",
   "nbconvert_exporter": "python",
   "pygments_lexer": "ipython3",
   "version": "3.7.3"
  }
 },
 "nbformat": 4,
 "nbformat_minor": 2
}
