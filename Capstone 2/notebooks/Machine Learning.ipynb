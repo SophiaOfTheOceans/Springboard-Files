{
 "cells": [
  {
   "cell_type": "markdown",
   "metadata": {},
   "source": [
    "# Model Creation"
   ]
  },
  {
   "cell_type": "markdown",
   "metadata": {},
   "source": [
    "After cleaning and getting a preliminary idea of the data, we're going to fit several models and evaluate them using the Mean Absolute Error (MAE). The models I'm going to try are:\n",
    "\n",
    "* Linear Regression\n",
    "* Ridge Regression\n",
    "* Lasso Regression\n",
    "* RandomForestRegressor\n",
    "\n",
    "For the metrics, I am using the R^2 value to evaluate how well the closely our model fits to the data, and I'm also using the mean absolute error to tell a more concrete story of how well our model is performing. \n",
    "\n",
    "Instead of mean squared error, I used mean absolute error because we have several large outliers and I don't want our metric to be skewed by the large errors that'd be generated when we try to predict them using a model meant for typical revenue. It's also more interpretable, with the error returned simple being how many dollars, on average, we're off from the actual weekly revenue."
   ]
  },
  {
   "cell_type": "code",
   "execution_count": 2,
   "metadata": {},
   "outputs": [],
   "source": [
    "#Importing necessary modules\n",
    "from sklearn.preprocessing import StandardScaler\n",
    "from sklearn.model_selection import train_test_split\n",
    "from sklearn.linear_model import LinearRegression, Ridge, Lasso\n",
    "import pandas as pd\n",
    "from statsmodels.formula.api import ols\n",
    "from sklearn.decomposition import PCA\n",
    "from sklearn.metrics import mean_absolute_error\n",
    "import matplotlib.pyplot as plt\n",
    "from sklearn.ensemble import RandomForestRegressor\n",
    "from sklearn.model_selection import cross_validate\n",
    "from sklearn.feature_selection import RFE\n",
    "import numpy as np\n",
    "from sklearn.model_selection import GridSearchCV"
   ]
  },
  {
   "cell_type": "markdown",
   "metadata": {},
   "source": [
    "## Finding the best features.\n",
    "\n",
    "First, I'm going to see whether the logged values or the exponential values perform best for each model. After finding that, I would then find the most important features for that particular model."
   ]
  },
  {
   "cell_type": "code",
   "execution_count": 3,
   "metadata": {},
   "outputs": [
    {
     "data": {
      "text/html": [
       "<div>\n",
       "<style scoped>\n",
       "    .dataframe tbody tr th:only-of-type {\n",
       "        vertical-align: middle;\n",
       "    }\n",
       "\n",
       "    .dataframe tbody tr th {\n",
       "        vertical-align: top;\n",
       "    }\n",
       "\n",
       "    .dataframe thead th {\n",
       "        text-align: right;\n",
       "    }\n",
       "</style>\n",
       "<table border=\"1\" class=\"dataframe\">\n",
       "  <thead>\n",
       "    <tr style=\"text-align: right;\">\n",
       "      <th></th>\n",
       "      <th>Store</th>\n",
       "      <th>Dept</th>\n",
       "      <th>Weekly_Sales</th>\n",
       "      <th>IsHoliday</th>\n",
       "      <th>Temperature</th>\n",
       "      <th>Fuel_Price</th>\n",
       "      <th>CPI</th>\n",
       "      <th>Unemployment</th>\n",
       "      <th>Size</th>\n",
       "      <th>Type_A</th>\n",
       "      <th>...</th>\n",
       "      <th>log_revenue</th>\n",
       "      <th>Total_MarkDown</th>\n",
       "      <th>Year</th>\n",
       "      <th>Month</th>\n",
       "      <th>Week_of_year</th>\n",
       "      <th>Day</th>\n",
       "      <th>Median_Sales</th>\n",
       "      <th>IsThanksgiving</th>\n",
       "      <th>IsChristmas</th>\n",
       "      <th>IsDept72</th>\n",
       "    </tr>\n",
       "  </thead>\n",
       "  <tbody>\n",
       "    <tr>\n",
       "      <th>0</th>\n",
       "      <td>26</td>\n",
       "      <td>92</td>\n",
       "      <td>87235.57</td>\n",
       "      <td>False</td>\n",
       "      <td>61.10</td>\n",
       "      <td>3.796</td>\n",
       "      <td>136.213613</td>\n",
       "      <td>7.767</td>\n",
       "      <td>152513</td>\n",
       "      <td>1</td>\n",
       "      <td>...</td>\n",
       "      <td>11.431992</td>\n",
       "      <td>0.0</td>\n",
       "      <td>2011</td>\n",
       "      <td>8</td>\n",
       "      <td>34</td>\n",
       "      <td>26</td>\n",
       "      <td>80340.795</td>\n",
       "      <td>False</td>\n",
       "      <td>False</td>\n",
       "      <td>False</td>\n",
       "    </tr>\n",
       "    <tr>\n",
       "      <th>1</th>\n",
       "      <td>26</td>\n",
       "      <td>92</td>\n",
       "      <td>80254.53</td>\n",
       "      <td>False</td>\n",
       "      <td>50.72</td>\n",
       "      <td>3.758</td>\n",
       "      <td>136.367000</td>\n",
       "      <td>7.767</td>\n",
       "      <td>152513</td>\n",
       "      <td>1</td>\n",
       "      <td>...</td>\n",
       "      <td>11.353279</td>\n",
       "      <td>0.0</td>\n",
       "      <td>2011</td>\n",
       "      <td>9</td>\n",
       "      <td>38</td>\n",
       "      <td>23</td>\n",
       "      <td>80340.795</td>\n",
       "      <td>False</td>\n",
       "      <td>False</td>\n",
       "      <td>False</td>\n",
       "    </tr>\n",
       "    <tr>\n",
       "      <th>2</th>\n",
       "      <td>26</td>\n",
       "      <td>92</td>\n",
       "      <td>77715.58</td>\n",
       "      <td>False</td>\n",
       "      <td>56.74</td>\n",
       "      <td>4.034</td>\n",
       "      <td>134.767774</td>\n",
       "      <td>7.818</td>\n",
       "      <td>152513</td>\n",
       "      <td>1</td>\n",
       "      <td>...</td>\n",
       "      <td>11.323042</td>\n",
       "      <td>0.0</td>\n",
       "      <td>2011</td>\n",
       "      <td>5</td>\n",
       "      <td>21</td>\n",
       "      <td>27</td>\n",
       "      <td>80340.795</td>\n",
       "      <td>False</td>\n",
       "      <td>False</td>\n",
       "      <td>False</td>\n",
       "    </tr>\n",
       "    <tr>\n",
       "      <th>3</th>\n",
       "      <td>26</td>\n",
       "      <td>92</td>\n",
       "      <td>83599.56</td>\n",
       "      <td>False</td>\n",
       "      <td>59.89</td>\n",
       "      <td>3.815</td>\n",
       "      <td>135.446800</td>\n",
       "      <td>7.767</td>\n",
       "      <td>152513</td>\n",
       "      <td>1</td>\n",
       "      <td>...</td>\n",
       "      <td>11.391769</td>\n",
       "      <td>0.0</td>\n",
       "      <td>2011</td>\n",
       "      <td>7</td>\n",
       "      <td>26</td>\n",
       "      <td>1</td>\n",
       "      <td>80340.795</td>\n",
       "      <td>False</td>\n",
       "      <td>False</td>\n",
       "      <td>False</td>\n",
       "    </tr>\n",
       "    <tr>\n",
       "      <th>4</th>\n",
       "      <td>26</td>\n",
       "      <td>92</td>\n",
       "      <td>77876.10</td>\n",
       "      <td>False</td>\n",
       "      <td>33.81</td>\n",
       "      <td>3.919</td>\n",
       "      <td>134.357100</td>\n",
       "      <td>7.818</td>\n",
       "      <td>152513</td>\n",
       "      <td>1</td>\n",
       "      <td>...</td>\n",
       "      <td>11.324981</td>\n",
       "      <td>0.0</td>\n",
       "      <td>2011</td>\n",
       "      <td>4</td>\n",
       "      <td>16</td>\n",
       "      <td>22</td>\n",
       "      <td>80340.795</td>\n",
       "      <td>False</td>\n",
       "      <td>False</td>\n",
       "      <td>False</td>\n",
       "    </tr>\n",
       "  </tbody>\n",
       "</table>\n",
       "<p>5 rows × 21 columns</p>\n",
       "</div>"
      ],
      "text/plain": [
       "   Store  Dept  Weekly_Sales  IsHoliday  Temperature  Fuel_Price         CPI  \\\n",
       "0     26    92      87235.57      False        61.10       3.796  136.213613   \n",
       "1     26    92      80254.53      False        50.72       3.758  136.367000   \n",
       "2     26    92      77715.58      False        56.74       4.034  134.767774   \n",
       "3     26    92      83599.56      False        59.89       3.815  135.446800   \n",
       "4     26    92      77876.10      False        33.81       3.919  134.357100   \n",
       "\n",
       "   Unemployment    Size  Type_A  ...  log_revenue  Total_MarkDown  Year  \\\n",
       "0         7.767  152513       1  ...    11.431992             0.0  2011   \n",
       "1         7.767  152513       1  ...    11.353279             0.0  2011   \n",
       "2         7.818  152513       1  ...    11.323042             0.0  2011   \n",
       "3         7.767  152513       1  ...    11.391769             0.0  2011   \n",
       "4         7.818  152513       1  ...    11.324981             0.0  2011   \n",
       "\n",
       "   Month  Week_of_year  Day  Median_Sales  IsThanksgiving  IsChristmas  \\\n",
       "0      8            34   26     80340.795           False        False   \n",
       "1      9            38   23     80340.795           False        False   \n",
       "2      5            21   27     80340.795           False        False   \n",
       "3      7            26    1     80340.795           False        False   \n",
       "4      4            16   22     80340.795           False        False   \n",
       "\n",
       "   IsDept72  \n",
       "0     False  \n",
       "1     False  \n",
       "2     False  \n",
       "3     False  \n",
       "4     False  \n",
       "\n",
       "[5 rows x 21 columns]"
      ]
     },
     "execution_count": 3,
     "metadata": {},
     "output_type": "execute_result"
    }
   ],
   "source": [
    "#Reading in the original test data\n",
    "df = pd.read_csv(r'C:\\Users\\songs\\Desktop\\Springboard Files\\Capstone 2\\data\\Interim\\train_all_features.csv', index_col=0)\n",
    "df.head()"
   ]
  },
  {
   "cell_type": "markdown",
   "metadata": {},
   "source": [
    "### Determining whether to use logged or unlogged values"
   ]
  },
  {
   "cell_type": "code",
   "execution_count": 3,
   "metadata": {},
   "outputs": [],
   "source": [
    "linear = LinearRegression()\n",
    "rf = RandomForestRegressor()\n",
    "\n",
    "#Creating Features and Target\n",
    "X = df.drop(['Weekly_Sales','log_revenue'], axis=1).values\n",
    "y_log = df['log_revenue'].values\n",
    "y_not = df['Weekly_Sales'].values\n",
    "\n",
    "#Function for creating training and testing dataset\n",
    "def mean_abs_error(y,model):\n",
    "    X_train, X_test, y_train, y_test = train_test_split(X, y, test_size=0.3)\n",
    "    model.fit(X_train, y_train)\n",
    "    y_pred = model.predict(X_test)\n",
    "    if (y == y_log).all():\n",
    "        y_pred = np.exp(y_pred) - 4989.94\n",
    "        y_true = np.exp(y_test)\n",
    "    else:\n",
    "        y_true = y_test\n",
    "    return mean_absolute_error(y_true, y_pred)"
   ]
  },
  {
   "cell_type": "code",
   "execution_count": 4,
   "metadata": {},
   "outputs": [
    {
     "name": "stdout",
     "output_type": "stream",
     "text": [
      "The mean absolute error calculated using the logged values is 15815.77\n",
      "The mean absolute error calculated using the original values is 2585.23\n"
     ]
    }
   ],
   "source": [
    "#Linear\n",
    "print(\"The mean absolute error calculated using the logged values is \" + str(round(mean_abs_error(y_log,linear),2)))\n",
    "print(\"The mean absolute error calculated using the original values is \" + str(round(mean_abs_error(y_not,linear),2)))"
   ]
  },
  {
   "cell_type": "code",
   "execution_count": 5,
   "metadata": {},
   "outputs": [
    {
     "name": "stderr",
     "output_type": "stream",
     "text": [
      "C:\\Users\\songs\\Anaconda3\\lib\\site-packages\\sklearn\\ensemble\\forest.py:245: FutureWarning: The default value of n_estimators will change from 10 in version 0.20 to 100 in 0.22.\n",
      "  \"10 in version 0.20 to 100 in 0.22.\", FutureWarning)\n"
     ]
    },
    {
     "name": "stdout",
     "output_type": "stream",
     "text": [
      "The mean absolute error calculated using the logged values is 5454.67\n",
      "The mean absolute error calculated using the original values is 1825.17\n"
     ]
    }
   ],
   "source": [
    "#RandomForestRegressor\n",
    "print(\"The mean absolute error calculated using the logged values is \" + str(round(mean_abs_error(y_log,rf),2)))\n",
    "print(\"The mean absolute error calculated using the original values is \" + str(round(mean_abs_error(y_not,rf),2)))"
   ]
  },
  {
   "cell_type": "markdown",
   "metadata": {},
   "source": [
    "In both cases, it appears that we should use the original values.\n",
    "\n",
    "### RFE feature selector for Linear Regression model"
   ]
  },
  {
   "cell_type": "code",
   "execution_count": 6,
   "metadata": {},
   "outputs": [],
   "source": [
    "#Train Test Split\n",
    "X_train, X_test, y_train, y_test = train_test_split(X, y_not, test_size=0.3)"
   ]
  },
  {
   "cell_type": "code",
   "execution_count": 8,
   "metadata": {},
   "outputs": [
    {
     "name": "stdout",
     "output_type": "stream",
     "text": [
      "1\n",
      "2\n",
      "3\n",
      "4\n",
      "5\n",
      "6\n",
      "7\n",
      "8\n",
      "9\n",
      "10\n",
      "11\n",
      "12\n",
      "13\n",
      "14\n",
      "15\n",
      "16\n",
      "17\n",
      "18\n"
     ]
    },
    {
     "data": {
      "text/plain": [
       "(17, 2563.51)"
      ]
     },
     "execution_count": 8,
     "metadata": {},
     "output_type": "execute_result"
    }
   ],
   "source": [
    "def feature_selector(model):\n",
    "    #Optimal number of features\n",
    "    number_of_features = len(df.drop(['Weekly_Sales','log_revenue'], axis=1).columns)\n",
    "    options_for_features = np.arange(1,number_of_features)\n",
    "    low_score = 4000 #A number we're certainly going to be lower than\n",
    "    nof = 0\n",
    "    #Fitting model\n",
    "    for n in range(len(options_for_features)):\n",
    "        #Creating model\n",
    "        rfe = RFE(model,options_for_features[n])\n",
    "        X_train_rfe = rfe.fit_transform(X_train,y_train)\n",
    "        X_test_rfe = rfe.transform(X_test)\n",
    "        #Fitting model\n",
    "        model.fit(X_train_rfe,y_train)\n",
    "        y_pred = model.predict(X_test_rfe)\n",
    "        score = mean_absolute_error(y_test, y_pred)\n",
    "        if(score<low_score):\n",
    "            low_score = score\n",
    "            nof = options_for_features[n]\n",
    "        print(options_for_features[n])\n",
    "    return nof, round(low_score,2)\n",
    "\n",
    "feature_selector(linear)"
   ]
  },
  {
   "cell_type": "code",
   "execution_count": 10,
   "metadata": {},
   "outputs": [
    {
     "name": "stdout",
     "output_type": "stream",
     "text": [
      "['Store', 'Dept', 'IsHoliday', 'Temperature', 'Fuel_Price', 'CPI', 'Unemployment', 'Type_A', 'Type_C', 'Year', 'Month', 'Week_of_year', 'Day', 'Median_Sales', 'IsThanksgiving', 'IsChristmas', 'IsDept72']\n"
     ]
    }
   ],
   "source": [
    "#Initializing RFE model\n",
    "rfe_linear = RFE(linear, 17)\n",
    "\n",
    "#Transforming data using RFE\n",
    "X_rfe = rfe_linear.fit_transform(X_train,y_train)\n",
    "\n",
    "#Fitting the data to model\n",
    "linear.fit(X_rfe,y_train)\n",
    "\n",
    "#Visualizing which ones are most important\n",
    "cols = list(df.drop(['Weekly_Sales','log_revenue'],axis=1).columns)\n",
    "\n",
    "temp = pd.Series(rfe_linear.support_,index = cols)\n",
    "selected_features_rfe_linear = list(temp[temp==True].index)\n",
    "print(selected_features_rfe_linear)"
   ]
  },
  {
   "cell_type": "markdown",
   "metadata": {},
   "source": [
    "## Standardizing the data and finding PCA\n",
    "\n",
    "### Standardization"
   ]
  },
  {
   "cell_type": "code",
   "execution_count": 11,
   "metadata": {},
   "outputs": [
    {
     "data": {
      "text/html": [
       "<div>\n",
       "<style scoped>\n",
       "    .dataframe tbody tr th:only-of-type {\n",
       "        vertical-align: middle;\n",
       "    }\n",
       "\n",
       "    .dataframe tbody tr th {\n",
       "        vertical-align: top;\n",
       "    }\n",
       "\n",
       "    .dataframe thead th {\n",
       "        text-align: right;\n",
       "    }\n",
       "</style>\n",
       "<table border=\"1\" class=\"dataframe\">\n",
       "  <thead>\n",
       "    <tr style=\"text-align: right;\">\n",
       "      <th></th>\n",
       "      <th>Store</th>\n",
       "      <th>Dept</th>\n",
       "      <th>IsHoliday</th>\n",
       "      <th>Temperature</th>\n",
       "      <th>Fuel_Price</th>\n",
       "      <th>CPI</th>\n",
       "      <th>Unemployment</th>\n",
       "      <th>Type_A</th>\n",
       "      <th>Type_C</th>\n",
       "      <th>Year</th>\n",
       "      <th>Month</th>\n",
       "      <th>Week_of_year</th>\n",
       "      <th>Day</th>\n",
       "      <th>Median_Sales</th>\n",
       "      <th>IsThanksgiving</th>\n",
       "      <th>IsChristmas</th>\n",
       "      <th>IsDept72</th>\n",
       "      <th>Weekly_Sales</th>\n",
       "    </tr>\n",
       "  </thead>\n",
       "  <tbody>\n",
       "    <tr>\n",
       "      <th>0</th>\n",
       "      <td>0.297826</td>\n",
       "      <td>1.564202</td>\n",
       "      <td>-0.274706</td>\n",
       "      <td>0.053474</td>\n",
       "      <td>0.950059</td>\n",
       "      <td>-0.893608</td>\n",
       "      <td>-0.107640</td>\n",
       "      <td>0.976671</td>\n",
       "      <td>-0.334865</td>\n",
       "      <td>0.042076</td>\n",
       "      <td>0.477757</td>\n",
       "      <td>0.577424</td>\n",
       "      <td>1.180835</td>\n",
       "      <td>3.075362</td>\n",
       "      <td>-0.118986</td>\n",
       "      <td>-0.119551</td>\n",
       "      <td>-0.120552</td>\n",
       "      <td>87235.57</td>\n",
       "    </tr>\n",
       "    <tr>\n",
       "      <th>1</th>\n",
       "      <td>0.297826</td>\n",
       "      <td>1.564202</td>\n",
       "      <td>-0.274706</td>\n",
       "      <td>-0.509236</td>\n",
       "      <td>0.867199</td>\n",
       "      <td>-0.889692</td>\n",
       "      <td>-0.107640</td>\n",
       "      <td>0.976671</td>\n",
       "      <td>-0.334865</td>\n",
       "      <td>0.042076</td>\n",
       "      <td>0.786223</td>\n",
       "      <td>0.860237</td>\n",
       "      <td>0.837896</td>\n",
       "      <td>3.075362</td>\n",
       "      <td>-0.118986</td>\n",
       "      <td>-0.119551</td>\n",
       "      <td>-0.120552</td>\n",
       "      <td>80254.53</td>\n",
       "    </tr>\n",
       "    <tr>\n",
       "      <th>2</th>\n",
       "      <td>0.297826</td>\n",
       "      <td>1.564202</td>\n",
       "      <td>-0.274706</td>\n",
       "      <td>-0.182886</td>\n",
       "      <td>1.469028</td>\n",
       "      <td>-0.930529</td>\n",
       "      <td>-0.080339</td>\n",
       "      <td>0.976671</td>\n",
       "      <td>-0.334865</td>\n",
       "      <td>0.042076</td>\n",
       "      <td>-0.447643</td>\n",
       "      <td>-0.341719</td>\n",
       "      <td>1.295148</td>\n",
       "      <td>3.075362</td>\n",
       "      <td>-0.118986</td>\n",
       "      <td>-0.119551</td>\n",
       "      <td>-0.120552</td>\n",
       "      <td>77715.58</td>\n",
       "    </tr>\n",
       "    <tr>\n",
       "      <th>3</th>\n",
       "      <td>0.297826</td>\n",
       "      <td>1.564202</td>\n",
       "      <td>-0.274706</td>\n",
       "      <td>-0.012121</td>\n",
       "      <td>0.991490</td>\n",
       "      <td>-0.913190</td>\n",
       "      <td>-0.107640</td>\n",
       "      <td>0.976671</td>\n",
       "      <td>-0.334865</td>\n",
       "      <td>0.042076</td>\n",
       "      <td>0.169290</td>\n",
       "      <td>0.011797</td>\n",
       "      <td>-1.676986</td>\n",
       "      <td>3.075362</td>\n",
       "      <td>-0.118986</td>\n",
       "      <td>-0.119551</td>\n",
       "      <td>-0.120552</td>\n",
       "      <td>83599.56</td>\n",
       "    </tr>\n",
       "    <tr>\n",
       "      <th>4</th>\n",
       "      <td>0.297826</td>\n",
       "      <td>1.564202</td>\n",
       "      <td>-0.274706</td>\n",
       "      <td>-1.425942</td>\n",
       "      <td>1.218266</td>\n",
       "      <td>-0.941016</td>\n",
       "      <td>-0.080339</td>\n",
       "      <td>0.976671</td>\n",
       "      <td>-0.334865</td>\n",
       "      <td>0.042076</td>\n",
       "      <td>-0.756109</td>\n",
       "      <td>-0.695236</td>\n",
       "      <td>0.723584</td>\n",
       "      <td>3.075362</td>\n",
       "      <td>-0.118986</td>\n",
       "      <td>-0.119551</td>\n",
       "      <td>-0.120552</td>\n",
       "      <td>77876.10</td>\n",
       "    </tr>\n",
       "  </tbody>\n",
       "</table>\n",
       "</div>"
      ],
      "text/plain": [
       "      Store      Dept  IsHoliday  Temperature  Fuel_Price       CPI  \\\n",
       "0  0.297826  1.564202  -0.274706     0.053474    0.950059 -0.893608   \n",
       "1  0.297826  1.564202  -0.274706    -0.509236    0.867199 -0.889692   \n",
       "2  0.297826  1.564202  -0.274706    -0.182886    1.469028 -0.930529   \n",
       "3  0.297826  1.564202  -0.274706    -0.012121    0.991490 -0.913190   \n",
       "4  0.297826  1.564202  -0.274706    -1.425942    1.218266 -0.941016   \n",
       "\n",
       "   Unemployment    Type_A    Type_C      Year     Month  Week_of_year  \\\n",
       "0     -0.107640  0.976671 -0.334865  0.042076  0.477757      0.577424   \n",
       "1     -0.107640  0.976671 -0.334865  0.042076  0.786223      0.860237   \n",
       "2     -0.080339  0.976671 -0.334865  0.042076 -0.447643     -0.341719   \n",
       "3     -0.107640  0.976671 -0.334865  0.042076  0.169290      0.011797   \n",
       "4     -0.080339  0.976671 -0.334865  0.042076 -0.756109     -0.695236   \n",
       "\n",
       "        Day  Median_Sales  IsThanksgiving  IsChristmas  IsDept72  Weekly_Sales  \n",
       "0  1.180835      3.075362       -0.118986    -0.119551 -0.120552      87235.57  \n",
       "1  0.837896      3.075362       -0.118986    -0.119551 -0.120552      80254.53  \n",
       "2  1.295148      3.075362       -0.118986    -0.119551 -0.120552      77715.58  \n",
       "3 -1.676986      3.075362       -0.118986    -0.119551 -0.120552      83599.56  \n",
       "4  0.723584      3.075362       -0.118986    -0.119551 -0.120552      77876.10  "
      ]
     },
     "execution_count": 11,
     "metadata": {},
     "output_type": "execute_result"
    }
   ],
   "source": [
    "#Creating separate dataframes for linear and randomforest\n",
    "df_linear = df[selected_features_rfe_linear]\n",
    "\n",
    "#Standardizing the data\n",
    "scaler = StandardScaler()\n",
    "df_linear_revenue = df_linear.join(df['Weekly_Sales'], how='outer')\n",
    "df_linear_revenue.to_csv(r'C:\\Users\\songs\\Desktop\\Springboard Files\\Capstone 2\\data\\Interim\\original_train_linear.csv')\n",
    "\n",
    "scaled_df_linear = scaler.fit_transform(df_linear)\n",
    "scaled_df_linear = pd.DataFrame(scaled_df_linear)\n",
    "scaled_df_linear = scaled_df_linear.join(df['Weekly_Sales'], how='outer')\n",
    "scaled_df_linear.columns = df_linear_revenue.columns\n",
    "\n",
    "#Saving the data\n",
    "scaled_df_linear.to_csv(r'C:\\Users\\songs\\Desktop\\Springboard Files\\Capstone 2\\data\\Interim\\scaled_train_linear.csv')\n",
    "scaled_df_linear.head()"
   ]
  },
  {
   "cell_type": "code",
   "execution_count": 15,
   "metadata": {},
   "outputs": [
    {
     "data": {
      "text/html": [
       "<div>\n",
       "<style scoped>\n",
       "    .dataframe tbody tr th:only-of-type {\n",
       "        vertical-align: middle;\n",
       "    }\n",
       "\n",
       "    .dataframe tbody tr th {\n",
       "        vertical-align: top;\n",
       "    }\n",
       "\n",
       "    .dataframe thead th {\n",
       "        text-align: right;\n",
       "    }\n",
       "</style>\n",
       "<table border=\"1\" class=\"dataframe\">\n",
       "  <thead>\n",
       "    <tr style=\"text-align: right;\">\n",
       "      <th></th>\n",
       "      <th>Store</th>\n",
       "      <th>Dept</th>\n",
       "      <th>IsHoliday</th>\n",
       "      <th>Temperature</th>\n",
       "      <th>Fuel_Price</th>\n",
       "      <th>CPI</th>\n",
       "      <th>Unemployment</th>\n",
       "      <th>Size</th>\n",
       "      <th>Type_A</th>\n",
       "      <th>Type_C</th>\n",
       "      <th>Total_MarkDown</th>\n",
       "      <th>Year</th>\n",
       "      <th>Month</th>\n",
       "      <th>Week_of_year</th>\n",
       "      <th>Day</th>\n",
       "      <th>Median_Sales</th>\n",
       "      <th>IsThanksgiving</th>\n",
       "      <th>IsChristmas</th>\n",
       "      <th>IsDept72</th>\n",
       "      <th>Weekly_Sales</th>\n",
       "    </tr>\n",
       "  </thead>\n",
       "  <tbody>\n",
       "    <tr>\n",
       "      <th>0</th>\n",
       "      <td>0.297826</td>\n",
       "      <td>1.564202</td>\n",
       "      <td>-0.274706</td>\n",
       "      <td>0.053474</td>\n",
       "      <td>0.950059</td>\n",
       "      <td>-0.893608</td>\n",
       "      <td>-0.107640</td>\n",
       "      <td>0.258731</td>\n",
       "      <td>0.976671</td>\n",
       "      <td>-0.334865</td>\n",
       "      <td>-0.452199</td>\n",
       "      <td>0.042076</td>\n",
       "      <td>0.477757</td>\n",
       "      <td>0.577424</td>\n",
       "      <td>1.180835</td>\n",
       "      <td>3.075362</td>\n",
       "      <td>-0.118986</td>\n",
       "      <td>-0.119551</td>\n",
       "      <td>-0.120552</td>\n",
       "      <td>87235.57</td>\n",
       "    </tr>\n",
       "    <tr>\n",
       "      <th>1</th>\n",
       "      <td>0.297826</td>\n",
       "      <td>1.564202</td>\n",
       "      <td>-0.274706</td>\n",
       "      <td>-0.509236</td>\n",
       "      <td>0.867199</td>\n",
       "      <td>-0.889692</td>\n",
       "      <td>-0.107640</td>\n",
       "      <td>0.258731</td>\n",
       "      <td>0.976671</td>\n",
       "      <td>-0.334865</td>\n",
       "      <td>-0.452199</td>\n",
       "      <td>0.042076</td>\n",
       "      <td>0.786223</td>\n",
       "      <td>0.860237</td>\n",
       "      <td>0.837896</td>\n",
       "      <td>3.075362</td>\n",
       "      <td>-0.118986</td>\n",
       "      <td>-0.119551</td>\n",
       "      <td>-0.120552</td>\n",
       "      <td>80254.53</td>\n",
       "    </tr>\n",
       "    <tr>\n",
       "      <th>2</th>\n",
       "      <td>0.297826</td>\n",
       "      <td>1.564202</td>\n",
       "      <td>-0.274706</td>\n",
       "      <td>-0.182886</td>\n",
       "      <td>1.469028</td>\n",
       "      <td>-0.930529</td>\n",
       "      <td>-0.080339</td>\n",
       "      <td>0.258731</td>\n",
       "      <td>0.976671</td>\n",
       "      <td>-0.334865</td>\n",
       "      <td>-0.452199</td>\n",
       "      <td>0.042076</td>\n",
       "      <td>-0.447643</td>\n",
       "      <td>-0.341719</td>\n",
       "      <td>1.295148</td>\n",
       "      <td>3.075362</td>\n",
       "      <td>-0.118986</td>\n",
       "      <td>-0.119551</td>\n",
       "      <td>-0.120552</td>\n",
       "      <td>77715.58</td>\n",
       "    </tr>\n",
       "    <tr>\n",
       "      <th>3</th>\n",
       "      <td>0.297826</td>\n",
       "      <td>1.564202</td>\n",
       "      <td>-0.274706</td>\n",
       "      <td>-0.012121</td>\n",
       "      <td>0.991490</td>\n",
       "      <td>-0.913190</td>\n",
       "      <td>-0.107640</td>\n",
       "      <td>0.258731</td>\n",
       "      <td>0.976671</td>\n",
       "      <td>-0.334865</td>\n",
       "      <td>-0.452199</td>\n",
       "      <td>0.042076</td>\n",
       "      <td>0.169290</td>\n",
       "      <td>0.011797</td>\n",
       "      <td>-1.676986</td>\n",
       "      <td>3.075362</td>\n",
       "      <td>-0.118986</td>\n",
       "      <td>-0.119551</td>\n",
       "      <td>-0.120552</td>\n",
       "      <td>83599.56</td>\n",
       "    </tr>\n",
       "    <tr>\n",
       "      <th>4</th>\n",
       "      <td>0.297826</td>\n",
       "      <td>1.564202</td>\n",
       "      <td>-0.274706</td>\n",
       "      <td>-1.425942</td>\n",
       "      <td>1.218266</td>\n",
       "      <td>-0.941016</td>\n",
       "      <td>-0.080339</td>\n",
       "      <td>0.258731</td>\n",
       "      <td>0.976671</td>\n",
       "      <td>-0.334865</td>\n",
       "      <td>-0.452199</td>\n",
       "      <td>0.042076</td>\n",
       "      <td>-0.756109</td>\n",
       "      <td>-0.695236</td>\n",
       "      <td>0.723584</td>\n",
       "      <td>3.075362</td>\n",
       "      <td>-0.118986</td>\n",
       "      <td>-0.119551</td>\n",
       "      <td>-0.120552</td>\n",
       "      <td>77876.10</td>\n",
       "    </tr>\n",
       "  </tbody>\n",
       "</table>\n",
       "</div>"
      ],
      "text/plain": [
       "      Store      Dept  IsHoliday  Temperature  Fuel_Price       CPI  \\\n",
       "0  0.297826  1.564202  -0.274706     0.053474    0.950059 -0.893608   \n",
       "1  0.297826  1.564202  -0.274706    -0.509236    0.867199 -0.889692   \n",
       "2  0.297826  1.564202  -0.274706    -0.182886    1.469028 -0.930529   \n",
       "3  0.297826  1.564202  -0.274706    -0.012121    0.991490 -0.913190   \n",
       "4  0.297826  1.564202  -0.274706    -1.425942    1.218266 -0.941016   \n",
       "\n",
       "   Unemployment      Size    Type_A    Type_C  Total_MarkDown      Year  \\\n",
       "0     -0.107640  0.258731  0.976671 -0.334865       -0.452199  0.042076   \n",
       "1     -0.107640  0.258731  0.976671 -0.334865       -0.452199  0.042076   \n",
       "2     -0.080339  0.258731  0.976671 -0.334865       -0.452199  0.042076   \n",
       "3     -0.107640  0.258731  0.976671 -0.334865       -0.452199  0.042076   \n",
       "4     -0.080339  0.258731  0.976671 -0.334865       -0.452199  0.042076   \n",
       "\n",
       "      Month  Week_of_year       Day  Median_Sales  IsThanksgiving  \\\n",
       "0  0.477757      0.577424  1.180835      3.075362       -0.118986   \n",
       "1  0.786223      0.860237  0.837896      3.075362       -0.118986   \n",
       "2 -0.447643     -0.341719  1.295148      3.075362       -0.118986   \n",
       "3  0.169290      0.011797 -1.676986      3.075362       -0.118986   \n",
       "4 -0.756109     -0.695236  0.723584      3.075362       -0.118986   \n",
       "\n",
       "   IsChristmas  IsDept72  Weekly_Sales  \n",
       "0    -0.119551 -0.120552      87235.57  \n",
       "1    -0.119551 -0.120552      80254.53  \n",
       "2    -0.119551 -0.120552      77715.58  \n",
       "3    -0.119551 -0.120552      83599.56  \n",
       "4    -0.119551 -0.120552      77876.10  "
      ]
     },
     "execution_count": 15,
     "metadata": {},
     "output_type": "execute_result"
    }
   ],
   "source": [
    "#Standardizing the data\n",
    "scaler = StandardScaler()\n",
    "\n",
    "scaled_df = scaler.fit_transform(df.drop(['Weekly_Sales','log_revenue'],axis=1))\n",
    "scaled_df = pd.DataFrame(scaled_df)\n",
    "scaled_df.columns = df.drop(['Weekly_Sales','log_revenue'],axis=1).columns\n",
    "scaled_df = scaled_df.join(df['Weekly_Sales'], how='outer')\n",
    "\n",
    "#Saving the data\n",
    "scaled_df.to_csv(r'C:\\Users\\songs\\Desktop\\Springboard Files\\Capstone 2\\data\\Interim\\scaled_train.csv')\n",
    "scaled_df.head()"
   ]
  },
  {
   "cell_type": "markdown",
   "metadata": {},
   "source": [
    "### PCA"
   ]
  },
  {
   "cell_type": "code",
   "execution_count": 18,
   "metadata": {},
   "outputs": [
    {
     "data": {
      "image/png": "[encoded data removed]",
      "text/plain": [
       "<Figure size 1440x720 with 1 Axes>"
      ]
     },
     "metadata": {
      "needs_background": "light"
     },
     "output_type": "display_data"
    }
   ],
   "source": [
    "pca = PCA()\n",
    "pca.fit(scaled_df_linear.drop('Weekly_Sales',axis=1))\n",
    "\n",
    "#Graphing the data\n",
    "plt.figure(figsize=(20,10))\n",
    "\n",
    "plt.plot(np.cumsum(pca.explained_variance_ratio_))\n",
    "plt.title('Visualization of feature variances')\n",
    "plt.xlabel('PCA feature')\n",
    "plt.ylabel('Cumulative explaned variance')\n",
    "plt.show()"
   ]
  },
  {
   "cell_type": "code",
   "execution_count": 19,
   "metadata": {},
   "outputs": [
    {
     "data": {
      "text/html": [
       "<div>\n",
       "<style scoped>\n",
       "    .dataframe tbody tr th:only-of-type {\n",
       "        vertical-align: middle;\n",
       "    }\n",
       "\n",
       "    .dataframe tbody tr th {\n",
       "        vertical-align: top;\n",
       "    }\n",
       "\n",
       "    .dataframe thead th {\n",
       "        text-align: right;\n",
       "    }\n",
       "</style>\n",
       "<table border=\"1\" class=\"dataframe\">\n",
       "  <thead>\n",
       "    <tr style=\"text-align: right;\">\n",
       "      <th></th>\n",
       "      <th>0</th>\n",
       "      <th>1</th>\n",
       "      <th>2</th>\n",
       "      <th>3</th>\n",
       "      <th>4</th>\n",
       "      <th>5</th>\n",
       "      <th>6</th>\n",
       "      <th>7</th>\n",
       "      <th>8</th>\n",
       "      <th>9</th>\n",
       "      <th>10</th>\n",
       "      <th>11</th>\n",
       "      <th>12</th>\n",
       "      <th>13</th>\n",
       "      <th>14</th>\n",
       "      <th>15</th>\n",
       "      <th>16</th>\n",
       "      <th>Weekly_Sales</th>\n",
       "    </tr>\n",
       "  </thead>\n",
       "  <tbody>\n",
       "    <tr>\n",
       "      <th>0</th>\n",
       "      <td>0.314453</td>\n",
       "      <td>-0.910735</td>\n",
       "      <td>-0.763669</td>\n",
       "      <td>0.202073</td>\n",
       "      <td>3.169432</td>\n",
       "      <td>-0.255155</td>\n",
       "      <td>-0.499047</td>\n",
       "      <td>-0.911806</td>\n",
       "      <td>-0.435344</td>\n",
       "      <td>-1.006070</td>\n",
       "      <td>-0.636611</td>\n",
       "      <td>1.502592</td>\n",
       "      <td>0.055922</td>\n",
       "      <td>0.138686</td>\n",
       "      <td>0.223703</td>\n",
       "      <td>-0.413285</td>\n",
       "      <td>-0.000376</td>\n",
       "      <td>87235.57</td>\n",
       "    </tr>\n",
       "    <tr>\n",
       "      <th>1</th>\n",
       "      <td>0.573722</td>\n",
       "      <td>-0.922032</td>\n",
       "      <td>-0.659698</td>\n",
       "      <td>0.223087</td>\n",
       "      <td>3.188966</td>\n",
       "      <td>-0.416823</td>\n",
       "      <td>-0.375338</td>\n",
       "      <td>-0.375925</td>\n",
       "      <td>-0.551091</td>\n",
       "      <td>-1.019872</td>\n",
       "      <td>-0.827418</td>\n",
       "      <td>1.553698</td>\n",
       "      <td>-0.298002</td>\n",
       "      <td>-0.005244</td>\n",
       "      <td>0.313156</td>\n",
       "      <td>-0.367669</td>\n",
       "      <td>0.002362</td>\n",
       "      <td>80254.53</td>\n",
       "    </tr>\n",
       "    <tr>\n",
       "      <th>2</th>\n",
       "      <td>-0.825579</td>\n",
       "      <td>-0.776800</td>\n",
       "      <td>-0.435613</td>\n",
       "      <td>0.744393</td>\n",
       "      <td>3.187385</td>\n",
       "      <td>-0.197947</td>\n",
       "      <td>-0.554300</td>\n",
       "      <td>-1.171277</td>\n",
       "      <td>-0.358429</td>\n",
       "      <td>-1.001140</td>\n",
       "      <td>-0.495013</td>\n",
       "      <td>1.475658</td>\n",
       "      <td>0.109089</td>\n",
       "      <td>0.135441</td>\n",
       "      <td>0.086524</td>\n",
       "      <td>-0.860347</td>\n",
       "      <td>-0.002932</td>\n",
       "      <td>77715.58</td>\n",
       "    </tr>\n",
       "    <tr>\n",
       "      <th>3</th>\n",
       "      <td>-0.509954</td>\n",
       "      <td>-0.779483</td>\n",
       "      <td>-0.365484</td>\n",
       "      <td>-0.270296</td>\n",
       "      <td>3.193785</td>\n",
       "      <td>-0.460613</td>\n",
       "      <td>0.747654</td>\n",
       "      <td>0.903013</td>\n",
       "      <td>-1.272506</td>\n",
       "      <td>-0.788306</td>\n",
       "      <td>0.537209</td>\n",
       "      <td>1.410308</td>\n",
       "      <td>0.139808</td>\n",
       "      <td>0.065518</td>\n",
       "      <td>-0.459940</td>\n",
       "      <td>-0.484269</td>\n",
       "      <td>-0.003191</td>\n",
       "      <td>83599.56</td>\n",
       "    </tr>\n",
       "    <tr>\n",
       "      <th>4</th>\n",
       "      <td>-1.300318</td>\n",
       "      <td>-0.661037</td>\n",
       "      <td>0.405473</td>\n",
       "      <td>1.113857</td>\n",
       "      <td>3.168874</td>\n",
       "      <td>-0.324495</td>\n",
       "      <td>-0.375190</td>\n",
       "      <td>-0.414601</td>\n",
       "      <td>-0.555824</td>\n",
       "      <td>-1.014715</td>\n",
       "      <td>-0.741051</td>\n",
       "      <td>1.561930</td>\n",
       "      <td>-0.417805</td>\n",
       "      <td>-0.113519</td>\n",
       "      <td>0.122549</td>\n",
       "      <td>-0.803215</td>\n",
       "      <td>-0.001840</td>\n",
       "      <td>77876.10</td>\n",
       "    </tr>\n",
       "  </tbody>\n",
       "</table>\n",
       "</div>"
      ],
      "text/plain": [
       "          0         1         2         3         4         5         6  \\\n",
       "0  0.314453 -0.910735 -0.763669  0.202073  3.169432 -0.255155 -0.499047   \n",
       "1  0.573722 -0.922032 -0.659698  0.223087  3.188966 -0.416823 -0.375338   \n",
       "2 -0.825579 -0.776800 -0.435613  0.744393  3.187385 -0.197947 -0.554300   \n",
       "3 -0.509954 -0.779483 -0.365484 -0.270296  3.193785 -0.460613  0.747654   \n",
       "4 -1.300318 -0.661037  0.405473  1.113857  3.168874 -0.324495 -0.375190   \n",
       "\n",
       "          7         8         9        10        11        12        13  \\\n",
       "0 -0.911806 -0.435344 -1.006070 -0.636611  1.502592  0.055922  0.138686   \n",
       "1 -0.375925 -0.551091 -1.019872 -0.827418  1.553698 -0.298002 -0.005244   \n",
       "2 -1.171277 -0.358429 -1.001140 -0.495013  1.475658  0.109089  0.135441   \n",
       "3  0.903013 -1.272506 -0.788306  0.537209  1.410308  0.139808  0.065518   \n",
       "4 -0.414601 -0.555824 -1.014715 -0.741051  1.561930 -0.417805 -0.113519   \n",
       "\n",
       "         14        15        16  Weekly_Sales  \n",
       "0  0.223703 -0.413285 -0.000376      87235.57  \n",
       "1  0.313156 -0.367669  0.002362      80254.53  \n",
       "2  0.086524 -0.860347 -0.002932      77715.58  \n",
       "3 -0.459940 -0.484269 -0.003191      83599.56  \n",
       "4  0.122549 -0.803215 -0.001840      77876.10  "
      ]
     },
     "execution_count": 19,
     "metadata": {},
     "output_type": "execute_result"
    }
   ],
   "source": [
    "pca_features = pca.fit_transform(scaled_df_linear.drop('Weekly_Sales',axis=1))\n",
    "pca_features_linear = pd.DataFrame(pca_features)\n",
    "pca_features_linear['Weekly_Sales'] = df['Weekly_Sales']\n",
    "pca_features_linear.to_csv(r'C:\\Users\\songs\\Desktop\\Springboard Files\\Capstone 2\\data\\Interim\\pca_train_linear.csv')\n",
    "pca_features_linear.head()"
   ]
  },
  {
   "cell_type": "code",
   "execution_count": 20,
   "metadata": {},
   "outputs": [
    {
     "data": {
      "image/png": "[encoded data removed]",
      "text/plain": [
       "<Figure size 1440x720 with 1 Axes>"
      ]
     },
     "metadata": {
      "needs_background": "light"
     },
     "output_type": "display_data"
    }
   ],
   "source": [
    "pca.fit(scaled_df.drop('Weekly_Sales',axis=1))\n",
    "\n",
    "#Graphing the data\n",
    "plt.figure(figsize=(20,10))\n",
    "\n",
    "plt.plot(np.cumsum(pca.explained_variance_ratio_))\n",
    "plt.title('Visualization of feature variances')\n",
    "plt.xlabel('PCA feature')\n",
    "plt.ylabel('Cumulative explaned variance')\n",
    "plt.show()"
   ]
  },
  {
   "cell_type": "code",
   "execution_count": 22,
   "metadata": {},
   "outputs": [
    {
     "data": {
      "text/html": [
       "<div>\n",
       "<style scoped>\n",
       "    .dataframe tbody tr th:only-of-type {\n",
       "        vertical-align: middle;\n",
       "    }\n",
       "\n",
       "    .dataframe tbody tr th {\n",
       "        vertical-align: top;\n",
       "    }\n",
       "\n",
       "    .dataframe thead th {\n",
       "        text-align: right;\n",
       "    }\n",
       "</style>\n",
       "<table border=\"1\" class=\"dataframe\">\n",
       "  <thead>\n",
       "    <tr style=\"text-align: right;\">\n",
       "      <th></th>\n",
       "      <th>0</th>\n",
       "      <th>1</th>\n",
       "      <th>2</th>\n",
       "      <th>3</th>\n",
       "      <th>4</th>\n",
       "      <th>5</th>\n",
       "      <th>6</th>\n",
       "      <th>7</th>\n",
       "      <th>8</th>\n",
       "      <th>9</th>\n",
       "      <th>10</th>\n",
       "      <th>11</th>\n",
       "      <th>12</th>\n",
       "      <th>13</th>\n",
       "      <th>14</th>\n",
       "      <th>15</th>\n",
       "      <th>16</th>\n",
       "      <th>17</th>\n",
       "      <th>18</th>\n",
       "      <th>Weekly_Sales</th>\n",
       "    </tr>\n",
       "  </thead>\n",
       "  <tbody>\n",
       "    <tr>\n",
       "      <th>0</th>\n",
       "      <td>0.749024</td>\n",
       "      <td>1.019159</td>\n",
       "      <td>0.168953</td>\n",
       "      <td>-0.678830</td>\n",
       "      <td>2.212308</td>\n",
       "      <td>1.733274</td>\n",
       "      <td>-1.034881</td>\n",
       "      <td>0.035388</td>\n",
       "      <td>0.552644</td>\n",
       "      <td>-1.298549</td>\n",
       "      <td>-0.595630</td>\n",
       "      <td>1.724888</td>\n",
       "      <td>-0.403650</td>\n",
       "      <td>-0.189859</td>\n",
       "      <td>0.197068</td>\n",
       "      <td>0.052015</td>\n",
       "      <td>0.576174</td>\n",
       "      <td>0.410569</td>\n",
       "      <td>-0.000370</td>\n",
       "      <td>87235.57</td>\n",
       "    </tr>\n",
       "    <tr>\n",
       "      <th>1</th>\n",
       "      <td>0.627506</td>\n",
       "      <td>1.249321</td>\n",
       "      <td>0.155581</td>\n",
       "      <td>-0.575501</td>\n",
       "      <td>2.224472</td>\n",
       "      <td>1.672642</td>\n",
       "      <td>-0.717711</td>\n",
       "      <td>-0.363284</td>\n",
       "      <td>0.319251</td>\n",
       "      <td>-1.325845</td>\n",
       "      <td>-0.835657</td>\n",
       "      <td>1.768069</td>\n",
       "      <td>-0.357276</td>\n",
       "      <td>-0.538048</td>\n",
       "      <td>0.031313</td>\n",
       "      <td>0.105114</td>\n",
       "      <td>0.622423</td>\n",
       "      <td>0.349045</td>\n",
       "      <td>0.002372</td>\n",
       "      <td>80254.53</td>\n",
       "    </tr>\n",
       "    <tr>\n",
       "      <th>2</th>\n",
       "      <td>1.429321</td>\n",
       "      <td>0.103321</td>\n",
       "      <td>0.057536</td>\n",
       "      <td>-0.094313</td>\n",
       "      <td>2.220313</td>\n",
       "      <td>1.771078</td>\n",
       "      <td>-1.278923</td>\n",
       "      <td>0.224174</td>\n",
       "      <td>0.733992</td>\n",
       "      <td>-1.291340</td>\n",
       "      <td>-0.466143</td>\n",
       "      <td>1.712154</td>\n",
       "      <td>-0.604620</td>\n",
       "      <td>-0.221559</td>\n",
       "      <td>0.180249</td>\n",
       "      <td>-0.144270</td>\n",
       "      <td>0.480943</td>\n",
       "      <td>0.797974</td>\n",
       "      <td>-0.002935</td>\n",
       "      <td>77715.58</td>\n",
       "    </tr>\n",
       "    <tr>\n",
       "      <th>3</th>\n",
       "      <td>1.199893</td>\n",
       "      <td>0.340415</td>\n",
       "      <td>-0.236703</td>\n",
       "      <td>-0.665774</td>\n",
       "      <td>2.236359</td>\n",
       "      <td>1.656241</td>\n",
       "      <td>0.969407</td>\n",
       "      <td>-0.784410</td>\n",
       "      <td>-0.558264</td>\n",
       "      <td>-1.149784</td>\n",
       "      <td>0.287705</td>\n",
       "      <td>1.706963</td>\n",
       "      <td>-1.093811</td>\n",
       "      <td>-0.228497</td>\n",
       "      <td>0.142438</td>\n",
       "      <td>-0.683232</td>\n",
       "      <td>0.525360</td>\n",
       "      <td>0.352748</td>\n",
       "      <td>-0.003172</td>\n",
       "      <td>83599.56</td>\n",
       "    </tr>\n",
       "    <tr>\n",
       "      <th>4</th>\n",
       "      <td>1.739566</td>\n",
       "      <td>-0.242885</td>\n",
       "      <td>-0.382661</td>\n",
       "      <td>0.723381</td>\n",
       "      <td>2.110546</td>\n",
       "      <td>1.750246</td>\n",
       "      <td>-0.836900</td>\n",
       "      <td>-0.293676</td>\n",
       "      <td>0.367265</td>\n",
       "      <td>-1.327163</td>\n",
       "      <td>-0.787508</td>\n",
       "      <td>1.787577</td>\n",
       "      <td>-0.541915</td>\n",
       "      <td>-0.734130</td>\n",
       "      <td>-0.094844</td>\n",
       "      <td>-0.166081</td>\n",
       "      <td>0.547818</td>\n",
       "      <td>0.706165</td>\n",
       "      <td>-0.001835</td>\n",
       "      <td>77876.10</td>\n",
       "    </tr>\n",
       "  </tbody>\n",
       "</table>\n",
       "</div>"
      ],
      "text/plain": [
       "          0         1         2         3         4         5         6  \\\n",
       "0  0.749024  1.019159  0.168953 -0.678830  2.212308  1.733274 -1.034881   \n",
       "1  0.627506  1.249321  0.155581 -0.575501  2.224472  1.672642 -0.717711   \n",
       "2  1.429321  0.103321  0.057536 -0.094313  2.220313  1.771078 -1.278923   \n",
       "3  1.199893  0.340415 -0.236703 -0.665774  2.236359  1.656241  0.969407   \n",
       "4  1.739566 -0.242885 -0.382661  0.723381  2.110546  1.750246 -0.836900   \n",
       "\n",
       "          7         8         9        10        11        12        13  \\\n",
       "0  0.035388  0.552644 -1.298549 -0.595630  1.724888 -0.403650 -0.189859   \n",
       "1 -0.363284  0.319251 -1.325845 -0.835657  1.768069 -0.357276 -0.538048   \n",
       "2  0.224174  0.733992 -1.291340 -0.466143  1.712154 -0.604620 -0.221559   \n",
       "3 -0.784410 -0.558264 -1.149784  0.287705  1.706963 -1.093811 -0.228497   \n",
       "4 -0.293676  0.367265 -1.327163 -0.787508  1.787577 -0.541915 -0.734130   \n",
       "\n",
       "         14        15        16        17        18  Weekly_Sales  \n",
       "0  0.197068  0.052015  0.576174  0.410569 -0.000370      87235.57  \n",
       "1  0.031313  0.105114  0.622423  0.349045  0.002372      80254.53  \n",
       "2  0.180249 -0.144270  0.480943  0.797974 -0.002935      77715.58  \n",
       "3  0.142438 -0.683232  0.525360  0.352748 -0.003172      83599.56  \n",
       "4 -0.094844 -0.166081  0.547818  0.706165 -0.001835      77876.10  "
      ]
     },
     "execution_count": 22,
     "metadata": {},
     "output_type": "execute_result"
    }
   ],
   "source": [
    "pca_features = pca.fit_transform(scaled_df.drop('Weekly_Sales',axis=1))\n",
    "pca_features_all = pd.DataFrame(pca_features)\n",
    "pca_features_all['Weekly_Sales'] = df['Weekly_Sales']\n",
    "pca_features_all.to_csv(r'C:\\Users\\songs\\Desktop\\Springboard Files\\Capstone 2\\data\\Interim\\pca_train_all.csv')\n",
    "pca_features_all.head()"
   ]
  },
  {
   "cell_type": "markdown",
   "metadata": {},
   "source": [
    "## Model creation:"
   ]
  },
  {
   "cell_type": "markdown",
   "metadata": {},
   "source": [
    "### Linear Regression"
   ]
  },
  {
   "cell_type": "code",
   "execution_count": 4,
   "metadata": {},
   "outputs": [],
   "source": [
    "#Loading data\n",
    "scaled_linear_df = pd.read_csv(r'C:\\Users\\songs\\Desktop\\Springboard Files\\Capstone 2\\data\\Interim\\scaled_train_linear.csv',index_col=0)\n",
    "pca_linear_df = pd.read_csv(r'C:\\Users\\songs\\Desktop\\Springboard Files\\Capstone 2\\data\\Interim\\pca_train_linear.csv',index_col=0)\n",
    "original_linear_df = pd.read_csv(r'C:\\Users\\songs\\Desktop\\Springboard Files\\Capstone 2\\data\\Interim\\original_train_linear.csv',index_col=0)"
   ]
  },
  {
   "cell_type": "code",
   "execution_count": 23,
   "metadata": {},
   "outputs": [],
   "source": [
    "#Splitting\n",
    "def linear_fit(data):\n",
    "    X = data.drop(['Weekly_Sales'], axis=1).values\n",
    "    y_log = data['Weekly_Sales'].values\n",
    "    results = []\n",
    "    for i in range(5):\n",
    "        X_train, X_test, y_train, y_test = train_test_split(X, y_log, test_size=0.3)\n",
    "        linear.fit(X_train,y_train)\n",
    "        y_pred = linear.predict(X_test)\n",
    "        results.append(mean_absolute_error(y_test,y_pred))\n",
    "    return results"
   ]
  },
  {
   "cell_type": "code",
   "execution_count": 27,
   "metadata": {},
   "outputs": [
    {
     "name": "stdout",
     "output_type": "stream",
     "text": [
      "[2584.2983044206594, 2574.77205914692, 2578.1109481904364]\n",
      "[14.60015046487896, 13.914129450637013, 13.393863903659563]\n"
     ]
    },
    {
     "data": {
      "image/png": "[encoded data removed]",
      "text/plain": [
       "<Figure size 720x360 with 1 Axes>"
      ]
     },
     "metadata": {
      "needs_background": "light"
     },
     "output_type": "display_data"
    }
   ],
   "source": [
    "scaled_results = linear_fit(scaled_linear_df)\n",
    "pca_results = linear_fit(pca_linear_df)\n",
    "original_results = linear_fit(original_linear_df)\n",
    "\n",
    "means = [np.mean(scaled_results),np.mean(pca_results),np.mean(original_results)]\n",
    "stds = [np.std(scaled_results),np.std(pca_results),np.std(original_results)]\n",
    "\n",
    "plt.figure(figsize=(10,5))\n",
    "plt.bar(range(3),means)\n",
    "plt.errorbar(range(3), means, stds, linestyle='None', marker='^',color='red')\n",
    "plt.xlabel(\"dataset used\")\n",
    "plt.xticks(range(3),['Scaled','PCA','Original'])\n",
    "plt.ylabel(\"Mean Absolute Error\")\n",
    "plt.title(\"Linear Regression\")\n",
    "\n",
    "print(means)\n",
    "print(stds)"
   ]
  },
  {
   "cell_type": "markdown",
   "metadata": {},
   "source": [
    "### Ridge"
   ]
  },
  {
   "cell_type": "code",
   "execution_count": 5,
   "metadata": {},
   "outputs": [],
   "source": [
    "#Loading data\n",
    "scaled_df = pd.read_csv(r'C:\\Users\\songs\\Desktop\\Springboard Files\\Capstone 2\\data\\Interim\\scaled_train.csv',index_col=0)\n",
    "pca_df = pd.read_csv(r'C:\\Users\\songs\\Desktop\\Springboard Files\\Capstone 2\\data\\Interim\\pca_train_all.csv',index_col=0)\n",
    "original_df = pd.read_csv(r'C:\\Users\\songs\\Desktop\\Springboard Files\\Capstone 2\\data\\Interim\\train_all_features.csv',index_col=0)"
   ]
  },
  {
   "cell_type": "code",
   "execution_count": 64,
   "metadata": {},
   "outputs": [],
   "source": [
    "#Writing a function to find best hyperparams\n",
    "def optimize_params(model, params, data):\n",
    "    \"\"\"Select the best parameters out of a dict for a model given training data\"\"\"\n",
    "    X = data.drop(['Weekly_Sales'], axis=1).values\n",
    "    y = data['Weekly_Sales'].values\n",
    "    X_train, X_test, y_train, y_test = train_test_split(X, y_log, test_size=0.3)\n",
    "    reg = model()\n",
    "    reg_cv = GridSearchCV(reg, param_grid=params, scoring='neg_mean_absolute_error',verbose=10)\n",
    "    reg_cv.fit(X_train, y_train)\n",
    "    print(reg_cv.best_params_)"
   ]
  },
  {
   "cell_type": "code",
   "execution_count": 48,
   "metadata": {},
   "outputs": [
    {
     "name": "stderr",
     "output_type": "stream",
     "text": [
      "C:\\Users\\songs\\Anaconda3\\lib\\site-packages\\sklearn\\model_selection\\_split.py:1978: FutureWarning: The default value of cv will change from 3 to 5 in version 0.22. Specify it explicitly to silence this warning.\n",
      "  warnings.warn(CV_WARNING, FutureWarning)\n",
      "[Parallel(n_jobs=1)]: Using backend SequentialBackend with 1 concurrent workers.\n"
     ]
    },
    {
     "name": "stdout",
     "output_type": "stream",
     "text": [
      "Fitting 3 folds for each of 9 candidates, totalling 27 fits\n"
     ]
    },
    {
     "name": "stderr",
     "output_type": "stream",
     "text": [
      "[Parallel(n_jobs=1)]: Done  27 out of  27 | elapsed:    1.3s finished\n",
      "C:\\Users\\songs\\Anaconda3\\lib\\site-packages\\sklearn\\model_selection\\_split.py:1978: FutureWarning: The default value of cv will change from 3 to 5 in version 0.22. Specify it explicitly to silence this warning.\n",
      "  warnings.warn(CV_WARNING, FutureWarning)\n"
     ]
    },
    {
     "name": "stdout",
     "output_type": "stream",
     "text": [
      "{'alpha': 0.0001}\n",
      "Fitting 3 folds for each of 9 candidates, totalling 27 fits\n"
     ]
    },
    {
     "name": "stderr",
     "output_type": "stream",
     "text": [
      "[Parallel(n_jobs=1)]: Using backend SequentialBackend with 1 concurrent workers.\n",
      "[Parallel(n_jobs=1)]: Done  27 out of  27 | elapsed:    1.3s finished\n"
     ]
    },
    {
     "name": "stdout",
     "output_type": "stream",
     "text": [
      "{'alpha': 0.0001}\n"
     ]
    },
    {
     "name": "stderr",
     "output_type": "stream",
     "text": [
      "C:\\Users\\songs\\Anaconda3\\lib\\site-packages\\sklearn\\model_selection\\_split.py:1978: FutureWarning: The default value of cv will change from 3 to 5 in version 0.22. Specify it explicitly to silence this warning.\n",
      "  warnings.warn(CV_WARNING, FutureWarning)\n",
      "[Parallel(n_jobs=1)]: Using backend SequentialBackend with 1 concurrent workers.\n"
     ]
    },
    {
     "name": "stdout",
     "output_type": "stream",
     "text": [
      "Fitting 3 folds for each of 9 candidates, totalling 27 fits\n"
     ]
    },
    {
     "name": "stderr",
     "output_type": "stream",
     "text": [
      "[Parallel(n_jobs=1)]: Done  27 out of  27 | elapsed:   11.5s finished\n"
     ]
    },
    {
     "name": "stdout",
     "output_type": "stream",
     "text": [
      "{'alpha': 0.0001}\n"
     ]
    }
   ],
   "source": [
    "model = Ridge\n",
    "params_to_test = {'alpha':np.arange(0.0001, 0.001, 0.0001)}\n",
    "\n",
    "optimize_params(model, params_to_test, scaled_df)\n",
    "optimize_params(model, params_to_test, pca_df)\n",
    "optimize_params(model, params_to_test, original_df)"
   ]
  },
  {
   "cell_type": "code",
   "execution_count": 49,
   "metadata": {},
   "outputs": [],
   "source": [
    "ridge = Ridge(alpha=0.001)\n",
    "\n",
    "def ridge_fit(data):\n",
    "    X = data.drop(['Weekly_Sales'], axis=1).values\n",
    "    y_log = data['Weekly_Sales'].values\n",
    "    results = []\n",
    "    for i in range(5):\n",
    "        X_train, X_test, y_train, y_test = train_test_split(X, y_log, test_size=0.3)\n",
    "        ridge.fit(X_train,y_train)\n",
    "        y_pred = ridge.predict(X_test)\n",
    "        results.append(mean_absolute_error(y_test,y_pred))\n",
    "    return results"
   ]
  },
  {
   "cell_type": "code",
   "execution_count": 50,
   "metadata": {},
   "outputs": [
    {
     "name": "stdout",
     "output_type": "stream",
     "text": [
      "[2587.380676496795, 2581.3281766801483, 2930.056185540217]\n",
      "[20.376114596513034, 6.914650774572502, 6.6979853493135515]\n"
     ]
    },
    {
     "data": {
      "image/png": "[encoded data removed]",
      "text/plain": [
       "<Figure size 720x360 with 1 Axes>"
      ]
     },
     "metadata": {
      "needs_background": "light"
     },
     "output_type": "display_data"
    }
   ],
   "source": [
    "scaled_results = ridge_fit(scaled_df)\n",
    "pca_results = ridge_fit(pca_df)\n",
    "original_results = ridge_fit(original_df)\n",
    "\n",
    "means = [np.mean(scaled_results),np.mean(pca_results),np.mean(original_results)]\n",
    "stds = [np.std(scaled_results),np.std(pca_results),np.std(original_results)]\n",
    "\n",
    "plt.figure(figsize=(10,5))\n",
    "plt.bar(range(3),means)\n",
    "plt.errorbar(range(3), means, stds, linestyle='None', marker='^',color='red')\n",
    "plt.xlabel(\"dataset used\")\n",
    "plt.xticks(range(3),['Scaled','PCA','Original'])\n",
    "plt.ylabel(\"Mean Absolute Error\")\n",
    "plt.title(\"Ridge Regression\")\n",
    "\n",
    "print(means)\n",
    "print(stds)"
   ]
  },
  {
   "cell_type": "markdown",
   "metadata": {},
   "source": [
    "### Lasso"
   ]
  },
  {
   "cell_type": "code",
   "execution_count": 51,
   "metadata": {},
   "outputs": [
    {
     "name": "stderr",
     "output_type": "stream",
     "text": [
      "C:\\Users\\songs\\Anaconda3\\lib\\site-packages\\sklearn\\model_selection\\_split.py:1978: FutureWarning: The default value of cv will change from 3 to 5 in version 0.22. Specify it explicitly to silence this warning.\n",
      "  warnings.warn(CV_WARNING, FutureWarning)\n",
      "[Parallel(n_jobs=1)]: Using backend SequentialBackend with 1 concurrent workers.\n"
     ]
    },
    {
     "name": "stdout",
     "output_type": "stream",
     "text": [
      "Fitting 3 folds for each of 9 candidates, totalling 27 fits\n"
     ]
    },
    {
     "name": "stderr",
     "output_type": "stream",
     "text": [
      "[Parallel(n_jobs=1)]: Done  27 out of  27 | elapsed:    3.1s finished\n"
     ]
    },
    {
     "name": "stdout",
     "output_type": "stream",
     "text": [
      "{'alpha': 0.0001}\n",
      "Fitting 3 folds for each of 9 candidates, totalling 27 fits\n"
     ]
    },
    {
     "name": "stderr",
     "output_type": "stream",
     "text": [
      "C:\\Users\\songs\\Anaconda3\\lib\\site-packages\\sklearn\\model_selection\\_split.py:1978: FutureWarning: The default value of cv will change from 3 to 5 in version 0.22. Specify it explicitly to silence this warning.\n",
      "  warnings.warn(CV_WARNING, FutureWarning)\n",
      "[Parallel(n_jobs=1)]: Using backend SequentialBackend with 1 concurrent workers.\n",
      "[Parallel(n_jobs=1)]: Done  27 out of  27 | elapsed:    2.3s finished\n"
     ]
    },
    {
     "name": "stdout",
     "output_type": "stream",
     "text": [
      "{'alpha': 0.0001}\n"
     ]
    },
    {
     "name": "stderr",
     "output_type": "stream",
     "text": [
      "C:\\Users\\songs\\Anaconda3\\lib\\site-packages\\sklearn\\model_selection\\_split.py:1978: FutureWarning: The default value of cv will change from 3 to 5 in version 0.22. Specify it explicitly to silence this warning.\n",
      "  warnings.warn(CV_WARNING, FutureWarning)\n",
      "[Parallel(n_jobs=1)]: Using backend SequentialBackend with 1 concurrent workers.\n"
     ]
    },
    {
     "name": "stdout",
     "output_type": "stream",
     "text": [
      "Fitting 3 folds for each of 9 candidates, totalling 27 fits\n"
     ]
    },
    {
     "name": "stderr",
     "output_type": "stream",
     "text": [
      "[Parallel(n_jobs=1)]: Done  27 out of  27 | elapsed:   16.0s finished\n"
     ]
    },
    {
     "name": "stdout",
     "output_type": "stream",
     "text": [
      "{'alpha': 0.0001}\n"
     ]
    }
   ],
   "source": [
    "model = Lasso\n",
    "params_to_test = {'alpha':np.arange(0.0001, 0.001, 0.0001)}\n",
    "\n",
    "optimize_params(model, params_to_test, scaled_df)\n",
    "optimize_params(model, params_to_test, pca_df)\n",
    "optimize_params(model, params_to_test, original_df)"
   ]
  },
  {
   "cell_type": "code",
   "execution_count": 36,
   "metadata": {},
   "outputs": [],
   "source": [
    "lasso = Lasso(alpha=0.01)\n",
    "\n",
    "def lasso_fit(data):\n",
    "    X = data.drop(['Weekly_Sales'], axis=1).values\n",
    "    y_log = data['Weekly_Sales'].values\n",
    "    results = []\n",
    "    for i in range(5):\n",
    "        X_train, X_test, y_train, y_test = train_test_split(X, y_log, test_size=0.3)\n",
    "        lasso.fit(X_train,y_train)\n",
    "        y_pred = lasso.predict(X_test)\n",
    "        results.append(mean_absolute_error(y_test,y_pred))\n",
    "    return results"
   ]
  },
  {
   "cell_type": "code",
   "execution_count": 37,
   "metadata": {},
   "outputs": [
    {
     "name": "stderr",
     "output_type": "stream",
     "text": [
      "C:\\Users\\songs\\Anaconda3\\lib\\site-packages\\sklearn\\linear_model\\coordinate_descent.py:475: ConvergenceWarning: Objective did not converge. You might want to increase the number of iterations. Duality gap: 4435267026746.128, tolerance: 10210154241.2207\n",
      "  positive)\n",
      "C:\\Users\\songs\\Anaconda3\\lib\\site-packages\\sklearn\\linear_model\\coordinate_descent.py:475: ConvergenceWarning: Objective did not converge. You might want to increase the number of iterations. Duality gap: 4252597862608.1763, tolerance: 10002679006.167356\n",
      "  positive)\n",
      "C:\\Users\\songs\\Anaconda3\\lib\\site-packages\\sklearn\\linear_model\\coordinate_descent.py:475: ConvergenceWarning: Objective did not converge. You might want to increase the number of iterations. Duality gap: 4570729241234.956, tolerance: 10202238009.091928\n",
      "  positive)\n",
      "C:\\Users\\songs\\Anaconda3\\lib\\site-packages\\sklearn\\linear_model\\coordinate_descent.py:475: ConvergenceWarning: Objective did not converge. You might want to increase the number of iterations. Duality gap: 4309403143465.9917, tolerance: 10045522949.924915\n",
      "  positive)\n",
      "C:\\Users\\songs\\Anaconda3\\lib\\site-packages\\sklearn\\linear_model\\coordinate_descent.py:475: ConvergenceWarning: Objective did not converge. You might want to increase the number of iterations. Duality gap: 4688288446585.376, tolerance: 10221921970.059443\n",
      "  positive)\n",
      "C:\\Users\\songs\\Anaconda3\\lib\\site-packages\\sklearn\\linear_model\\coordinate_descent.py:475: ConvergenceWarning: Objective did not converge. You might want to increase the number of iterations. Duality gap: 4196135332692.7817, tolerance: 10192341763.181057\n",
      "  positive)\n",
      "C:\\Users\\songs\\Anaconda3\\lib\\site-packages\\sklearn\\linear_model\\coordinate_descent.py:475: ConvergenceWarning: Objective did not converge. You might want to increase the number of iterations. Duality gap: 4079432482109.8296, tolerance: 10180863091.99535\n",
      "  positive)\n",
      "C:\\Users\\songs\\Anaconda3\\lib\\site-packages\\sklearn\\linear_model\\coordinate_descent.py:475: ConvergenceWarning: Objective did not converge. You might want to increase the number of iterations. Duality gap: 4160406142698.1494, tolerance: 10208135842.493887\n",
      "  positive)\n",
      "C:\\Users\\songs\\Anaconda3\\lib\\site-packages\\sklearn\\linear_model\\coordinate_descent.py:475: ConvergenceWarning: Objective did not converge. You might want to increase the number of iterations. Duality gap: 3846085542213.285, tolerance: 10086212879.634209\n",
      "  positive)\n",
      "C:\\Users\\songs\\Anaconda3\\lib\\site-packages\\sklearn\\linear_model\\coordinate_descent.py:475: ConvergenceWarning: Objective did not converge. You might want to increase the number of iterations. Duality gap: 4152207835473.823, tolerance: 10166203216.084753\n",
      "  positive)\n"
     ]
    },
    {
     "name": "stdout",
     "output_type": "stream",
     "text": [
      "[2581.029836129744, 2586.810763889752, 2932.378926627397]\n",
      "[17.212600993955952, 12.101138816368078, 10.894237073855988]\n"
     ]
    },
    {
     "data": {
      "image/png": "[encoded data removed]",
      "text/plain": [
       "<Figure size 720x360 with 1 Axes>"
      ]
     },
     "metadata": {
      "needs_background": "light"
     },
     "output_type": "display_data"
    }
   ],
   "source": [
    "scaled_results = lasso_fit(scaled_df)\n",
    "pca_results = lasso_fit(pca_linear_df)\n",
    "original_results = lasso_fit(original_df)\n",
    "\n",
    "means = [np.mean(scaled_results),np.mean(pca_results),np.mean(original_results)]\n",
    "stds = [np.std(scaled_results),np.std(pca_results),np.std(original_results)]\n",
    "\n",
    "plt.figure(figsize=(10,5))\n",
    "plt.bar(range(3),means)\n",
    "plt.errorbar(range(3), means, stds, linestyle='None', marker='^',color='red')\n",
    "plt.xlabel(\"dataset used\")\n",
    "plt.xticks(range(3),['Scaled','PCA','Original'])\n",
    "plt.ylabel(\"Mean Absolute Error\")\n",
    "plt.title(\"Lasso Regression\")\n",
    "\n",
    "print(means)\n",
    "print(stds)"
   ]
  },
  {
   "cell_type": "markdown",
   "metadata": {},
   "source": [
    "### RandomForest"
   ]
  },
  {
   "cell_type": "code",
   "execution_count": null,
   "metadata": {},
   "outputs": [
    {
     "name": "stderr",
     "output_type": "stream",
     "text": [
      "C:\\Users\\songs\\Anaconda3\\lib\\site-packages\\sklearn\\model_selection\\_split.py:1978: FutureWarning: The default value of cv will change from 3 to 5 in version 0.22. Specify it explicitly to silence this warning.\n",
      "  warnings.warn(CV_WARNING, FutureWarning)\n",
      "[Parallel(n_jobs=1)]: Using backend SequentialBackend with 1 concurrent workers.\n"
     ]
    },
    {
     "name": "stdout",
     "output_type": "stream",
     "text": [
      "Fitting 3 folds for each of 10 candidates, totalling 30 fits\n",
      "[CV] n_estimators=300 ................................................\n",
      "[CV] ................... n_estimators=300, score=-0.075, total=18.3min\n"
     ]
    },
    {
     "name": "stderr",
     "output_type": "stream",
     "text": [
      "[Parallel(n_jobs=1)]: Done   1 out of   1 | elapsed: 18.3min remaining:    0.0s\n"
     ]
    },
    {
     "name": "stdout",
     "output_type": "stream",
     "text": [
      "[CV] n_estimators=300 ................................................\n",
      "[CV] ................... n_estimators=300, score=-0.076, total=30.8min\n"
     ]
    },
    {
     "name": "stderr",
     "output_type": "stream",
     "text": [
      "[Parallel(n_jobs=1)]: Done   2 out of   2 | elapsed: 49.1min remaining:    0.0s\n"
     ]
    },
    {
     "name": "stdout",
     "output_type": "stream",
     "text": [
      "[CV] n_estimators=300 ................................................\n",
      "[CV] ................... n_estimators=300, score=-0.075, total=29.2min\n"
     ]
    },
    {
     "name": "stderr",
     "output_type": "stream",
     "text": [
      "[Parallel(n_jobs=1)]: Done   3 out of   3 | elapsed: 78.3min remaining:    0.0s\n"
     ]
    },
    {
     "name": "stdout",
     "output_type": "stream",
     "text": [
      "[CV] n_estimators=320 ................................................\n",
      "[CV] ................... n_estimators=320, score=-0.075, total=15.3min\n"
     ]
    },
    {
     "name": "stderr",
     "output_type": "stream",
     "text": [
      "[Parallel(n_jobs=1)]: Done   4 out of   4 | elapsed: 93.7min remaining:    0.0s\n"
     ]
    },
    {
     "name": "stdout",
     "output_type": "stream",
     "text": [
      "[CV] n_estimators=320 ................................................\n",
      "[CV] ................... n_estimators=320, score=-0.076, total= 6.8min\n",
      "[CV] n_estimators=320 ................................................\n"
     ]
    },
    {
     "name": "stderr",
     "output_type": "stream",
     "text": [
      "[Parallel(n_jobs=1)]: Done   5 out of   5 | elapsed: 100.5min remaining:    0.0s\n"
     ]
    },
    {
     "name": "stdout",
     "output_type": "stream",
     "text": [
      "[CV] ................... n_estimators=320, score=-0.075, total= 6.6min\n"
     ]
    },
    {
     "name": "stderr",
     "output_type": "stream",
     "text": [
      "[Parallel(n_jobs=1)]: Done   6 out of   6 | elapsed: 107.1min remaining:    0.0s\n"
     ]
    },
    {
     "name": "stdout",
     "output_type": "stream",
     "text": [
      "[CV] n_estimators=340 ................................................\n",
      "[CV] ................... n_estimators=340, score=-0.075, total= 6.7min\n"
     ]
    },
    {
     "name": "stderr",
     "output_type": "stream",
     "text": [
      "[Parallel(n_jobs=1)]: Done   7 out of   7 | elapsed: 113.8min remaining:    0.0s\n"
     ]
    },
    {
     "name": "stdout",
     "output_type": "stream",
     "text": [
      "[CV] n_estimators=340 ................................................\n",
      "[CV] ................... n_estimators=340, score=-0.076, total= 6.4min\n"
     ]
    },
    {
     "name": "stderr",
     "output_type": "stream",
     "text": [
      "[Parallel(n_jobs=1)]: Done   8 out of   8 | elapsed: 120.2min remaining:    0.0s\n"
     ]
    },
    {
     "name": "stdout",
     "output_type": "stream",
     "text": [
      "[CV] n_estimators=340 ................................................\n",
      "[CV] ................... n_estimators=340, score=-0.075, total= 6.5min\n",
      "[CV] n_estimators=360 ................................................\n"
     ]
    },
    {
     "name": "stderr",
     "output_type": "stream",
     "text": [
      "[Parallel(n_jobs=1)]: Done   9 out of   9 | elapsed: 126.7min remaining:    0.0s\n"
     ]
    },
    {
     "name": "stdout",
     "output_type": "stream",
     "text": [
      "[CV] ................... n_estimators=360, score=-0.075, total= 6.9min\n",
      "[CV] n_estimators=360 ................................................\n",
      "[CV] ................... n_estimators=360, score=-0.076, total= 6.8min\n",
      "[CV] n_estimators=360 ................................................\n",
      "[CV] ................... n_estimators=360, score=-0.075, total= 7.0min\n",
      "[CV] n_estimators=380 ................................................\n",
      "[CV] ................... n_estimators=380, score=-0.075, total= 7.2min\n",
      "[CV] n_estimators=380 ................................................\n",
      "[CV] ................... n_estimators=380, score=-0.076, total= 7.2min\n",
      "[CV] n_estimators=380 ................................................\n",
      "[CV] ................... n_estimators=380, score=-0.075, total= 7.1min\n",
      "[CV] n_estimators=400 ................................................\n",
      "[CV] ................... n_estimators=400, score=-0.075, total= 7.4min\n",
      "[CV] n_estimators=400 ................................................\n",
      "[CV] ................... n_estimators=400, score=-0.076, total= 7.3min\n",
      "[CV] n_estimators=400 ................................................\n",
      "[CV] ................... n_estimators=400, score=-0.075, total= 7.3min\n",
      "[CV] n_estimators=420 ................................................\n",
      "[CV] ................... n_estimators=420, score=-0.075, total= 7.6min\n",
      "[CV] n_estimators=420 ................................................\n",
      "[CV] ................... n_estimators=420, score=-0.076, total= 7.7min\n",
      "[CV] n_estimators=420 ................................................\n",
      "[CV] ................... n_estimators=420, score=-0.075, total= 7.7min\n",
      "[CV] n_estimators=440 ................................................\n",
      "[CV] ................... n_estimators=440, score=-0.075, total= 8.4min\n",
      "[CV] n_estimators=440 ................................................\n",
      "[CV] ................... n_estimators=440, score=-0.076, total=27.1min\n",
      "[CV] n_estimators=440 ................................................\n",
      "[CV] ................... n_estimators=440, score=-0.075, total=51.7min\n",
      "[CV] n_estimators=460 ................................................\n",
      "[CV] .................. n_estimators=460, score=-0.075, total=132.8min\n",
      "[CV] n_estimators=460 ................................................\n",
      "[CV] ................... n_estimators=460, score=-0.076, total=87.4min\n",
      "[CV] n_estimators=460 ................................................\n",
      "[CV] ................... n_estimators=460, score=-0.075, total=68.1min\n",
      "[CV] n_estimators=480 ................................................\n",
      "[CV] ................... n_estimators=480, score=-0.075, total=81.0min\n",
      "[CV] n_estimators=480 ................................................\n",
      "[CV] ................... n_estimators=480, score=-0.076, total= 8.9min\n",
      "[CV] n_estimators=480 ................................................\n",
      "[CV] ................... n_estimators=480, score=-0.075, total= 9.1min\n"
     ]
    },
    {
     "name": "stderr",
     "output_type": "stream",
     "text": [
      "[Parallel(n_jobs=1)]: Done  30 out of  30 | elapsed: 688.8min finished\n"
     ]
    },
    {
     "name": "stdout",
     "output_type": "stream",
     "text": [
      "{'n_estimators': 480}\n"
     ]
    },
    {
     "name": "stderr",
     "output_type": "stream",
     "text": [
      "C:\\Users\\songs\\Anaconda3\\lib\\site-packages\\sklearn\\model_selection\\_split.py:1978: FutureWarning: The default value of cv will change from 3 to 5 in version 0.22. Specify it explicitly to silence this warning.\n",
      "  warnings.warn(CV_WARNING, FutureWarning)\n",
      "[Parallel(n_jobs=1)]: Using backend SequentialBackend with 1 concurrent workers.\n"
     ]
    },
    {
     "name": "stdout",
     "output_type": "stream",
     "text": [
      "Fitting 3 folds for each of 10 candidates, totalling 30 fits\n",
      "[CV] n_estimators=300 ................................................\n",
      "[CV] ................... n_estimators=300, score=-0.120, total=14.5min\n"
     ]
    },
    {
     "name": "stderr",
     "output_type": "stream",
     "text": [
      "[Parallel(n_jobs=1)]: Done   1 out of   1 | elapsed: 14.5min remaining:    0.0s\n"
     ]
    },
    {
     "name": "stdout",
     "output_type": "stream",
     "text": [
      "[CV] n_estimators=300 ................................................\n",
      "[CV] ................... n_estimators=300, score=-0.120, total=13.9min\n",
      "[CV] n_estimators=300 ................................................\n"
     ]
    },
    {
     "name": "stderr",
     "output_type": "stream",
     "text": [
      "[Parallel(n_jobs=1)]: Done   2 out of   2 | elapsed: 28.3min remaining:    0.0s\n"
     ]
    },
    {
     "name": "stdout",
     "output_type": "stream",
     "text": [
      "[CV] ................... n_estimators=300, score=-0.120, total=13.6min\n"
     ]
    },
    {
     "name": "stderr",
     "output_type": "stream",
     "text": [
      "[Parallel(n_jobs=1)]: Done   3 out of   3 | elapsed: 42.0min remaining:    0.0s\n"
     ]
    },
    {
     "name": "stdout",
     "output_type": "stream",
     "text": [
      "[CV] n_estimators=320 ................................................\n",
      "[CV] ................... n_estimators=320, score=-0.120, total=14.3min\n",
      "[CV] n_estimators=320 ................................................\n"
     ]
    },
    {
     "name": "stderr",
     "output_type": "stream",
     "text": [
      "[Parallel(n_jobs=1)]: Done   4 out of   4 | elapsed: 56.3min remaining:    0.0s\n"
     ]
    },
    {
     "name": "stdout",
     "output_type": "stream",
     "text": [
      "[CV] ................... n_estimators=320, score=-0.119, total=14.6min\n",
      "[CV] n_estimators=320 ................................................\n"
     ]
    },
    {
     "name": "stderr",
     "output_type": "stream",
     "text": [
      "[Parallel(n_jobs=1)]: Done   5 out of   5 | elapsed: 70.9min remaining:    0.0s\n"
     ]
    },
    {
     "name": "stdout",
     "output_type": "stream",
     "text": [
      "[CV] ................... n_estimators=320, score=-0.120, total=14.4min\n"
     ]
    },
    {
     "name": "stderr",
     "output_type": "stream",
     "text": [
      "[Parallel(n_jobs=1)]: Done   6 out of   6 | elapsed: 85.3min remaining:    0.0s\n"
     ]
    },
    {
     "name": "stdout",
     "output_type": "stream",
     "text": [
      "[CV] n_estimators=340 ................................................\n",
      "[CV] ................... n_estimators=340, score=-0.120, total=15.1min\n",
      "[CV] n_estimators=340 ................................................\n"
     ]
    },
    {
     "name": "stderr",
     "output_type": "stream",
     "text": [
      "[Parallel(n_jobs=1)]: Done   7 out of   7 | elapsed: 100.5min remaining:    0.0s\n"
     ]
    },
    {
     "name": "stdout",
     "output_type": "stream",
     "text": [
      "[CV] ................... n_estimators=340, score=-0.120, total=15.1min\n",
      "[CV] n_estimators=340 ................................................\n"
     ]
    },
    {
     "name": "stderr",
     "output_type": "stream",
     "text": [
      "[Parallel(n_jobs=1)]: Done   8 out of   8 | elapsed: 115.6min remaining:    0.0s\n"
     ]
    },
    {
     "name": "stdout",
     "output_type": "stream",
     "text": [
      "[CV] ................... n_estimators=340, score=-0.120, total=15.3min\n"
     ]
    },
    {
     "name": "stderr",
     "output_type": "stream",
     "text": [
      "[Parallel(n_jobs=1)]: Done   9 out of   9 | elapsed: 130.8min remaining:    0.0s\n"
     ]
    },
    {
     "name": "stdout",
     "output_type": "stream",
     "text": [
      "[CV] n_estimators=360 ................................................\n",
      "[CV] ................... n_estimators=360, score=-0.120, total=16.1min\n",
      "[CV] n_estimators=360 ................................................\n",
      "[CV] ................... n_estimators=360, score=-0.120, total=15.8min\n",
      "[CV] n_estimators=360 ................................................\n",
      "[CV] ................... n_estimators=360, score=-0.120, total=15.8min\n",
      "[CV] n_estimators=380 ................................................\n",
      "[CV] ................... n_estimators=380, score=-0.120, total=16.7min\n",
      "[CV] n_estimators=380 ................................................\n"
     ]
    }
   ],
   "source": [
    "model = RandomForestRegressor\n",
    "params_to_test = {'n_estimators':np.arange(300, 500, 20)}\n",
    "\n",
    "optimize_params(model, params_to_test, scaled_df)\n",
    "optimize_params(model, params_to_test, pca_df)\n",
    "optimize_params(model, params_to_test, original_df)"
   ]
  },
  {
   "cell_type": "code",
   "execution_count": 99,
   "metadata": {},
   "outputs": [],
   "source": [
    "def rf_fit(data):\n",
    "    X = df.drop(['Weekly_Sales','log_revenue'], axis=1).values\n",
    "    y_log = df['log_revenue'].values\n",
    "    results = []\n",
    "    for i in range(5):\n",
    "        X_train, X_test, y_train, y_test = train_test_split(X, y_log, test_size=0.3)\n",
    "        rf.fit(X_train,y_train)\n",
    "        y_pred = rf.predict(X_test)\n",
    "        y_pred = np.exp(y_pred) - 4989.94\n",
    "        y_true = np.exp(y_test)\n",
    "        results.append(mean_absolute_error(y_true,y_pred))\n",
    "        \n",
    "    return results"
   ]
  },
  {
   "cell_type": "code",
   "execution_count": 100,
   "metadata": {},
   "outputs": [
    {
     "name": "stdout",
     "output_type": "stream",
     "text": [
      "[13185.510896819824, 13207.0814288867, 13188.42211753047]\n",
      "[60.9208693297605, 33.5500459931308, 53.67463607277562]\n"
     ]
    },
    {
     "data": {
      "image/png": "[encoded data removed]",
      "text/plain": [
       "<Figure size 720x360 with 1 Axes>"
      ]
     },
     "metadata": {
      "needs_background": "light"
     },
     "output_type": "display_data"
    }
   ],
   "source": [
    "scaled_results = rf_fit(scaled_linear)\n",
    "pca_results = rf_fit(pca_linear)\n",
    "original_results = rf_fit(original_linear)\n",
    "\n",
    "means = [np.mean(scaled_results),np.mean(pca_results),np.mean(original_results)]\n",
    "stds = [np.std(scaled_results),np.std(pca_results),np.std(original_results)]\n",
    "\n",
    "plt.figure(figsize=(10,5))\n",
    "plt.bar(range(3),means)\n",
    "plt.errorbar(range(3), means, stds, linestyle='None', marker='^',color='red')\n",
    "plt.xlabel(\"dataset used\")\n",
    "plt.xticks(range(3),['Scaled','PCA','Original'])\n",
    "plt.ylabel(\"Mean Absolute Error\")\n",
    "plt.title(\"RandomForestRegression\")\n",
    "\n",
    "print(means)\n",
    "print(stds)"
   ]
  },
  {
   "cell_type": "code",
   "execution_count": null,
   "metadata": {},
   "outputs": [],
   "source": []
  }
 ],
 "metadata": {
  "kernelspec": {
   "display_name": "Python 3",
   "language": "python",
   "name": "python3"
  },
  "language_info": {
   "codemirror_mode": {
    "name": "ipython",
    "version": 3
   },
   "file_extension": ".py",
   "mimetype": "text/x-python",
   "name": "python",
   "nbconvert_exporter": "python",
   "pygments_lexer": "ipython3",
   "version": "3.7.3"
  }
 },
 "nbformat": 4,
 "nbformat_minor": 2
}
