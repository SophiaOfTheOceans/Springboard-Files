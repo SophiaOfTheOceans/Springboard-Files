{
 "cells": [
  {
   "cell_type": "markdown",
   "metadata": {},
   "source": [
    "# Model Creation"
   ]
  },
  {
   "cell_type": "markdown",
   "metadata": {},
   "source": [
    "After cleaning and getting a preliminary idea of the data, we're going to fit several models and evaluate them using the Mean Absolute Error (MAE). The models I'm going to try are:\n",
    "\n",
    "* Linear Regression\n",
    "* Ridge Regression\n",
    "* Lasso Regression\n",
    "* RandomForestRegressor\n",
    "\n",
    "For the metrics, I'm also using the mean absolute error to tell a more concrete story of how well our model is performing. Instead of mean squared error, I used mean absolute error because we have several large outliers and I don't want our metric to be skewed by the large errors that'd be generated when we try to predict them using a model meant for typical revenue. It's also more interpretable, with the error returned simply being how many dollars, on average, we're off from the actual weekly revenue."
   ]
  },
  {
   "cell_type": "code",
   "execution_count": 1,
   "metadata": {},
   "outputs": [],
   "source": [
    "#Importing necessary modules\n",
    "from sklearn.preprocessing import StandardScaler\n",
    "from sklearn.model_selection import train_test_split\n",
    "from sklearn.linear_model import LinearRegression, Ridge, Lasso\n",
    "import pandas as pd\n",
    "from statsmodels.formula.api import ols\n",
    "from sklearn.decomposition import PCA\n",
    "from sklearn.metrics import mean_absolute_error\n",
    "import matplotlib.pyplot as plt\n",
    "from sklearn.ensemble import RandomForestRegressor\n",
    "from sklearn.model_selection import TimeSeriesSplit\n",
    "from sklearn.feature_selection import RFE\n",
    "import numpy as np\n",
    "from sklearn.model_selection import GridSearchCV\n",
    "from tqdm import tqdm"
   ]
  },
  {
   "cell_type": "markdown",
   "metadata": {},
   "source": [
    "## Reading in the original data"
   ]
  },
  {
   "cell_type": "code",
   "execution_count": 2,
   "metadata": {},
   "outputs": [
    {
     "data": {
      "text/html": [
       "<div>\n",
       "<style scoped>\n",
       "    .dataframe tbody tr th:only-of-type {\n",
       "        vertical-align: middle;\n",
       "    }\n",
       "\n",
       "    .dataframe tbody tr th {\n",
       "        vertical-align: top;\n",
       "    }\n",
       "\n",
       "    .dataframe thead th {\n",
       "        text-align: right;\n",
       "    }\n",
       "</style>\n",
       "<table border=\"1\" class=\"dataframe\">\n",
       "  <thead>\n",
       "    <tr style=\"text-align: right;\">\n",
       "      <th></th>\n",
       "      <th>Store</th>\n",
       "      <th>Dept</th>\n",
       "      <th>Weekly_Sales</th>\n",
       "      <th>IsHoliday</th>\n",
       "      <th>Temperature</th>\n",
       "      <th>Fuel_Price</th>\n",
       "      <th>CPI</th>\n",
       "      <th>Unemployment</th>\n",
       "      <th>Size</th>\n",
       "      <th>Type_A</th>\n",
       "      <th>...</th>\n",
       "      <th>Week_of_year</th>\n",
       "      <th>Day</th>\n",
       "      <th>Median_Sales</th>\n",
       "      <th>Lagged_Value</th>\n",
       "      <th>Lag_Available</th>\n",
       "      <th>Diff_from_Med</th>\n",
       "      <th>IsThanksgiving</th>\n",
       "      <th>IsChristmas</th>\n",
       "      <th>IsPreChristmas</th>\n",
       "      <th>IsDept72</th>\n",
       "    </tr>\n",
       "  </thead>\n",
       "  <tbody>\n",
       "    <tr>\n",
       "      <th>106604</th>\n",
       "      <td>1</td>\n",
       "      <td>1</td>\n",
       "      <td>46039.49</td>\n",
       "      <td>True</td>\n",
       "      <td>38.51</td>\n",
       "      <td>2.548</td>\n",
       "      <td>211.242170</td>\n",
       "      <td>8.106</td>\n",
       "      <td>151315</td>\n",
       "      <td>1</td>\n",
       "      <td>...</td>\n",
       "      <td>6</td>\n",
       "      <td>12</td>\n",
       "      <td>19239.405</td>\n",
       "      <td>19239.405</td>\n",
       "      <td>False</td>\n",
       "      <td>0.000</td>\n",
       "      <td>False</td>\n",
       "      <td>False</td>\n",
       "      <td>False</td>\n",
       "      <td>False</td>\n",
       "    </tr>\n",
       "    <tr>\n",
       "      <th>106610</th>\n",
       "      <td>1</td>\n",
       "      <td>1</td>\n",
       "      <td>19403.54</td>\n",
       "      <td>False</td>\n",
       "      <td>46.63</td>\n",
       "      <td>2.561</td>\n",
       "      <td>211.319643</td>\n",
       "      <td>8.106</td>\n",
       "      <td>151315</td>\n",
       "      <td>1</td>\n",
       "      <td>...</td>\n",
       "      <td>8</td>\n",
       "      <td>26</td>\n",
       "      <td>19239.405</td>\n",
       "      <td>19239.405</td>\n",
       "      <td>False</td>\n",
       "      <td>0.000</td>\n",
       "      <td>False</td>\n",
       "      <td>False</td>\n",
       "      <td>False</td>\n",
       "      <td>False</td>\n",
       "    </tr>\n",
       "    <tr>\n",
       "      <th>106598</th>\n",
       "      <td>1</td>\n",
       "      <td>1</td>\n",
       "      <td>21827.90</td>\n",
       "      <td>False</td>\n",
       "      <td>46.50</td>\n",
       "      <td>2.625</td>\n",
       "      <td>211.350143</td>\n",
       "      <td>8.106</td>\n",
       "      <td>151315</td>\n",
       "      <td>1</td>\n",
       "      <td>...</td>\n",
       "      <td>9</td>\n",
       "      <td>5</td>\n",
       "      <td>19239.405</td>\n",
       "      <td>19403.540</td>\n",
       "      <td>True</td>\n",
       "      <td>164.135</td>\n",
       "      <td>False</td>\n",
       "      <td>False</td>\n",
       "      <td>False</td>\n",
       "      <td>False</td>\n",
       "    </tr>\n",
       "    <tr>\n",
       "      <th>106620</th>\n",
       "      <td>1</td>\n",
       "      <td>1</td>\n",
       "      <td>21043.39</td>\n",
       "      <td>False</td>\n",
       "      <td>57.79</td>\n",
       "      <td>2.667</td>\n",
       "      <td>211.380643</td>\n",
       "      <td>8.106</td>\n",
       "      <td>151315</td>\n",
       "      <td>1</td>\n",
       "      <td>...</td>\n",
       "      <td>10</td>\n",
       "      <td>12</td>\n",
       "      <td>19239.405</td>\n",
       "      <td>21827.900</td>\n",
       "      <td>True</td>\n",
       "      <td>2588.495</td>\n",
       "      <td>False</td>\n",
       "      <td>False</td>\n",
       "      <td>False</td>\n",
       "      <td>False</td>\n",
       "    </tr>\n",
       "    <tr>\n",
       "      <th>106607</th>\n",
       "      <td>1</td>\n",
       "      <td>1</td>\n",
       "      <td>57258.43</td>\n",
       "      <td>False</td>\n",
       "      <td>62.27</td>\n",
       "      <td>2.719</td>\n",
       "      <td>210.820450</td>\n",
       "      <td>7.808</td>\n",
       "      <td>151315</td>\n",
       "      <td>1</td>\n",
       "      <td>...</td>\n",
       "      <td>13</td>\n",
       "      <td>2</td>\n",
       "      <td>19239.405</td>\n",
       "      <td>19239.405</td>\n",
       "      <td>False</td>\n",
       "      <td>0.000</td>\n",
       "      <td>False</td>\n",
       "      <td>False</td>\n",
       "      <td>False</td>\n",
       "      <td>False</td>\n",
       "    </tr>\n",
       "  </tbody>\n",
       "</table>\n",
       "<p>5 rows × 26 columns</p>\n",
       "</div>"
      ],
      "text/plain": [
       "        Store  Dept  Weekly_Sales  IsHoliday  Temperature  Fuel_Price  \\\n",
       "106604      1     1      46039.49       True        38.51       2.548   \n",
       "106610      1     1      19403.54      False        46.63       2.561   \n",
       "106598      1     1      21827.90      False        46.50       2.625   \n",
       "106620      1     1      21043.39      False        57.79       2.667   \n",
       "106607      1     1      57258.43      False        62.27       2.719   \n",
       "\n",
       "               CPI  Unemployment    Size  Type_A  ...  Week_of_year  Day  \\\n",
       "106604  211.242170         8.106  151315       1  ...             6   12   \n",
       "106610  211.319643         8.106  151315       1  ...             8   26   \n",
       "106598  211.350143         8.106  151315       1  ...             9    5   \n",
       "106620  211.380643         8.106  151315       1  ...            10   12   \n",
       "106607  210.820450         7.808  151315       1  ...            13    2   \n",
       "\n",
       "        Median_Sales  Lagged_Value  Lag_Available  Diff_from_Med  \\\n",
       "106604     19239.405     19239.405          False          0.000   \n",
       "106610     19239.405     19239.405          False          0.000   \n",
       "106598     19239.405     19403.540           True        164.135   \n",
       "106620     19239.405     21827.900           True       2588.495   \n",
       "106607     19239.405     19239.405          False          0.000   \n",
       "\n",
       "        IsThanksgiving  IsChristmas  IsPreChristmas  IsDept72  \n",
       "106604           False        False           False     False  \n",
       "106610           False        False           False     False  \n",
       "106598           False        False           False     False  \n",
       "106620           False        False           False     False  \n",
       "106607           False        False           False     False  \n",
       "\n",
       "[5 rows x 26 columns]"
      ]
     },
     "execution_count": 2,
     "metadata": {},
     "output_type": "execute_result"
    }
   ],
   "source": [
    "#Reading in the original test data\n",
    "df = pd.read_csv(r'C:\\Users\\songs\\Desktop\\Springboard Files\\Springboard-Files\\Capstone 2\\data\\Interim\\train_all_features.csv', \n",
    "                 index_col=0)\n",
    "df.head()"
   ]
  },
  {
   "cell_type": "markdown",
   "metadata": {},
   "source": [
    "## Feature Selection\n",
    "\n",
    "First, I'm going to see whether the logged revenue or the original revenue generates less error for each model. After finding that, I would then do feature selection to find the most important features for that particular model."
   ]
  },
  {
   "cell_type": "markdown",
   "metadata": {},
   "source": [
    "### Determining whether to use logged or unlogged values"
   ]
  },
  {
   "cell_type": "code",
   "execution_count": 4,
   "metadata": {},
   "outputs": [],
   "source": [
    "#Creating Features and Target\n",
    "X = df.drop(['Weekly_Sales','log_revenue'], axis=1).values\n",
    "y_log = df['log_revenue'].values\n",
    "y_not = df['Weekly_Sales'].values\n",
    "\n",
    "#Creating training and testing dataset.\n",
    "X_train_log, X_test_log, y_train_log, y_test_log = train_test_split(X, y_log, test_size=0.3, random_state=0)\n",
    "X_train_not, X_test_not, y_train_not, y_test_not = train_test_split(X, y_not, test_size=0.3, random_state=0)"
   ]
  },
  {
   "cell_type": "markdown",
   "metadata": {},
   "source": [
    "As we're going to be doing this a lot, I wrote a function to split the data into training and testing set, fit the model (without any hyperparameter tuning), and evaluate the model."
   ]
  },
  {
   "cell_type": "code",
   "execution_count": 9,
   "metadata": {},
   "outputs": [],
   "source": [
    "#Function for creating training and testing dataset\n",
    "def mean_abs_error(y,model):\n",
    "    if (y == y_log).all():\n",
    "        model.fit(X_train_log, y_train_log)\n",
    "        y_pred = model.predict(X_test_log)\n",
    "        y_pred = np.exp(y_pred) - 4989.94\n",
    "        y_true = np.exp(y_test_log)\n",
    "    else:\n",
    "        model.fit(X_train_not, y_train_not)\n",
    "        y_pred = model.predict(X_test_not)\n",
    "        y_true = y_test_not\n",
    "    return mean_absolute_error(y_true, y_pred)"
   ]
  },
  {
   "cell_type": "markdown",
   "metadata": {},
   "source": [
    "#### Linear Regression"
   ]
  },
  {
   "cell_type": "code",
   "execution_count": 10,
   "metadata": {},
   "outputs": [
    {
     "name": "stdout",
     "output_type": "stream",
     "text": [
      "The mean absolute error calculated using the logged values is 21251.63\n",
      "The mean absolute error calculated using the original values is 2248.57\n"
     ]
    }
   ],
   "source": [
    "#Linear\n",
    "linear = LinearRegression()\n",
    "\n",
    "print(\"The mean absolute error calculated using the logged values is \" + str(round(mean_abs_error(y_log,linear),2)))\n",
    "print(\"The mean absolute error calculated using the original values is \" + str(round(mean_abs_error(y_not,linear),2)))"
   ]
  },
  {
   "cell_type": "markdown",
   "metadata": {},
   "source": [
    "It's clear that the original values perform better. Next, we're going to test RandomForestRegressor. I didn't test Lasso and Ridge regression because they're very similar to Linear Regression, and the dataset that performs better for Linear Regression is likely to replicate its success for Lasso and Ridge Regression."
   ]
  },
  {
   "cell_type": "markdown",
   "metadata": {},
   "source": [
    "#### RandomForestRegressor"
   ]
  },
  {
   "cell_type": "code",
   "execution_count": 11,
   "metadata": {},
   "outputs": [
    {
     "name": "stderr",
     "output_type": "stream",
     "text": [
      "C:\\Users\\songs\\Anaconda3\\lib\\site-packages\\sklearn\\ensemble\\forest.py:245: FutureWarning: The default value of n_estimators will change from 10 in version 0.20 to 100 in 0.22.\n",
      "  \"10 in version 0.20 to 100 in 0.22.\", FutureWarning)\n"
     ]
    },
    {
     "name": "stdout",
     "output_type": "stream",
     "text": [
      "The mean absolute error calculated using the logged values is 5470.69\n",
      "The mean absolute error calculated using the original values is 1904.02\n"
     ]
    }
   ],
   "source": [
    "#RandomForestRegressor\n",
    "rf = RandomForestRegressor()\n",
    "\n",
    "print(\"The mean absolute error calculated using the logged values is \" + str(round(mean_abs_error(y_log,rf),2)))\n",
    "print(\"The mean absolute error calculated using the original values is \" + str(round(mean_abs_error(y_not,rf),2)))"
   ]
  },
  {
   "cell_type": "markdown",
   "metadata": {},
   "source": [
    "In both cases, it appears that we should predict using the original values as they generate the smaller MAE.\n",
    "\n",
    "### RFE feature selector for Linear Regression model\n",
    "\n",
    "Next, we're going to try to eliminate some of the extraneous features for Linear Regression and its relatives (Lasso and Ridge Regression). I didn't do this for RandomForestRegressor because it has a built-in feature that measures feature importance."
   ]
  },
  {
   "cell_type": "markdown",
   "metadata": {},
   "source": [
    "First, we find the optimal number of features for our linear regression model, which we defined above (linear) when comparing prelimary results between logged and unlogged values."
   ]
  },
  {
   "cell_type": "code",
   "execution_count": 13,
   "metadata": {},
   "outputs": [
    {
     "name": "stderr",
     "output_type": "stream",
     "text": [
      "100%|██████████████████████████████████████████████████████████████████████████████████| 23/23 [00:56<00:00,  1.78s/it]\n"
     ]
    },
    {
     "name": "stdout",
     "output_type": "stream",
     "text": [
      "20 2245.4\n"
     ]
    }
   ],
   "source": [
    "#Total number of features\n",
    "n_features = len(df.drop(['Weekly_Sales','log_revenue'], axis=1).columns)\n",
    "options = np.arange(1,n_features)\n",
    "low_score = 4000 #A number we're certainly going to be lower than\n",
    "nof = 0\n",
    "\n",
    "#Fitting model\n",
    "for n in tqdm(range(len(options))):\n",
    "    \n",
    "    #Creating model\n",
    "    rfe = RFE(linear, options[n])\n",
    "    X_train_rfe = rfe.fit_transform(X_train_not,y_train_not)\n",
    "    X_test_rfe = rfe.transform(X_test_not)\n",
    "    \n",
    "    #Fitting model\n",
    "    linear.fit(X_train_rfe,y_train_not)\n",
    "    y_pred = linear.predict(X_test_rfe)\n",
    "    score = mean_absolute_error(y_test_not, y_pred)\n",
    "    if(score<low_score):\n",
    "        low_score = score\n",
    "        nof = options[n]\n",
    "    \n",
    "print(nof, round(low_score,2))"
   ]
  },
  {
   "cell_type": "markdown",
   "metadata": {},
   "source": [
    "It appears that a linear regression model with 20 features performs the best, with a mean absolute error or 2245.40 dollars. That is 3 dollars less than our preliminary model without any feature selection, so it is an improvement. Now let's find out what those features are."
   ]
  },
  {
   "cell_type": "code",
   "execution_count": 14,
   "metadata": {},
   "outputs": [
    {
     "data": {
      "text/plain": [
       "Store              True\n",
       "Dept               True\n",
       "IsHoliday          True\n",
       "Temperature        True\n",
       "Fuel_Price         True\n",
       "CPI               False\n",
       "Unemployment       True\n",
       "Size              False\n",
       "Type_A             True\n",
       "Type_B             True\n",
       "Type_C             True\n",
       "Total_MarkDown    False\n",
       "Year               True\n",
       "Month              True\n",
       "Week_of_year       True\n",
       "Day                True\n",
       "Median_Sales       True\n",
       "Lagged_Value       True\n",
       "Lag_Available      True\n",
       "Diff_from_Med     False\n",
       "IsThanksgiving     True\n",
       "IsChristmas        True\n",
       "IsPreChristmas     True\n",
       "IsDept72           True\n",
       "dtype: bool"
      ]
     },
     "execution_count": 14,
     "metadata": {},
     "output_type": "execute_result"
    }
   ],
   "source": [
    "#Initializing RFE model and transforming the data with it.\n",
    "rfe_linear = RFE(linear, nof)\n",
    "X_rfe = rfe_linear.fit_transform(X_train_not,y_train_not)\n",
    "\n",
    "#Fitting the data to model\n",
    "linear.fit(X_rfe,y_train_not)\n",
    "\n",
    "#Visualizing which ones are most important\n",
    "cols = list(df.drop(['Weekly_Sales','log_revenue'],axis=1).columns)\n",
    "\n",
    "temp = pd.Series(rfe_linear.support_,index = cols)\n",
    "temp"
   ]
  },
  {
   "cell_type": "markdown",
   "metadata": {},
   "source": [
    "As it apears, the CPI, difference of the previous week from the median, total markdown, and size are not important for predicting the revenue generated."
   ]
  },
  {
   "cell_type": "code",
   "execution_count": 15,
   "metadata": {},
   "outputs": [
    {
     "data": {
      "text/html": [
       "<div>\n",
       "<style scoped>\n",
       "    .dataframe tbody tr th:only-of-type {\n",
       "        vertical-align: middle;\n",
       "    }\n",
       "\n",
       "    .dataframe tbody tr th {\n",
       "        vertical-align: top;\n",
       "    }\n",
       "\n",
       "    .dataframe thead th {\n",
       "        text-align: right;\n",
       "    }\n",
       "</style>\n",
       "<table border=\"1\" class=\"dataframe\">\n",
       "  <thead>\n",
       "    <tr style=\"text-align: right;\">\n",
       "      <th></th>\n",
       "      <th>Store</th>\n",
       "      <th>Dept</th>\n",
       "      <th>IsHoliday</th>\n",
       "      <th>Temperature</th>\n",
       "      <th>Fuel_Price</th>\n",
       "      <th>Unemployment</th>\n",
       "      <th>Type_A</th>\n",
       "      <th>Type_B</th>\n",
       "      <th>Type_C</th>\n",
       "      <th>Year</th>\n",
       "      <th>...</th>\n",
       "      <th>Week_of_year</th>\n",
       "      <th>Day</th>\n",
       "      <th>Median_Sales</th>\n",
       "      <th>Lagged_Value</th>\n",
       "      <th>Lag_Available</th>\n",
       "      <th>IsThanksgiving</th>\n",
       "      <th>IsChristmas</th>\n",
       "      <th>IsPreChristmas</th>\n",
       "      <th>IsDept72</th>\n",
       "      <th>Weekly_Sales</th>\n",
       "    </tr>\n",
       "  </thead>\n",
       "  <tbody>\n",
       "    <tr>\n",
       "      <th>106604</th>\n",
       "      <td>1</td>\n",
       "      <td>1</td>\n",
       "      <td>True</td>\n",
       "      <td>38.51</td>\n",
       "      <td>2.548</td>\n",
       "      <td>8.106</td>\n",
       "      <td>1</td>\n",
       "      <td>0</td>\n",
       "      <td>0</td>\n",
       "      <td>2010</td>\n",
       "      <td>...</td>\n",
       "      <td>6</td>\n",
       "      <td>12</td>\n",
       "      <td>19239.405</td>\n",
       "      <td>19239.405</td>\n",
       "      <td>False</td>\n",
       "      <td>False</td>\n",
       "      <td>False</td>\n",
       "      <td>False</td>\n",
       "      <td>False</td>\n",
       "      <td>46039.49</td>\n",
       "    </tr>\n",
       "    <tr>\n",
       "      <th>106610</th>\n",
       "      <td>1</td>\n",
       "      <td>1</td>\n",
       "      <td>False</td>\n",
       "      <td>46.63</td>\n",
       "      <td>2.561</td>\n",
       "      <td>8.106</td>\n",
       "      <td>1</td>\n",
       "      <td>0</td>\n",
       "      <td>0</td>\n",
       "      <td>2010</td>\n",
       "      <td>...</td>\n",
       "      <td>8</td>\n",
       "      <td>26</td>\n",
       "      <td>19239.405</td>\n",
       "      <td>19239.405</td>\n",
       "      <td>False</td>\n",
       "      <td>False</td>\n",
       "      <td>False</td>\n",
       "      <td>False</td>\n",
       "      <td>False</td>\n",
       "      <td>19403.54</td>\n",
       "    </tr>\n",
       "    <tr>\n",
       "      <th>106598</th>\n",
       "      <td>1</td>\n",
       "      <td>1</td>\n",
       "      <td>False</td>\n",
       "      <td>46.50</td>\n",
       "      <td>2.625</td>\n",
       "      <td>8.106</td>\n",
       "      <td>1</td>\n",
       "      <td>0</td>\n",
       "      <td>0</td>\n",
       "      <td>2010</td>\n",
       "      <td>...</td>\n",
       "      <td>9</td>\n",
       "      <td>5</td>\n",
       "      <td>19239.405</td>\n",
       "      <td>19403.540</td>\n",
       "      <td>True</td>\n",
       "      <td>False</td>\n",
       "      <td>False</td>\n",
       "      <td>False</td>\n",
       "      <td>False</td>\n",
       "      <td>21827.90</td>\n",
       "    </tr>\n",
       "    <tr>\n",
       "      <th>106620</th>\n",
       "      <td>1</td>\n",
       "      <td>1</td>\n",
       "      <td>False</td>\n",
       "      <td>57.79</td>\n",
       "      <td>2.667</td>\n",
       "      <td>8.106</td>\n",
       "      <td>1</td>\n",
       "      <td>0</td>\n",
       "      <td>0</td>\n",
       "      <td>2010</td>\n",
       "      <td>...</td>\n",
       "      <td>10</td>\n",
       "      <td>12</td>\n",
       "      <td>19239.405</td>\n",
       "      <td>21827.900</td>\n",
       "      <td>True</td>\n",
       "      <td>False</td>\n",
       "      <td>False</td>\n",
       "      <td>False</td>\n",
       "      <td>False</td>\n",
       "      <td>21043.39</td>\n",
       "    </tr>\n",
       "    <tr>\n",
       "      <th>106607</th>\n",
       "      <td>1</td>\n",
       "      <td>1</td>\n",
       "      <td>False</td>\n",
       "      <td>62.27</td>\n",
       "      <td>2.719</td>\n",
       "      <td>7.808</td>\n",
       "      <td>1</td>\n",
       "      <td>0</td>\n",
       "      <td>0</td>\n",
       "      <td>2010</td>\n",
       "      <td>...</td>\n",
       "      <td>13</td>\n",
       "      <td>2</td>\n",
       "      <td>19239.405</td>\n",
       "      <td>19239.405</td>\n",
       "      <td>False</td>\n",
       "      <td>False</td>\n",
       "      <td>False</td>\n",
       "      <td>False</td>\n",
       "      <td>False</td>\n",
       "      <td>57258.43</td>\n",
       "    </tr>\n",
       "  </tbody>\n",
       "</table>\n",
       "<p>5 rows × 21 columns</p>\n",
       "</div>"
      ],
      "text/plain": [
       "        Store  Dept  IsHoliday  Temperature  Fuel_Price  Unemployment  Type_A  \\\n",
       "106604      1     1       True        38.51       2.548         8.106       1   \n",
       "106610      1     1      False        46.63       2.561         8.106       1   \n",
       "106598      1     1      False        46.50       2.625         8.106       1   \n",
       "106620      1     1      False        57.79       2.667         8.106       1   \n",
       "106607      1     1      False        62.27       2.719         7.808       1   \n",
       "\n",
       "        Type_B  Type_C  Year  ...  Week_of_year  Day  Median_Sales  \\\n",
       "106604       0       0  2010  ...             6   12     19239.405   \n",
       "106610       0       0  2010  ...             8   26     19239.405   \n",
       "106598       0       0  2010  ...             9    5     19239.405   \n",
       "106620       0       0  2010  ...            10   12     19239.405   \n",
       "106607       0       0  2010  ...            13    2     19239.405   \n",
       "\n",
       "        Lagged_Value  Lag_Available  IsThanksgiving  IsChristmas  \\\n",
       "106604     19239.405          False           False        False   \n",
       "106610     19239.405          False           False        False   \n",
       "106598     19403.540           True           False        False   \n",
       "106620     21827.900           True           False        False   \n",
       "106607     19239.405          False           False        False   \n",
       "\n",
       "        IsPreChristmas  IsDept72  Weekly_Sales  \n",
       "106604           False     False      46039.49  \n",
       "106610           False     False      19403.54  \n",
       "106598           False     False      21827.90  \n",
       "106620           False     False      21043.39  \n",
       "106607           False     False      57258.43  \n",
       "\n",
       "[5 rows x 21 columns]"
      ]
     },
     "execution_count": 15,
     "metadata": {},
     "output_type": "execute_result"
    }
   ],
   "source": [
    "selected_features_rfe_linear = list(temp[temp==True].index)\n",
    "\n",
    "#Creating and saving the resulting dataframe\n",
    "df_linear = df[selected_features_rfe_linear]\n",
    "df_linear_revenue = df_linear.join(df['Weekly_Sales'], how='outer')\n",
    "df_linear_revenue.to_csv(r'C:\\Users\\songs\\Desktop\\Springboard Files\\Springboard-Files\\Capstone 2\\data\\Interim\\original_train_linear.csv')\n",
    "df_linear_revenue.head()"
   ]
  },
  {
   "cell_type": "markdown",
   "metadata": {},
   "source": [
    "## Standardizing the data and finding PCA\n",
    "\n",
    "For both the original dataset and the feature selected dataset, I'm going to standardize the features, do principal component analysis (PCA) on them, and compare the mean absolute error generated between the three datasets.\n",
    "\n",
    "### Standardization"
   ]
  },
  {
   "cell_type": "markdown",
   "metadata": {},
   "source": [
    "First, we're going to scale the **feature selected** data"
   ]
  },
  {
   "cell_type": "code",
   "execution_count": 16,
   "metadata": {},
   "outputs": [
    {
     "data": {
      "text/html": [
       "<div>\n",
       "<style scoped>\n",
       "    .dataframe tbody tr th:only-of-type {\n",
       "        vertical-align: middle;\n",
       "    }\n",
       "\n",
       "    .dataframe tbody tr th {\n",
       "        vertical-align: top;\n",
       "    }\n",
       "\n",
       "    .dataframe thead th {\n",
       "        text-align: right;\n",
       "    }\n",
       "</style>\n",
       "<table border=\"1\" class=\"dataframe\">\n",
       "  <thead>\n",
       "    <tr style=\"text-align: right;\">\n",
       "      <th></th>\n",
       "      <th>Store</th>\n",
       "      <th>Dept</th>\n",
       "      <th>IsHoliday</th>\n",
       "      <th>Temperature</th>\n",
       "      <th>Fuel_Price</th>\n",
       "      <th>Unemployment</th>\n",
       "      <th>Type_A</th>\n",
       "      <th>Type_B</th>\n",
       "      <th>Type_C</th>\n",
       "      <th>Year</th>\n",
       "      <th>...</th>\n",
       "      <th>Week_of_year</th>\n",
       "      <th>Day</th>\n",
       "      <th>Median_Sales</th>\n",
       "      <th>Lagged_Value</th>\n",
       "      <th>Lag_Available</th>\n",
       "      <th>IsThanksgiving</th>\n",
       "      <th>IsChristmas</th>\n",
       "      <th>IsPreChristmas</th>\n",
       "      <th>IsDept72</th>\n",
       "      <th>Weekly_Sales</th>\n",
       "    </tr>\n",
       "  </thead>\n",
       "  <tbody>\n",
       "    <tr>\n",
       "      <th>0</th>\n",
       "      <td>-1.658029</td>\n",
       "      <td>-1.419057</td>\n",
       "      <td>3.640258</td>\n",
       "      <td>-1.171151</td>\n",
       "      <td>-1.771255</td>\n",
       "      <td>0.073834</td>\n",
       "      <td>0.976671</td>\n",
       "      <td>-0.795179</td>\n",
       "      <td>-0.334865</td>\n",
       "      <td>-1.213542</td>\n",
       "      <td>...</td>\n",
       "      <td>-1.402269</td>\n",
       "      <td>-0.419545</td>\n",
       "      <td>0.190542</td>\n",
       "      <td>0.158578</td>\n",
       "      <td>-1.381278</td>\n",
       "      <td>-0.118986</td>\n",
       "      <td>-0.119551</td>\n",
       "      <td>-0.120143</td>\n",
       "      <td>-0.120552</td>\n",
       "      <td>87235.57</td>\n",
       "    </tr>\n",
       "    <tr>\n",
       "      <th>1</th>\n",
       "      <td>-1.658029</td>\n",
       "      <td>-1.419057</td>\n",
       "      <td>-0.274706</td>\n",
       "      <td>-0.730958</td>\n",
       "      <td>-1.742908</td>\n",
       "      <td>0.073834</td>\n",
       "      <td>0.976671</td>\n",
       "      <td>-0.795179</td>\n",
       "      <td>-0.334865</td>\n",
       "      <td>-1.213542</td>\n",
       "      <td>...</td>\n",
       "      <td>-1.260862</td>\n",
       "      <td>1.180835</td>\n",
       "      <td>0.190542</td>\n",
       "      <td>0.158578</td>\n",
       "      <td>-1.381278</td>\n",
       "      <td>-0.118986</td>\n",
       "      <td>-0.119551</td>\n",
       "      <td>-0.120143</td>\n",
       "      <td>-0.120552</td>\n",
       "      <td>80254.53</td>\n",
       "    </tr>\n",
       "    <tr>\n",
       "      <th>2</th>\n",
       "      <td>-1.658029</td>\n",
       "      <td>-1.419057</td>\n",
       "      <td>-0.274706</td>\n",
       "      <td>-0.738006</td>\n",
       "      <td>-1.603354</td>\n",
       "      <td>0.073834</td>\n",
       "      <td>0.976671</td>\n",
       "      <td>-0.795179</td>\n",
       "      <td>-0.334865</td>\n",
       "      <td>-1.213542</td>\n",
       "      <td>...</td>\n",
       "      <td>-1.190159</td>\n",
       "      <td>-1.219735</td>\n",
       "      <td>0.190542</td>\n",
       "      <td>0.165984</td>\n",
       "      <td>0.723967</td>\n",
       "      <td>-0.118986</td>\n",
       "      <td>-0.119551</td>\n",
       "      <td>-0.120143</td>\n",
       "      <td>-0.120552</td>\n",
       "      <td>77715.58</td>\n",
       "    </tr>\n",
       "    <tr>\n",
       "      <th>3</th>\n",
       "      <td>-1.658029</td>\n",
       "      <td>-1.419057</td>\n",
       "      <td>-0.274706</td>\n",
       "      <td>-0.125964</td>\n",
       "      <td>-1.511771</td>\n",
       "      <td>0.073834</td>\n",
       "      <td>0.976671</td>\n",
       "      <td>-0.795179</td>\n",
       "      <td>-0.334865</td>\n",
       "      <td>-1.213542</td>\n",
       "      <td>...</td>\n",
       "      <td>-1.119456</td>\n",
       "      <td>-0.419545</td>\n",
       "      <td>0.190542</td>\n",
       "      <td>0.275378</td>\n",
       "      <td>0.723967</td>\n",
       "      <td>-0.118986</td>\n",
       "      <td>-0.119551</td>\n",
       "      <td>-0.120143</td>\n",
       "      <td>-0.120552</td>\n",
       "      <td>83599.56</td>\n",
       "    </tr>\n",
       "    <tr>\n",
       "      <th>4</th>\n",
       "      <td>-1.658029</td>\n",
       "      <td>-1.419057</td>\n",
       "      <td>-0.274706</td>\n",
       "      <td>0.116900</td>\n",
       "      <td>-1.398383</td>\n",
       "      <td>-0.085692</td>\n",
       "      <td>0.976671</td>\n",
       "      <td>-0.795179</td>\n",
       "      <td>-0.334865</td>\n",
       "      <td>-1.213542</td>\n",
       "      <td>...</td>\n",
       "      <td>-0.907346</td>\n",
       "      <td>-1.562674</td>\n",
       "      <td>0.190542</td>\n",
       "      <td>0.158578</td>\n",
       "      <td>-1.381278</td>\n",
       "      <td>-0.118986</td>\n",
       "      <td>-0.119551</td>\n",
       "      <td>-0.120143</td>\n",
       "      <td>-0.120552</td>\n",
       "      <td>77876.10</td>\n",
       "    </tr>\n",
       "  </tbody>\n",
       "</table>\n",
       "<p>5 rows × 21 columns</p>\n",
       "</div>"
      ],
      "text/plain": [
       "      Store      Dept  IsHoliday  Temperature  Fuel_Price  Unemployment  \\\n",
       "0 -1.658029 -1.419057   3.640258    -1.171151   -1.771255      0.073834   \n",
       "1 -1.658029 -1.419057  -0.274706    -0.730958   -1.742908      0.073834   \n",
       "2 -1.658029 -1.419057  -0.274706    -0.738006   -1.603354      0.073834   \n",
       "3 -1.658029 -1.419057  -0.274706    -0.125964   -1.511771      0.073834   \n",
       "4 -1.658029 -1.419057  -0.274706     0.116900   -1.398383     -0.085692   \n",
       "\n",
       "     Type_A    Type_B    Type_C      Year  ...  Week_of_year       Day  \\\n",
       "0  0.976671 -0.795179 -0.334865 -1.213542  ...     -1.402269 -0.419545   \n",
       "1  0.976671 -0.795179 -0.334865 -1.213542  ...     -1.260862  1.180835   \n",
       "2  0.976671 -0.795179 -0.334865 -1.213542  ...     -1.190159 -1.219735   \n",
       "3  0.976671 -0.795179 -0.334865 -1.213542  ...     -1.119456 -0.419545   \n",
       "4  0.976671 -0.795179 -0.334865 -1.213542  ...     -0.907346 -1.562674   \n",
       "\n",
       "   Median_Sales  Lagged_Value  Lag_Available  IsThanksgiving  IsChristmas  \\\n",
       "0      0.190542      0.158578      -1.381278       -0.118986    -0.119551   \n",
       "1      0.190542      0.158578      -1.381278       -0.118986    -0.119551   \n",
       "2      0.190542      0.165984       0.723967       -0.118986    -0.119551   \n",
       "3      0.190542      0.275378       0.723967       -0.118986    -0.119551   \n",
       "4      0.190542      0.158578      -1.381278       -0.118986    -0.119551   \n",
       "\n",
       "   IsPreChristmas  IsDept72  Weekly_Sales  \n",
       "0       -0.120143 -0.120552      87235.57  \n",
       "1       -0.120143 -0.120552      80254.53  \n",
       "2       -0.120143 -0.120552      77715.58  \n",
       "3       -0.120143 -0.120552      83599.56  \n",
       "4       -0.120143 -0.120552      77876.10  \n",
       "\n",
       "[5 rows x 21 columns]"
      ]
     },
     "execution_count": 16,
     "metadata": {},
     "output_type": "execute_result"
    }
   ],
   "source": [
    "#Standardizing the feature selected data\n",
    "scaler = StandardScaler()\n",
    "\n",
    "scaled_df_linear = scaler.fit_transform(df_linear)\n",
    "scaled_df_linear = pd.DataFrame(scaled_df_linear)\n",
    "scaled_df_linear = scaled_df_linear.join(df['Weekly_Sales'], how='outer')\n",
    "scaled_df_linear.columns = df_linear_revenue.columns\n",
    "\n",
    "#Saving the data\n",
    "scaled_df_linear.to_csv(r'C:\\Users\\songs\\Desktop\\Springboard Files\\Springboard-Files\\Capstone 2\\data\\Interim\\scaled_train_linear.csv')\n",
    "scaled_df_linear.head()"
   ]
  },
  {
   "cell_type": "markdown",
   "metadata": {},
   "source": [
    "First, we're going to scale the **not feature selected** data"
   ]
  },
  {
   "cell_type": "code",
   "execution_count": 17,
   "metadata": {},
   "outputs": [
    {
     "data": {
      "text/html": [
       "<div>\n",
       "<style scoped>\n",
       "    .dataframe tbody tr th:only-of-type {\n",
       "        vertical-align: middle;\n",
       "    }\n",
       "\n",
       "    .dataframe tbody tr th {\n",
       "        vertical-align: top;\n",
       "    }\n",
       "\n",
       "    .dataframe thead th {\n",
       "        text-align: right;\n",
       "    }\n",
       "</style>\n",
       "<table border=\"1\" class=\"dataframe\">\n",
       "  <thead>\n",
       "    <tr style=\"text-align: right;\">\n",
       "      <th></th>\n",
       "      <th>Store</th>\n",
       "      <th>Dept</th>\n",
       "      <th>IsHoliday</th>\n",
       "      <th>Temperature</th>\n",
       "      <th>Fuel_Price</th>\n",
       "      <th>CPI</th>\n",
       "      <th>Unemployment</th>\n",
       "      <th>Size</th>\n",
       "      <th>Type_A</th>\n",
       "      <th>Type_B</th>\n",
       "      <th>...</th>\n",
       "      <th>Day</th>\n",
       "      <th>Median_Sales</th>\n",
       "      <th>Lagged_Value</th>\n",
       "      <th>Lag_Available</th>\n",
       "      <th>Diff_from_Med</th>\n",
       "      <th>IsThanksgiving</th>\n",
       "      <th>IsChristmas</th>\n",
       "      <th>IsPreChristmas</th>\n",
       "      <th>IsDept72</th>\n",
       "      <th>Weekly_Sales</th>\n",
       "    </tr>\n",
       "  </thead>\n",
       "  <tbody>\n",
       "    <tr>\n",
       "      <th>0</th>\n",
       "      <td>-1.658029</td>\n",
       "      <td>-1.419057</td>\n",
       "      <td>3.640258</td>\n",
       "      <td>-1.171151</td>\n",
       "      <td>-1.771255</td>\n",
       "      <td>1.022305</td>\n",
       "      <td>0.073834</td>\n",
       "      <td>0.239093</td>\n",
       "      <td>0.976671</td>\n",
       "      <td>-0.795179</td>\n",
       "      <td>...</td>\n",
       "      <td>-0.419545</td>\n",
       "      <td>0.190542</td>\n",
       "      <td>0.158578</td>\n",
       "      <td>-1.381278</td>\n",
       "      <td>-0.092290</td>\n",
       "      <td>-0.118986</td>\n",
       "      <td>-0.119551</td>\n",
       "      <td>-0.120143</td>\n",
       "      <td>-0.120552</td>\n",
       "      <td>87235.57</td>\n",
       "    </tr>\n",
       "    <tr>\n",
       "      <th>1</th>\n",
       "      <td>-1.658029</td>\n",
       "      <td>-1.419057</td>\n",
       "      <td>-0.274706</td>\n",
       "      <td>-0.730958</td>\n",
       "      <td>-1.742908</td>\n",
       "      <td>1.024284</td>\n",
       "      <td>0.073834</td>\n",
       "      <td>0.239093</td>\n",
       "      <td>0.976671</td>\n",
       "      <td>-0.795179</td>\n",
       "      <td>...</td>\n",
       "      <td>1.180835</td>\n",
       "      <td>0.190542</td>\n",
       "      <td>0.158578</td>\n",
       "      <td>-1.381278</td>\n",
       "      <td>-0.092290</td>\n",
       "      <td>-0.118986</td>\n",
       "      <td>-0.119551</td>\n",
       "      <td>-0.120143</td>\n",
       "      <td>-0.120552</td>\n",
       "      <td>80254.53</td>\n",
       "    </tr>\n",
       "    <tr>\n",
       "      <th>2</th>\n",
       "      <td>-1.658029</td>\n",
       "      <td>-1.419057</td>\n",
       "      <td>-0.274706</td>\n",
       "      <td>-0.738006</td>\n",
       "      <td>-1.603354</td>\n",
       "      <td>1.025062</td>\n",
       "      <td>0.073834</td>\n",
       "      <td>0.239093</td>\n",
       "      <td>0.976671</td>\n",
       "      <td>-0.795179</td>\n",
       "      <td>...</td>\n",
       "      <td>-1.219735</td>\n",
       "      <td>0.190542</td>\n",
       "      <td>0.165984</td>\n",
       "      <td>0.723967</td>\n",
       "      <td>-0.063237</td>\n",
       "      <td>-0.118986</td>\n",
       "      <td>-0.119551</td>\n",
       "      <td>-0.120143</td>\n",
       "      <td>-0.120552</td>\n",
       "      <td>77715.58</td>\n",
       "    </tr>\n",
       "    <tr>\n",
       "      <th>3</th>\n",
       "      <td>-1.658029</td>\n",
       "      <td>-1.419057</td>\n",
       "      <td>-0.274706</td>\n",
       "      <td>-0.125964</td>\n",
       "      <td>-1.511771</td>\n",
       "      <td>1.025841</td>\n",
       "      <td>0.073834</td>\n",
       "      <td>0.239093</td>\n",
       "      <td>0.976671</td>\n",
       "      <td>-0.795179</td>\n",
       "      <td>...</td>\n",
       "      <td>-0.419545</td>\n",
       "      <td>0.190542</td>\n",
       "      <td>0.275378</td>\n",
       "      <td>0.723967</td>\n",
       "      <td>0.365888</td>\n",
       "      <td>-0.118986</td>\n",
       "      <td>-0.119551</td>\n",
       "      <td>-0.120143</td>\n",
       "      <td>-0.120552</td>\n",
       "      <td>83599.56</td>\n",
       "    </tr>\n",
       "    <tr>\n",
       "      <th>4</th>\n",
       "      <td>-1.658029</td>\n",
       "      <td>-1.419057</td>\n",
       "      <td>-0.274706</td>\n",
       "      <td>0.116900</td>\n",
       "      <td>-1.398383</td>\n",
       "      <td>1.011536</td>\n",
       "      <td>-0.085692</td>\n",
       "      <td>0.239093</td>\n",
       "      <td>0.976671</td>\n",
       "      <td>-0.795179</td>\n",
       "      <td>...</td>\n",
       "      <td>-1.562674</td>\n",
       "      <td>0.190542</td>\n",
       "      <td>0.158578</td>\n",
       "      <td>-1.381278</td>\n",
       "      <td>-0.092290</td>\n",
       "      <td>-0.118986</td>\n",
       "      <td>-0.119551</td>\n",
       "      <td>-0.120143</td>\n",
       "      <td>-0.120552</td>\n",
       "      <td>77876.10</td>\n",
       "    </tr>\n",
       "  </tbody>\n",
       "</table>\n",
       "<p>5 rows × 25 columns</p>\n",
       "</div>"
      ],
      "text/plain": [
       "      Store      Dept  IsHoliday  Temperature  Fuel_Price       CPI  \\\n",
       "0 -1.658029 -1.419057   3.640258    -1.171151   -1.771255  1.022305   \n",
       "1 -1.658029 -1.419057  -0.274706    -0.730958   -1.742908  1.024284   \n",
       "2 -1.658029 -1.419057  -0.274706    -0.738006   -1.603354  1.025062   \n",
       "3 -1.658029 -1.419057  -0.274706    -0.125964   -1.511771  1.025841   \n",
       "4 -1.658029 -1.419057  -0.274706     0.116900   -1.398383  1.011536   \n",
       "\n",
       "   Unemployment      Size    Type_A    Type_B  ...       Day  Median_Sales  \\\n",
       "0      0.073834  0.239093  0.976671 -0.795179  ... -0.419545      0.190542   \n",
       "1      0.073834  0.239093  0.976671 -0.795179  ...  1.180835      0.190542   \n",
       "2      0.073834  0.239093  0.976671 -0.795179  ... -1.219735      0.190542   \n",
       "3      0.073834  0.239093  0.976671 -0.795179  ... -0.419545      0.190542   \n",
       "4     -0.085692  0.239093  0.976671 -0.795179  ... -1.562674      0.190542   \n",
       "\n",
       "   Lagged_Value  Lag_Available  Diff_from_Med  IsThanksgiving  IsChristmas  \\\n",
       "0      0.158578      -1.381278      -0.092290       -0.118986    -0.119551   \n",
       "1      0.158578      -1.381278      -0.092290       -0.118986    -0.119551   \n",
       "2      0.165984       0.723967      -0.063237       -0.118986    -0.119551   \n",
       "3      0.275378       0.723967       0.365888       -0.118986    -0.119551   \n",
       "4      0.158578      -1.381278      -0.092290       -0.118986    -0.119551   \n",
       "\n",
       "   IsPreChristmas  IsDept72  Weekly_Sales  \n",
       "0       -0.120143 -0.120552      87235.57  \n",
       "1       -0.120143 -0.120552      80254.53  \n",
       "2       -0.120143 -0.120552      77715.58  \n",
       "3       -0.120143 -0.120552      83599.56  \n",
       "4       -0.120143 -0.120552      77876.10  \n",
       "\n",
       "[5 rows x 25 columns]"
      ]
     },
     "execution_count": 17,
     "metadata": {},
     "output_type": "execute_result"
    }
   ],
   "source": [
    "#Standardizing the non-feature selected data\n",
    "scaler = StandardScaler()\n",
    "\n",
    "scaled_df = scaler.fit_transform(df.drop(['Weekly_Sales','log_revenue'],axis=1))\n",
    "scaled_df = pd.DataFrame(scaled_df)\n",
    "scaled_df.columns = df.drop(['Weekly_Sales','log_revenue'],axis=1).columns\n",
    "scaled_df = scaled_df.join(df['Weekly_Sales'], how='outer')\n",
    "\n",
    "#Saving the data\n",
    "scaled_df.to_csv(r'C:\\Users\\songs\\Desktop\\Springboard Files\\Springboard-Files\\Capstone 2\\data\\Interim\\scaled_train.csv')\n",
    "scaled_df.head()"
   ]
  },
  {
   "cell_type": "markdown",
   "metadata": {},
   "source": [
    "## Model creation:"
   ]
  },
  {
   "cell_type": "markdown",
   "metadata": {},
   "source": [
    "First, let's read in our data which we processed above.\n",
    "\n",
    "### Feature Selected (Linear, Ridge, and Lasso Regression)"
   ]
  },
  {
   "cell_type": "code",
   "execution_count": 14,
   "metadata": {},
   "outputs": [],
   "source": [
    "scaled_df_fs = pd.read_csv(r'C:\\Users\\songs\\Desktop\\Springboard Files\\Springboard-Files\\Capstone 2\\data\\Interim\\scaled_train_linear.csv',index_col=0)\n",
    "original_df_fs = pd.read_csv(r'C:\\Users\\songs\\Desktop\\Springboard Files\\Springboard-Files\\Capstone 2\\data\\Interim\\original_train_linear.csv',index_col=0)"
   ]
  },
  {
   "cell_type": "markdown",
   "metadata": {},
   "source": [
    "### Not Feature Selected (RandomForestRegressor)"
   ]
  },
  {
   "cell_type": "code",
   "execution_count": 2,
   "metadata": {},
   "outputs": [],
   "source": [
    "scaled_df = pd.read_csv(r'C:\\Users\\songs\\Desktop\\Springboard Files\\Springboard-Files\\Capstone 2\\data\\Interim\\scaled_train.csv',index_col=0)\n",
    "original_df = pd.read_csv(r'C:\\Users\\songs\\Desktop\\Springboard Files\\Springboard-Files\\Capstone 2\\data\\Interim\\train_all_features.csv',index_col=0)"
   ]
  },
  {
   "cell_type": "code",
   "execution_count": 3,
   "metadata": {},
   "outputs": [],
   "source": [
    "original_df = original_df.drop('log_revenue',axis=1)"
   ]
  },
  {
   "cell_type": "markdown",
   "metadata": {},
   "source": [
    "### Train test split\n",
    "\n",
    "It's troublesome to create training and testing datasets for all 4 datasets, so I wrote a function that returns a tuple of training and test datasets."
   ]
  },
  {
   "cell_type": "code",
   "execution_count": 4,
   "metadata": {},
   "outputs": [],
   "source": [
    "def create_train_test(data):\n",
    "    data = data.sort_values(['Year','Week_of_year'])\n",
    "    train = data.iloc[:-56490,:]\n",
    "    test = data.iloc[-56490:,:]\n",
    "    return train, test"
   ]
  },
  {
   "cell_type": "code",
   "execution_count": 15,
   "metadata": {},
   "outputs": [],
   "source": [
    "scaled_fs_train, scaled_fs_test = create_train_test(scaled_df_fs)\n",
    "original_fs_train, original_fs_test = create_train_test(original_df_fs)\n",
    "scaled_train, scaled_test = create_train_test(scaled_df)\n",
    "original_train, original_test = create_train_test(original_df)"
   ]
  },
  {
   "cell_type": "markdown",
   "metadata": {},
   "source": [
    "### A hyperparameter optimizer.\n",
    "\n",
    "RandomForest, as well as Lasso and Ridge Regression, have hyperparameters that need to be optimized for best performance. I wrote a function to expedite this process. All I need to input is the model, the hyperparameters tested in dictionary format, and the data to fit the model to."
   ]
  },
  {
   "cell_type": "code",
   "execution_count": 7,
   "metadata": {},
   "outputs": [],
   "source": [
    "#Writing a function to find best hyperparams\n",
    "def optimize_params(model, params, train):\n",
    "    \"\"\"\n",
    "    Select the best parameters out of a dict for a model given training data\n",
    "    \"\"\"\n",
    "    #Train_test_split\n",
    "    X = train.drop(['Weekly_Sales'], axis=1).values\n",
    "    y = train['Weekly_Sales'].values\n",
    "    \n",
    "    #Search for best combination of hyperparameters from the dictionary\n",
    "    reg = model()\n",
    "    reg_cv = GridSearchCV(reg, param_grid=params, scoring='neg_mean_absolute_error',cv=5)\n",
    "    reg_cv.fit(X, y)\n",
    "    print(reg_cv.best_params_)"
   ]
  },
  {
   "cell_type": "markdown",
   "metadata": {},
   "source": [
    "### Cross-validate\n",
    "\n",
    "This will give us cross-validated results on the data."
   ]
  },
  {
   "cell_type": "code",
   "execution_count": 8,
   "metadata": {},
   "outputs": [],
   "source": [
    "def cross_validate(train,model):\n",
    "    X = train.drop(['Weekly_Sales'], axis=1).values\n",
    "    y = train['Weekly_Sales'].values\n",
    "    results = []\n",
    "    tscv = TimeSeriesSplit(n_splits=4)\n",
    "    for train_index, validate_index in tscv.split(X):\n",
    "        X_train, X_validate = X[train_index], X[validate_index]\n",
    "        y_train, y_validate = y[train_index], y[validate_index]\n",
    "        model.fit(X_train,y_train)\n",
    "        y_pred = model.predict(X_validate)\n",
    "        results.append(mean_absolute_error(y_validate,y_pred))\n",
    "    return results"
   ]
  },
  {
   "cell_type": "markdown",
   "metadata": {},
   "source": [
    "## Linear Regression"
   ]
  },
  {
   "cell_type": "markdown",
   "metadata": {},
   "source": [
    "The process goes as follows: each dataset is put through the create_test_split function created above, cross-validated after fitting, and the results are saved and plotted in a bar graph. If there's anything interesting, they'll be noted later."
   ]
  },
  {
   "cell_type": "code",
   "execution_count": 46,
   "metadata": {},
   "outputs": [],
   "source": [
    "#Create LinearRegression Model\n",
    "linear = LinearRegression()\n",
    "\n",
    "#Fit and cross-validate\n",
    "scaled_results = cross_validate(scaled_fs_train,linear)\n",
    "original_results = cross_validate(original_fs_train,linear)"
   ]
  },
  {
   "cell_type": "markdown",
   "metadata": {},
   "source": [
    "Then, after getting the scores, we find the mean and standard deviation. Since the scoring is negative mean absolute error, I will multiply the means by -1 to get the MAE and plot them with their standard deviations in a bar plot."
   ]
  },
  {
   "cell_type": "code",
   "execution_count": 47,
   "metadata": {},
   "outputs": [],
   "source": [
    "means = [np.mean(scaled_results)*-1, np.mean(original_results)*-1]\n",
    "stds = [np.std(scaled_results), np.std(original_results)]"
   ]
  },
  {
   "cell_type": "markdown",
   "metadata": {},
   "source": [
    "#### Graphing"
   ]
  },
  {
   "cell_type": "code",
   "execution_count": 49,
   "metadata": {},
   "outputs": [
    {
     "name": "stdout",
     "output_type": "stream",
     "text": [
      "[-16030153634809.344, -2641.0220804752853]\n",
      "[25730339599767.39, 595.4411916995354]\n"
     ]
    },
    {
     "data": {
      "image/png": "[encoded data removed]",
      "text/plain": [
       "<Figure size 720x360 with 1 Axes>"
      ]
     },
     "metadata": {
      "needs_background": "light"
     },
     "output_type": "display_data"
    }
   ],
   "source": [
    "plt.figure(figsize=(10,5))\n",
    "\n",
    "#Data\n",
    "plt.bar(range(2),means)\n",
    "plt.errorbar(range(2), means, stds, linestyle='None', marker='^',color='red')\n",
    "plt.xlabel(\"dataset used\")\n",
    "plt.xticks(range(2),['Scaled','Original'])\n",
    "plt.ylabel(\"Mean Absolute Error\")\n",
    "plt.title(\"Linear Regression\")\n",
    "\n",
    "print(means)\n",
    "print(stds)"
   ]
  },
  {
   "cell_type": "markdown",
   "metadata": {},
   "source": [
    "It appears that the original dataset performs the best (has the lowest MAE) for Linear Regression. "
   ]
  },
  {
   "cell_type": "markdown",
   "metadata": {},
   "source": [
    "### Ridge Regression\n",
    "\n",
    "For Ridge and Lasso Regression, we need to first search for the best value of alpha. "
   ]
  },
  {
   "cell_type": "code",
   "execution_count": 11,
   "metadata": {
    "scrolled": false
   },
   "outputs": [
    {
     "name": "stdout",
     "output_type": "stream",
     "text": [
      "{'alpha': 0.0009000000000000001}\n",
      "{'alpha': 0.0009000000000000001}\n"
     ]
    }
   ],
   "source": [
    "model = Ridge\n",
    "params_to_test = {'alpha':np.arange(0.0001, 0.001, 0.0001)}\n",
    "\n",
    "optimize_params(model, params_to_test, scaled_fs_train)\n",
    "optimize_params(model, params_to_test, original_fs_train)"
   ]
  },
  {
   "cell_type": "markdown",
   "metadata": {},
   "source": [
    "Using the alphas found above, we create our models. After creating the models, we find the mean negative absolute error, multiple it by -1, and graph it in a bar plot with the standard deviation just like we've done before."
   ]
  },
  {
   "cell_type": "markdown",
   "metadata": {},
   "source": [
    "#### Scaled"
   ]
  },
  {
   "cell_type": "code",
   "execution_count": 60,
   "metadata": {},
   "outputs": [],
   "source": [
    "#Create Ridge Regression Model\n",
    "ridge = Ridge(alpha=0.0009)\n",
    "\n",
    "#Fit and cross-validate\n",
    "scaled_results = cross_validate(scaled_fs_train,ridge)"
   ]
  },
  {
   "cell_type": "markdown",
   "metadata": {},
   "source": [
    "#### Original Dataset"
   ]
  },
  {
   "cell_type": "code",
   "execution_count": 61,
   "metadata": {
    "scrolled": true
   },
   "outputs": [
    {
     "name": "stderr",
     "output_type": "stream",
     "text": [
      "C:\\Users\\songs\\Anaconda3\\lib\\site-packages\\sklearn\\linear_model\\ridge.py:147: LinAlgWarning: Ill-conditioned matrix (rcond=2.20727e-17): result may not be accurate.\n",
      "  overwrite_a=True).T\n",
      "C:\\Users\\songs\\Anaconda3\\lib\\site-packages\\sklearn\\linear_model\\ridge.py:147: LinAlgWarning: Ill-conditioned matrix (rcond=1.08893e-17): result may not be accurate.\n",
      "  overwrite_a=True).T\n",
      "C:\\Users\\songs\\Anaconda3\\lib\\site-packages\\sklearn\\linear_model\\ridge.py:147: LinAlgWarning: Ill-conditioned matrix (rcond=7.16323e-18): result may not be accurate.\n",
      "  overwrite_a=True).T\n",
      "C:\\Users\\songs\\Anaconda3\\lib\\site-packages\\sklearn\\linear_model\\ridge.py:147: LinAlgWarning: Ill-conditioned matrix (rcond=5.38062e-18): result may not be accurate.\n",
      "  overwrite_a=True).T\n"
     ]
    }
   ],
   "source": [
    "#Create Ridge Regression Model\n",
    "ridge = Ridge(alpha=0.0009)\n",
    "\n",
    "#Fit and cross-validate\n",
    "original_results = cross_validate(original_fs_train,ridge)"
   ]
  },
  {
   "cell_type": "code",
   "execution_count": 64,
   "metadata": {},
   "outputs": [],
   "source": [
    "means = [np.mean(scaled_results), np.mean(original_results)]\n",
    "stds = [np.std(scaled_results), np.std(original_results)]"
   ]
  },
  {
   "cell_type": "markdown",
   "metadata": {},
   "source": [
    "#### Graphing"
   ]
  },
  {
   "cell_type": "code",
   "execution_count": 65,
   "metadata": {},
   "outputs": [
    {
     "name": "stdout",
     "output_type": "stream",
     "text": [
      "[14979.073240770183, 2641.021164915798]\n",
      "[542.5954715817803, 595.4412742692111]\n"
     ]
    },
    {
     "data": {
      "image/png": "[encoded data removed]",
      "text/plain": [
       "<Figure size 720x360 with 1 Axes>"
      ]
     },
     "metadata": {
      "needs_background": "light"
     },
     "output_type": "display_data"
    }
   ],
   "source": [
    "plt.figure(figsize=(10,5))\n",
    "\n",
    "#Data\n",
    "plt.bar(range(2),means)\n",
    "plt.errorbar(range(2), means, stds, linestyle='None', marker='^',color='red')\n",
    "plt.xlabel(\"dataset used\")\n",
    "plt.xticks(range(2),['Scaled','Original'])\n",
    "plt.ylabel(\"Mean Absolute Error\")\n",
    "plt.title(\"Ridge Regression\")\n",
    "\n",
    "print(means)\n",
    "print(stds)"
   ]
  },
  {
   "cell_type": "markdown",
   "metadata": {},
   "source": [
    "### Lasso\n",
    "\n",
    "Similar to Ridge Regression, I first optimized the alpha value before fitting the models and getting the MAE."
   ]
  },
  {
   "cell_type": "code",
   "execution_count": 12,
   "metadata": {
    "scrolled": false
   },
   "outputs": [
    {
     "name": "stdout",
     "output_type": "stream",
     "text": [
      "{'alpha': 9e-05}\n",
      "{'alpha': 9e-05}\n"
     ]
    }
   ],
   "source": [
    "model = Lasso\n",
    "params_to_test = {'alpha':np.arange(0.00001, 0.0001, 0.00001)}\n",
    "\n",
    "optimize_params(model, params_to_test, scaled_fs_train)\n",
    "optimize_params(model, params_to_test, original_fs_train)"
   ]
  },
  {
   "cell_type": "markdown",
   "metadata": {},
   "source": [
    "#### Scaled"
   ]
  },
  {
   "cell_type": "code",
   "execution_count": 16,
   "metadata": {},
   "outputs": [
    {
     "name": "stderr",
     "output_type": "stream",
     "text": [
      "C:\\Users\\songs\\Anaconda3\\lib\\site-packages\\sklearn\\linear_model\\coordinate_descent.py:475: ConvergenceWarning: Objective did not converge. You might want to increase the number of iterations. Duality gap: 11303884538317.4, tolerance: 2267658827.652851\n",
      "  positive)\n",
      "C:\\Users\\songs\\Anaconda3\\lib\\site-packages\\sklearn\\linear_model\\coordinate_descent.py:475: ConvergenceWarning: Objective did not converge. You might want to increase the number of iterations. Duality gap: 22149400231778.566, tolerance: 4438731348.000519\n",
      "  positive)\n",
      "C:\\Users\\songs\\Anaconda3\\lib\\site-packages\\sklearn\\linear_model\\coordinate_descent.py:475: ConvergenceWarning: Objective did not converge. You might want to increase the number of iterations. Duality gap: 33459212443040.406, tolerance: 6700939594.205903\n",
      "  positive)\n",
      "C:\\Users\\songs\\Anaconda3\\lib\\site-packages\\sklearn\\linear_model\\coordinate_descent.py:475: ConvergenceWarning: Objective did not converge. You might want to increase the number of iterations. Duality gap: 45142374733430.055, tolerance: 9041084739.338593\n",
      "  positive)\n"
     ]
    }
   ],
   "source": [
    "#Create Model\n",
    "lasso = Lasso(alpha=0.00009)\n",
    "\n",
    "#Fit and cross-validate\n",
    "scaled_results = cross_validate(scaled_fs_train,lasso)"
   ]
  },
  {
   "cell_type": "markdown",
   "metadata": {},
   "source": [
    "#### Original Dataset"
   ]
  },
  {
   "cell_type": "code",
   "execution_count": 17,
   "metadata": {},
   "outputs": [
    {
     "name": "stderr",
     "output_type": "stream",
     "text": [
      "C:\\Users\\songs\\Anaconda3\\lib\\site-packages\\sklearn\\linear_model\\coordinate_descent.py:475: ConvergenceWarning: Objective did not converge. You might want to increase the number of iterations. Duality gap: 391484112402.4717, tolerance: 2156971751.712764\n",
      "  positive)\n",
      "C:\\Users\\songs\\Anaconda3\\lib\\site-packages\\sklearn\\linear_model\\coordinate_descent.py:475: ConvergenceWarning: Objective did not converge. You might want to increase the number of iterations. Duality gap: 1831039451651.419, tolerance: 4538919009.380867\n",
      "  positive)\n",
      "C:\\Users\\songs\\Anaconda3\\lib\\site-packages\\sklearn\\linear_model\\coordinate_descent.py:475: ConvergenceWarning: Objective did not converge. You might want to increase the number of iterations. Duality gap: 2776595026542.0786, tolerance: 6828328948.610277\n",
      "  positive)\n",
      "C:\\Users\\songs\\Anaconda3\\lib\\site-packages\\sklearn\\linear_model\\coordinate_descent.py:475: ConvergenceWarning: Objective did not converge. You might want to increase the number of iterations. Duality gap: 3118510033052.4727, tolerance: 9003841670.447315\n",
      "  positive)\n"
     ]
    }
   ],
   "source": [
    "#Create Model\n",
    "lasso = Lasso(alpha=0.00009)\n",
    "\n",
    "#Fit and cross-validate\n",
    "original_results = cross_validate(original_fs_train,lasso)"
   ]
  },
  {
   "cell_type": "code",
   "execution_count": 18,
   "metadata": {},
   "outputs": [],
   "source": [
    "means = [np.mean(scaled_results), np.mean(original_results)]\n",
    "stds = [np.std(scaled_results), np.std(original_results)]"
   ]
  },
  {
   "cell_type": "markdown",
   "metadata": {},
   "source": [
    "#### Graphing"
   ]
  },
  {
   "cell_type": "code",
   "execution_count": 19,
   "metadata": {},
   "outputs": [
    {
     "name": "stdout",
     "output_type": "stream",
     "text": [
      "[15045.887587558565, 2631.3951661824544]\n",
      "[495.0612487436551, 597.9046126330941]\n"
     ]
    },
    {
     "data": {
      "image/png": "[encoded data removed]",
      "text/plain": [
       "<Figure size 720x360 with 1 Axes>"
      ]
     },
     "metadata": {
      "needs_background": "light"
     },
     "output_type": "display_data"
    }
   ],
   "source": [
    "plt.figure(figsize=(10,5))\n",
    "\n",
    "#Data\n",
    "plt.bar(range(2),means)\n",
    "plt.errorbar(range(2), means, stds, linestyle='None', marker='^',color='red')\n",
    "plt.xlabel(\"dataset used\")\n",
    "plt.xticks(range(2),['Scaled','Original'])\n",
    "plt.ylabel(\"Mean Absolute Error\")\n",
    "plt.title(\"Ridge Regression\")\n",
    "\n",
    "print(means)\n",
    "print(stds)"
   ]
  },
  {
   "cell_type": "markdown",
   "metadata": {},
   "source": [
    "### RandomForestRegressor\n",
    "\n",
    "I tested for the optimal number of trees (\"n_estimators\") because that is the most important hyperparameter to tune. "
   ]
  },
  {
   "cell_type": "code",
   "execution_count": 20,
   "metadata": {
    "scrolled": false
   },
   "outputs": [
    {
     "name": "stdout",
     "output_type": "stream",
     "text": [
      "{'max_depth': 50, 'max_features': None, 'n_estimators': 175}\n",
      "{'max_depth': 50, 'max_features': 'log2', 'n_estimators': 150}\n"
     ]
    }
   ],
   "source": [
    "model = RandomForestRegressor\n",
    "params_to_test = {'n_estimators':[100,125,150,175],\n",
    "                 'max_depth':[10,20,50,None],\n",
    "                 'max_features':['log2','sqrt','auto',None]}\n",
    "\n",
    "optimize_params(model, params_to_test, scaled_train)\n",
    "optimize_params(model, params_to_test, original_train)"
   ]
  },
  {
   "cell_type": "markdown",
   "metadata": {},
   "source": [
    "#### Scaled"
   ]
  },
  {
   "cell_type": "code",
   "execution_count": 21,
   "metadata": {},
   "outputs": [],
   "source": [
    "#Create RandomForest Model\n",
    "rf = RandomForestRegressor(n_estimators=175)\n",
    "\n",
    "#Fit and cross-validate\n",
    "scaled_results = cross_validate(scaled_train,rf)"
   ]
  },
  {
   "cell_type": "markdown",
   "metadata": {},
   "source": [
    "#### Original Dataset"
   ]
  },
  {
   "cell_type": "code",
   "execution_count": 22,
   "metadata": {},
   "outputs": [],
   "source": [
    "#Create Model\n",
    "rf = RandomForestRegressor(n_estimators=150)\n",
    "\n",
    "#Fit and cross-validate\n",
    "original_results = cross_validate(original_train,rf)"
   ]
  },
  {
   "cell_type": "code",
   "execution_count": 23,
   "metadata": {},
   "outputs": [],
   "source": [
    "means = [np.mean(scaled_results), np.mean(original_results)]\n",
    "stds = [np.std(scaled_results), np.std(original_results)]"
   ]
  },
  {
   "cell_type": "code",
   "execution_count": 24,
   "metadata": {},
   "outputs": [
    {
     "name": "stdout",
     "output_type": "stream",
     "text": [
      "[11766.209237179779, 2573.7507288653596]\n",
      "[1987.8664479350477, 648.341499872729]\n"
     ]
    },
    {
     "data": {
      "image/png": "[encoded data removed]",
      "text/plain": [
       "<Figure size 720x360 with 1 Axes>"
      ]
     },
     "metadata": {
      "needs_background": "light"
     },
     "output_type": "display_data"
    }
   ],
   "source": [
    "plt.figure(figsize=(10,5))\n",
    "plt.bar(range(2),means)\n",
    "plt.errorbar(range(2), means, stds, linestyle='None', marker='^',color='red')\n",
    "plt.xlabel(\"dataset used\")\n",
    "plt.xticks(range(3),['Scaled','Original'])\n",
    "plt.ylabel(\"Mean Absolute Error\")\n",
    "plt.title(\"RandomForestRegressor\")\n",
    "\n",
    "print(means)\n",
    "print(stds)"
   ]
  },
  {
   "cell_type": "markdown",
   "metadata": {},
   "source": [
    "Now, let's look at the feature importance of the last RandomForestRegressor model."
   ]
  },
  {
   "cell_type": "code",
   "execution_count": 87,
   "metadata": {},
   "outputs": [
    {
     "data": {
      "image/png": "[encoded data removed]",
      "text/plain": [
       "<Figure size 1008x504 with 1 Axes>"
      ]
     },
     "metadata": {
      "needs_background": "light"
     },
     "output_type": "display_data"
    }
   ],
   "source": [
    "plt.figure(figsize=(14,7))\n",
    "plt.bar(range(len(rf.feature_importances_)),rf.feature_importances_)\n",
    "plt.xticks(range(len(rf.feature_importances_)),original_df.drop('Weekly_Sales',axis=1).columns,rotation=90)\n",
    "plt.show()"
   ]
  },
  {
   "cell_type": "markdown",
   "metadata": {},
   "source": [
    "#### XGBoost"
   ]
  },
  {
   "cell_type": "code",
   "execution_count": 26,
   "metadata": {},
   "outputs": [],
   "source": [
    "from xgboost import XGBRegressor"
   ]
  },
  {
   "cell_type": "code",
   "execution_count": 25,
   "metadata": {
    "scrolled": false
   },
   "outputs": [
    {
     "name": "stdout",
     "output_type": "stream",
     "text": [
      "{'eta': 0.05, 'eval_metrix': 'mae', 'max_depth': 10, 'min_child_weight': 1.5}\n",
      "{'eta': 0.05, 'eval_metrix': 'mae', 'max_depth': 10, 'min_child_weight': 0.5}\n"
     ]
    }
   ],
   "source": [
    "model = XGBRegressor\n",
    "params_to_test = {'eta':[0.05,0.1,0.15,0.2,0.3,0.4],\n",
    "                  'min_child_weight':[0.5,1,1.5],\n",
    "                 'max_depth':[4,6,8,10],\n",
    "                 'eval_metrix':['mae']}\n",
    "\n",
    "optimize_params(model, params_to_test, scaled_train)\n",
    "optimize_params(model, params_to_test, original_train)"
   ]
  },
  {
   "cell_type": "markdown",
   "metadata": {},
   "source": [
    "#### Scaled"
   ]
  },
  {
   "cell_type": "code",
   "execution_count": 27,
   "metadata": {
    "scrolled": true
   },
   "outputs": [
    {
     "name": "stdout",
     "output_type": "stream",
     "text": [
      "[17:23:18] WARNING: src/objective/regression_obj.cu:152: reg:linear is now deprecated in favor of reg:squarederror.\n",
      "[17:23:42] WARNING: src/objective/regression_obj.cu:152: reg:linear is now deprecated in favor of reg:squarederror.\n",
      "[17:24:28] WARNING: src/objective/regression_obj.cu:152: reg:linear is now deprecated in favor of reg:squarederror.\n",
      "[17:25:39] WARNING: src/objective/regression_obj.cu:152: reg:linear is now deprecated in favor of reg:squarederror.\n"
     ]
    }
   ],
   "source": [
    "#Create Model\n",
    "xgb = XGBRegressor(eta=0.05, eval_metrix='mae', max_depth=10, min_child_weight=1.5)\n",
    "\n",
    "#Fit and cross-validate\n",
    "scaled_results = cross_validate(scaled_train,xgb)"
   ]
  },
  {
   "cell_type": "markdown",
   "metadata": {},
   "source": [
    "#### Original Dataset"
   ]
  },
  {
   "cell_type": "code",
   "execution_count": 28,
   "metadata": {},
   "outputs": [
    {
     "name": "stdout",
     "output_type": "stream",
     "text": [
      "[19:28:43] WARNING: src/objective/regression_obj.cu:152: reg:linear is now deprecated in favor of reg:squarederror.\n",
      "[19:28:54] WARNING: src/objective/regression_obj.cu:152: reg:linear is now deprecated in favor of reg:squarederror.\n",
      "[19:29:08] WARNING: src/objective/regression_obj.cu:152: reg:linear is now deprecated in favor of reg:squarederror.\n",
      "[19:29:31] WARNING: src/objective/regression_obj.cu:152: reg:linear is now deprecated in favor of reg:squarederror.\n"
     ]
    }
   ],
   "source": [
    "#Create Model\n",
    "xgb = XGBRegressor(eta=0.05, eval_metrix='mae', max_depth=10, min_child_weight=0.5)\n",
    "\n",
    "#Fit and cross-validate\n",
    "original_results = cross_validate(original_train,xgb)"
   ]
  },
  {
   "cell_type": "code",
   "execution_count": 29,
   "metadata": {},
   "outputs": [],
   "source": [
    "means = [np.mean(scaled_results), np.mean(original_results)]\n",
    "stds = [np.std(scaled_results),np.std(original_results)]"
   ]
  },
  {
   "cell_type": "code",
   "execution_count": 30,
   "metadata": {
    "scrolled": true
   },
   "outputs": [
    {
     "name": "stdout",
     "output_type": "stream",
     "text": [
      "[13107.881660335448, 2224.515777674403]\n",
      "[1322.1414115654436, 512.5058163008931]\n"
     ]
    },
    {
     "data": {
      "image/png": "[encoded data removed]",
      "text/plain": [
       "<Figure size 720x360 with 1 Axes>"
      ]
     },
     "metadata": {
      "needs_background": "light"
     },
     "output_type": "display_data"
    }
   ],
   "source": [
    "plt.figure(figsize=(10,5))\n",
    "plt.bar(range(2),means)\n",
    "plt.errorbar(range(2), means, stds, linestyle='None', marker='^',color='red')\n",
    "plt.xlabel(\"dataset used\")\n",
    "plt.xticks(range(3),['Scaled','Original'])\n",
    "plt.ylabel(\"Mean Absolute Error\")\n",
    "plt.title(\"RandomForestRegressor\")\n",
    "\n",
    "print(means)\n",
    "print(stds)"
   ]
  },
  {
   "cell_type": "markdown",
   "metadata": {},
   "source": [
    "### SVR"
   ]
  },
  {
   "cell_type": "code",
   "execution_count": 31,
   "metadata": {},
   "outputs": [],
   "source": [
    "from sklearn.svm import SVR"
   ]
  },
  {
   "cell_type": "code",
   "execution_count": 32,
   "metadata": {},
   "outputs": [
    {
     "name": "stdout",
     "output_type": "stream",
     "text": [
      "{'C': 0.1, 'kernel': 'rbf'}\n",
      "{'C': 0.2, 'kernel': 'rbf'}\n"
     ]
    }
   ],
   "source": [
    "model = SVR\n",
    "params_to_test = {'C':np.arange(0.1, 0.4, 0.1),'kernel':['linear', 'rbf']}\n",
    "\n",
    "optimize_params(model, params_to_test, scaled_df)\n",
    "optimize_params(model, params_to_test, original_df)"
   ]
  },
  {
   "cell_type": "markdown",
   "metadata": {},
   "source": [
    "#### Scaled"
   ]
  },
  {
   "cell_type": "code",
   "execution_count": 33,
   "metadata": {
    "scrolled": true
   },
   "outputs": [
    {
     "name": "stderr",
     "output_type": "stream",
     "text": [
      "C:\\Users\\songs\\Anaconda3\\lib\\site-packages\\sklearn\\svm\\base.py:193: FutureWarning: The default value of gamma will change from 'auto' to 'scale' in version 0.22 to account better for unscaled features. Set gamma explicitly to 'auto' or 'scale' to avoid this warning.\n",
      "  \"avoid this warning.\", FutureWarning)\n",
      "C:\\Users\\songs\\Anaconda3\\lib\\site-packages\\sklearn\\svm\\base.py:193: FutureWarning: The default value of gamma will change from 'auto' to 'scale' in version 0.22 to account better for unscaled features. Set gamma explicitly to 'auto' or 'scale' to avoid this warning.\n",
      "  \"avoid this warning.\", FutureWarning)\n",
      "C:\\Users\\songs\\Anaconda3\\lib\\site-packages\\sklearn\\svm\\base.py:193: FutureWarning: The default value of gamma will change from 'auto' to 'scale' in version 0.22 to account better for unscaled features. Set gamma explicitly to 'auto' or 'scale' to avoid this warning.\n",
      "  \"avoid this warning.\", FutureWarning)\n",
      "C:\\Users\\songs\\Anaconda3\\lib\\site-packages\\sklearn\\svm\\base.py:193: FutureWarning: The default value of gamma will change from 'auto' to 'scale' in version 0.22 to account better for unscaled features. Set gamma explicitly to 'auto' or 'scale' to avoid this warning.\n",
      "  \"avoid this warning.\", FutureWarning)\n"
     ]
    }
   ],
   "source": [
    "#Create Model\n",
    "svr = SVR(C=0.1, kernel='rbf')\n",
    "\n",
    "#Fit and cross-validate\n",
    "scaled_results = cross_validate(scaled_train,svr)"
   ]
  },
  {
   "cell_type": "markdown",
   "metadata": {},
   "source": [
    "#### Original Dataset"
   ]
  },
  {
   "cell_type": "code",
   "execution_count": 34,
   "metadata": {},
   "outputs": [
    {
     "name": "stderr",
     "output_type": "stream",
     "text": [
      "C:\\Users\\songs\\Anaconda3\\lib\\site-packages\\sklearn\\svm\\base.py:193: FutureWarning: The default value of gamma will change from 'auto' to 'scale' in version 0.22 to account better for unscaled features. Set gamma explicitly to 'auto' or 'scale' to avoid this warning.\n",
      "  \"avoid this warning.\", FutureWarning)\n",
      "C:\\Users\\songs\\Anaconda3\\lib\\site-packages\\sklearn\\svm\\base.py:193: FutureWarning: The default value of gamma will change from 'auto' to 'scale' in version 0.22 to account better for unscaled features. Set gamma explicitly to 'auto' or 'scale' to avoid this warning.\n",
      "  \"avoid this warning.\", FutureWarning)\n",
      "C:\\Users\\songs\\Anaconda3\\lib\\site-packages\\sklearn\\svm\\base.py:193: FutureWarning: The default value of gamma will change from 'auto' to 'scale' in version 0.22 to account better for unscaled features. Set gamma explicitly to 'auto' or 'scale' to avoid this warning.\n",
      "  \"avoid this warning.\", FutureWarning)\n",
      "C:\\Users\\songs\\Anaconda3\\lib\\site-packages\\sklearn\\svm\\base.py:193: FutureWarning: The default value of gamma will change from 'auto' to 'scale' in version 0.22 to account better for unscaled features. Set gamma explicitly to 'auto' or 'scale' to avoid this warning.\n",
      "  \"avoid this warning.\", FutureWarning)\n"
     ]
    }
   ],
   "source": [
    "#Create Model\n",
    "svr = SVR(C=0.2, kernel='rbf')\n",
    "\n",
    "#Fit and cross-validate\n",
    "original_results = cross_validate(original_train,svr)"
   ]
  },
  {
   "cell_type": "code",
   "execution_count": 35,
   "metadata": {},
   "outputs": [],
   "source": [
    "means = [np.mean(scaled_results), np.mean(original_results)]\n",
    "stds = [np.std(scaled_results),np.std(original_results)]"
   ]
  },
  {
   "cell_type": "code",
   "execution_count": 36,
   "metadata": {
    "scrolled": false
   },
   "outputs": [
    {
     "name": "stdout",
     "output_type": "stream",
     "text": [
      "[13345.275260168855, 13431.923854106131]\n",
      "[253.73299676109, 347.77476031605823]\n"
     ]
    },
    {
     "data": {
      "image/png": "[encoded data removed]",
      "text/plain": [
       "<Figure size 720x360 with 1 Axes>"
      ]
     },
     "metadata": {
      "needs_background": "light"
     },
     "output_type": "display_data"
    }
   ],
   "source": [
    "plt.figure(figsize=(10,5))\n",
    "plt.bar(range(2),means)\n",
    "plt.errorbar(range(2), means, stds, linestyle='None', marker='^',color='red')\n",
    "plt.xlabel(\"dataset used\")\n",
    "plt.xticks(range(3),['Scaled','PCA','Original'])\n",
    "plt.ylabel(\"Mean Absolute Error\")\n",
    "plt.title(\"SVR\")\n",
    "\n",
    "print(means)\n",
    "print(stds)"
   ]
  },
  {
   "cell_type": "markdown",
   "metadata": {},
   "source": [
    "As can be seen, XGBoost using the original dataset gave the lowest MAE (2224 dollars). I will save this model, run it on the testing set to see how well it does."
   ]
  },
  {
   "cell_type": "code",
   "execution_count": 37,
   "metadata": {},
   "outputs": [
    {
     "name": "stderr",
     "output_type": "stream",
     "text": [
      "C:\\Users\\songs\\Anaconda3\\lib\\site-packages\\xgboost\\core.py:587: FutureWarning: Series.base is deprecated and will be removed in a future version\n",
      "  if getattr(data, 'base', None) is not None and \\\n",
      "C:\\Users\\songs\\Anaconda3\\lib\\site-packages\\xgboost\\core.py:588: FutureWarning: Series.base is deprecated and will be removed in a future version\n",
      "  data.base is not None and isinstance(data, np.ndarray) \\\n"
     ]
    },
    {
     "name": "stdout",
     "output_type": "stream",
     "text": [
      "[12:17:13] WARNING: src/objective/regression_obj.cu:152: reg:linear is now deprecated in favor of reg:squarederror.\n"
     ]
    }
   ],
   "source": [
    "import pickle\n",
    "X_train = original_train.drop('Weekly_Sales',axis=1)\n",
    "y_train = original_train['Weekly_Sales']\n",
    "\n",
    "model = XGBRegressor(eta=0.05, eval_metrix='mae', max_depth=10, min_child_weight=0.5)\n",
    "reg = model.fit(X_train, y_train)\n",
    "pickle.dump(reg, open('Final_regressor.model','wb'))"
   ]
  },
  {
   "cell_type": "code",
   "execution_count": 39,
   "metadata": {},
   "outputs": [
    {
     "name": "stdout",
     "output_type": "stream",
     "text": [
      "[12:23:10] WARNING: src/objective/regression_obj.cu:152: reg:linear is now deprecated in favor of reg:squarederror.\n"
     ]
    }
   ],
   "source": [
    "model = pickle.load(open('Final_regressor.model','rb'))"
   ]
  },
  {
   "cell_type": "code",
   "execution_count": 40,
   "metadata": {},
   "outputs": [
    {
     "data": {
      "text/plain": [
       "1566.005085003585"
      ]
     },
     "execution_count": 40,
     "metadata": {},
     "output_type": "execute_result"
    }
   ],
   "source": [
    "X_test = original_test.drop('Weekly_Sales',axis=1)\n",
    "y_test = original_test['Weekly_Sales']\n",
    "y_pred = model.predict(X_test)\n",
    "mean_absolute_error(y_test,y_pred)"
   ]
  },
  {
   "cell_type": "markdown",
   "metadata": {},
   "source": [
    "So The final result is 1566."
   ]
  },
  {
   "cell_type": "code",
   "execution_count": null,
   "metadata": {},
   "outputs": [],
   "source": []
  }
 ],
 "metadata": {
  "kernelspec": {
   "display_name": "Python 3",
   "language": "python",
   "name": "python3"
  },
  "language_info": {
   "codemirror_mode": {
    "name": "ipython",
    "version": 3
   },
   "file_extension": ".py",
   "mimetype": "text/x-python",
   "name": "python",
   "nbconvert_exporter": "python",
   "pygments_lexer": "ipython3",
   "version": "3.7.3"
  }
 },
 "nbformat": 4,
 "nbformat_minor": 2
}
