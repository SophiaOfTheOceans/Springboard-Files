{
 "cells": [
  {
   "cell_type": "markdown",
   "metadata": {},
   "source": [
    "# Inferential Statistics"
   ]
  },
  {
   "cell_type": "markdown",
   "metadata": {},
   "source": [
    "After cleaning and getting a general idea of the data, I'm going to do some hypothesis testing on the categorical variables and some regression analysis to see which, if any, of the numerical variables contribute significantly to the predicted variable, the weekly revenue."
   ]
  },
  {
   "cell_type": "code",
   "execution_count": 121,
   "metadata": {},
   "outputs": [],
   "source": [
    "#importing necessary modules\n",
    "import pandas as pd\n",
    "import matplotlib.pyplot as plt\n",
    "import numpy as np\n",
    "from scipy import stats\n",
    "import seaborn as sns\n",
    "import statsmodels.api as sm\n",
    "from statsmodels.formula.api import ols\n",
    "from sklearn.preprocessing import StandardScaler"
   ]
  },
  {
   "cell_type": "code",
   "execution_count": 122,
   "metadata": {},
   "outputs": [
    {
     "data": {
      "text/html": [
       "<div>\n",
       "<style scoped>\n",
       "    .dataframe tbody tr th:only-of-type {\n",
       "        vertical-align: middle;\n",
       "    }\n",
       "\n",
       "    .dataframe tbody tr th {\n",
       "        vertical-align: top;\n",
       "    }\n",
       "\n",
       "    .dataframe thead th {\n",
       "        text-align: right;\n",
       "    }\n",
       "</style>\n",
       "<table border=\"1\" class=\"dataframe\">\n",
       "  <thead>\n",
       "    <tr style=\"text-align: right;\">\n",
       "      <th></th>\n",
       "      <th>Store</th>\n",
       "      <th>Dept</th>\n",
       "      <th>Date</th>\n",
       "      <th>Weekly_Sales</th>\n",
       "      <th>IsHoliday</th>\n",
       "      <th>Temperature</th>\n",
       "      <th>Fuel_Price</th>\n",
       "      <th>MarkDown1</th>\n",
       "      <th>MarkDown2</th>\n",
       "      <th>MarkDown3</th>\n",
       "      <th>...</th>\n",
       "      <th>MarkDown5</th>\n",
       "      <th>CPI</th>\n",
       "      <th>Unemployment</th>\n",
       "      <th>Size</th>\n",
       "      <th>Type_A</th>\n",
       "      <th>Type_B</th>\n",
       "      <th>Type_C</th>\n",
       "      <th>log_revenue</th>\n",
       "      <th>IsMarkDown</th>\n",
       "      <th>Type_barplot</th>\n",
       "    </tr>\n",
       "  </thead>\n",
       "  <tbody>\n",
       "    <tr>\n",
       "      <th>0</th>\n",
       "      <td>26</td>\n",
       "      <td>92</td>\n",
       "      <td>2011-08-26</td>\n",
       "      <td>87235.57</td>\n",
       "      <td>False</td>\n",
       "      <td>61.10</td>\n",
       "      <td>3.796</td>\n",
       "      <td>0.00</td>\n",
       "      <td>0.0</td>\n",
       "      <td>0.0</td>\n",
       "      <td>...</td>\n",
       "      <td>0.00</td>\n",
       "      <td>136.213613</td>\n",
       "      <td>7.767</td>\n",
       "      <td>152513</td>\n",
       "      <td>1</td>\n",
       "      <td>0</td>\n",
       "      <td>0</td>\n",
       "      <td>11.431992</td>\n",
       "      <td>False</td>\n",
       "      <td>A</td>\n",
       "    </tr>\n",
       "    <tr>\n",
       "      <th>1</th>\n",
       "      <td>34</td>\n",
       "      <td>22</td>\n",
       "      <td>2011-03-25</td>\n",
       "      <td>5945.97</td>\n",
       "      <td>False</td>\n",
       "      <td>53.11</td>\n",
       "      <td>3.480</td>\n",
       "      <td>0.00</td>\n",
       "      <td>0.0</td>\n",
       "      <td>0.0</td>\n",
       "      <td>...</td>\n",
       "      <td>0.00</td>\n",
       "      <td>128.616064</td>\n",
       "      <td>10.398</td>\n",
       "      <td>158114</td>\n",
       "      <td>1</td>\n",
       "      <td>0</td>\n",
       "      <td>0</td>\n",
       "      <td>9.299807</td>\n",
       "      <td>False</td>\n",
       "      <td>A</td>\n",
       "    </tr>\n",
       "    <tr>\n",
       "      <th>2</th>\n",
       "      <td>21</td>\n",
       "      <td>28</td>\n",
       "      <td>2010-12-03</td>\n",
       "      <td>1219.89</td>\n",
       "      <td>False</td>\n",
       "      <td>50.43</td>\n",
       "      <td>2.708</td>\n",
       "      <td>0.00</td>\n",
       "      <td>0.0</td>\n",
       "      <td>0.0</td>\n",
       "      <td>...</td>\n",
       "      <td>0.00</td>\n",
       "      <td>211.265543</td>\n",
       "      <td>8.163</td>\n",
       "      <td>140167</td>\n",
       "      <td>0</td>\n",
       "      <td>1</td>\n",
       "      <td>0</td>\n",
       "      <td>8.733889</td>\n",
       "      <td>False</td>\n",
       "      <td>B</td>\n",
       "    </tr>\n",
       "    <tr>\n",
       "      <th>3</th>\n",
       "      <td>8</td>\n",
       "      <td>9</td>\n",
       "      <td>2010-09-17</td>\n",
       "      <td>11972.71</td>\n",
       "      <td>False</td>\n",
       "      <td>75.32</td>\n",
       "      <td>2.582</td>\n",
       "      <td>0.00</td>\n",
       "      <td>0.0</td>\n",
       "      <td>0.0</td>\n",
       "      <td>...</td>\n",
       "      <td>0.00</td>\n",
       "      <td>214.878556</td>\n",
       "      <td>6.315</td>\n",
       "      <td>155078</td>\n",
       "      <td>1</td>\n",
       "      <td>0</td>\n",
       "      <td>0</td>\n",
       "      <td>9.738769</td>\n",
       "      <td>False</td>\n",
       "      <td>A</td>\n",
       "    </tr>\n",
       "    <tr>\n",
       "      <th>4</th>\n",
       "      <td>19</td>\n",
       "      <td>55</td>\n",
       "      <td>2012-05-18</td>\n",
       "      <td>8271.82</td>\n",
       "      <td>False</td>\n",
       "      <td>58.81</td>\n",
       "      <td>4.029</td>\n",
       "      <td>12613.98</td>\n",
       "      <td>0.0</td>\n",
       "      <td>11.5</td>\n",
       "      <td>...</td>\n",
       "      <td>3600.79</td>\n",
       "      <td>138.106581</td>\n",
       "      <td>8.150</td>\n",
       "      <td>203819</td>\n",
       "      <td>1</td>\n",
       "      <td>0</td>\n",
       "      <td>0</td>\n",
       "      <td>9.492640</td>\n",
       "      <td>False</td>\n",
       "      <td>A</td>\n",
       "    </tr>\n",
       "  </tbody>\n",
       "</table>\n",
       "<p>5 rows × 21 columns</p>\n",
       "</div>"
      ],
      "text/plain": [
       "   Store  Dept        Date  Weekly_Sales  IsHoliday  Temperature  Fuel_Price  \\\n",
       "0     26    92  2011-08-26      87235.57      False        61.10       3.796   \n",
       "1     34    22  2011-03-25       5945.97      False        53.11       3.480   \n",
       "2     21    28  2010-12-03       1219.89      False        50.43       2.708   \n",
       "3      8     9  2010-09-17      11972.71      False        75.32       2.582   \n",
       "4     19    55  2012-05-18       8271.82      False        58.81       4.029   \n",
       "\n",
       "   MarkDown1  MarkDown2  MarkDown3  ...  MarkDown5         CPI  Unemployment  \\\n",
       "0       0.00        0.0        0.0  ...       0.00  136.213613         7.767   \n",
       "1       0.00        0.0        0.0  ...       0.00  128.616064        10.398   \n",
       "2       0.00        0.0        0.0  ...       0.00  211.265543         8.163   \n",
       "3       0.00        0.0        0.0  ...       0.00  214.878556         6.315   \n",
       "4   12613.98        0.0       11.5  ...    3600.79  138.106581         8.150   \n",
       "\n",
       "     Size  Type_A  Type_B  Type_C  log_revenue  IsMarkDown  Type_barplot  \n",
       "0  152513       1       0       0    11.431992       False             A  \n",
       "1  158114       1       0       0     9.299807       False             A  \n",
       "2  140167       0       1       0     8.733889       False             B  \n",
       "3  155078       1       0       0     9.738769       False             A  \n",
       "4  203819       1       0       0     9.492640       False             A  \n",
       "\n",
       "[5 rows x 21 columns]"
      ]
     },
     "execution_count": 122,
     "metadata": {},
     "output_type": "execute_result"
    }
   ],
   "source": [
    "#Reading in the csv file and looking at the first five rows\n",
    "df = pd.read_csv(r'C:\\Users\\songs\\Desktop\\Springboard Files\\Capstone 2\\data\\Interim\\train1.csv',index_col=0)\n",
    "df.head()"
   ]
  },
  {
   "cell_type": "code",
   "execution_count": 123,
   "metadata": {},
   "outputs": [
    {
     "name": "stdout",
     "output_type": "stream",
     "text": [
      "<class 'pandas.core.frame.DataFrame'>\n",
      "Int64Index: 282450 entries, 0 to 282450\n",
      "Data columns (total 21 columns):\n",
      "Store           282450 non-null int64\n",
      "Dept            282450 non-null int64\n",
      "Date            282450 non-null object\n",
      "Weekly_Sales    282450 non-null float64\n",
      "IsHoliday       282450 non-null bool\n",
      "Temperature     282450 non-null float64\n",
      "Fuel_Price      282450 non-null float64\n",
      "MarkDown1       282450 non-null float64\n",
      "MarkDown2       282450 non-null float64\n",
      "MarkDown3       282450 non-null float64\n",
      "MarkDown4       282450 non-null float64\n",
      "MarkDown5       282450 non-null float64\n",
      "CPI             282450 non-null float64\n",
      "Unemployment    282450 non-null float64\n",
      "Size            282450 non-null int64\n",
      "Type_A          282450 non-null int64\n",
      "Type_B          282450 non-null int64\n",
      "Type_C          282450 non-null int64\n",
      "log_revenue     282450 non-null float64\n",
      "IsMarkDown      282450 non-null bool\n",
      "Type_barplot    282450 non-null object\n",
      "dtypes: bool(2), float64(11), int64(6), object(2)\n",
      "memory usage: 43.6+ MB\n"
     ]
    }
   ],
   "source": [
    "#Reminder of the type of the columns included\n",
    "df.info()"
   ]
  },
  {
   "cell_type": "markdown",
   "metadata": {},
   "source": [
    "## Categorical variables:"
   ]
  },
  {
   "cell_type": "markdown",
   "metadata": {},
   "source": [
    "For the boolean categorical variables (IsHoliday and IsMarkDown), I'm going to perform a frequentist hypothesis test to see if the weekly sales are different between the two categories. For the Type column, which contains 3 options, I'm going to do an ANOVA (Analysis of Variance) test to see if the type of store is relevant for the revenue prediction.\n",
    "\n",
    "There are three requirements that must be met for frequentist hypothesis testing: \n",
    "* First, the samples must be independent. \n",
    "\n",
    "This assumption may be questionable, because the dataset has a time-series element to it and each week's revenue may have an impact on the revenue next week. For our purposes, though, we can assume that that each row is an independent observation based only on the features. If I have time, I can utilize a more Times Series based approach.\n",
    "* Second, the samples must be random. \n",
    "\n",
    "This is an assumption, but since the description of the dataset doesn’t mention any biases in selection we can assume that there is none. \n",
    "* Third, the distribution must be normal. \n",
    "\n",
    "By “distribution” here, we are referring to the distribution of the mean of the data according to the central limit theorem, which means that the sample data should either be 1) normal, or 2) greater than 30. As both the test and training data have more than 30 entries, this condition is satisfied."
   ]
  },
  {
   "cell_type": "markdown",
   "metadata": {},
   "source": [
    "### Holiday"
   ]
  },
  {
   "cell_type": "code",
   "execution_count": 124,
   "metadata": {},
   "outputs": [
    {
     "data": {
      "text/plain": [
       "<matplotlib.axes._subplots.AxesSubplot at 0x2a3d16ceb70>"
      ]
     },
     "execution_count": 124,
     "metadata": {},
     "output_type": "execute_result"
    },
    {
     "data": {
      "image/png": "[encoded data removed]",
      "text/plain": [
       "<Figure size 432x288 with 1 Axes>"
      ]
     },
     "metadata": {
      "needs_background": "light"
     },
     "output_type": "display_data"
    }
   ],
   "source": [
    "#The number of entries for each IsHoliday option.\n",
    "sns.countplot(x='IsHoliday', data=df)"
   ]
  },
  {
   "cell_type": "markdown",
   "metadata": {},
   "source": [
    "As can be seen above, the number of weeks that are not holidays vastly outnumber weeks that are holidays. This may have an impact on our hypothesis testing later, but since both contain more than 30 entires the samples can still be said to be independent. Next, we find the mean and standard deviation for each option and perform a hypothesis test."
   ]
  },
  {
   "cell_type": "markdown",
   "metadata": {},
   "source": [
    "#### Holiday == True"
   ]
  },
  {
   "cell_type": "markdown",
   "metadata": {},
   "source": [
    "First, we're going to find the mean and standard deviation of the weekly sales made during holiday weeks. As we're going to be doing this a lot, it might be helpful to write a function."
   ]
  },
  {
   "cell_type": "code",
   "execution_count": 125,
   "metadata": {},
   "outputs": [],
   "source": [
    "#As we're going to be doing this a lot, it might be helpful to write a function.\n",
    "\n",
    "def find_mean_std_count(condition):\n",
    "    mean = round(df[condition]['Weekly_Sales'].mean(),2)\n",
    "    std = round(df[condition]['Weekly_Sales'].std(),2)\n",
    "    count = df[condition].shape[0]\n",
    "    return mean,std,count\n",
    "\n",
    "holiday_mean, holiday_std, holiday_count = (find_mean_std_count(df['IsHoliday']==True))"
   ]
  },
  {
   "cell_type": "code",
   "execution_count": 126,
   "metadata": {},
   "outputs": [
    {
     "data": {
      "text/plain": [
       "16986.67"
      ]
     },
     "execution_count": 126,
     "metadata": {},
     "output_type": "execute_result"
    }
   ],
   "source": [
    "holiday_mean"
   ]
  },
  {
   "cell_type": "code",
   "execution_count": 127,
   "metadata": {},
   "outputs": [
    {
     "data": {
      "text/plain": [
       "26955.16"
      ]
     },
     "execution_count": 127,
     "metadata": {},
     "output_type": "execute_result"
    }
   ],
   "source": [
    "holiday_std"
   ]
  },
  {
   "cell_type": "code",
   "execution_count": 128,
   "metadata": {},
   "outputs": [
    {
     "data": {
      "text/plain": [
       "19819"
      ]
     },
     "execution_count": 128,
     "metadata": {},
     "output_type": "execute_result"
    }
   ],
   "source": [
    "holiday_count"
   ]
  },
  {
   "cell_type": "markdown",
   "metadata": {},
   "source": [
    "The standard deviation is larger than the mean, which is probably due to there being some very large outliers. Next we can compare the value to those of sales made in non-holiday weeks.\n",
    "\n",
    "#### Holiday == False"
   ]
  },
  {
   "cell_type": "code",
   "execution_count": 129,
   "metadata": {},
   "outputs": [],
   "source": [
    "#Find the mean, standard deviation, and number of values in non-holiday weeks.\n",
    "no_holiday_mean, no_holiday_std, no_holiday_count = (find_mean_std_count(df['IsHoliday']==False))"
   ]
  },
  {
   "cell_type": "code",
   "execution_count": 130,
   "metadata": {},
   "outputs": [
    {
     "data": {
      "text/plain": [
       "15907.8"
      ]
     },
     "execution_count": 130,
     "metadata": {},
     "output_type": "execute_result"
    }
   ],
   "source": [
    "no_holiday_mean"
   ]
  },
  {
   "cell_type": "code",
   "execution_count": 131,
   "metadata": {},
   "outputs": [
    {
     "data": {
      "text/plain": [
       "22301.76"
      ]
     },
     "execution_count": 131,
     "metadata": {},
     "output_type": "execute_result"
    }
   ],
   "source": [
    "no_holiday_std"
   ]
  },
  {
   "cell_type": "code",
   "execution_count": 132,
   "metadata": {},
   "outputs": [
    {
     "data": {
      "text/plain": [
       "262631"
      ]
     },
     "execution_count": 132,
     "metadata": {},
     "output_type": "execute_result"
    }
   ],
   "source": [
    "no_holiday_count"
   ]
  },
  {
   "cell_type": "markdown",
   "metadata": {},
   "source": [
    "Alright, so a similar pattern emerges for sales made in non-holiday weeks. Given the exponential nature of the Weekly sales, this may be a common occurence. Now let's do the hypothesis test. The large intra-group variance, however, brings some doubt to the signficance of the results."
   ]
  },
  {
   "cell_type": "markdown",
   "metadata": {},
   "source": [
    "#### Hypothesis test"
   ]
  },
  {
   "cell_type": "code",
   "execution_count": 133,
   "metadata": {},
   "outputs": [
    {
     "data": {
      "text/plain": [
       "5.494535557529593"
      ]
     },
     "execution_count": 133,
     "metadata": {},
     "output_type": "execute_result"
    }
   ],
   "source": [
    "H0 = \"The mean weekly revenue for holiday weeks equal to the mean weekly revenue for non-holiday weeks.\"\n",
    "H1 = \"There is a difference between the mean weekly revenue for holiday weeks and non-holiday weeks.\"\n",
    "\n",
    "#Hypothesis testing\n",
    "alpha = 0.05\n",
    "\n",
    "diff = holiday_mean - no_holiday_mean\n",
    "comb_var = holiday_std ** 2 / holiday_count + no_holiday_std ** 2 / no_holiday_count\n",
    "se = np.sqrt(comb_var)\n",
    "\n",
    "t_score = (diff - 0) / se\n",
    "t_score"
   ]
  },
  {
   "cell_type": "code",
   "execution_count": 134,
   "metadata": {},
   "outputs": [
    {
     "data": {
      "text/plain": [
       "1.9603840217818913e-08"
      ]
     },
     "execution_count": 134,
     "metadata": {},
     "output_type": "execute_result"
    }
   ],
   "source": [
    "#Finding the p-value\n",
    "dof = holiday_count + no_holiday_count - 2\n",
    "p = 1 - stats.t.cdf(t_score, df=dof)\n",
    "p"
   ]
  },
  {
   "cell_type": "code",
   "execution_count": 135,
   "metadata": {},
   "outputs": [
    {
     "name": "stdout",
     "output_type": "stream",
     "text": [
      "There is a difference between the mean weekly revenue for holiday weeks and non-holiday weeks.\n"
     ]
    }
   ],
   "source": [
    "if p < 0.05:\n",
    "    print(H1)\n",
    "else:\n",
    "    print(H0)"
   ]
  },
  {
   "cell_type": "markdown",
   "metadata": {},
   "source": [
    "### Markdown"
   ]
  },
  {
   "cell_type": "markdown",
   "metadata": {},
   "source": [
    "Next, we can look at whether having a markdown influences the sales or not. We're going to follow a similar pattern as shown for the Holiday section, starting with looking at the number of values for each IsMarkDown option, True and False."
   ]
  },
  {
   "cell_type": "code",
   "execution_count": 136,
   "metadata": {},
   "outputs": [
    {
     "data": {
      "text/plain": [
       "<matplotlib.axes._subplots.AxesSubplot at 0x2a3d16f41d0>"
      ]
     },
     "execution_count": 136,
     "metadata": {},
     "output_type": "execute_result"
    },
    {
     "data": {
      "image/png": "[encoded data removed]",
      "text/plain": [
       "<Figure size 432x288 with 1 Axes>"
      ]
     },
     "metadata": {
      "needs_background": "light"
     },
     "output_type": "display_data"
    }
   ],
   "source": [
    "sns.countplot(x='IsMarkDown',data=df)"
   ]
  },
  {
   "cell_type": "markdown",
   "metadata": {},
   "source": [
    "As seen, there are a lot less weeks with markdowns compared to weeks without. Let's then look at how their mean and standard deviation compares wth each other."
   ]
  },
  {
   "cell_type": "markdown",
   "metadata": {},
   "source": [
    "#### IsMarkDown == True"
   ]
  },
  {
   "cell_type": "code",
   "execution_count": 137,
   "metadata": {},
   "outputs": [],
   "source": [
    "#Find the mean, standard deviation, and count\n",
    "markdown_mean, markdown_std, markdown_count = find_mean_std_count(df['IsMarkDown'])"
   ]
  },
  {
   "cell_type": "code",
   "execution_count": 138,
   "metadata": {},
   "outputs": [
    {
     "data": {
      "text/plain": [
       "17867.04"
      ]
     },
     "execution_count": 138,
     "metadata": {},
     "output_type": "execute_result"
    }
   ],
   "source": [
    "markdown_mean"
   ]
  },
  {
   "cell_type": "code",
   "execution_count": 139,
   "metadata": {},
   "outputs": [
    {
     "data": {
      "text/plain": [
       "24729.34"
      ]
     },
     "execution_count": 139,
     "metadata": {},
     "output_type": "execute_result"
    }
   ],
   "source": [
    "markdown_std"
   ]
  },
  {
   "cell_type": "code",
   "execution_count": 140,
   "metadata": {},
   "outputs": [
    {
     "data": {
      "text/plain": [
       "64818"
      ]
     },
     "execution_count": 140,
     "metadata": {},
     "output_type": "execute_result"
    }
   ],
   "source": [
    "markdown_count"
   ]
  },
  {
   "cell_type": "markdown",
   "metadata": {},
   "source": [
    "#### Holiday == False"
   ]
  },
  {
   "cell_type": "code",
   "execution_count": 141,
   "metadata": {},
   "outputs": [],
   "source": [
    "#Find the mean, standard deviation, and count\n",
    "no_markdown_mean, no_markdown_std, no_markdown_count = (find_mean_std_count(df['IsMarkDown']==False))"
   ]
  },
  {
   "cell_type": "code",
   "execution_count": 142,
   "metadata": {},
   "outputs": [
    {
     "data": {
      "text/plain": [
       "15422.52"
      ]
     },
     "execution_count": 142,
     "metadata": {},
     "output_type": "execute_result"
    }
   ],
   "source": [
    "no_markdown_mean"
   ]
  },
  {
   "cell_type": "code",
   "execution_count": 143,
   "metadata": {},
   "outputs": [
    {
     "data": {
      "text/plain": [
       "21976.46"
      ]
     },
     "execution_count": 143,
     "metadata": {},
     "output_type": "execute_result"
    }
   ],
   "source": [
    "no_markdown_std"
   ]
  },
  {
   "cell_type": "code",
   "execution_count": 144,
   "metadata": {},
   "outputs": [
    {
     "data": {
      "text/plain": [
       "217632"
      ]
     },
     "execution_count": 144,
     "metadata": {},
     "output_type": "execute_result"
    }
   ],
   "source": [
    "no_markdown_count"
   ]
  },
  {
   "cell_type": "markdown",
   "metadata": {},
   "source": [
    "#### Hypothesis test"
   ]
  },
  {
   "cell_type": "code",
   "execution_count": 145,
   "metadata": {},
   "outputs": [
    {
     "data": {
      "text/plain": [
       "22.644240954591954"
      ]
     },
     "execution_count": 145,
     "metadata": {},
     "output_type": "execute_result"
    }
   ],
   "source": [
    "H0 = \"The mean weekly revenue for markdown weeks equal to the mean weekly revenue for non-markdown weeks.\"\n",
    "H1 = \"There is a difference between the mean weekly revenue for markdown weeks and non-markdown weeks.\"\n",
    "\n",
    "#Hypothesis testing\n",
    "alpha = 0.05\n",
    "\n",
    "diff = markdown_mean - no_markdown_mean\n",
    "comb_var = markdown_std ** 2 / markdown_count + no_markdown_std ** 2 / no_markdown_count\n",
    "se = np.sqrt(comb_var)\n",
    "\n",
    "t_score = (diff - 0) / se\n",
    "t_score"
   ]
  },
  {
   "cell_type": "code",
   "execution_count": 146,
   "metadata": {},
   "outputs": [
    {
     "data": {
      "text/plain": [
       "0.0"
      ]
     },
     "execution_count": 146,
     "metadata": {},
     "output_type": "execute_result"
    }
   ],
   "source": [
    "#Finding the p-value\n",
    "dof = markdown_count + no_markdown_count - 2\n",
    "p = 1 - stats.t.cdf(t_score, df=dof)\n",
    "p"
   ]
  },
  {
   "cell_type": "code",
   "execution_count": 147,
   "metadata": {},
   "outputs": [
    {
     "name": "stdout",
     "output_type": "stream",
     "text": [
      "There is a difference between the mean weekly revenue for markdown weeks and non-markdown weeks.\n"
     ]
    }
   ],
   "source": [
    "if p < 0.05:\n",
    "    print(H1)\n",
    "else:\n",
    "    print(H0)"
   ]
  },
  {
   "cell_type": "markdown",
   "metadata": {},
   "source": [
    "### Store Type"
   ]
  },
  {
   "cell_type": "code",
   "execution_count": 164,
   "metadata": {},
   "outputs": [
    {
     "data": {
      "text/plain": [
       "<matplotlib.axes._subplots.AxesSubplot at 0x2a3d17a6048>"
      ]
     },
     "execution_count": 164,
     "metadata": {},
     "output_type": "execute_result"
    },
    {
     "data": {
      "image/png": "[encoded data removed]",
      "text/plain": [
       "<Figure size 432x288 with 1 Axes>"
      ]
     },
     "metadata": {
      "needs_background": "light"
     },
     "output_type": "display_data"
    }
   ],
   "source": [
    "sns.countplot(x='Type_barplot',data=df)"
   ]
  },
  {
   "cell_type": "code",
   "execution_count": 165,
   "metadata": {},
   "outputs": [],
   "source": [
    "#Find mean, standard deviation, and count.\n",
    "type_a_mean, type_a_std, type_a_count = find_mean_std_count(df['Type_barplot']=='A')\n",
    "type_b_mean, type_b_std, type_b_count = find_mean_std_count(df['Type_barplot']=='B')\n",
    "type_c_mean, type_c_std, type_c_count = find_mean_std_count(df['Type_barplot']=='C')"
   ]
  },
  {
   "cell_type": "markdown",
   "metadata": {},
   "source": [
    "#### Type A:"
   ]
  },
  {
   "cell_type": "code",
   "execution_count": 166,
   "metadata": {},
   "outputs": [
    {
     "data": {
      "text/plain": [
       "20079.34"
      ]
     },
     "execution_count": 166,
     "metadata": {},
     "output_type": "execute_result"
    }
   ],
   "source": [
    "type_a_mean"
   ]
  },
  {
   "cell_type": "code",
   "execution_count": 167,
   "metadata": {},
   "outputs": [
    {
     "data": {
      "text/plain": [
       "26306.11"
      ]
     },
     "execution_count": 167,
     "metadata": {},
     "output_type": "execute_result"
    }
   ],
   "source": [
    "type_a_std"
   ]
  },
  {
   "cell_type": "code",
   "execution_count": 168,
   "metadata": {},
   "outputs": [
    {
     "data": {
      "text/plain": [
       "144558"
      ]
     },
     "execution_count": 168,
     "metadata": {},
     "output_type": "execute_result"
    }
   ],
   "source": [
    "type_a_count"
   ]
  },
  {
   "cell_type": "markdown",
   "metadata": {},
   "source": [
    "#### Type B:"
   ]
  },
  {
   "cell_type": "code",
   "execution_count": 169,
   "metadata": {},
   "outputs": [
    {
     "data": {
      "text/plain": [
       "12263.65"
      ]
     },
     "execution_count": 169,
     "metadata": {},
     "output_type": "execute_result"
    }
   ],
   "source": [
    "type_b_mean"
   ]
  },
  {
   "cell_type": "code",
   "execution_count": 170,
   "metadata": {},
   "outputs": [
    {
     "data": {
      "text/plain": [
       "17273.14"
      ]
     },
     "execution_count": 170,
     "metadata": {},
     "output_type": "execute_result"
    }
   ],
   "source": [
    "type_b_std"
   ]
  },
  {
   "cell_type": "code",
   "execution_count": 171,
   "metadata": {},
   "outputs": [
    {
     "data": {
      "text/plain": [
       "109413"
      ]
     },
     "execution_count": 171,
     "metadata": {},
     "output_type": "execute_result"
    }
   ],
   "source": [
    "type_b_count"
   ]
  },
  {
   "cell_type": "markdown",
   "metadata": {},
   "source": [
    "#### Type C"
   ]
  },
  {
   "cell_type": "code",
   "execution_count": 172,
   "metadata": {},
   "outputs": [
    {
     "data": {
      "text/plain": [
       "9484.48"
      ]
     },
     "execution_count": 172,
     "metadata": {},
     "output_type": "execute_result"
    }
   ],
   "source": [
    "type_c_mean"
   ]
  },
  {
   "cell_type": "code",
   "execution_count": 173,
   "metadata": {},
   "outputs": [
    {
     "data": {
      "text/plain": [
       "15926.32"
      ]
     },
     "execution_count": 173,
     "metadata": {},
     "output_type": "execute_result"
    }
   ],
   "source": [
    "type_c_std"
   ]
  },
  {
   "cell_type": "code",
   "execution_count": 174,
   "metadata": {},
   "outputs": [
    {
     "data": {
      "text/plain": [
       "28479"
      ]
     },
     "execution_count": 174,
     "metadata": {},
     "output_type": "execute_result"
    }
   ],
   "source": [
    "type_c_count"
   ]
  },
  {
   "cell_type": "markdown",
   "metadata": {},
   "source": [
    "#### ANOVA test"
   ]
  },
  {
   "cell_type": "code",
   "execution_count": 175,
   "metadata": {},
   "outputs": [],
   "source": [
    "#ANOVA test\n",
    "total_mean = df['Weekly_Sales'].mean()\n",
    "\n",
    "sst = type_a_count * (type_a_mean - total_mean)**2 + type_b_count * (type_b_mean - total_mean)**2 + type_c_count * (type_c_mean - total_mean)**2\n",
    "    \n",
    "sse = (type_a_count - 1) * type_a_std ** 2 + (type_b_count - 1) * type_b_std ** 2 + (type_c_count - 1) * type_c_std ** 2\n",
    "\n",
    "mst = sst / 2\n",
    "\n",
    "mse = sse / (type_a_count + type_b_count + type_c_count - 3)\n",
    "\n",
    "f_value = mst / mse"
   ]
  },
  {
   "cell_type": "code",
   "execution_count": 176,
   "metadata": {},
   "outputs": [
    {
     "data": {
      "text/plain": [
       "5190.486106885268"
      ]
     },
     "execution_count": 176,
     "metadata": {},
     "output_type": "execute_result"
    }
   ],
   "source": [
    "f_value"
   ]
  },
  {
   "cell_type": "code",
   "execution_count": 180,
   "metadata": {},
   "outputs": [
    {
     "name": "stdout",
     "output_type": "stream",
     "text": [
      "There is a difference between at least two different types of stores when it comes to revenue.\n"
     ]
    }
   ],
   "source": [
    "H0 = \"There is no difference between the different types of stores in terms of revenue.\"\n",
    "H1 = \"There is a difference between at least two different types of stores when it comes to revenue.\"\n",
    "\n",
    "if f_value > 3: #The required F-value to be significant\n",
    "    print(H1)\n",
    "else:\n",
    "    print(H0)"
   ]
  },
  {
   "cell_type": "markdown",
   "metadata": {},
   "source": [
    "### Linear Regression analysis."
   ]
  },
  {
   "cell_type": "markdown",
   "metadata": {},
   "source": [
    "To look at how the numerical variables impact the revenue, I'm going to plug them all into statsmodel's OLS regression and look at the values given."
   ]
  },
  {
   "cell_type": "code",
   "execution_count": 188,
   "metadata": {},
   "outputs": [],
   "source": [
    "#As I am too lazy to put all of the numerical values in by hand I wrote a for loop to take care of that.\n",
    "\n",
    "#Writing statement\n",
    "stmt = 'Weekly_Sales ~ '\n",
    "for x in df.columns:\n",
    "    if df[x].dtype == 'float64' and x != 'Weekly_Sales' and x != 'log_revenue':\n",
    "        stmt = stmt + x + ' + '\n",
    "\n",
    "#Excising unnecessary parts.\n",
    "stmt = stmt[:-3]"
   ]
  },
  {
   "cell_type": "code",
   "execution_count": 189,
   "metadata": {},
   "outputs": [
    {
     "name": "stdout",
     "output_type": "stream",
     "text": [
      "                            OLS Regression Results                            \n",
      "==============================================================================\n",
      "Dep. Variable:           Weekly_Sales   R-squared:                       0.007\n",
      "Model:                            OLS   Adj. R-squared:                  0.007\n",
      "Method:                 Least Squares   F-statistic:                     226.0\n",
      "Date:                Mon, 30 Sep 2019   Prob (F-statistic):               0.00\n",
      "Time:                        16:02:02   Log-Likelihood:            -3.2323e+06\n",
      "No. Observations:              282450   AIC:                         6.465e+06\n",
      "Df Residuals:                  282440   BIC:                         6.465e+06\n",
      "Df Model:                           9                                         \n",
      "Covariance Type:            nonrobust                                         \n",
      "================================================================================\n",
      "                   coef    std err          t      P>|t|      [0.025      0.975]\n",
      "--------------------------------------------------------------------------------\n",
      "Intercept     2.606e+04    494.488     52.710      0.000    2.51e+04     2.7e+04\n",
      "Temperature     23.9456      2.471      9.692      0.000      19.103      28.788\n",
      "Fuel_Price   -1483.3326    102.857    -14.421      0.000   -1684.930   -1281.735\n",
      "MarkDown1        0.1904      0.014     13.386      0.000       0.163       0.218\n",
      "MarkDown2        0.0513      0.009      5.920      0.000       0.034       0.068\n",
      "MarkDown3        0.1500      0.008     19.263      0.000       0.135       0.165\n",
      "MarkDown4       -0.0727      0.021     -3.545      0.000      -0.113      -0.033\n",
      "MarkDown5        0.1940      0.011     17.401      0.000       0.172       0.216\n",
      "CPI            -25.0683      1.203    -20.835      0.000     -27.427     -22.710\n",
      "Unemployment  -388.0559     24.459    -15.866      0.000    -435.995    -340.117\n",
      "==============================================================================\n",
      "Omnibus:                   205760.775   Durbin-Watson:                   2.001\n",
      "Prob(Omnibus):                  0.000   Jarque-Bera (JB):          5733299.418\n",
      "Skew:                           3.215   Prob(JB):                         0.00\n",
      "Kurtosis:                      24.114   Cond. No.                     9.45e+04\n",
      "==============================================================================\n",
      "\n",
      "Warnings:\n",
      "[1] Standard Errors assume that the covariance matrix of the errors is correctly specified.\n",
      "[2] The condition number is large, 9.45e+04. This might indicate that there are\n",
      "strong multicollinearity or other numerical problems.\n"
     ]
    }
   ],
   "source": [
    "#Running the model\n",
    "m = ols(stmt,df).fit()\n",
    "print(m.summary())"
   ]
  },
  {
   "cell_type": "markdown",
   "metadata": {},
   "source": [
    "Looks like there are some collinearity problems. I suspect that may be due to the markdown columns being very intercorrelated with each other, so I'm going to put IsMarkDown in instead and see if that might erase that issue."
   ]
  },
  {
   "cell_type": "code",
   "execution_count": 183,
   "metadata": {},
   "outputs": [
    {
     "name": "stdout",
     "output_type": "stream",
     "text": [
      "                            OLS Regression Results                            \n",
      "==============================================================================\n",
      "Dep. Variable:           Weekly_Sales   R-squared:                       0.004\n",
      "Model:                            OLS   Adj. R-squared:                  0.004\n",
      "Method:                 Least Squares   F-statistic:                     227.0\n",
      "Date:                Mon, 30 Sep 2019   Prob (F-statistic):          1.01e-242\n",
      "Time:                        13:49:08   Log-Likelihood:            -3.2327e+06\n",
      "No. Observations:              282450   AIC:                         6.465e+06\n",
      "Df Residuals:                  282444   BIC:                         6.466e+06\n",
      "Df Model:                           5                                         \n",
      "Covariance Type:            nonrobust                                         \n",
      "======================================================================================\n",
      "                         coef    std err          t      P>|t|      [0.025      0.975]\n",
      "--------------------------------------------------------------------------------------\n",
      "Intercept           2.526e+04    490.225     51.518      0.000    2.43e+04    2.62e+04\n",
      "IsMarkDown[T.True]  2733.2667    109.033     25.068      0.000    2519.566    2946.968\n",
      "Temperature           21.0661      2.447      8.608      0.000      16.269      25.863\n",
      "Fuel_Price         -1149.7493    102.083    -11.263      0.000   -1349.830    -949.669\n",
      "CPI                  -24.1791      1.205    -20.070      0.000     -26.540     -21.818\n",
      "Unemployment        -396.8944     24.542    -16.172      0.000    -444.996    -348.792\n",
      "==============================================================================\n",
      "Omnibus:                   207214.586   Durbin-Watson:                   2.001\n",
      "Prob(Omnibus):                  0.000   Jarque-Bera (JB):          5971633.801\n",
      "Skew:                           3.236   Prob(JB):                         0.00\n",
      "Kurtosis:                      24.576   Cond. No.                     2.17e+03\n",
      "==============================================================================\n",
      "\n",
      "Warnings:\n",
      "[1] Standard Errors assume that the covariance matrix of the errors is correctly specified.\n",
      "[2] The condition number is large, 2.17e+03. This might indicate that there are\n",
      "strong multicollinearity or other numerical problems.\n"
     ]
    }
   ],
   "source": [
    "m = ols('Weekly_Sales ~ Temperature + Fuel_Price + CPI + Unemployment + IsMarkDown',df).fit()\n",
    "print(m.summary())"
   ]
  },
  {
   "cell_type": "markdown",
   "metadata": {},
   "source": [
    "The condition number has decreased, meaning we successfully reduced some of the multicollinearity, albeit not all of it. Nevertheless, we can see the impact of several of our variables. Fuel Price, CPI, and Unemployment all have a negative impact on the weekly revenue, while temperature and Markdowns have a positive value."
   ]
  }
 ],
 "metadata": {
  "kernelspec": {
   "display_name": "Python 3",
   "language": "python",
   "name": "python3"
  },
  "language_info": {
   "codemirror_mode": {
    "name": "ipython",
    "version": 3
   },
   "file_extension": ".py",
   "mimetype": "text/x-python",
   "name": "python",
   "nbconvert_exporter": "python",
   "pygments_lexer": "ipython3",
   "version": "3.7.3"
  }
 },
 "nbformat": 4,
 "nbformat_minor": 2
}
